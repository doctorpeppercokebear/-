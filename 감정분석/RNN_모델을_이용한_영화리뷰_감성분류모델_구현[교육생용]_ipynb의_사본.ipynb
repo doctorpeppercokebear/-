{
  "cells": [
    {
      "cell_type": "markdown",
      "metadata": {
        "id": "xMxi0zZGU-8E"
      },
      "source": [
        "# [실습 1] RNN 모델을 이용한 영화리뷰 감성 분류 모델 구현\n",
        "\n",
        "## 실습 목표\n",
        "---\n",
        "1. 파이썬 라이브러리를 활용하여 텍스트 데이터를 전처리합니다.\n",
        "2. Pytorch 라이브러리를 이용하여 LSTM 감정 분류 모델을 구현하고, 학습시켜 결과를 확인합니다.\n",
        "3. GRU를 활용하여 모델을 구현해보고, 이를 LSTM모델의 결과와 비교해봅니다."
      ]
    },
    {
      "cell_type": "markdown",
      "metadata": {
        "id": "zsN_5pk_86v-"
      },
      "source": [
        "# LSTM을 활용한 감성 분석(SA, Sentiment Analysis) 모델"
      ]
    },
    {
      "cell_type": "markdown",
      "metadata": {
        "id": "fB1feJPk925-"
      },
      "source": [
        "## 1. 모듈 불러오기 및 환경 설정\n",
        "\n",
        "주요 라이브러리에 대한 간단한 설명입니다.  \n",
        "\n",
        "- re: 정규 표현식을 사용하여 문자열을 처리하는 라이브러리입니다. 복잡한 문자열 검색, 치환, 분할 등을 수행할 수 있습니다.\n",
        "\n",
        "- string: 문자열 상수와 일반적인 문자열 처리를 위한 유틸리티 함수를 제공합니다.\n",
        "\n",
        "- numpy: 과학 계산을 위한 핵심 라이브러리로, 다차원 배열 객체와 이러한 배열 작업을 위한 다양한 함수를 제공합니다.\n",
        "\n",
        "- pandas: 데이터 분석과 조작을 위한 라이브러리로, 특히 데이터 프레임과 시리즈와 같은 데이터 구조를 제공합니다.\n",
        "\n",
        "- tqdm: 진행 표시줄을 쉽게 추가할 수 있게 해주는 라이브러리로, 반복문의 진행 상황을 시각적으로 표시합니다.\n",
        "\n",
        "- collections: 파이썬의 내장 컨테이너 데이터 타입을 확장하는 모듈로, Counter와 같은 유용한 데이터 구조를 제공합니다.\n",
        "\n",
        "- seaborn: Matplotlib을 기반으로 한 데이터 시각화 라이브러리로, 통계 그래프를 그리는 데 사용됩니다.\n",
        "\n",
        "- matplotlib.pyplot: 데이터를 시각화하기 위한 2D 플로팅 라이브러리입니다. 다양한 차트와 그래프를 그릴 수 있습니다.\n",
        "\n",
        "- torch: 딥러닝 프레임워크인 PyTorch의 핵심 라이브러리로, 텐서 계산과 GPU 가속 등을 제공합니다.\n",
        "\n",
        "- torch.nn.functional: 신경망 구축에 사용되는 함수들을 포함하고 있습니다. 활성화 함수, 손실 함수 등이 여기에 포함됩니다.\n",
        "\n",
        "- torch.utils.data: 데이터 로딩을 위한 유틸리티가 포함된 패키지로, TensorDataset, DataLoader 등의 클래스를 제공합니다.\n",
        "\n",
        "- sklearn.model_selection: Scikit-learn의 모델 선택 모듈로, 데이터를 훈련 세트와 테스트 세트로 분할하는 기능 등을 제공합니다.\n",
        "\n",
        "- from sklearn.metrics:  Scikit-learn의 평가지표를 모아놓은 API입니다."
      ]
    },
    {
      "cell_type": "code",
      "execution_count": null,
      "metadata": {
        "colab": {
          "base_uri": "https://localhost:8080/",
          "height": 35
        },
        "id": "AIBX7hYWbEuu",
        "outputId": "c28e04d0-9667-439c-e8c2-921bc45e5044"
      },
      "outputs": [
        {
          "output_type": "execute_result",
          "data": {
            "text/plain": [
              "'2.2.1+cu121'"
            ],
            "application/vnd.google.colaboratory.intrinsic+json": {
              "type": "string"
            }
          },
          "metadata": {},
          "execution_count": 1
        }
      ],
      "source": [
        "import os\n",
        "import re\n",
        "import string\n",
        "import numpy as np\n",
        "import pandas as pd\n",
        "from tqdm import tqdm\n",
        "from collections import Counter\n",
        "\n",
        "import seaborn as sns\n",
        "import matplotlib.pyplot as plt\n",
        "\n",
        "import torch\n",
        "import torch.nn as nn\n",
        "import torch.nn.functional as F\n",
        "from torch.utils.data import TensorDataset, DataLoader\n",
        "\n",
        "from sklearn.model_selection import train_test_split\n",
        "from sklearn.metrics import classification_report, confusion_matrix\n",
        "\n",
        "torch.__version__"
      ]
    },
    {
      "cell_type": "markdown",
      "metadata": {
        "id": "EVGXdxeR-svV"
      },
      "source": [
        "현재 시스템에서 GPU가 사용 가능한지 확인하고, 사용 가능한 경우 디바이스를 CUDA로 설정합니다.  \n",
        "\n",
        "GPU가 사용 불가능한 경우 디바이스를 CPU로 설정합니다.  \n",
        "\n",
        "이렇게 설정한 디바이스는 나중에 텐서 연산에 사용될 수 있습니다."
      ]
    },
    {
      "cell_type": "code",
      "execution_count": null,
      "metadata": {
        "colab": {
          "base_uri": "https://localhost:8080/"
        },
        "id": "iEGKcaSLbEuv",
        "outputId": "35c7abe3-bfa9-44da-c398-5e2257abbe96"
      },
      "outputs": [
        {
          "output_type": "stream",
          "name": "stdout",
          "text": [
            "GPU is available\n"
          ]
        }
      ],
      "source": [
        "# GPU가 존재할 경우 사용합니다.\n",
        "if torch.cuda.is_available():\n",
        "    device = torch.device(\"cuda\")\n",
        "    print(\"GPU is available\")\n",
        "else:\n",
        "    device = torch.device(\"cpu\")\n",
        "    print(\"GPU not available, CPU used\")"
      ]
    },
    {
      "cell_type": "markdown",
      "metadata": {
        "id": "RbSSoJTREmT5"
      },
      "source": [
        "후에 모델 파일을 저장할 위치도 생성합니다."
      ]
    },
    {
      "cell_type": "code",
      "execution_count": null,
      "metadata": {
        "colab": {
          "base_uri": "https://localhost:8080/"
        },
        "id": "-lmooGS_gpe1",
        "outputId": "275fcce7-b61f-4c70-fa39-32385208b9af"
      },
      "outputs": [
        {
          "output_type": "stream",
          "name": "stdout",
          "text": [
            "mkdir: cannot create directory ‘./save_files’: File exists\n",
            "total 64688\n",
            "drwxr-xr-x 1 root root     4096 Apr  4 02:05  .\n",
            "drwxr-xr-x 1 root root     4096 Apr  4 02:01  ..\n",
            "drwxr-xr-x 4 root root     4096 Apr  2 13:22  .config\n",
            "drwx------ 5 root root     4096 Apr  4 02:05  drive\n",
            "-rw-r--r-- 1 root root 66212309 Apr  4 02:10 'IMDB Dataset.csv'\n",
            "drwxr-xr-x 1 root root     4096 Apr  2 13:23  sample_data\n",
            "drwxr-xr-x 2 root root     4096 Apr  4 02:04  save_files\n"
          ]
        }
      ],
      "source": [
        "!mkdir ./save_files\n",
        "\n",
        "!ls -al"
      ]
    },
    {
      "cell_type": "markdown",
      "metadata": {
        "id": "z8Z1CEIi_Aeb"
      },
      "source": [
        "## 2. 데이터셋 불러오기 & 전처리\n",
        "\n",
        "이번 실습에서는 [`IMDB(Internet Movie Database)`](https://www.kaggle.com/datasets/lakshmi25npathi/imdb-dataset-of-50k-movie-reviews) 데이터셋을 사용합니다.  \n",
        "\n",
        "IMDB 데이터셋은 영화, 텔레비전 쇼, 비디오 게임, 배우, 감독, 제작자 등 엔터테인먼트 산업과 관련된 다양한 정보를 포함하고 있는 데이터베이스입니다.  \n",
        "\n",
        "원본 데이터셋에는 영화 평점, 리뷰, 메타데이터, 장르, 출시일, 상영 시간, 예산, 수익 등과 같은 정보를 포함하고 있습니다.  \n",
        "\n",
        "다만 이번 시간에는 자연어처리 모델을 만들고 성능을 평가하는 것이 목표이므로, 준비된 데이터는 시청자들의 리뷰와 이에 대한 평가 데이터만을 사용되도록 처리되어있습니다.  \n",
        "\n",
        "경로를 설정하고, csv파일을 Pandas Dataframe으로 불러와봅시다."
      ]
    },
    {
      "cell_type": "code",
      "execution_count": null,
      "metadata": {
        "id": "25AVQ3gpCNU-"
      },
      "outputs": [],
      "source": [
        "PATH = '/content/IMDB Dataset.csv'"
      ]
    },
    {
      "cell_type": "markdown",
      "metadata": {
        "id": "Eqog6mgUIRB0"
      },
      "source": [
        "데이터셋은 아래와 같이 두 개의 Column으로 구성되어 있습니다.\n",
        "\n",
        "- review: 시청자들의 후기가 문자열로 기록\n",
        "- sentiment: 수치로 기록된 평점을 긍정(positive)과 부정(negative)로 구분지어 놓음"
      ]
    },
    {
      "cell_type": "code",
      "source": [
        "import pandas as pd\n",
        "\n",
        "# Replace 'PATH' with the actual path of your CSV file\n",
        "PATH =  '/content/IMDB Dataset.csv'\n",
        "try:\n",
        "    df = pd.read_csv(PATH, error_bad_lines=False, engine='python')\n",
        "    print(df.head())\n",
        "except Exception as e:\n",
        "    print(f\"An error occurred: {e}\")\n"
      ],
      "metadata": {
        "colab": {
          "base_uri": "https://localhost:8080/"
        },
        "id": "v93d9P_nSkMy",
        "outputId": "b21fd45c-6e0e-4f44-8499-9cf0c9859ae9"
      },
      "execution_count": null,
      "outputs": [
        {
          "output_type": "stream",
          "name": "stdout",
          "text": [
            "An error occurred: read_csv() got an unexpected keyword argument 'error_bad_lines'\n"
          ]
        }
      ]
    },
    {
      "cell_type": "code",
      "execution_count": null,
      "metadata": {
        "colab": {
          "base_uri": "https://localhost:8080/",
          "height": 206
        },
        "id": "FWLmnOHFbEuw",
        "outputId": "4f384a67-cea9-4523-8692-5c5d828f0c90"
      },
      "outputs": [
        {
          "output_type": "execute_result",
          "data": {
            "text/plain": [
              "                                              review sentiment\n",
              "0  One of the other reviewers has mentioned that ...  positive\n",
              "1  A wonderful little production. <br /><br />The...  positive\n",
              "2  I thought this was a wonderful way to spend ti...  positive\n",
              "3  Basically there's a family where a little boy ...  negative\n",
              "4  Petter Mattei's \"Love in the Time of Money\" is...  positive"
            ],
            "text/html": [
              "\n",
              "  <div id=\"df-8f59e138-be56-435a-8473-0cab055da341\" class=\"colab-df-container\">\n",
              "    <div>\n",
              "<style scoped>\n",
              "    .dataframe tbody tr th:only-of-type {\n",
              "        vertical-align: middle;\n",
              "    }\n",
              "\n",
              "    .dataframe tbody tr th {\n",
              "        vertical-align: top;\n",
              "    }\n",
              "\n",
              "    .dataframe thead th {\n",
              "        text-align: right;\n",
              "    }\n",
              "</style>\n",
              "<table border=\"1\" class=\"dataframe\">\n",
              "  <thead>\n",
              "    <tr style=\"text-align: right;\">\n",
              "      <th></th>\n",
              "      <th>review</th>\n",
              "      <th>sentiment</th>\n",
              "    </tr>\n",
              "  </thead>\n",
              "  <tbody>\n",
              "    <tr>\n",
              "      <th>0</th>\n",
              "      <td>One of the other reviewers has mentioned that ...</td>\n",
              "      <td>positive</td>\n",
              "    </tr>\n",
              "    <tr>\n",
              "      <th>1</th>\n",
              "      <td>A wonderful little production. &lt;br /&gt;&lt;br /&gt;The...</td>\n",
              "      <td>positive</td>\n",
              "    </tr>\n",
              "    <tr>\n",
              "      <th>2</th>\n",
              "      <td>I thought this was a wonderful way to spend ti...</td>\n",
              "      <td>positive</td>\n",
              "    </tr>\n",
              "    <tr>\n",
              "      <th>3</th>\n",
              "      <td>Basically there's a family where a little boy ...</td>\n",
              "      <td>negative</td>\n",
              "    </tr>\n",
              "    <tr>\n",
              "      <th>4</th>\n",
              "      <td>Petter Mattei's \"Love in the Time of Money\" is...</td>\n",
              "      <td>positive</td>\n",
              "    </tr>\n",
              "  </tbody>\n",
              "</table>\n",
              "</div>\n",
              "    <div class=\"colab-df-buttons\">\n",
              "\n",
              "  <div class=\"colab-df-container\">\n",
              "    <button class=\"colab-df-convert\" onclick=\"convertToInteractive('df-8f59e138-be56-435a-8473-0cab055da341')\"\n",
              "            title=\"Convert this dataframe to an interactive table.\"\n",
              "            style=\"display:none;\">\n",
              "\n",
              "  <svg xmlns=\"http://www.w3.org/2000/svg\" height=\"24px\" viewBox=\"0 -960 960 960\">\n",
              "    <path d=\"M120-120v-720h720v720H120Zm60-500h600v-160H180v160Zm220 220h160v-160H400v160Zm0 220h160v-160H400v160ZM180-400h160v-160H180v160Zm440 0h160v-160H620v160ZM180-180h160v-160H180v160Zm440 0h160v-160H620v160Z\"/>\n",
              "  </svg>\n",
              "    </button>\n",
              "\n",
              "  <style>\n",
              "    .colab-df-container {\n",
              "      display:flex;\n",
              "      gap: 12px;\n",
              "    }\n",
              "\n",
              "    .colab-df-convert {\n",
              "      background-color: #E8F0FE;\n",
              "      border: none;\n",
              "      border-radius: 50%;\n",
              "      cursor: pointer;\n",
              "      display: none;\n",
              "      fill: #1967D2;\n",
              "      height: 32px;\n",
              "      padding: 0 0 0 0;\n",
              "      width: 32px;\n",
              "    }\n",
              "\n",
              "    .colab-df-convert:hover {\n",
              "      background-color: #E2EBFA;\n",
              "      box-shadow: 0px 1px 2px rgba(60, 64, 67, 0.3), 0px 1px 3px 1px rgba(60, 64, 67, 0.15);\n",
              "      fill: #174EA6;\n",
              "    }\n",
              "\n",
              "    .colab-df-buttons div {\n",
              "      margin-bottom: 4px;\n",
              "    }\n",
              "\n",
              "    [theme=dark] .colab-df-convert {\n",
              "      background-color: #3B4455;\n",
              "      fill: #D2E3FC;\n",
              "    }\n",
              "\n",
              "    [theme=dark] .colab-df-convert:hover {\n",
              "      background-color: #434B5C;\n",
              "      box-shadow: 0px 1px 3px 1px rgba(0, 0, 0, 0.15);\n",
              "      filter: drop-shadow(0px 1px 2px rgba(0, 0, 0, 0.3));\n",
              "      fill: #FFFFFF;\n",
              "    }\n",
              "  </style>\n",
              "\n",
              "    <script>\n",
              "      const buttonEl =\n",
              "        document.querySelector('#df-8f59e138-be56-435a-8473-0cab055da341 button.colab-df-convert');\n",
              "      buttonEl.style.display =\n",
              "        google.colab.kernel.accessAllowed ? 'block' : 'none';\n",
              "\n",
              "      async function convertToInteractive(key) {\n",
              "        const element = document.querySelector('#df-8f59e138-be56-435a-8473-0cab055da341');\n",
              "        const dataTable =\n",
              "          await google.colab.kernel.invokeFunction('convertToInteractive',\n",
              "                                                    [key], {});\n",
              "        if (!dataTable) return;\n",
              "\n",
              "        const docLinkHtml = 'Like what you see? Visit the ' +\n",
              "          '<a target=\"_blank\" href=https://colab.research.google.com/notebooks/data_table.ipynb>data table notebook</a>'\n",
              "          + ' to learn more about interactive tables.';\n",
              "        element.innerHTML = '';\n",
              "        dataTable['output_type'] = 'display_data';\n",
              "        await google.colab.output.renderOutput(dataTable, element);\n",
              "        const docLink = document.createElement('div');\n",
              "        docLink.innerHTML = docLinkHtml;\n",
              "        element.appendChild(docLink);\n",
              "      }\n",
              "    </script>\n",
              "  </div>\n",
              "\n",
              "\n",
              "<div id=\"df-aec9d5a2-3c86-414d-94f0-40774414dbd3\">\n",
              "  <button class=\"colab-df-quickchart\" onclick=\"quickchart('df-aec9d5a2-3c86-414d-94f0-40774414dbd3')\"\n",
              "            title=\"Suggest charts\"\n",
              "            style=\"display:none;\">\n",
              "\n",
              "<svg xmlns=\"http://www.w3.org/2000/svg\" height=\"24px\"viewBox=\"0 0 24 24\"\n",
              "     width=\"24px\">\n",
              "    <g>\n",
              "        <path d=\"M19 3H5c-1.1 0-2 .9-2 2v14c0 1.1.9 2 2 2h14c1.1 0 2-.9 2-2V5c0-1.1-.9-2-2-2zM9 17H7v-7h2v7zm4 0h-2V7h2v10zm4 0h-2v-4h2v4z\"/>\n",
              "    </g>\n",
              "</svg>\n",
              "  </button>\n",
              "\n",
              "<style>\n",
              "  .colab-df-quickchart {\n",
              "      --bg-color: #E8F0FE;\n",
              "      --fill-color: #1967D2;\n",
              "      --hover-bg-color: #E2EBFA;\n",
              "      --hover-fill-color: #174EA6;\n",
              "      --disabled-fill-color: #AAA;\n",
              "      --disabled-bg-color: #DDD;\n",
              "  }\n",
              "\n",
              "  [theme=dark] .colab-df-quickchart {\n",
              "      --bg-color: #3B4455;\n",
              "      --fill-color: #D2E3FC;\n",
              "      --hover-bg-color: #434B5C;\n",
              "      --hover-fill-color: #FFFFFF;\n",
              "      --disabled-bg-color: #3B4455;\n",
              "      --disabled-fill-color: #666;\n",
              "  }\n",
              "\n",
              "  .colab-df-quickchart {\n",
              "    background-color: var(--bg-color);\n",
              "    border: none;\n",
              "    border-radius: 50%;\n",
              "    cursor: pointer;\n",
              "    display: none;\n",
              "    fill: var(--fill-color);\n",
              "    height: 32px;\n",
              "    padding: 0;\n",
              "    width: 32px;\n",
              "  }\n",
              "\n",
              "  .colab-df-quickchart:hover {\n",
              "    background-color: var(--hover-bg-color);\n",
              "    box-shadow: 0 1px 2px rgba(60, 64, 67, 0.3), 0 1px 3px 1px rgba(60, 64, 67, 0.15);\n",
              "    fill: var(--button-hover-fill-color);\n",
              "  }\n",
              "\n",
              "  .colab-df-quickchart-complete:disabled,\n",
              "  .colab-df-quickchart-complete:disabled:hover {\n",
              "    background-color: var(--disabled-bg-color);\n",
              "    fill: var(--disabled-fill-color);\n",
              "    box-shadow: none;\n",
              "  }\n",
              "\n",
              "  .colab-df-spinner {\n",
              "    border: 2px solid var(--fill-color);\n",
              "    border-color: transparent;\n",
              "    border-bottom-color: var(--fill-color);\n",
              "    animation:\n",
              "      spin 1s steps(1) infinite;\n",
              "  }\n",
              "\n",
              "  @keyframes spin {\n",
              "    0% {\n",
              "      border-color: transparent;\n",
              "      border-bottom-color: var(--fill-color);\n",
              "      border-left-color: var(--fill-color);\n",
              "    }\n",
              "    20% {\n",
              "      border-color: transparent;\n",
              "      border-left-color: var(--fill-color);\n",
              "      border-top-color: var(--fill-color);\n",
              "    }\n",
              "    30% {\n",
              "      border-color: transparent;\n",
              "      border-left-color: var(--fill-color);\n",
              "      border-top-color: var(--fill-color);\n",
              "      border-right-color: var(--fill-color);\n",
              "    }\n",
              "    40% {\n",
              "      border-color: transparent;\n",
              "      border-right-color: var(--fill-color);\n",
              "      border-top-color: var(--fill-color);\n",
              "    }\n",
              "    60% {\n",
              "      border-color: transparent;\n",
              "      border-right-color: var(--fill-color);\n",
              "    }\n",
              "    80% {\n",
              "      border-color: transparent;\n",
              "      border-right-color: var(--fill-color);\n",
              "      border-bottom-color: var(--fill-color);\n",
              "    }\n",
              "    90% {\n",
              "      border-color: transparent;\n",
              "      border-bottom-color: var(--fill-color);\n",
              "    }\n",
              "  }\n",
              "</style>\n",
              "\n",
              "  <script>\n",
              "    async function quickchart(key) {\n",
              "      const quickchartButtonEl =\n",
              "        document.querySelector('#' + key + ' button');\n",
              "      quickchartButtonEl.disabled = true;  // To prevent multiple clicks.\n",
              "      quickchartButtonEl.classList.add('colab-df-spinner');\n",
              "      try {\n",
              "        const charts = await google.colab.kernel.invokeFunction(\n",
              "            'suggestCharts', [key], {});\n",
              "      } catch (error) {\n",
              "        console.error('Error during call to suggestCharts:', error);\n",
              "      }\n",
              "      quickchartButtonEl.classList.remove('colab-df-spinner');\n",
              "      quickchartButtonEl.classList.add('colab-df-quickchart-complete');\n",
              "    }\n",
              "    (() => {\n",
              "      let quickchartButtonEl =\n",
              "        document.querySelector('#df-aec9d5a2-3c86-414d-94f0-40774414dbd3 button');\n",
              "      quickchartButtonEl.style.display =\n",
              "        google.colab.kernel.accessAllowed ? 'block' : 'none';\n",
              "    })();\n",
              "  </script>\n",
              "</div>\n",
              "\n",
              "    </div>\n",
              "  </div>\n"
            ],
            "application/vnd.google.colaboratory.intrinsic+json": {
              "type": "dataframe",
              "variable_name": "df",
              "summary": "{\n  \"name\": \"df\",\n  \"rows\": 50000,\n  \"fields\": [\n    {\n      \"column\": \"review\",\n      \"properties\": {\n        \"dtype\": \"string\",\n        \"num_unique_values\": 49582,\n        \"samples\": [\n          \"\\\"Soul Plane\\\" is a horrible attempt at comedy that only should appeal people with thick skulls, bloodshot eyes and furry pawns. <br /><br />The plot is not only incoherent but also non-existent, acting is mostly sub sub-par with a gang of highly moronic and dreadful characters thrown in for bad measure, jokes are often spotted miles ahead and almost never even a bit amusing. This movie lacks any structure and is full of racial stereotypes that must have seemed old even in the fifties, the only thing it really has going for it is some pretty ladies, but really, if you want that you can rent something from the \\\"Adult\\\" section. OK?<br /><br />I can hardly see anything here to recommend since you'll probably have a lot a better and productive time chasing rats with a sledgehammer or inventing waterproof teabags or whatever.<br /><br />2/10\",\n          \"Guest from the Future tells a fascinating story of time travel, friendship, battle of good and evil -- all with a small budget, child actors, and few special effects. Something for Spielberg and Lucas to learn from. ;) A sixth-grader Kolya \\\"Nick\\\" Gerasimov finds a time machine in the basement of a decrepit building and travels 100 years into the future. He discovers a near-perfect, utopian society where robots play guitars and write poetry, everyone is kind to each other and people enjoy everything technology has to offer. Alice is the daughter of a prominent scientist who invented a device called Mielophone that allows to read minds of humans and animals. The device can be put to both good and bad use, depending on whose hands it falls into. When two evil space pirates from Saturn who want to rule the universe attempt to steal Mielophone, it falls into the hands of 20th century school boy Nick. With the pirates hot on his tracks, he travels back to his time, followed by the pirates, and Alice. Chaos, confusion and funny situations follow as the luckless pirates try to blend in with the earthlings. Alice enrolls in the same school Nick goes to and demonstrates superhuman abilities in PE class. The catch is, Alice doesn't know what Nick looks like, while the pirates do. Also, the pirates are able to change their appearance and turn literally into anyone. (Hmm, I wonder if this is where James Cameron got the idea for Terminator...) Who gets to Nick -- and Mielophone -- first? Excellent plot, non-stop adventures, and great soundtrack. I wish Hollywood made kid movies like this one...\",\n          \"\\\"National Treasure\\\" (2004) is a thoroughly misguided hodge-podge of plot entanglements that borrow from nearly every cloak and dagger government conspiracy clich\\u00e9 that has ever been written. The film stars Nicholas Cage as Benjamin Franklin Gates (how precious is that, I ask you?); a seemingly normal fellow who, for no other reason than being of a lineage of like-minded misguided fortune hunters, decides to steal a 'national treasure' that has been hidden by the United States founding fathers. After a bit of subtext and background that plays laughably (unintentionally) like Indiana Jones meets The Patriot, the film degenerates into one misguided whimsy after another \\u0096 attempting to create a 'Stanley Goodspeed' regurgitation of Nicholas Cage and launch the whole convoluted mess forward with a series of high octane, but disconnected misadventures.<br /><br />The relevancy and logic to having George Washington and his motley crew of patriots burying a king's ransom someplace on native soil, and then, going through the meticulous plan of leaving clues scattered throughout U.S. currency art work, is something that director Jon Turteltaub never quite gets around to explaining. Couldn't Washington found better usage for such wealth during the start up of the country? Hence, we are left with a mystery built on top of an enigma that is already on shaky ground by the time Ben appoints himself the new custodian of this untold wealth. Ben's intentions are noble \\u0096 if confusing. He's set on protecting the treasure. For who and when?\\u0085your guess is as good as mine.<br /><br />But there are a few problems with Ben's crusade. First up, his friend, Ian Holmes (Sean Bean) decides that he can't wait for Ben to make up his mind about stealing the Declaration of Independence from the National Archives (oh, yeah \\u0096 brilliant idea!). Presumably, the back of that famous document holds the secret answer to the ultimate fortune. So Ian tries to kill Ben. The assassination attempt is, of course, unsuccessful, if overly melodramatic. It also affords Ben the opportunity to pick up, and pick on, the very sultry curator of the archives, Abigail Chase (Diane Kruger). She thinks Ben is clearly a nut \\u0096 at least at the beginning. But true to action/romance form, Abby's resolve melts quicker than you can say, \\\"is that the Hope Diamond?\\\" The film moves into full X-File-ish mode, as the FBI, mistakenly believing that Ben is behind the theft, retaliate in various benign ways that lead to a multi-layering of action sequences reminiscent of Mission Impossible meets The Fugitive. Honestly, don't those guys ever get 'intelligence' information that is correct? In the final analysis, \\\"National Treasure\\\" isn't great film making, so much as it's a patchwork rehash of tired old bits from other movies, woven together from scraps, the likes of which would make IL' Betsy Ross blush.<br /><br />The Buena Vista DVD delivers a far more generous treatment than this film is deserving of. The anamorphic widescreen picture exhibits a very smooth and finely detailed image with very rich colors, natural flesh tones, solid blacks and clean whites. The stylized image is also free of blemishes and digital enhancements. The audio is 5.1 and delivers a nice sonic boom to your side and rear speakers with intensity and realism. Extras include a host of promotional junket material that is rather deep and over the top in its explanation of how and why this film was made. If only, as an audience, we had had more clarification as to why Ben and co. were chasing after an illusive treasure, this might have been one good flick. Extras conclude with the theatrical trailer, audio commentary and deleted scenes. Not for the faint-hearted \\u0096 just the thick-headed.\"\n        ],\n        \"semantic_type\": \"\",\n        \"description\": \"\"\n      }\n    },\n    {\n      \"column\": \"sentiment\",\n      \"properties\": {\n        \"dtype\": \"category\",\n        \"num_unique_values\": 2,\n        \"samples\": [\n          \"negative\",\n          \"positive\"\n        ],\n        \"semantic_type\": \"\",\n        \"description\": \"\"\n      }\n    }\n  ]\n}"
            }
          },
          "metadata": {},
          "execution_count": 6
        }
      ],
      "source": [
        "df = pd.read_csv(PATH)\n",
        "df.head()   # 상위 5줄을 출력해봅시다."
      ]
    },
    {
      "cell_type": "markdown",
      "metadata": {
        "id": "NBqE-23bIscs"
      },
      "source": [
        "### 2.1 중복 제거\n",
        "데이터의 통계치를 살펴보겠습니다.  \n",
        "\n",
        "`df.describe()`메서드를 쓰면 데이터프레임의 전체 샘플 수(count), 중복되지 않는 행의 수(unique) 등을 확인할 수 있습니다."
      ]
    },
    {
      "cell_type": "code",
      "execution_count": null,
      "metadata": {
        "colab": {
          "base_uri": "https://localhost:8080/",
          "height": 175
        },
        "id": "o-re290wGN4q",
        "outputId": "dbc5f0b8-71e2-49cc-97e6-9263d9923eeb"
      },
      "outputs": [
        {
          "output_type": "execute_result",
          "data": {
            "text/plain": [
              "                                                   review sentiment\n",
              "count                                               50000     50000\n",
              "unique                                              49582         2\n",
              "top     Loved today's show!!! It was a variety and not...  positive\n",
              "freq                                                    5     25000"
            ],
            "text/html": [
              "\n",
              "  <div id=\"df-dc744032-20bd-4d19-87e2-5075b8c3e5d6\" class=\"colab-df-container\">\n",
              "    <div>\n",
              "<style scoped>\n",
              "    .dataframe tbody tr th:only-of-type {\n",
              "        vertical-align: middle;\n",
              "    }\n",
              "\n",
              "    .dataframe tbody tr th {\n",
              "        vertical-align: top;\n",
              "    }\n",
              "\n",
              "    .dataframe thead th {\n",
              "        text-align: right;\n",
              "    }\n",
              "</style>\n",
              "<table border=\"1\" class=\"dataframe\">\n",
              "  <thead>\n",
              "    <tr style=\"text-align: right;\">\n",
              "      <th></th>\n",
              "      <th>review</th>\n",
              "      <th>sentiment</th>\n",
              "    </tr>\n",
              "  </thead>\n",
              "  <tbody>\n",
              "    <tr>\n",
              "      <th>count</th>\n",
              "      <td>50000</td>\n",
              "      <td>50000</td>\n",
              "    </tr>\n",
              "    <tr>\n",
              "      <th>unique</th>\n",
              "      <td>49582</td>\n",
              "      <td>2</td>\n",
              "    </tr>\n",
              "    <tr>\n",
              "      <th>top</th>\n",
              "      <td>Loved today's show!!! It was a variety and not...</td>\n",
              "      <td>positive</td>\n",
              "    </tr>\n",
              "    <tr>\n",
              "      <th>freq</th>\n",
              "      <td>5</td>\n",
              "      <td>25000</td>\n",
              "    </tr>\n",
              "  </tbody>\n",
              "</table>\n",
              "</div>\n",
              "    <div class=\"colab-df-buttons\">\n",
              "\n",
              "  <div class=\"colab-df-container\">\n",
              "    <button class=\"colab-df-convert\" onclick=\"convertToInteractive('df-dc744032-20bd-4d19-87e2-5075b8c3e5d6')\"\n",
              "            title=\"Convert this dataframe to an interactive table.\"\n",
              "            style=\"display:none;\">\n",
              "\n",
              "  <svg xmlns=\"http://www.w3.org/2000/svg\" height=\"24px\" viewBox=\"0 -960 960 960\">\n",
              "    <path d=\"M120-120v-720h720v720H120Zm60-500h600v-160H180v160Zm220 220h160v-160H400v160Zm0 220h160v-160H400v160ZM180-400h160v-160H180v160Zm440 0h160v-160H620v160ZM180-180h160v-160H180v160Zm440 0h160v-160H620v160Z\"/>\n",
              "  </svg>\n",
              "    </button>\n",
              "\n",
              "  <style>\n",
              "    .colab-df-container {\n",
              "      display:flex;\n",
              "      gap: 12px;\n",
              "    }\n",
              "\n",
              "    .colab-df-convert {\n",
              "      background-color: #E8F0FE;\n",
              "      border: none;\n",
              "      border-radius: 50%;\n",
              "      cursor: pointer;\n",
              "      display: none;\n",
              "      fill: #1967D2;\n",
              "      height: 32px;\n",
              "      padding: 0 0 0 0;\n",
              "      width: 32px;\n",
              "    }\n",
              "\n",
              "    .colab-df-convert:hover {\n",
              "      background-color: #E2EBFA;\n",
              "      box-shadow: 0px 1px 2px rgba(60, 64, 67, 0.3), 0px 1px 3px 1px rgba(60, 64, 67, 0.15);\n",
              "      fill: #174EA6;\n",
              "    }\n",
              "\n",
              "    .colab-df-buttons div {\n",
              "      margin-bottom: 4px;\n",
              "    }\n",
              "\n",
              "    [theme=dark] .colab-df-convert {\n",
              "      background-color: #3B4455;\n",
              "      fill: #D2E3FC;\n",
              "    }\n",
              "\n",
              "    [theme=dark] .colab-df-convert:hover {\n",
              "      background-color: #434B5C;\n",
              "      box-shadow: 0px 1px 3px 1px rgba(0, 0, 0, 0.15);\n",
              "      filter: drop-shadow(0px 1px 2px rgba(0, 0, 0, 0.3));\n",
              "      fill: #FFFFFF;\n",
              "    }\n",
              "  </style>\n",
              "\n",
              "    <script>\n",
              "      const buttonEl =\n",
              "        document.querySelector('#df-dc744032-20bd-4d19-87e2-5075b8c3e5d6 button.colab-df-convert');\n",
              "      buttonEl.style.display =\n",
              "        google.colab.kernel.accessAllowed ? 'block' : 'none';\n",
              "\n",
              "      async function convertToInteractive(key) {\n",
              "        const element = document.querySelector('#df-dc744032-20bd-4d19-87e2-5075b8c3e5d6');\n",
              "        const dataTable =\n",
              "          await google.colab.kernel.invokeFunction('convertToInteractive',\n",
              "                                                    [key], {});\n",
              "        if (!dataTable) return;\n",
              "\n",
              "        const docLinkHtml = 'Like what you see? Visit the ' +\n",
              "          '<a target=\"_blank\" href=https://colab.research.google.com/notebooks/data_table.ipynb>data table notebook</a>'\n",
              "          + ' to learn more about interactive tables.';\n",
              "        element.innerHTML = '';\n",
              "        dataTable['output_type'] = 'display_data';\n",
              "        await google.colab.output.renderOutput(dataTable, element);\n",
              "        const docLink = document.createElement('div');\n",
              "        docLink.innerHTML = docLinkHtml;\n",
              "        element.appendChild(docLink);\n",
              "      }\n",
              "    </script>\n",
              "  </div>\n",
              "\n",
              "\n",
              "<div id=\"df-4a1f98b2-9334-42aa-86e0-1cdc1cdfcaa6\">\n",
              "  <button class=\"colab-df-quickchart\" onclick=\"quickchart('df-4a1f98b2-9334-42aa-86e0-1cdc1cdfcaa6')\"\n",
              "            title=\"Suggest charts\"\n",
              "            style=\"display:none;\">\n",
              "\n",
              "<svg xmlns=\"http://www.w3.org/2000/svg\" height=\"24px\"viewBox=\"0 0 24 24\"\n",
              "     width=\"24px\">\n",
              "    <g>\n",
              "        <path d=\"M19 3H5c-1.1 0-2 .9-2 2v14c0 1.1.9 2 2 2h14c1.1 0 2-.9 2-2V5c0-1.1-.9-2-2-2zM9 17H7v-7h2v7zm4 0h-2V7h2v10zm4 0h-2v-4h2v4z\"/>\n",
              "    </g>\n",
              "</svg>\n",
              "  </button>\n",
              "\n",
              "<style>\n",
              "  .colab-df-quickchart {\n",
              "      --bg-color: #E8F0FE;\n",
              "      --fill-color: #1967D2;\n",
              "      --hover-bg-color: #E2EBFA;\n",
              "      --hover-fill-color: #174EA6;\n",
              "      --disabled-fill-color: #AAA;\n",
              "      --disabled-bg-color: #DDD;\n",
              "  }\n",
              "\n",
              "  [theme=dark] .colab-df-quickchart {\n",
              "      --bg-color: #3B4455;\n",
              "      --fill-color: #D2E3FC;\n",
              "      --hover-bg-color: #434B5C;\n",
              "      --hover-fill-color: #FFFFFF;\n",
              "      --disabled-bg-color: #3B4455;\n",
              "      --disabled-fill-color: #666;\n",
              "  }\n",
              "\n",
              "  .colab-df-quickchart {\n",
              "    background-color: var(--bg-color);\n",
              "    border: none;\n",
              "    border-radius: 50%;\n",
              "    cursor: pointer;\n",
              "    display: none;\n",
              "    fill: var(--fill-color);\n",
              "    height: 32px;\n",
              "    padding: 0;\n",
              "    width: 32px;\n",
              "  }\n",
              "\n",
              "  .colab-df-quickchart:hover {\n",
              "    background-color: var(--hover-bg-color);\n",
              "    box-shadow: 0 1px 2px rgba(60, 64, 67, 0.3), 0 1px 3px 1px rgba(60, 64, 67, 0.15);\n",
              "    fill: var(--button-hover-fill-color);\n",
              "  }\n",
              "\n",
              "  .colab-df-quickchart-complete:disabled,\n",
              "  .colab-df-quickchart-complete:disabled:hover {\n",
              "    background-color: var(--disabled-bg-color);\n",
              "    fill: var(--disabled-fill-color);\n",
              "    box-shadow: none;\n",
              "  }\n",
              "\n",
              "  .colab-df-spinner {\n",
              "    border: 2px solid var(--fill-color);\n",
              "    border-color: transparent;\n",
              "    border-bottom-color: var(--fill-color);\n",
              "    animation:\n",
              "      spin 1s steps(1) infinite;\n",
              "  }\n",
              "\n",
              "  @keyframes spin {\n",
              "    0% {\n",
              "      border-color: transparent;\n",
              "      border-bottom-color: var(--fill-color);\n",
              "      border-left-color: var(--fill-color);\n",
              "    }\n",
              "    20% {\n",
              "      border-color: transparent;\n",
              "      border-left-color: var(--fill-color);\n",
              "      border-top-color: var(--fill-color);\n",
              "    }\n",
              "    30% {\n",
              "      border-color: transparent;\n",
              "      border-left-color: var(--fill-color);\n",
              "      border-top-color: var(--fill-color);\n",
              "      border-right-color: var(--fill-color);\n",
              "    }\n",
              "    40% {\n",
              "      border-color: transparent;\n",
              "      border-right-color: var(--fill-color);\n",
              "      border-top-color: var(--fill-color);\n",
              "    }\n",
              "    60% {\n",
              "      border-color: transparent;\n",
              "      border-right-color: var(--fill-color);\n",
              "    }\n",
              "    80% {\n",
              "      border-color: transparent;\n",
              "      border-right-color: var(--fill-color);\n",
              "      border-bottom-color: var(--fill-color);\n",
              "    }\n",
              "    90% {\n",
              "      border-color: transparent;\n",
              "      border-bottom-color: var(--fill-color);\n",
              "    }\n",
              "  }\n",
              "</style>\n",
              "\n",
              "  <script>\n",
              "    async function quickchart(key) {\n",
              "      const quickchartButtonEl =\n",
              "        document.querySelector('#' + key + ' button');\n",
              "      quickchartButtonEl.disabled = true;  // To prevent multiple clicks.\n",
              "      quickchartButtonEl.classList.add('colab-df-spinner');\n",
              "      try {\n",
              "        const charts = await google.colab.kernel.invokeFunction(\n",
              "            'suggestCharts', [key], {});\n",
              "      } catch (error) {\n",
              "        console.error('Error during call to suggestCharts:', error);\n",
              "      }\n",
              "      quickchartButtonEl.classList.remove('colab-df-spinner');\n",
              "      quickchartButtonEl.classList.add('colab-df-quickchart-complete');\n",
              "    }\n",
              "    (() => {\n",
              "      let quickchartButtonEl =\n",
              "        document.querySelector('#df-4a1f98b2-9334-42aa-86e0-1cdc1cdfcaa6 button');\n",
              "      quickchartButtonEl.style.display =\n",
              "        google.colab.kernel.accessAllowed ? 'block' : 'none';\n",
              "    })();\n",
              "  </script>\n",
              "</div>\n",
              "\n",
              "    </div>\n",
              "  </div>\n"
            ],
            "application/vnd.google.colaboratory.intrinsic+json": {
              "type": "dataframe",
              "summary": "{\n  \"name\": \"df\",\n  \"rows\": 4,\n  \"fields\": [\n    {\n      \"column\": \"review\",\n      \"properties\": {\n        \"dtype\": \"string\",\n        \"num_unique_values\": 4,\n        \"samples\": [\n          49582,\n          \"5\",\n          \"50000\"\n        ],\n        \"semantic_type\": \"\",\n        \"description\": \"\"\n      }\n    },\n    {\n      \"column\": \"sentiment\",\n      \"properties\": {\n        \"dtype\": \"string\",\n        \"num_unique_values\": 4,\n        \"samples\": [\n          2,\n          \"25000\",\n          \"50000\"\n        ],\n        \"semantic_type\": \"\",\n        \"description\": \"\"\n      }\n    }\n  ]\n}"
            }
          },
          "metadata": {},
          "execution_count": 7
        }
      ],
      "source": [
        "df.describe()"
      ]
    },
    {
      "cell_type": "markdown",
      "metadata": {
        "id": "54lptUyYI9Kl"
      },
      "source": [
        "위와 같이 일부 리뷰에 중복이 있는 것을 확인할 수 있습니다.  \n",
        "\n",
        "이를 찾아 제거해보겠습니다.  \n",
        "\n",
        "`df.duplicated()`메서드는 모든 열에 대한 값이 동일한 샘플들을 반환합니다."
      ]
    },
    {
      "cell_type": "code",
      "execution_count": null,
      "metadata": {
        "colab": {
          "base_uri": "https://localhost:8080/"
        },
        "id": "3rWPKkUJGgmN",
        "outputId": "9f1c0202-7b5f-4e3f-d8f4-d5f1c0d3b061"
      },
      "outputs": [
        {
          "output_type": "stream",
          "name": "stdout",
          "text": [
            "                                                  review sentiment\n",
            "3537   Quite what the producers of this appalling ada...  negative\n",
            "3769   My favourite police series of all time turns t...  positive\n",
            "4391   Beautiful film, pure Cassavetes style. Gena Ro...  positive\n",
            "6352   If you liked the Grinch movie... go watch that...  negative\n",
            "6479   I want very much to believe that the above quo...  negative\n",
            "...                                                  ...       ...\n",
            "49912  This is an incredible piece of drama and power...  positive\n",
            "49950  This was a very brief episode that appeared in...  negative\n",
            "49984  Hello it is I Derrick Cannon and I welcome you...  negative\n",
            "49986  This movie is a disgrace to the Major League F...  negative\n",
            "49991  Les Visiteurs, the first movie about the medie...  negative\n",
            "\n",
            "[418 rows x 2 columns]\n"
          ]
        }
      ],
      "source": [
        "# 중복된 행 찾기\n",
        "duplicates = df.duplicated()\n",
        "print(df[duplicates])"
      ]
    },
    {
      "cell_type": "markdown",
      "metadata": {
        "id": "uTe528_tJR4B"
      },
      "source": [
        "중복된 데이터를 삭제하도록 하겠습니다.  \n",
        "\n",
        "이는 `df.drop_duplicates()` 메서드를 통해 실행할 수 있습니다."
      ]
    },
    {
      "cell_type": "code",
      "execution_count": null,
      "metadata": {
        "colab": {
          "base_uri": "https://localhost:8080/",
          "height": 175
        },
        "id": "PcTMMRsCGz19",
        "outputId": "0c82e903-825f-4bd9-e445-875d62ba4d7e"
      },
      "outputs": [
        {
          "output_type": "execute_result",
          "data": {
            "text/plain": [
              "                                                   review sentiment\n",
              "count                                               49582     49582\n",
              "unique                                              49582         2\n",
              "top     One of the other reviewers has mentioned that ...  positive\n",
              "freq                                                    1     24884"
            ],
            "text/html": [
              "\n",
              "  <div id=\"df-65add222-6a8e-4a60-8650-6c23fe74cf3c\" class=\"colab-df-container\">\n",
              "    <div>\n",
              "<style scoped>\n",
              "    .dataframe tbody tr th:only-of-type {\n",
              "        vertical-align: middle;\n",
              "    }\n",
              "\n",
              "    .dataframe tbody tr th {\n",
              "        vertical-align: top;\n",
              "    }\n",
              "\n",
              "    .dataframe thead th {\n",
              "        text-align: right;\n",
              "    }\n",
              "</style>\n",
              "<table border=\"1\" class=\"dataframe\">\n",
              "  <thead>\n",
              "    <tr style=\"text-align: right;\">\n",
              "      <th></th>\n",
              "      <th>review</th>\n",
              "      <th>sentiment</th>\n",
              "    </tr>\n",
              "  </thead>\n",
              "  <tbody>\n",
              "    <tr>\n",
              "      <th>count</th>\n",
              "      <td>49582</td>\n",
              "      <td>49582</td>\n",
              "    </tr>\n",
              "    <tr>\n",
              "      <th>unique</th>\n",
              "      <td>49582</td>\n",
              "      <td>2</td>\n",
              "    </tr>\n",
              "    <tr>\n",
              "      <th>top</th>\n",
              "      <td>One of the other reviewers has mentioned that ...</td>\n",
              "      <td>positive</td>\n",
              "    </tr>\n",
              "    <tr>\n",
              "      <th>freq</th>\n",
              "      <td>1</td>\n",
              "      <td>24884</td>\n",
              "    </tr>\n",
              "  </tbody>\n",
              "</table>\n",
              "</div>\n",
              "    <div class=\"colab-df-buttons\">\n",
              "\n",
              "  <div class=\"colab-df-container\">\n",
              "    <button class=\"colab-df-convert\" onclick=\"convertToInteractive('df-65add222-6a8e-4a60-8650-6c23fe74cf3c')\"\n",
              "            title=\"Convert this dataframe to an interactive table.\"\n",
              "            style=\"display:none;\">\n",
              "\n",
              "  <svg xmlns=\"http://www.w3.org/2000/svg\" height=\"24px\" viewBox=\"0 -960 960 960\">\n",
              "    <path d=\"M120-120v-720h720v720H120Zm60-500h600v-160H180v160Zm220 220h160v-160H400v160Zm0 220h160v-160H400v160ZM180-400h160v-160H180v160Zm440 0h160v-160H620v160ZM180-180h160v-160H180v160Zm440 0h160v-160H620v160Z\"/>\n",
              "  </svg>\n",
              "    </button>\n",
              "\n",
              "  <style>\n",
              "    .colab-df-container {\n",
              "      display:flex;\n",
              "      gap: 12px;\n",
              "    }\n",
              "\n",
              "    .colab-df-convert {\n",
              "      background-color: #E8F0FE;\n",
              "      border: none;\n",
              "      border-radius: 50%;\n",
              "      cursor: pointer;\n",
              "      display: none;\n",
              "      fill: #1967D2;\n",
              "      height: 32px;\n",
              "      padding: 0 0 0 0;\n",
              "      width: 32px;\n",
              "    }\n",
              "\n",
              "    .colab-df-convert:hover {\n",
              "      background-color: #E2EBFA;\n",
              "      box-shadow: 0px 1px 2px rgba(60, 64, 67, 0.3), 0px 1px 3px 1px rgba(60, 64, 67, 0.15);\n",
              "      fill: #174EA6;\n",
              "    }\n",
              "\n",
              "    .colab-df-buttons div {\n",
              "      margin-bottom: 4px;\n",
              "    }\n",
              "\n",
              "    [theme=dark] .colab-df-convert {\n",
              "      background-color: #3B4455;\n",
              "      fill: #D2E3FC;\n",
              "    }\n",
              "\n",
              "    [theme=dark] .colab-df-convert:hover {\n",
              "      background-color: #434B5C;\n",
              "      box-shadow: 0px 1px 3px 1px rgba(0, 0, 0, 0.15);\n",
              "      filter: drop-shadow(0px 1px 2px rgba(0, 0, 0, 0.3));\n",
              "      fill: #FFFFFF;\n",
              "    }\n",
              "  </style>\n",
              "\n",
              "    <script>\n",
              "      const buttonEl =\n",
              "        document.querySelector('#df-65add222-6a8e-4a60-8650-6c23fe74cf3c button.colab-df-convert');\n",
              "      buttonEl.style.display =\n",
              "        google.colab.kernel.accessAllowed ? 'block' : 'none';\n",
              "\n",
              "      async function convertToInteractive(key) {\n",
              "        const element = document.querySelector('#df-65add222-6a8e-4a60-8650-6c23fe74cf3c');\n",
              "        const dataTable =\n",
              "          await google.colab.kernel.invokeFunction('convertToInteractive',\n",
              "                                                    [key], {});\n",
              "        if (!dataTable) return;\n",
              "\n",
              "        const docLinkHtml = 'Like what you see? Visit the ' +\n",
              "          '<a target=\"_blank\" href=https://colab.research.google.com/notebooks/data_table.ipynb>data table notebook</a>'\n",
              "          + ' to learn more about interactive tables.';\n",
              "        element.innerHTML = '';\n",
              "        dataTable['output_type'] = 'display_data';\n",
              "        await google.colab.output.renderOutput(dataTable, element);\n",
              "        const docLink = document.createElement('div');\n",
              "        docLink.innerHTML = docLinkHtml;\n",
              "        element.appendChild(docLink);\n",
              "      }\n",
              "    </script>\n",
              "  </div>\n",
              "\n",
              "\n",
              "<div id=\"df-ccf18da9-d94a-4e9b-8fff-132e22f643ab\">\n",
              "  <button class=\"colab-df-quickchart\" onclick=\"quickchart('df-ccf18da9-d94a-4e9b-8fff-132e22f643ab')\"\n",
              "            title=\"Suggest charts\"\n",
              "            style=\"display:none;\">\n",
              "\n",
              "<svg xmlns=\"http://www.w3.org/2000/svg\" height=\"24px\"viewBox=\"0 0 24 24\"\n",
              "     width=\"24px\">\n",
              "    <g>\n",
              "        <path d=\"M19 3H5c-1.1 0-2 .9-2 2v14c0 1.1.9 2 2 2h14c1.1 0 2-.9 2-2V5c0-1.1-.9-2-2-2zM9 17H7v-7h2v7zm4 0h-2V7h2v10zm4 0h-2v-4h2v4z\"/>\n",
              "    </g>\n",
              "</svg>\n",
              "  </button>\n",
              "\n",
              "<style>\n",
              "  .colab-df-quickchart {\n",
              "      --bg-color: #E8F0FE;\n",
              "      --fill-color: #1967D2;\n",
              "      --hover-bg-color: #E2EBFA;\n",
              "      --hover-fill-color: #174EA6;\n",
              "      --disabled-fill-color: #AAA;\n",
              "      --disabled-bg-color: #DDD;\n",
              "  }\n",
              "\n",
              "  [theme=dark] .colab-df-quickchart {\n",
              "      --bg-color: #3B4455;\n",
              "      --fill-color: #D2E3FC;\n",
              "      --hover-bg-color: #434B5C;\n",
              "      --hover-fill-color: #FFFFFF;\n",
              "      --disabled-bg-color: #3B4455;\n",
              "      --disabled-fill-color: #666;\n",
              "  }\n",
              "\n",
              "  .colab-df-quickchart {\n",
              "    background-color: var(--bg-color);\n",
              "    border: none;\n",
              "    border-radius: 50%;\n",
              "    cursor: pointer;\n",
              "    display: none;\n",
              "    fill: var(--fill-color);\n",
              "    height: 32px;\n",
              "    padding: 0;\n",
              "    width: 32px;\n",
              "  }\n",
              "\n",
              "  .colab-df-quickchart:hover {\n",
              "    background-color: var(--hover-bg-color);\n",
              "    box-shadow: 0 1px 2px rgba(60, 64, 67, 0.3), 0 1px 3px 1px rgba(60, 64, 67, 0.15);\n",
              "    fill: var(--button-hover-fill-color);\n",
              "  }\n",
              "\n",
              "  .colab-df-quickchart-complete:disabled,\n",
              "  .colab-df-quickchart-complete:disabled:hover {\n",
              "    background-color: var(--disabled-bg-color);\n",
              "    fill: var(--disabled-fill-color);\n",
              "    box-shadow: none;\n",
              "  }\n",
              "\n",
              "  .colab-df-spinner {\n",
              "    border: 2px solid var(--fill-color);\n",
              "    border-color: transparent;\n",
              "    border-bottom-color: var(--fill-color);\n",
              "    animation:\n",
              "      spin 1s steps(1) infinite;\n",
              "  }\n",
              "\n",
              "  @keyframes spin {\n",
              "    0% {\n",
              "      border-color: transparent;\n",
              "      border-bottom-color: var(--fill-color);\n",
              "      border-left-color: var(--fill-color);\n",
              "    }\n",
              "    20% {\n",
              "      border-color: transparent;\n",
              "      border-left-color: var(--fill-color);\n",
              "      border-top-color: var(--fill-color);\n",
              "    }\n",
              "    30% {\n",
              "      border-color: transparent;\n",
              "      border-left-color: var(--fill-color);\n",
              "      border-top-color: var(--fill-color);\n",
              "      border-right-color: var(--fill-color);\n",
              "    }\n",
              "    40% {\n",
              "      border-color: transparent;\n",
              "      border-right-color: var(--fill-color);\n",
              "      border-top-color: var(--fill-color);\n",
              "    }\n",
              "    60% {\n",
              "      border-color: transparent;\n",
              "      border-right-color: var(--fill-color);\n",
              "    }\n",
              "    80% {\n",
              "      border-color: transparent;\n",
              "      border-right-color: var(--fill-color);\n",
              "      border-bottom-color: var(--fill-color);\n",
              "    }\n",
              "    90% {\n",
              "      border-color: transparent;\n",
              "      border-bottom-color: var(--fill-color);\n",
              "    }\n",
              "  }\n",
              "</style>\n",
              "\n",
              "  <script>\n",
              "    async function quickchart(key) {\n",
              "      const quickchartButtonEl =\n",
              "        document.querySelector('#' + key + ' button');\n",
              "      quickchartButtonEl.disabled = true;  // To prevent multiple clicks.\n",
              "      quickchartButtonEl.classList.add('colab-df-spinner');\n",
              "      try {\n",
              "        const charts = await google.colab.kernel.invokeFunction(\n",
              "            'suggestCharts', [key], {});\n",
              "      } catch (error) {\n",
              "        console.error('Error during call to suggestCharts:', error);\n",
              "      }\n",
              "      quickchartButtonEl.classList.remove('colab-df-spinner');\n",
              "      quickchartButtonEl.classList.add('colab-df-quickchart-complete');\n",
              "    }\n",
              "    (() => {\n",
              "      let quickchartButtonEl =\n",
              "        document.querySelector('#df-ccf18da9-d94a-4e9b-8fff-132e22f643ab button');\n",
              "      quickchartButtonEl.style.display =\n",
              "        google.colab.kernel.accessAllowed ? 'block' : 'none';\n",
              "    })();\n",
              "  </script>\n",
              "</div>\n",
              "\n",
              "    </div>\n",
              "  </div>\n"
            ],
            "application/vnd.google.colaboratory.intrinsic+json": {
              "type": "dataframe",
              "summary": "{\n  \"name\": \"df\",\n  \"rows\": 4,\n  \"fields\": [\n    {\n      \"column\": \"review\",\n      \"properties\": {\n        \"dtype\": \"string\",\n        \"num_unique_values\": 3,\n        \"samples\": [\n          \"49582\",\n          \"One of the other reviewers has mentioned that after watching just 1 Oz episode you'll be hooked. They are right, as this is exactly what happened with me.<br /><br />The first thing that struck me about Oz was its brutality and unflinching scenes of violence, which set in right from the word GO. Trust me, this is not a show for the faint hearted or timid. This show pulls no punches with regards to drugs, sex or violence. Its is hardcore, in the classic use of the word.<br /><br />It is called OZ as that is the nickname given to the Oswald Maximum Security State Penitentary. It focuses mainly on Emerald City, an experimental section of the prison where all the cells have glass fronts and face inwards, so privacy is not high on the agenda. Em City is home to many..Aryans, Muslims, gangstas, Latinos, Christians, Italians, Irish and more....so scuffles, death stares, dodgy dealings and shady agreements are never far away.<br /><br />I would say the main appeal of the show is due to the fact that it goes where other shows wouldn't dare. Forget pretty pictures painted for mainstream audiences, forget charm, forget romance...OZ doesn't mess around. The first episode I ever saw struck me as so nasty it was surreal, I couldn't say I was ready for it, but as I watched more, I developed a taste for Oz, and got accustomed to the high levels of graphic violence. Not just violence, but injustice (crooked guards who'll be sold out for a nickel, inmates who'll kill on order and get away with it, well mannered, middle class inmates being turned into prison bitches due to their lack of street skills or prison experience) Watching Oz, you may become comfortable with what is uncomfortable viewing....thats if you can get in touch with your darker side.\",\n          \"1\"\n        ],\n        \"semantic_type\": \"\",\n        \"description\": \"\"\n      }\n    },\n    {\n      \"column\": \"sentiment\",\n      \"properties\": {\n        \"dtype\": \"string\",\n        \"num_unique_values\": 4,\n        \"samples\": [\n          2,\n          \"24884\",\n          \"49582\"\n        ],\n        \"semantic_type\": \"\",\n        \"description\": \"\"\n      }\n    }\n  ]\n}"
            }
          },
          "metadata": {},
          "execution_count": 9
        }
      ],
      "source": [
        "# 중복된 행 제거\n",
        "df = df.drop_duplicates()\n",
        "df.describe()"
      ]
    },
    {
      "cell_type": "markdown",
      "metadata": {
        "id": "tT1aG6rRG0jB"
      },
      "source": [
        "### 2.2 텍스트 전처리 함수 생성"
      ]
    },
    {
      "cell_type": "markdown",
      "metadata": {
        "id": "mGvj20SBJbNE"
      },
      "source": [
        "데이터의 중복을 제거했다면, 이번엔 각 리뷰를 전처리하겠습니다.  \n",
        "\n",
        "리뷰 전처리 과정에는 아래 항목들이 포함됩니다.\n",
        "\n",
        "- 소문자 변환\n",
        "\n",
        "-  HTML 태그 제거\n",
        "\n",
        "- 구두점 제거\n",
        "\n",
        "- 불용어 제거  \n",
        "\n",
        "해당 전처리 과정들의 내용을 예시코드와 함께 보도록 하겠습니다."
      ]
    },
    {
      "cell_type": "markdown",
      "metadata": {
        "id": "zSJBvOX5LNX9"
      },
      "source": [
        "#### 소문자 변환\n",
        "- 메서드 `lower()`로 문자열의 모든 대문자를 소문자로 변환합니다."
      ]
    },
    {
      "cell_type": "code",
      "execution_count": null,
      "metadata": {
        "colab": {
          "base_uri": "https://localhost:8080/"
        },
        "id": "rzvGdCsOLZYE",
        "outputId": "2167634c-b663-40a7-9517-5ba62ed39796"
      },
      "outputs": [
        {
          "output_type": "stream",
          "name": "stdout",
          "text": [
            "Lorem Ipsum DOLOR sit Amet.\n",
            "lorem ipsum dolor sit amet.\n"
          ]
        }
      ],
      "source": [
        "text = \"Lorem Ipsum DOLOR sit Amet.\"\n",
        "print(text)\n",
        "lower_text = text.lower()\n",
        "print(lower_text)  # 출력: \"lorem ipsum dolor sit amet.\""
      ]
    },
    {
      "cell_type": "markdown",
      "metadata": {
        "id": "RXj_a6GfLfx0"
      },
      "source": [
        "####  HTML 태그 제거\n",
        "\n",
        "-  HTML 태그는 텍스트 내용과 관련이 없으므로 정규식을 사용해 제거합니다.\n",
        "- `re.sub`: re 모듈의 sub 함수는 정규식을 사용하여 문자열에서 패턴을 찾아 다른 문자열로 대체합니다.\n",
        "```\n",
        "text = re.sub('<.*?>', '', text)\n",
        "```\n",
        "\n",
        "- `<`: 태그의 시작을 나타내는 괄호입니다.\n",
        "- `.*?`:\n",
        "    - `.`은 어떤 문자든지 매치할 수 있으며,\n",
        "\n",
        "    - `*`은 바로 앞의 문자가 0번 이상 반복될 수 있음을 나타냅니다.\n",
        "    \n",
        "    - `?`은 이전 요소가 최소한으로 매치되어야 함을 나타내는 \"비탐욕적(Non-greedy)\" 수량자입니다.\n",
        "    \n",
        "- `>`: 태그의 끝을 나타내는 괄호입니다."
      ]
    },
    {
      "cell_type": "code",
      "execution_count": null,
      "metadata": {
        "colab": {
          "base_uri": "https://localhost:8080/"
        },
        "id": "A29ldac0MYwQ",
        "outputId": "57f742f6-2361-4b03-e2fb-c0808ec53ea2"
      },
      "outputs": [
        {
          "output_type": "stream",
          "name": "stdout",
          "text": [
            "<p>Lorem <b>Ipsum</b> DOLOR.</p>\n",
            "Lorem Ipsum DOLOR.\n"
          ]
        }
      ],
      "source": [
        "import re\n",
        "\n",
        "text = \"<p>Lorem <b>Ipsum</b> DOLOR.</p>\"\n",
        "print(text)\n",
        "clean_text = re.sub('<.*?>', '', text)\n",
        "print(clean_text)  # 출력: \"Lorem Ipsum DOLOR.\""
      ]
    },
    {
      "cell_type": "markdown",
      "metadata": {
        "id": "B2Gwzdw1MTJC"
      },
      "source": [
        "#### 구두점 제거\n",
        "리스트 컴프리헨션과 `string.punctuation`을 사용하여 구두점을 제거합니다."
      ]
    },
    {
      "cell_type": "code",
      "execution_count": null,
      "metadata": {
        "colab": {
          "base_uri": "https://localhost:8080/"
        },
        "id": "uYBjc18pMhlq",
        "outputId": "109e8959-6063-42eb-e2a1-4c17340a315b"
      },
      "outputs": [
        {
          "output_type": "stream",
          "name": "stdout",
          "text": [
            "Lorem Ipsum, DOLOR: sit Amet!\n",
            "Lorem Ipsum DOLOR sit Amet\n"
          ]
        }
      ],
      "source": [
        "import string\n",
        "\n",
        "text = \"Lorem Ipsum, DOLOR: sit Amet!\"\n",
        "print(text)\n",
        "clean_text = ''.join([c for c in text if c not in string.punctuation])\n",
        "print(clean_text)  # 출력: \"Lorem Ipsum DOLOR sit Amet\""
      ]
    },
    {
      "cell_type": "markdown",
      "metadata": {
        "id": "Ecc2MF2EMmzE"
      },
      "source": [
        "#### 불용어 제거\n",
        "- 불용어는 텍스트 분석에 큰 의미를 가지지 않는 단어입니다.\n",
        "\n",
        "- `split` 메서드와 리스트 컴프리헨션을 사용하여 불용어를 제거합니다.\n",
        "\n",
        "- 불용어는 상황에 따라 이용자가 설정하는 것이 가장 좋으나, 이번에는 nltk 라이브러리의 stopwords를 이용해보겠습니다."
      ]
    },
    {
      "cell_type": "markdown",
      "metadata": {
        "id": "o36dv3yQND6I"
      },
      "source": [
        "위에서 안내된 전처리 과정들을 `data_preprocessing`함수에 포함시켜 선언해보겠습니다.  \n",
        "\n",
        "우선 NLTK 라이브러리의 stopwords를 다운받습니다."
      ]
    },
    {
      "cell_type": "code",
      "execution_count": null,
      "metadata": {
        "colab": {
          "base_uri": "https://localhost:8080/"
        },
        "id": "-cwLcTfwe2qU",
        "outputId": "d715bfe8-6d0b-4c73-f52f-34642a51ef44"
      },
      "outputs": [
        {
          "output_type": "stream",
          "name": "stderr",
          "text": [
            "[nltk_data] Downloading package stopwords to /root/nltk_data...\n",
            "[nltk_data]   Unzipping corpora/stopwords.zip.\n"
          ]
        }
      ],
      "source": [
        "import nltk\n",
        "\n",
        "nltk.download('stopwords') # NLTK에서 불용어 데이터를 다운로드\n",
        "stop_words = set(nltk.corpus.stopwords.words('english')) # 영어 불용어 목록을 가져와서 집합으로 저장"
      ]
    },
    {
      "cell_type": "markdown",
      "metadata": {
        "id": "KpFUSwicOMnp"
      },
      "source": [
        "자주 사용되는 Stopwords를 몇 가지 살펴보겠습니다.  \n",
        "\n",
        "Stopwords의 경우 set 타입으로 저장되어 있기에, 이를 list로 변환하여 살펴보겠습니다."
      ]
    },
    {
      "cell_type": "code",
      "execution_count": null,
      "metadata": {
        "colab": {
          "base_uri": "https://localhost:8080/"
        },
        "id": "k2RbGp96NagM",
        "outputId": "66db12b2-6840-4e3e-92d3-2d184fc34b0b"
      },
      "outputs": [
        {
          "output_type": "stream",
          "name": "stdout",
          "text": [
            "[\"you're\", 'ma', 'do', 'ourselves', 'that', 'll', 'can', 'doing', 'once', 'hasn', 'will', 'out', 'any', 'during', 'nor', 'above', 'all', 'up', \"hasn't\", 'into']\n"
          ]
        }
      ],
      "source": [
        "subset = list(stop_words)[:20]\n",
        "print(subset)"
      ]
    },
    {
      "cell_type": "markdown",
      "metadata": {
        "id": "-i-HI2JNOdRI"
      },
      "source": [
        "### [TODO] 전처리 함수를 만들어봅시다.\n",
        "\n",
        "앞서 설명한 네 개의 전처리 과정을 거친 후, 공백 기준으로 분할된 단어들을 다시 이어붙이는 함수를 선언합니다.\n",
        "\n",
        "텍스트 데이터의 흐름이 잘 이어질 수 있도록 만들어주세요."
      ]
    },
    {
      "cell_type": "code",
      "execution_count": null,
      "metadata": {
        "id": "T4zR3yo0bEux"
      },
      "outputs": [],
      "source": [
        "# 텍스트 데이터 전처리 함수\n",
        "def data_preprocessing(text):\n",
        "    text = text.lower() # 모든 문자를 소문자로 변환\n",
        "    text = re.sub('<.*?>', '', text) # HTML 태그 제거 (정규식을 사용하여 <와 > 사이의 모든 문자 제거)\n",
        "    text = ''.join([c for c in text if c not in string.punctuation]) # 구두점 제거\n",
        "    text = [word for word in text.split() if word not in stop_words] # 불용어 제거 (stop_words 리스트에 없는 단어만 유지)\n",
        "    text = ' '.join(text) # 단어 리스트를 공백으로 구분된 문자열로 다시 결합\n",
        "    return text # 전처리된 텍스트 반환"
      ]
    },
    {
      "cell_type": "markdown",
      "metadata": {
        "id": "ok2Jtke3G0jD"
      },
      "source": [
        "> 예시코드\n",
        "```\n",
        "# 텍스트 데이터 전처리 함수\n",
        "def data_preprocessing(text):\n",
        "    text = text.lower() # 모든 문자를 소문자로 변환\n",
        "    text = re.sub('<.*?>', '', text) # HTML 태그 제거 (정규식을 사용하여 <와 > 사이의 모든 문자 제거)\n",
        "    text = ''.join([c for c in text if c not in string.punctuation]) # 구두점 제거\n",
        "    text = [word for word in text.split() if word not in stop_words] # 불용어 제거 (stop_words 리스트에 없는 단어만 유지)\n",
        "    text = ' '.join(text) # 단어 리스트를 공백으로 구분된 문자열로 다시 결합\n",
        "    return text # 전처리된 텍스트 반환\n",
        "```"
      ]
    },
    {
      "cell_type": "markdown",
      "metadata": {
        "id": "ApODxhB3OnOt"
      },
      "source": [
        "위의 함수를 데이터프레임의 `review` 열마다 적용한 뒤, 전처리된 내용을 `cleansed_reviews` 열에 저장하겠습니다.  \n",
        "\n",
        "함수를 데이터프레임에 적용하기 위해선 `apply()` 메서드를 사용합니다."
      ]
    },
    {
      "cell_type": "code",
      "execution_count": null,
      "metadata": {
        "colab": {
          "base_uri": "https://localhost:8080/",
          "height": 206
        },
        "id": "7hJ2kHbBbEux",
        "outputId": "9a43aef1-3c66-4580-c6ed-0d1ab0affdbe"
      },
      "outputs": [
        {
          "output_type": "execute_result",
          "data": {
            "text/plain": [
              "                                              review sentiment  \\\n",
              "0  One of the other reviewers has mentioned that ...  positive   \n",
              "1  A wonderful little production. <br /><br />The...  positive   \n",
              "2  I thought this was a wonderful way to spend ti...  positive   \n",
              "3  Basically there's a family where a little boy ...  negative   \n",
              "4  Petter Mattei's \"Love in the Time of Money\" is...  positive   \n",
              "\n",
              "                                     cleaned_reviews  \n",
              "0  one reviewers mentioned watching 1 oz episode ...  \n",
              "1  wonderful little production filming technique ...  \n",
              "2  thought wonderful way spend time hot summer we...  \n",
              "3  basically theres family little boy jake thinks...  \n",
              "4  petter matteis love time money visually stunni...  "
            ],
            "text/html": [
              "\n",
              "  <div id=\"df-22bfc42c-c08c-481d-b072-fd0096501cc7\" class=\"colab-df-container\">\n",
              "    <div>\n",
              "<style scoped>\n",
              "    .dataframe tbody tr th:only-of-type {\n",
              "        vertical-align: middle;\n",
              "    }\n",
              "\n",
              "    .dataframe tbody tr th {\n",
              "        vertical-align: top;\n",
              "    }\n",
              "\n",
              "    .dataframe thead th {\n",
              "        text-align: right;\n",
              "    }\n",
              "</style>\n",
              "<table border=\"1\" class=\"dataframe\">\n",
              "  <thead>\n",
              "    <tr style=\"text-align: right;\">\n",
              "      <th></th>\n",
              "      <th>review</th>\n",
              "      <th>sentiment</th>\n",
              "      <th>cleaned_reviews</th>\n",
              "    </tr>\n",
              "  </thead>\n",
              "  <tbody>\n",
              "    <tr>\n",
              "      <th>0</th>\n",
              "      <td>One of the other reviewers has mentioned that ...</td>\n",
              "      <td>positive</td>\n",
              "      <td>one reviewers mentioned watching 1 oz episode ...</td>\n",
              "    </tr>\n",
              "    <tr>\n",
              "      <th>1</th>\n",
              "      <td>A wonderful little production. &lt;br /&gt;&lt;br /&gt;The...</td>\n",
              "      <td>positive</td>\n",
              "      <td>wonderful little production filming technique ...</td>\n",
              "    </tr>\n",
              "    <tr>\n",
              "      <th>2</th>\n",
              "      <td>I thought this was a wonderful way to spend ti...</td>\n",
              "      <td>positive</td>\n",
              "      <td>thought wonderful way spend time hot summer we...</td>\n",
              "    </tr>\n",
              "    <tr>\n",
              "      <th>3</th>\n",
              "      <td>Basically there's a family where a little boy ...</td>\n",
              "      <td>negative</td>\n",
              "      <td>basically theres family little boy jake thinks...</td>\n",
              "    </tr>\n",
              "    <tr>\n",
              "      <th>4</th>\n",
              "      <td>Petter Mattei's \"Love in the Time of Money\" is...</td>\n",
              "      <td>positive</td>\n",
              "      <td>petter matteis love time money visually stunni...</td>\n",
              "    </tr>\n",
              "  </tbody>\n",
              "</table>\n",
              "</div>\n",
              "    <div class=\"colab-df-buttons\">\n",
              "\n",
              "  <div class=\"colab-df-container\">\n",
              "    <button class=\"colab-df-convert\" onclick=\"convertToInteractive('df-22bfc42c-c08c-481d-b072-fd0096501cc7')\"\n",
              "            title=\"Convert this dataframe to an interactive table.\"\n",
              "            style=\"display:none;\">\n",
              "\n",
              "  <svg xmlns=\"http://www.w3.org/2000/svg\" height=\"24px\" viewBox=\"0 -960 960 960\">\n",
              "    <path d=\"M120-120v-720h720v720H120Zm60-500h600v-160H180v160Zm220 220h160v-160H400v160Zm0 220h160v-160H400v160ZM180-400h160v-160H180v160Zm440 0h160v-160H620v160ZM180-180h160v-160H180v160Zm440 0h160v-160H620v160Z\"/>\n",
              "  </svg>\n",
              "    </button>\n",
              "\n",
              "  <style>\n",
              "    .colab-df-container {\n",
              "      display:flex;\n",
              "      gap: 12px;\n",
              "    }\n",
              "\n",
              "    .colab-df-convert {\n",
              "      background-color: #E8F0FE;\n",
              "      border: none;\n",
              "      border-radius: 50%;\n",
              "      cursor: pointer;\n",
              "      display: none;\n",
              "      fill: #1967D2;\n",
              "      height: 32px;\n",
              "      padding: 0 0 0 0;\n",
              "      width: 32px;\n",
              "    }\n",
              "\n",
              "    .colab-df-convert:hover {\n",
              "      background-color: #E2EBFA;\n",
              "      box-shadow: 0px 1px 2px rgba(60, 64, 67, 0.3), 0px 1px 3px 1px rgba(60, 64, 67, 0.15);\n",
              "      fill: #174EA6;\n",
              "    }\n",
              "\n",
              "    .colab-df-buttons div {\n",
              "      margin-bottom: 4px;\n",
              "    }\n",
              "\n",
              "    [theme=dark] .colab-df-convert {\n",
              "      background-color: #3B4455;\n",
              "      fill: #D2E3FC;\n",
              "    }\n",
              "\n",
              "    [theme=dark] .colab-df-convert:hover {\n",
              "      background-color: #434B5C;\n",
              "      box-shadow: 0px 1px 3px 1px rgba(0, 0, 0, 0.15);\n",
              "      filter: drop-shadow(0px 1px 2px rgba(0, 0, 0, 0.3));\n",
              "      fill: #FFFFFF;\n",
              "    }\n",
              "  </style>\n",
              "\n",
              "    <script>\n",
              "      const buttonEl =\n",
              "        document.querySelector('#df-22bfc42c-c08c-481d-b072-fd0096501cc7 button.colab-df-convert');\n",
              "      buttonEl.style.display =\n",
              "        google.colab.kernel.accessAllowed ? 'block' : 'none';\n",
              "\n",
              "      async function convertToInteractive(key) {\n",
              "        const element = document.querySelector('#df-22bfc42c-c08c-481d-b072-fd0096501cc7');\n",
              "        const dataTable =\n",
              "          await google.colab.kernel.invokeFunction('convertToInteractive',\n",
              "                                                    [key], {});\n",
              "        if (!dataTable) return;\n",
              "\n",
              "        const docLinkHtml = 'Like what you see? Visit the ' +\n",
              "          '<a target=\"_blank\" href=https://colab.research.google.com/notebooks/data_table.ipynb>data table notebook</a>'\n",
              "          + ' to learn more about interactive tables.';\n",
              "        element.innerHTML = '';\n",
              "        dataTable['output_type'] = 'display_data';\n",
              "        await google.colab.output.renderOutput(dataTable, element);\n",
              "        const docLink = document.createElement('div');\n",
              "        docLink.innerHTML = docLinkHtml;\n",
              "        element.appendChild(docLink);\n",
              "      }\n",
              "    </script>\n",
              "  </div>\n",
              "\n",
              "\n",
              "<div id=\"df-b917005c-e6c2-4216-a3f4-91d73be60ccb\">\n",
              "  <button class=\"colab-df-quickchart\" onclick=\"quickchart('df-b917005c-e6c2-4216-a3f4-91d73be60ccb')\"\n",
              "            title=\"Suggest charts\"\n",
              "            style=\"display:none;\">\n",
              "\n",
              "<svg xmlns=\"http://www.w3.org/2000/svg\" height=\"24px\"viewBox=\"0 0 24 24\"\n",
              "     width=\"24px\">\n",
              "    <g>\n",
              "        <path d=\"M19 3H5c-1.1 0-2 .9-2 2v14c0 1.1.9 2 2 2h14c1.1 0 2-.9 2-2V5c0-1.1-.9-2-2-2zM9 17H7v-7h2v7zm4 0h-2V7h2v10zm4 0h-2v-4h2v4z\"/>\n",
              "    </g>\n",
              "</svg>\n",
              "  </button>\n",
              "\n",
              "<style>\n",
              "  .colab-df-quickchart {\n",
              "      --bg-color: #E8F0FE;\n",
              "      --fill-color: #1967D2;\n",
              "      --hover-bg-color: #E2EBFA;\n",
              "      --hover-fill-color: #174EA6;\n",
              "      --disabled-fill-color: #AAA;\n",
              "      --disabled-bg-color: #DDD;\n",
              "  }\n",
              "\n",
              "  [theme=dark] .colab-df-quickchart {\n",
              "      --bg-color: #3B4455;\n",
              "      --fill-color: #D2E3FC;\n",
              "      --hover-bg-color: #434B5C;\n",
              "      --hover-fill-color: #FFFFFF;\n",
              "      --disabled-bg-color: #3B4455;\n",
              "      --disabled-fill-color: #666;\n",
              "  }\n",
              "\n",
              "  .colab-df-quickchart {\n",
              "    background-color: var(--bg-color);\n",
              "    border: none;\n",
              "    border-radius: 50%;\n",
              "    cursor: pointer;\n",
              "    display: none;\n",
              "    fill: var(--fill-color);\n",
              "    height: 32px;\n",
              "    padding: 0;\n",
              "    width: 32px;\n",
              "  }\n",
              "\n",
              "  .colab-df-quickchart:hover {\n",
              "    background-color: var(--hover-bg-color);\n",
              "    box-shadow: 0 1px 2px rgba(60, 64, 67, 0.3), 0 1px 3px 1px rgba(60, 64, 67, 0.15);\n",
              "    fill: var(--button-hover-fill-color);\n",
              "  }\n",
              "\n",
              "  .colab-df-quickchart-complete:disabled,\n",
              "  .colab-df-quickchart-complete:disabled:hover {\n",
              "    background-color: var(--disabled-bg-color);\n",
              "    fill: var(--disabled-fill-color);\n",
              "    box-shadow: none;\n",
              "  }\n",
              "\n",
              "  .colab-df-spinner {\n",
              "    border: 2px solid var(--fill-color);\n",
              "    border-color: transparent;\n",
              "    border-bottom-color: var(--fill-color);\n",
              "    animation:\n",
              "      spin 1s steps(1) infinite;\n",
              "  }\n",
              "\n",
              "  @keyframes spin {\n",
              "    0% {\n",
              "      border-color: transparent;\n",
              "      border-bottom-color: var(--fill-color);\n",
              "      border-left-color: var(--fill-color);\n",
              "    }\n",
              "    20% {\n",
              "      border-color: transparent;\n",
              "      border-left-color: var(--fill-color);\n",
              "      border-top-color: var(--fill-color);\n",
              "    }\n",
              "    30% {\n",
              "      border-color: transparent;\n",
              "      border-left-color: var(--fill-color);\n",
              "      border-top-color: var(--fill-color);\n",
              "      border-right-color: var(--fill-color);\n",
              "    }\n",
              "    40% {\n",
              "      border-color: transparent;\n",
              "      border-right-color: var(--fill-color);\n",
              "      border-top-color: var(--fill-color);\n",
              "    }\n",
              "    60% {\n",
              "      border-color: transparent;\n",
              "      border-right-color: var(--fill-color);\n",
              "    }\n",
              "    80% {\n",
              "      border-color: transparent;\n",
              "      border-right-color: var(--fill-color);\n",
              "      border-bottom-color: var(--fill-color);\n",
              "    }\n",
              "    90% {\n",
              "      border-color: transparent;\n",
              "      border-bottom-color: var(--fill-color);\n",
              "    }\n",
              "  }\n",
              "</style>\n",
              "\n",
              "  <script>\n",
              "    async function quickchart(key) {\n",
              "      const quickchartButtonEl =\n",
              "        document.querySelector('#' + key + ' button');\n",
              "      quickchartButtonEl.disabled = true;  // To prevent multiple clicks.\n",
              "      quickchartButtonEl.classList.add('colab-df-spinner');\n",
              "      try {\n",
              "        const charts = await google.colab.kernel.invokeFunction(\n",
              "            'suggestCharts', [key], {});\n",
              "      } catch (error) {\n",
              "        console.error('Error during call to suggestCharts:', error);\n",
              "      }\n",
              "      quickchartButtonEl.classList.remove('colab-df-spinner');\n",
              "      quickchartButtonEl.classList.add('colab-df-quickchart-complete');\n",
              "    }\n",
              "    (() => {\n",
              "      let quickchartButtonEl =\n",
              "        document.querySelector('#df-b917005c-e6c2-4216-a3f4-91d73be60ccb button');\n",
              "      quickchartButtonEl.style.display =\n",
              "        google.colab.kernel.accessAllowed ? 'block' : 'none';\n",
              "    })();\n",
              "  </script>\n",
              "</div>\n",
              "\n",
              "    </div>\n",
              "  </div>\n"
            ],
            "application/vnd.google.colaboratory.intrinsic+json": {
              "type": "dataframe",
              "variable_name": "df",
              "summary": "{\n  \"name\": \"df\",\n  \"rows\": 49582,\n  \"fields\": [\n    {\n      \"column\": \"review\",\n      \"properties\": {\n        \"dtype\": \"string\",\n        \"num_unique_values\": 49582,\n        \"samples\": [\n          \"\\\"Soul Plane\\\" is a horrible attempt at comedy that only should appeal people with thick skulls, bloodshot eyes and furry pawns. <br /><br />The plot is not only incoherent but also non-existent, acting is mostly sub sub-par with a gang of highly moronic and dreadful characters thrown in for bad measure, jokes are often spotted miles ahead and almost never even a bit amusing. This movie lacks any structure and is full of racial stereotypes that must have seemed old even in the fifties, the only thing it really has going for it is some pretty ladies, but really, if you want that you can rent something from the \\\"Adult\\\" section. OK?<br /><br />I can hardly see anything here to recommend since you'll probably have a lot a better and productive time chasing rats with a sledgehammer or inventing waterproof teabags or whatever.<br /><br />2/10\",\n          \"Guest from the Future tells a fascinating story of time travel, friendship, battle of good and evil -- all with a small budget, child actors, and few special effects. Something for Spielberg and Lucas to learn from. ;) A sixth-grader Kolya \\\"Nick\\\" Gerasimov finds a time machine in the basement of a decrepit building and travels 100 years into the future. He discovers a near-perfect, utopian society where robots play guitars and write poetry, everyone is kind to each other and people enjoy everything technology has to offer. Alice is the daughter of a prominent scientist who invented a device called Mielophone that allows to read minds of humans and animals. The device can be put to both good and bad use, depending on whose hands it falls into. When two evil space pirates from Saturn who want to rule the universe attempt to steal Mielophone, it falls into the hands of 20th century school boy Nick. With the pirates hot on his tracks, he travels back to his time, followed by the pirates, and Alice. Chaos, confusion and funny situations follow as the luckless pirates try to blend in with the earthlings. Alice enrolls in the same school Nick goes to and demonstrates superhuman abilities in PE class. The catch is, Alice doesn't know what Nick looks like, while the pirates do. Also, the pirates are able to change their appearance and turn literally into anyone. (Hmm, I wonder if this is where James Cameron got the idea for Terminator...) Who gets to Nick -- and Mielophone -- first? Excellent plot, non-stop adventures, and great soundtrack. I wish Hollywood made kid movies like this one...\",\n          \"\\\"National Treasure\\\" (2004) is a thoroughly misguided hodge-podge of plot entanglements that borrow from nearly every cloak and dagger government conspiracy clich\\u00e9 that has ever been written. The film stars Nicholas Cage as Benjamin Franklin Gates (how precious is that, I ask you?); a seemingly normal fellow who, for no other reason than being of a lineage of like-minded misguided fortune hunters, decides to steal a 'national treasure' that has been hidden by the United States founding fathers. After a bit of subtext and background that plays laughably (unintentionally) like Indiana Jones meets The Patriot, the film degenerates into one misguided whimsy after another \\u0096 attempting to create a 'Stanley Goodspeed' regurgitation of Nicholas Cage and launch the whole convoluted mess forward with a series of high octane, but disconnected misadventures.<br /><br />The relevancy and logic to having George Washington and his motley crew of patriots burying a king's ransom someplace on native soil, and then, going through the meticulous plan of leaving clues scattered throughout U.S. currency art work, is something that director Jon Turteltaub never quite gets around to explaining. Couldn't Washington found better usage for such wealth during the start up of the country? Hence, we are left with a mystery built on top of an enigma that is already on shaky ground by the time Ben appoints himself the new custodian of this untold wealth. Ben's intentions are noble \\u0096 if confusing. He's set on protecting the treasure. For who and when?\\u0085your guess is as good as mine.<br /><br />But there are a few problems with Ben's crusade. First up, his friend, Ian Holmes (Sean Bean) decides that he can't wait for Ben to make up his mind about stealing the Declaration of Independence from the National Archives (oh, yeah \\u0096 brilliant idea!). Presumably, the back of that famous document holds the secret answer to the ultimate fortune. So Ian tries to kill Ben. The assassination attempt is, of course, unsuccessful, if overly melodramatic. It also affords Ben the opportunity to pick up, and pick on, the very sultry curator of the archives, Abigail Chase (Diane Kruger). She thinks Ben is clearly a nut \\u0096 at least at the beginning. But true to action/romance form, Abby's resolve melts quicker than you can say, \\\"is that the Hope Diamond?\\\" The film moves into full X-File-ish mode, as the FBI, mistakenly believing that Ben is behind the theft, retaliate in various benign ways that lead to a multi-layering of action sequences reminiscent of Mission Impossible meets The Fugitive. Honestly, don't those guys ever get 'intelligence' information that is correct? In the final analysis, \\\"National Treasure\\\" isn't great film making, so much as it's a patchwork rehash of tired old bits from other movies, woven together from scraps, the likes of which would make IL' Betsy Ross blush.<br /><br />The Buena Vista DVD delivers a far more generous treatment than this film is deserving of. The anamorphic widescreen picture exhibits a very smooth and finely detailed image with very rich colors, natural flesh tones, solid blacks and clean whites. The stylized image is also free of blemishes and digital enhancements. The audio is 5.1 and delivers a nice sonic boom to your side and rear speakers with intensity and realism. Extras include a host of promotional junket material that is rather deep and over the top in its explanation of how and why this film was made. If only, as an audience, we had had more clarification as to why Ben and co. were chasing after an illusive treasure, this might have been one good flick. Extras conclude with the theatrical trailer, audio commentary and deleted scenes. Not for the faint-hearted \\u0096 just the thick-headed.\"\n        ],\n        \"semantic_type\": \"\",\n        \"description\": \"\"\n      }\n    },\n    {\n      \"column\": \"sentiment\",\n      \"properties\": {\n        \"dtype\": \"category\",\n        \"num_unique_values\": 2,\n        \"samples\": [\n          \"negative\",\n          \"positive\"\n        ],\n        \"semantic_type\": \"\",\n        \"description\": \"\"\n      }\n    },\n    {\n      \"column\": \"cleaned_reviews\",\n      \"properties\": {\n        \"dtype\": \"string\",\n        \"num_unique_values\": 49578,\n        \"samples\": [\n          \"since frame number 1 know good guy suit necktie doomed luck sorte nula believes music car radio dubious talk best friend company associate taking parts unknown desert road alberto wished simply left alone take flight abroad next day well someone left guessing film goes long way \\u0096 thatll find short \\u0096 closing scene man hearing music cab airport number lucky people found different ways story dying born others falling harrowing distress time hes really doomed film sort oneman show director fernando fragata left sound recording special effects competent people typically reject portuguese films due sound problems unclear speech recording must go searching topics criticize time car crash isnt spoilers film clever makes great scene apparently done cheap equipment us studios take notice may spare dollar two hiding competent portuguese directors rest done fragata script dialogue camera work editing part dialogue adlibbed must congratulated acting direction casting mostly inexperienced actors large number nonspeaking parts credited people used music video clip making used extensively films promotional trailer cast dozen actors actresses ten relevant persons huge number relationships \\u0096 revealed stepbystep thrilling suspenseful way reminiscent best genre authors alfred hitchcock qv claude chabrol qv come mind catandmouse play director public nature charactersi recommend thriller comedy portuguese language speakers film gets decent translation colloquial dialogue anyone abroad enjoys genres\",\n          \"dentist really good thriller pretty disturbing think agree chances running psycho dentist much bigger running monsters vampires zombies thats exactly movie scary film youll probably think dentist times whether hes capable thingsyou better pray wife doesnt cheat thats story respected dentist la snaps finds wife cheating poolboy must greatest profession world way poolboys always take advantage housewives husband work dentist dr feinstone thing taking revenge cant concentrate patients anymore couple get hurt things arent made easier dentist hes chased annoying taxcontroller curious cop suspicious staff member one point dr feinstone cant take anymore hes wife everyone comes near dentist written directed brian yuzna cowritten stuart gordon take recommendation 2 persons already gave us great horror movies personal favorites mine like reanimator beyond society dentist succeed bring entertaining chilling thriller film came right time actually decade hadnt brought us many great horror films far im saying masterpiece nice change corbin bensen great dentist obsessed hygiene remember mostly comedy drama actor sure handle psychotic character rest cast good work woman plays feinstones wife really attractive also great see ken foree acting actor time favorite movie dawn dead plays cop film yuzna casted beyond 15 years ago thank dont recommend movie everyone weak stomach ill advise skip watch youll enjoy much youll disgustedbut thats extra reason think since really freaked watching film great topic handle genre yuzna great way bad film followed completely unnecessary sequel humble opinion dentist 810\"\n        ],\n        \"semantic_type\": \"\",\n        \"description\": \"\"\n      }\n    }\n  ]\n}"
            }
          },
          "metadata": {},
          "execution_count": 16
        }
      ],
      "source": [
        "df['cleaned_reviews'] = df['review'].apply(data_preprocessing)  # 데이터프레임의 review에 대해 전처리 함수를 적용한 내용을 cleaned_reviews 컬럼에 저장합니다.\n",
        "df.head()"
      ]
    },
    {
      "cell_type": "markdown",
      "metadata": {
        "id": "pF4epvNQPCRR"
      },
      "source": [
        "위와 같이 정상적으로 모든 후기에 대해 전처리가 적용되어 저장된 것을 확인하실 수 있습니다."
      ]
    },
    {
      "cell_type": "markdown",
      "metadata": {
        "id": "zIagy3HJPJ9_"
      },
      "source": [
        "### 2.3 단어 빈도수 확인\n",
        "이번에는 자주 사용된 단어를 확인하고, 이를 시각화하여 확인하는 과정을 가져보겠습니다.  \n",
        "\n",
        "우선 정제된 리뷰에서 모든 단어를 추출한 뒤, 빈도를 계산합니다.  \n",
        "\n",
        "이어 빈도 순으로 단어를 재정렬하는 과정을 거치겠습니다."
      ]
    },
    {
      "cell_type": "code",
      "execution_count": null,
      "metadata": {
        "id": "YlhEyqsxbEux"
      },
      "outputs": [],
      "source": [
        "# 데이터프레임의 'cleaned_reviews' 열에서 모든 단어를 추출하여 리스트로 만듭니다.\n",
        "corpus = [word for text in df['cleaned_reviews'] for word in text.split()]\n",
        "\n",
        "# Counter 객체를 사용하여 각 단어의 빈도수를 계산합니다.\n",
        "count_words = Counter(corpus)\n",
        "\n",
        "# 빈도수가 높은 순서대로 단어를 정렬합니다.\n",
        "sorted_words = count_words.most_common()"
      ]
    },
    {
      "cell_type": "markdown",
      "metadata": {
        "id": "4-bJOI44Pg-P"
      },
      "source": [
        "### [TODO] 가장 많이 사용된 단어 20개를 추출하여 그래프로 표현해주세요\n",
        "\n",
        "아래 코드의 빈칸을 채워 시각화해주세요.\n",
        "\n",
        "가로축은 단어, 세로축은 빈도를 표현합니다."
      ]
    },
    {
      "cell_type": "code",
      "execution_count": null,
      "metadata": {
        "colab": {
          "base_uri": "https://localhost:8080/",
          "height": 470
        },
        "id": "APEjO-mgbEux",
        "outputId": "1728b61f-5bcb-4aa8-a186-cce8c54acc32"
      },
      "outputs": [
        {
          "output_type": "display_data",
          "data": {
            "text/plain": [
              "<Figure size 1200x500 with 1 Axes>"
            ],
            "image/png": "[encoded data removed]"
          },
          "metadata": {}
        }
      ],
      "source": [
        "# 상위 20개의 가장 흔한 단어와 그 빈도수를 저장할 리스트를 초기화합니다.\n",
        "keys = []\n",
        "values = []\n",
        "for key, value in sorted_words[:20]: # 상위 20개의 단어와 빈도수를 반복합니다.\n",
        "    keys.append(key) # 단어를 keys 리스트에 추가합니다.\n",
        "    values.append(value) # 빈도수를 values 리스트에 추가합니다.\n",
        "\n",
        "plt.figure(figsize=(12, 5)) # 그림 크기를 설정합니다.\n",
        "plt.bar(keys, values) # 막대 그래프를 그립니다. x축은 단어, y축은 빈도수입니다.\n",
        "plt.title('Top 20 most common words', size=15) # 그래프의 제목을 설정합니다.\n",
        "plt.show() # 그래프를 표시합니다."
      ]
    },
    {
      "cell_type": "markdown",
      "metadata": {
        "id": "CS1m1O2fG0jI"
      },
      "source": [
        "> 예시코드\n",
        "```\n",
        "# 상위 20개의 가장 흔한 단어와 그 빈도수를 저장할 리스트를 초기화합니다.\n",
        "keys = []\n",
        "values = []\n",
        "for key, value in sorted_words[:20]: # 상위 20개의 단어와 빈도수를 반복합니다.\n",
        "    keys.append(key) # 단어를 keys 리스트에 추가합니다.\n",
        "    values.append(value) # 빈도수를 values 리스트에 추가합니다.\n",
        "\n",
        "plt.figure(figsize=(12, 5)) # 그림 크기를 설정합니다.\n",
        "plt.bar(keys, values) # 막대 그래프를 그립니다. x축은 단어, y축은 빈도수입니다.\n",
        "plt.title('Top 20 most common words', size=15) # 그래프의 제목을 설정합니다.\n",
        "plt.show() # 그래프를 표시합니다.\n",
        "```"
      ]
    },
    {
      "cell_type": "markdown",
      "metadata": {
        "id": "FS3eZ5vhqTcA"
      },
      "source": [
        "### 2.4 토큰화\n",
        "\n",
        "토큰화는 자연어 처리에서 중요한 전처리 과정 중 하나로, 텍스트를 더 작은 단위인 '토큰'으로 분리하는 작업을 말합니다.  \n",
        "\n",
        "토큰은 일반적으로 단어 또는 문장으로 정의되며, 이는 문맥에 따라 다릅니다.  \n",
        "\n",
        "토큰화를 통해 텍스트 데이터를 딥러닝 알고리즘이 처리할 수 있는 형태로 변환할 수 있습니다.  \n",
        "\n",
        "이 코드에서는 토큰화를 수행한 후 각 토큰(단어)을 정수로 변환하는 작업을 수행합니다.  \n",
        "\n",
        "이를 '정수 인코딩'이라고 하며, 이는 컴퓨터가 텍스트 데이터를 이해하고 처리할 수 있도록 돕습니다.  \n",
        "\n",
        "아래 코드의 과정은 다음과 같습니다:\n",
        "\n",
        "1. 먼저, 가장 빈번하게 등장하는 단어에 낮은 정수를 할당하는 단어-정수 매핑 사전을 생성합니다. 이 사전은 `vocab_to_int`에 저장됩니다.\n",
        "\n",
        "2. 그런 다음, 각 리뷰를 순회하며 각 단어를 해당 정수로 변환합니다. 이 변환된 리뷰는 `reviews_int` 리스트에 추가됩니다.\n",
        "\n",
        "3. 마지막으로, 변환된 리뷰를 원래 데이터프레임의 새로운 열 `Review int`에 추가합니다."
      ]
    },
    {
      "cell_type": "code",
      "execution_count": null,
      "metadata": {
        "colab": {
          "base_uri": "https://localhost:8080/"
        },
        "id": "vxfHJBRVbEuy",
        "outputId": "edb091ce-f7c5-455a-bf9d-bc8ffefb88d4"
      },
      "outputs": [
        {
          "output_type": "stream",
          "name": "stdout",
          "text": [
            "[[3, 1830, 939, 56, 398, 3226, 290, 350, 3029, 107, 482, 471, 7377, 19, 57, 3093, 3226, 5348, 14771, 50, 475, 180, 107, 550, 52, 1604, 41, 7988, 5551, 11400, 41, 2361, 5802, 5461, 1334, 277, 475, 3266, 245, 234, 60572, 351, 3226, 11075, 238, 15692, 6626, 2407, 943, 60573, 2483, 1252, 24395, 421, 4533, 2391, 1075, 6903, 2835, 12488, 300, 60574, 16798, 212, 4900, 3560, 421, 236, 82180, 8124, 39645, 15060, 4965, 7571, 2318, 16799, 60575, 224, 9005, 7272, 13365, 8364, 33632, 34, 127, 21052, 7, 45, 168, 1183, 41, 551, 91, 159, 154, 437, 2841, 706, 84, 1140, 4140, 2343, 976, 706, 1283, 706, 82181, 58, 856, 87, 19, 290, 43, 103, 3093, 1449, 2073, 288, 45, 1425, 173, 1332, 1124, 3226, 89, 9997, 212, 1951, 1955, 475, 475, 7635, 6842, 4755, 13616, 2811, 31417, 6780, 13616, 378, 495, 14, 140, 13, 9655, 633, 691, 6780, 544, 1075, 19749, 551, 441, 812, 1850, 1075, 442, 56, 3226, 98, 301, 3576, 3161, 82182, 14, 1071, 3850, 389]]\n"
          ]
        }
      ],
      "source": [
        "# 단어를 정수로 매핑하는 사전을 생성합니다. 가장 흔한 단어는 1, 그 다음은 2, ...\n",
        "vocab_to_int = {w: i + 1 for i, (w, c) in enumerate(sorted_words)}\n",
        "\n",
        "reviews_int = [] # 리뷰를 정수로 변환한 결과를 저장할 리스트를 초기화합니다.\n",
        "for text in df['cleaned_reviews']: # 'cleaned_reviews' 열의 각 텍스트에 대해 반복합니다.\n",
        "    r = [vocab_to_int[word] for word in text.split()] # 각 단어를 해당 정수로 변환합니다.\n",
        "    reviews_int.append(r) # 변환된 리뷰를 reviews_int 리스트에 추가합니다.\n",
        "\n",
        "print(reviews_int[:1]) # 변환된 리뷰 중 첫 번째 리뷰를 출력합니다.\n",
        "df['Review int'] = reviews_int # 변환된 리뷰를 데이터프레임의 새 열 'Review int'에 저장합니다."
      ]
    },
    {
      "cell_type": "markdown",
      "metadata": {
        "id": "H6LREkAvrBld"
      },
      "source": [
        "### 2.5 라벨 인코딩\n",
        "\n",
        "라벨의 경우 처음에 positive와 negative로 나누어져 있었으나 이진 분류를 위해선 이 항목들을 수치로 바꾸어야 합니다.  \n",
        "\n",
        "긍정 리뷰를 1, 부정 리뷰를 0으로 변환하는 과정을 거치겠습니다."
      ]
    },
    {
      "cell_type": "markdown",
      "metadata": {
        "id": "CYE9I2jhG0jJ"
      },
      "source": [
        "### [TODO] 아래 코드를 완성하여 긍정 리뷰를 1, 부정 리뷰를 0으로 바꿔주세요."
      ]
    },
    {
      "cell_type": "code",
      "execution_count": null,
      "metadata": {
        "colab": {
          "base_uri": "https://localhost:8080/",
          "height": 206
        },
        "id": "epCdJWTKbEuy",
        "outputId": "4b7d5641-e264-4e2d-ce1a-df636ee438a1"
      },
      "outputs": [
        {
          "output_type": "execute_result",
          "data": {
            "text/plain": [
              "                                              review  sentiment  \\\n",
              "0  One of the other reviewers has mentioned that ...          1   \n",
              "1  A wonderful little production. <br /><br />The...          1   \n",
              "2  I thought this was a wonderful way to spend ti...          1   \n",
              "3  Basically there's a family where a little boy ...          0   \n",
              "4  Petter Mattei's \"Love in the Time of Money\" is...          1   \n",
              "\n",
              "                                     cleaned_reviews  \\\n",
              "0  one reviewers mentioned watching 1 oz episode ...   \n",
              "1  wonderful little production filming technique ...   \n",
              "2  thought wonderful way spend time hot summer we...   \n",
              "3  basically theres family little boy jake thinks...   \n",
              "4  petter matteis love time money visually stunni...   \n",
              "\n",
              "                                          Review int  \n",
              "0  [3, 1830, 939, 56, 398, 3226, 290, 350, 3029, ...  \n",
              "1  [276, 39, 251, 1232, 2842, 17667, 82183, 1507,...  \n",
              "2  [96, 276, 26, 993, 8, 783, 1338, 2329, 1067, 8...  \n",
              "3  [574, 125, 136, 39, 328, 3492, 1068, 125, 905,...  \n",
              "4  [82188, 33633, 35, 8, 187, 2027, 1250, 2, 29, ...  "
            ],
            "text/html": [
              "\n",
              "  <div id=\"df-3f54e0e8-31ee-47d7-b855-637752956259\" class=\"colab-df-container\">\n",
              "    <div>\n",
              "<style scoped>\n",
              "    .dataframe tbody tr th:only-of-type {\n",
              "        vertical-align: middle;\n",
              "    }\n",
              "\n",
              "    .dataframe tbody tr th {\n",
              "        vertical-align: top;\n",
              "    }\n",
              "\n",
              "    .dataframe thead th {\n",
              "        text-align: right;\n",
              "    }\n",
              "</style>\n",
              "<table border=\"1\" class=\"dataframe\">\n",
              "  <thead>\n",
              "    <tr style=\"text-align: right;\">\n",
              "      <th></th>\n",
              "      <th>review</th>\n",
              "      <th>sentiment</th>\n",
              "      <th>cleaned_reviews</th>\n",
              "      <th>Review int</th>\n",
              "    </tr>\n",
              "  </thead>\n",
              "  <tbody>\n",
              "    <tr>\n",
              "      <th>0</th>\n",
              "      <td>One of the other reviewers has mentioned that ...</td>\n",
              "      <td>1</td>\n",
              "      <td>one reviewers mentioned watching 1 oz episode ...</td>\n",
              "      <td>[3, 1830, 939, 56, 398, 3226, 290, 350, 3029, ...</td>\n",
              "    </tr>\n",
              "    <tr>\n",
              "      <th>1</th>\n",
              "      <td>A wonderful little production. &lt;br /&gt;&lt;br /&gt;The...</td>\n",
              "      <td>1</td>\n",
              "      <td>wonderful little production filming technique ...</td>\n",
              "      <td>[276, 39, 251, 1232, 2842, 17667, 82183, 1507,...</td>\n",
              "    </tr>\n",
              "    <tr>\n",
              "      <th>2</th>\n",
              "      <td>I thought this was a wonderful way to spend ti...</td>\n",
              "      <td>1</td>\n",
              "      <td>thought wonderful way spend time hot summer we...</td>\n",
              "      <td>[96, 276, 26, 993, 8, 783, 1338, 2329, 1067, 8...</td>\n",
              "    </tr>\n",
              "    <tr>\n",
              "      <th>3</th>\n",
              "      <td>Basically there's a family where a little boy ...</td>\n",
              "      <td>0</td>\n",
              "      <td>basically theres family little boy jake thinks...</td>\n",
              "      <td>[574, 125, 136, 39, 328, 3492, 1068, 125, 905,...</td>\n",
              "    </tr>\n",
              "    <tr>\n",
              "      <th>4</th>\n",
              "      <td>Petter Mattei's \"Love in the Time of Money\" is...</td>\n",
              "      <td>1</td>\n",
              "      <td>petter matteis love time money visually stunni...</td>\n",
              "      <td>[82188, 33633, 35, 8, 187, 2027, 1250, 2, 29, ...</td>\n",
              "    </tr>\n",
              "  </tbody>\n",
              "</table>\n",
              "</div>\n",
              "    <div class=\"colab-df-buttons\">\n",
              "\n",
              "  <div class=\"colab-df-container\">\n",
              "    <button class=\"colab-df-convert\" onclick=\"convertToInteractive('df-3f54e0e8-31ee-47d7-b855-637752956259')\"\n",
              "            title=\"Convert this dataframe to an interactive table.\"\n",
              "            style=\"display:none;\">\n",
              "\n",
              "  <svg xmlns=\"http://www.w3.org/2000/svg\" height=\"24px\" viewBox=\"0 -960 960 960\">\n",
              "    <path d=\"M120-120v-720h720v720H120Zm60-500h600v-160H180v160Zm220 220h160v-160H400v160Zm0 220h160v-160H400v160ZM180-400h160v-160H180v160Zm440 0h160v-160H620v160ZM180-180h160v-160H180v160Zm440 0h160v-160H620v160Z\"/>\n",
              "  </svg>\n",
              "    </button>\n",
              "\n",
              "  <style>\n",
              "    .colab-df-container {\n",
              "      display:flex;\n",
              "      gap: 12px;\n",
              "    }\n",
              "\n",
              "    .colab-df-convert {\n",
              "      background-color: #E8F0FE;\n",
              "      border: none;\n",
              "      border-radius: 50%;\n",
              "      cursor: pointer;\n",
              "      display: none;\n",
              "      fill: #1967D2;\n",
              "      height: 32px;\n",
              "      padding: 0 0 0 0;\n",
              "      width: 32px;\n",
              "    }\n",
              "\n",
              "    .colab-df-convert:hover {\n",
              "      background-color: #E2EBFA;\n",
              "      box-shadow: 0px 1px 2px rgba(60, 64, 67, 0.3), 0px 1px 3px 1px rgba(60, 64, 67, 0.15);\n",
              "      fill: #174EA6;\n",
              "    }\n",
              "\n",
              "    .colab-df-buttons div {\n",
              "      margin-bottom: 4px;\n",
              "    }\n",
              "\n",
              "    [theme=dark] .colab-df-convert {\n",
              "      background-color: #3B4455;\n",
              "      fill: #D2E3FC;\n",
              "    }\n",
              "\n",
              "    [theme=dark] .colab-df-convert:hover {\n",
              "      background-color: #434B5C;\n",
              "      box-shadow: 0px 1px 3px 1px rgba(0, 0, 0, 0.15);\n",
              "      filter: drop-shadow(0px 1px 2px rgba(0, 0, 0, 0.3));\n",
              "      fill: #FFFFFF;\n",
              "    }\n",
              "  </style>\n",
              "\n",
              "    <script>\n",
              "      const buttonEl =\n",
              "        document.querySelector('#df-3f54e0e8-31ee-47d7-b855-637752956259 button.colab-df-convert');\n",
              "      buttonEl.style.display =\n",
              "        google.colab.kernel.accessAllowed ? 'block' : 'none';\n",
              "\n",
              "      async function convertToInteractive(key) {\n",
              "        const element = document.querySelector('#df-3f54e0e8-31ee-47d7-b855-637752956259');\n",
              "        const dataTable =\n",
              "          await google.colab.kernel.invokeFunction('convertToInteractive',\n",
              "                                                    [key], {});\n",
              "        if (!dataTable) return;\n",
              "\n",
              "        const docLinkHtml = 'Like what you see? Visit the ' +\n",
              "          '<a target=\"_blank\" href=https://colab.research.google.com/notebooks/data_table.ipynb>data table notebook</a>'\n",
              "          + ' to learn more about interactive tables.';\n",
              "        element.innerHTML = '';\n",
              "        dataTable['output_type'] = 'display_data';\n",
              "        await google.colab.output.renderOutput(dataTable, element);\n",
              "        const docLink = document.createElement('div');\n",
              "        docLink.innerHTML = docLinkHtml;\n",
              "        element.appendChild(docLink);\n",
              "      }\n",
              "    </script>\n",
              "  </div>\n",
              "\n",
              "\n",
              "<div id=\"df-99677f18-c541-4f96-925b-eaca5715c903\">\n",
              "  <button class=\"colab-df-quickchart\" onclick=\"quickchart('df-99677f18-c541-4f96-925b-eaca5715c903')\"\n",
              "            title=\"Suggest charts\"\n",
              "            style=\"display:none;\">\n",
              "\n",
              "<svg xmlns=\"http://www.w3.org/2000/svg\" height=\"24px\"viewBox=\"0 0 24 24\"\n",
              "     width=\"24px\">\n",
              "    <g>\n",
              "        <path d=\"M19 3H5c-1.1 0-2 .9-2 2v14c0 1.1.9 2 2 2h14c1.1 0 2-.9 2-2V5c0-1.1-.9-2-2-2zM9 17H7v-7h2v7zm4 0h-2V7h2v10zm4 0h-2v-4h2v4z\"/>\n",
              "    </g>\n",
              "</svg>\n",
              "  </button>\n",
              "\n",
              "<style>\n",
              "  .colab-df-quickchart {\n",
              "      --bg-color: #E8F0FE;\n",
              "      --fill-color: #1967D2;\n",
              "      --hover-bg-color: #E2EBFA;\n",
              "      --hover-fill-color: #174EA6;\n",
              "      --disabled-fill-color: #AAA;\n",
              "      --disabled-bg-color: #DDD;\n",
              "  }\n",
              "\n",
              "  [theme=dark] .colab-df-quickchart {\n",
              "      --bg-color: #3B4455;\n",
              "      --fill-color: #D2E3FC;\n",
              "      --hover-bg-color: #434B5C;\n",
              "      --hover-fill-color: #FFFFFF;\n",
              "      --disabled-bg-color: #3B4455;\n",
              "      --disabled-fill-color: #666;\n",
              "  }\n",
              "\n",
              "  .colab-df-quickchart {\n",
              "    background-color: var(--bg-color);\n",
              "    border: none;\n",
              "    border-radius: 50%;\n",
              "    cursor: pointer;\n",
              "    display: none;\n",
              "    fill: var(--fill-color);\n",
              "    height: 32px;\n",
              "    padding: 0;\n",
              "    width: 32px;\n",
              "  }\n",
              "\n",
              "  .colab-df-quickchart:hover {\n",
              "    background-color: var(--hover-bg-color);\n",
              "    box-shadow: 0 1px 2px rgba(60, 64, 67, 0.3), 0 1px 3px 1px rgba(60, 64, 67, 0.15);\n",
              "    fill: var(--button-hover-fill-color);\n",
              "  }\n",
              "\n",
              "  .colab-df-quickchart-complete:disabled,\n",
              "  .colab-df-quickchart-complete:disabled:hover {\n",
              "    background-color: var(--disabled-bg-color);\n",
              "    fill: var(--disabled-fill-color);\n",
              "    box-shadow: none;\n",
              "  }\n",
              "\n",
              "  .colab-df-spinner {\n",
              "    border: 2px solid var(--fill-color);\n",
              "    border-color: transparent;\n",
              "    border-bottom-color: var(--fill-color);\n",
              "    animation:\n",
              "      spin 1s steps(1) infinite;\n",
              "  }\n",
              "\n",
              "  @keyframes spin {\n",
              "    0% {\n",
              "      border-color: transparent;\n",
              "      border-bottom-color: var(--fill-color);\n",
              "      border-left-color: var(--fill-color);\n",
              "    }\n",
              "    20% {\n",
              "      border-color: transparent;\n",
              "      border-left-color: var(--fill-color);\n",
              "      border-top-color: var(--fill-color);\n",
              "    }\n",
              "    30% {\n",
              "      border-color: transparent;\n",
              "      border-left-color: var(--fill-color);\n",
              "      border-top-color: var(--fill-color);\n",
              "      border-right-color: var(--fill-color);\n",
              "    }\n",
              "    40% {\n",
              "      border-color: transparent;\n",
              "      border-right-color: var(--fill-color);\n",
              "      border-top-color: var(--fill-color);\n",
              "    }\n",
              "    60% {\n",
              "      border-color: transparent;\n",
              "      border-right-color: var(--fill-color);\n",
              "    }\n",
              "    80% {\n",
              "      border-color: transparent;\n",
              "      border-right-color: var(--fill-color);\n",
              "      border-bottom-color: var(--fill-color);\n",
              "    }\n",
              "    90% {\n",
              "      border-color: transparent;\n",
              "      border-bottom-color: var(--fill-color);\n",
              "    }\n",
              "  }\n",
              "</style>\n",
              "\n",
              "  <script>\n",
              "    async function quickchart(key) {\n",
              "      const quickchartButtonEl =\n",
              "        document.querySelector('#' + key + ' button');\n",
              "      quickchartButtonEl.disabled = true;  // To prevent multiple clicks.\n",
              "      quickchartButtonEl.classList.add('colab-df-spinner');\n",
              "      try {\n",
              "        const charts = await google.colab.kernel.invokeFunction(\n",
              "            'suggestCharts', [key], {});\n",
              "      } catch (error) {\n",
              "        console.error('Error during call to suggestCharts:', error);\n",
              "      }\n",
              "      quickchartButtonEl.classList.remove('colab-df-spinner');\n",
              "      quickchartButtonEl.classList.add('colab-df-quickchart-complete');\n",
              "    }\n",
              "    (() => {\n",
              "      let quickchartButtonEl =\n",
              "        document.querySelector('#df-99677f18-c541-4f96-925b-eaca5715c903 button');\n",
              "      quickchartButtonEl.style.display =\n",
              "        google.colab.kernel.accessAllowed ? 'block' : 'none';\n",
              "    })();\n",
              "  </script>\n",
              "</div>\n",
              "\n",
              "    </div>\n",
              "  </div>\n"
            ],
            "application/vnd.google.colaboratory.intrinsic+json": {
              "type": "dataframe",
              "variable_name": "df",
              "summary": "{\n  \"name\": \"df\",\n  \"rows\": 49582,\n  \"fields\": [\n    {\n      \"column\": \"review\",\n      \"properties\": {\n        \"dtype\": \"string\",\n        \"num_unique_values\": 49582,\n        \"samples\": [\n          \"\\\"Soul Plane\\\" is a horrible attempt at comedy that only should appeal people with thick skulls, bloodshot eyes and furry pawns. <br /><br />The plot is not only incoherent but also non-existent, acting is mostly sub sub-par with a gang of highly moronic and dreadful characters thrown in for bad measure, jokes are often spotted miles ahead and almost never even a bit amusing. This movie lacks any structure and is full of racial stereotypes that must have seemed old even in the fifties, the only thing it really has going for it is some pretty ladies, but really, if you want that you can rent something from the \\\"Adult\\\" section. OK?<br /><br />I can hardly see anything here to recommend since you'll probably have a lot a better and productive time chasing rats with a sledgehammer or inventing waterproof teabags or whatever.<br /><br />2/10\",\n          \"Guest from the Future tells a fascinating story of time travel, friendship, battle of good and evil -- all with a small budget, child actors, and few special effects. Something for Spielberg and Lucas to learn from. ;) A sixth-grader Kolya \\\"Nick\\\" Gerasimov finds a time machine in the basement of a decrepit building and travels 100 years into the future. He discovers a near-perfect, utopian society where robots play guitars and write poetry, everyone is kind to each other and people enjoy everything technology has to offer. Alice is the daughter of a prominent scientist who invented a device called Mielophone that allows to read minds of humans and animals. The device can be put to both good and bad use, depending on whose hands it falls into. When two evil space pirates from Saturn who want to rule the universe attempt to steal Mielophone, it falls into the hands of 20th century school boy Nick. With the pirates hot on his tracks, he travels back to his time, followed by the pirates, and Alice. Chaos, confusion and funny situations follow as the luckless pirates try to blend in with the earthlings. Alice enrolls in the same school Nick goes to and demonstrates superhuman abilities in PE class. The catch is, Alice doesn't know what Nick looks like, while the pirates do. Also, the pirates are able to change their appearance and turn literally into anyone. (Hmm, I wonder if this is where James Cameron got the idea for Terminator...) Who gets to Nick -- and Mielophone -- first? Excellent plot, non-stop adventures, and great soundtrack. I wish Hollywood made kid movies like this one...\",\n          \"\\\"National Treasure\\\" (2004) is a thoroughly misguided hodge-podge of plot entanglements that borrow from nearly every cloak and dagger government conspiracy clich\\u00e9 that has ever been written. The film stars Nicholas Cage as Benjamin Franklin Gates (how precious is that, I ask you?); a seemingly normal fellow who, for no other reason than being of a lineage of like-minded misguided fortune hunters, decides to steal a 'national treasure' that has been hidden by the United States founding fathers. After a bit of subtext and background that plays laughably (unintentionally) like Indiana Jones meets The Patriot, the film degenerates into one misguided whimsy after another \\u0096 attempting to create a 'Stanley Goodspeed' regurgitation of Nicholas Cage and launch the whole convoluted mess forward with a series of high octane, but disconnected misadventures.<br /><br />The relevancy and logic to having George Washington and his motley crew of patriots burying a king's ransom someplace on native soil, and then, going through the meticulous plan of leaving clues scattered throughout U.S. currency art work, is something that director Jon Turteltaub never quite gets around to explaining. Couldn't Washington found better usage for such wealth during the start up of the country? Hence, we are left with a mystery built on top of an enigma that is already on shaky ground by the time Ben appoints himself the new custodian of this untold wealth. Ben's intentions are noble \\u0096 if confusing. He's set on protecting the treasure. For who and when?\\u0085your guess is as good as mine.<br /><br />But there are a few problems with Ben's crusade. First up, his friend, Ian Holmes (Sean Bean) decides that he can't wait for Ben to make up his mind about stealing the Declaration of Independence from the National Archives (oh, yeah \\u0096 brilliant idea!). Presumably, the back of that famous document holds the secret answer to the ultimate fortune. So Ian tries to kill Ben. The assassination attempt is, of course, unsuccessful, if overly melodramatic. It also affords Ben the opportunity to pick up, and pick on, the very sultry curator of the archives, Abigail Chase (Diane Kruger). She thinks Ben is clearly a nut \\u0096 at least at the beginning. But true to action/romance form, Abby's resolve melts quicker than you can say, \\\"is that the Hope Diamond?\\\" The film moves into full X-File-ish mode, as the FBI, mistakenly believing that Ben is behind the theft, retaliate in various benign ways that lead to a multi-layering of action sequences reminiscent of Mission Impossible meets The Fugitive. Honestly, don't those guys ever get 'intelligence' information that is correct? In the final analysis, \\\"National Treasure\\\" isn't great film making, so much as it's a patchwork rehash of tired old bits from other movies, woven together from scraps, the likes of which would make IL' Betsy Ross blush.<br /><br />The Buena Vista DVD delivers a far more generous treatment than this film is deserving of. The anamorphic widescreen picture exhibits a very smooth and finely detailed image with very rich colors, natural flesh tones, solid blacks and clean whites. The stylized image is also free of blemishes and digital enhancements. The audio is 5.1 and delivers a nice sonic boom to your side and rear speakers with intensity and realism. Extras include a host of promotional junket material that is rather deep and over the top in its explanation of how and why this film was made. If only, as an audience, we had had more clarification as to why Ben and co. were chasing after an illusive treasure, this might have been one good flick. Extras conclude with the theatrical trailer, audio commentary and deleted scenes. Not for the faint-hearted \\u0096 just the thick-headed.\"\n        ],\n        \"semantic_type\": \"\",\n        \"description\": \"\"\n      }\n    },\n    {\n      \"column\": \"sentiment\",\n      \"properties\": {\n        \"dtype\": \"number\",\n        \"std\": 0,\n        \"min\": 0,\n        \"max\": 1,\n        \"num_unique_values\": 2,\n        \"samples\": [\n          0,\n          1\n        ],\n        \"semantic_type\": \"\",\n        \"description\": \"\"\n      }\n    },\n    {\n      \"column\": \"cleaned_reviews\",\n      \"properties\": {\n        \"dtype\": \"string\",\n        \"num_unique_values\": 49578,\n        \"samples\": [\n          \"since frame number 1 know good guy suit necktie doomed luck sorte nula believes music car radio dubious talk best friend company associate taking parts unknown desert road alberto wished simply left alone take flight abroad next day well someone left guessing film goes long way \\u0096 thatll find short \\u0096 closing scene man hearing music cab airport number lucky people found different ways story dying born others falling harrowing distress time hes really doomed film sort oneman show director fernando fragata left sound recording special effects competent people typically reject portuguese films due sound problems unclear speech recording must go searching topics criticize time car crash isnt spoilers film clever makes great scene apparently done cheap equipment us studios take notice may spare dollar two hiding competent portuguese directors rest done fragata script dialogue camera work editing part dialogue adlibbed must congratulated acting direction casting mostly inexperienced actors large number nonspeaking parts credited people used music video clip making used extensively films promotional trailer cast dozen actors actresses ten relevant persons huge number relationships \\u0096 revealed stepbystep thrilling suspenseful way reminiscent best genre authors alfred hitchcock qv claude chabrol qv come mind catandmouse play director public nature charactersi recommend thriller comedy portuguese language speakers film gets decent translation colloquial dialogue anyone abroad enjoys genres\",\n          \"dentist really good thriller pretty disturbing think agree chances running psycho dentist much bigger running monsters vampires zombies thats exactly movie scary film youll probably think dentist times whether hes capable thingsyou better pray wife doesnt cheat thats story respected dentist la snaps finds wife cheating poolboy must greatest profession world way poolboys always take advantage housewives husband work dentist dr feinstone thing taking revenge cant concentrate patients anymore couple get hurt things arent made easier dentist hes chased annoying taxcontroller curious cop suspicious staff member one point dr feinstone cant take anymore hes wife everyone comes near dentist written directed brian yuzna cowritten stuart gordon take recommendation 2 persons already gave us great horror movies personal favorites mine like reanimator beyond society dentist succeed bring entertaining chilling thriller film came right time actually decade hadnt brought us many great horror films far im saying masterpiece nice change corbin bensen great dentist obsessed hygiene remember mostly comedy drama actor sure handle psychotic character rest cast good work woman plays feinstones wife really attractive also great see ken foree acting actor time favorite movie dawn dead plays cop film yuzna casted beyond 15 years ago thank dont recommend movie everyone weak stomach ill advise skip watch youll enjoy much youll disgustedbut thats extra reason think since really freaked watching film great topic handle genre yuzna great way bad film followed completely unnecessary sequel humble opinion dentist 810\"\n        ],\n        \"semantic_type\": \"\",\n        \"description\": \"\"\n      }\n    },\n    {\n      \"column\": \"Review int\",\n      \"properties\": {\n        \"dtype\": \"object\",\n        \"semantic_type\": \"\",\n        \"description\": \"\"\n      }\n    }\n  ]\n}"
            }
          },
          "metadata": {},
          "execution_count": 20
        }
      ],
      "source": [
        "# 'sentiment' 열의 값을 변환합니다. 'positive'이면 1로, 그렇지 않으면 0으로 변환합니다.\n",
        "df['sentiment'] = df['sentiment'].apply(lambda x: 1 if x == 'positive' else 0 )\n",
        "\n",
        "# 데이터프레임의 처음 5행을 출력합니다.\n",
        "df.head()"
      ]
    },
    {
      "cell_type": "markdown",
      "metadata": {
        "id": "eszHimeuG0jJ"
      },
      "source": [
        "> 예시코드\n",
        "\n",
        "```\n",
        "# 'sentiment' 열의 값을 변환합니다. 'positive'이면 1로, 그렇지 않으면 0으로 변환합니다.\n",
        "df['sentiment'] = df['sentiment'].apply(lambda x: 1 if x == 'positive' else 0)\n",
        "\n",
        "# 데이터프레임의 처음 5행을 출력합니다.\n",
        "df.head()\n",
        "```"
      ]
    },
    {
      "cell_type": "markdown",
      "metadata": {
        "id": "OqQW6g6UrWDN"
      },
      "source": [
        "### 2.6 패딩\n",
        "\n",
        "패딩(padding)은 자연어 처리에서 주로 사용되는 기법 중 하나로, 모든 데이터가 동일한 길이를 가지도록 만드는 과정을 말합니다.  \n",
        "\n",
        "이는 일반적으로 순차적인 데이터(예: 텍스트, 시계열 데이터 등)를 다룰 때 필요하며, 특히 RNN이나 LSTM과 같은 순환 신경망에서 중요합니다.  \n",
        "\n",
        "위 모델들은 고정된 길이의 입력을 받기 때문에, 입력 데이터의 길이가 서로 다른 경우 패딩을 사용해 모든 데이터를 동일한 길이로 만들어야 합니다.\n",
        "\n",
        "우선 패딩을 위해 각 리뷰의 길이를 계산하고, 이를 데이터프레임의 새로운 열 'Review len'에 저장합니다."
      ]
    },
    {
      "cell_type": "code",
      "execution_count": null,
      "metadata": {
        "colab": {
          "base_uri": "https://localhost:8080/",
          "height": 206
        },
        "id": "O_sdx_YIbEuy",
        "outputId": "dd286b27-a786-4cac-b72f-f23ed5d9949b"
      },
      "outputs": [
        {
          "output_type": "execute_result",
          "data": {
            "text/plain": [
              "                                              review  sentiment  \\\n",
              "0  One of the other reviewers has mentioned that ...          1   \n",
              "1  A wonderful little production. <br /><br />The...          1   \n",
              "2  I thought this was a wonderful way to spend ti...          1   \n",
              "3  Basically there's a family where a little boy ...          0   \n",
              "4  Petter Mattei's \"Love in the Time of Money\" is...          1   \n",
              "\n",
              "                                     cleaned_reviews  \\\n",
              "0  one reviewers mentioned watching 1 oz episode ...   \n",
              "1  wonderful little production filming technique ...   \n",
              "2  thought wonderful way spend time hot summer we...   \n",
              "3  basically theres family little boy jake thinks...   \n",
              "4  petter matteis love time money visually stunni...   \n",
              "\n",
              "                                          Review int  Review len  \n",
              "0  [3, 1830, 939, 56, 398, 3226, 290, 350, 3029, ...         168  \n",
              "1  [276, 39, 251, 1232, 2842, 17667, 82183, 1507,...          84  \n",
              "2  [96, 276, 26, 993, 8, 783, 1338, 2329, 1067, 8...          86  \n",
              "3  [574, 125, 136, 39, 328, 3492, 1068, 125, 905,...          67  \n",
              "4  [82188, 33633, 35, 8, 187, 2027, 1250, 2, 29, ...         125  "
            ],
            "text/html": [
              "\n",
              "  <div id=\"df-a64a757b-a664-4437-810c-57c5984cab5d\" class=\"colab-df-container\">\n",
              "    <div>\n",
              "<style scoped>\n",
              "    .dataframe tbody tr th:only-of-type {\n",
              "        vertical-align: middle;\n",
              "    }\n",
              "\n",
              "    .dataframe tbody tr th {\n",
              "        vertical-align: top;\n",
              "    }\n",
              "\n",
              "    .dataframe thead th {\n",
              "        text-align: right;\n",
              "    }\n",
              "</style>\n",
              "<table border=\"1\" class=\"dataframe\">\n",
              "  <thead>\n",
              "    <tr style=\"text-align: right;\">\n",
              "      <th></th>\n",
              "      <th>review</th>\n",
              "      <th>sentiment</th>\n",
              "      <th>cleaned_reviews</th>\n",
              "      <th>Review int</th>\n",
              "      <th>Review len</th>\n",
              "    </tr>\n",
              "  </thead>\n",
              "  <tbody>\n",
              "    <tr>\n",
              "      <th>0</th>\n",
              "      <td>One of the other reviewers has mentioned that ...</td>\n",
              "      <td>1</td>\n",
              "      <td>one reviewers mentioned watching 1 oz episode ...</td>\n",
              "      <td>[3, 1830, 939, 56, 398, 3226, 290, 350, 3029, ...</td>\n",
              "      <td>168</td>\n",
              "    </tr>\n",
              "    <tr>\n",
              "      <th>1</th>\n",
              "      <td>A wonderful little production. &lt;br /&gt;&lt;br /&gt;The...</td>\n",
              "      <td>1</td>\n",
              "      <td>wonderful little production filming technique ...</td>\n",
              "      <td>[276, 39, 251, 1232, 2842, 17667, 82183, 1507,...</td>\n",
              "      <td>84</td>\n",
              "    </tr>\n",
              "    <tr>\n",
              "      <th>2</th>\n",
              "      <td>I thought this was a wonderful way to spend ti...</td>\n",
              "      <td>1</td>\n",
              "      <td>thought wonderful way spend time hot summer we...</td>\n",
              "      <td>[96, 276, 26, 993, 8, 783, 1338, 2329, 1067, 8...</td>\n",
              "      <td>86</td>\n",
              "    </tr>\n",
              "    <tr>\n",
              "      <th>3</th>\n",
              "      <td>Basically there's a family where a little boy ...</td>\n",
              "      <td>0</td>\n",
              "      <td>basically theres family little boy jake thinks...</td>\n",
              "      <td>[574, 125, 136, 39, 328, 3492, 1068, 125, 905,...</td>\n",
              "      <td>67</td>\n",
              "    </tr>\n",
              "    <tr>\n",
              "      <th>4</th>\n",
              "      <td>Petter Mattei's \"Love in the Time of Money\" is...</td>\n",
              "      <td>1</td>\n",
              "      <td>petter matteis love time money visually stunni...</td>\n",
              "      <td>[82188, 33633, 35, 8, 187, 2027, 1250, 2, 29, ...</td>\n",
              "      <td>125</td>\n",
              "    </tr>\n",
              "  </tbody>\n",
              "</table>\n",
              "</div>\n",
              "    <div class=\"colab-df-buttons\">\n",
              "\n",
              "  <div class=\"colab-df-container\">\n",
              "    <button class=\"colab-df-convert\" onclick=\"convertToInteractive('df-a64a757b-a664-4437-810c-57c5984cab5d')\"\n",
              "            title=\"Convert this dataframe to an interactive table.\"\n",
              "            style=\"display:none;\">\n",
              "\n",
              "  <svg xmlns=\"http://www.w3.org/2000/svg\" height=\"24px\" viewBox=\"0 -960 960 960\">\n",
              "    <path d=\"M120-120v-720h720v720H120Zm60-500h600v-160H180v160Zm220 220h160v-160H400v160Zm0 220h160v-160H400v160ZM180-400h160v-160H180v160Zm440 0h160v-160H620v160ZM180-180h160v-160H180v160Zm440 0h160v-160H620v160Z\"/>\n",
              "  </svg>\n",
              "    </button>\n",
              "\n",
              "  <style>\n",
              "    .colab-df-container {\n",
              "      display:flex;\n",
              "      gap: 12px;\n",
              "    }\n",
              "\n",
              "    .colab-df-convert {\n",
              "      background-color: #E8F0FE;\n",
              "      border: none;\n",
              "      border-radius: 50%;\n",
              "      cursor: pointer;\n",
              "      display: none;\n",
              "      fill: #1967D2;\n",
              "      height: 32px;\n",
              "      padding: 0 0 0 0;\n",
              "      width: 32px;\n",
              "    }\n",
              "\n",
              "    .colab-df-convert:hover {\n",
              "      background-color: #E2EBFA;\n",
              "      box-shadow: 0px 1px 2px rgba(60, 64, 67, 0.3), 0px 1px 3px 1px rgba(60, 64, 67, 0.15);\n",
              "      fill: #174EA6;\n",
              "    }\n",
              "\n",
              "    .colab-df-buttons div {\n",
              "      margin-bottom: 4px;\n",
              "    }\n",
              "\n",
              "    [theme=dark] .colab-df-convert {\n",
              "      background-color: #3B4455;\n",
              "      fill: #D2E3FC;\n",
              "    }\n",
              "\n",
              "    [theme=dark] .colab-df-convert:hover {\n",
              "      background-color: #434B5C;\n",
              "      box-shadow: 0px 1px 3px 1px rgba(0, 0, 0, 0.15);\n",
              "      filter: drop-shadow(0px 1px 2px rgba(0, 0, 0, 0.3));\n",
              "      fill: #FFFFFF;\n",
              "    }\n",
              "  </style>\n",
              "\n",
              "    <script>\n",
              "      const buttonEl =\n",
              "        document.querySelector('#df-a64a757b-a664-4437-810c-57c5984cab5d button.colab-df-convert');\n",
              "      buttonEl.style.display =\n",
              "        google.colab.kernel.accessAllowed ? 'block' : 'none';\n",
              "\n",
              "      async function convertToInteractive(key) {\n",
              "        const element = document.querySelector('#df-a64a757b-a664-4437-810c-57c5984cab5d');\n",
              "        const dataTable =\n",
              "          await google.colab.kernel.invokeFunction('convertToInteractive',\n",
              "                                                    [key], {});\n",
              "        if (!dataTable) return;\n",
              "\n",
              "        const docLinkHtml = 'Like what you see? Visit the ' +\n",
              "          '<a target=\"_blank\" href=https://colab.research.google.com/notebooks/data_table.ipynb>data table notebook</a>'\n",
              "          + ' to learn more about interactive tables.';\n",
              "        element.innerHTML = '';\n",
              "        dataTable['output_type'] = 'display_data';\n",
              "        await google.colab.output.renderOutput(dataTable, element);\n",
              "        const docLink = document.createElement('div');\n",
              "        docLink.innerHTML = docLinkHtml;\n",
              "        element.appendChild(docLink);\n",
              "      }\n",
              "    </script>\n",
              "  </div>\n",
              "\n",
              "\n",
              "<div id=\"df-61cb51c8-a220-46f9-843d-1b0d28f544f2\">\n",
              "  <button class=\"colab-df-quickchart\" onclick=\"quickchart('df-61cb51c8-a220-46f9-843d-1b0d28f544f2')\"\n",
              "            title=\"Suggest charts\"\n",
              "            style=\"display:none;\">\n",
              "\n",
              "<svg xmlns=\"http://www.w3.org/2000/svg\" height=\"24px\"viewBox=\"0 0 24 24\"\n",
              "     width=\"24px\">\n",
              "    <g>\n",
              "        <path d=\"M19 3H5c-1.1 0-2 .9-2 2v14c0 1.1.9 2 2 2h14c1.1 0 2-.9 2-2V5c0-1.1-.9-2-2-2zM9 17H7v-7h2v7zm4 0h-2V7h2v10zm4 0h-2v-4h2v4z\"/>\n",
              "    </g>\n",
              "</svg>\n",
              "  </button>\n",
              "\n",
              "<style>\n",
              "  .colab-df-quickchart {\n",
              "      --bg-color: #E8F0FE;\n",
              "      --fill-color: #1967D2;\n",
              "      --hover-bg-color: #E2EBFA;\n",
              "      --hover-fill-color: #174EA6;\n",
              "      --disabled-fill-color: #AAA;\n",
              "      --disabled-bg-color: #DDD;\n",
              "  }\n",
              "\n",
              "  [theme=dark] .colab-df-quickchart {\n",
              "      --bg-color: #3B4455;\n",
              "      --fill-color: #D2E3FC;\n",
              "      --hover-bg-color: #434B5C;\n",
              "      --hover-fill-color: #FFFFFF;\n",
              "      --disabled-bg-color: #3B4455;\n",
              "      --disabled-fill-color: #666;\n",
              "  }\n",
              "\n",
              "  .colab-df-quickchart {\n",
              "    background-color: var(--bg-color);\n",
              "    border: none;\n",
              "    border-radius: 50%;\n",
              "    cursor: pointer;\n",
              "    display: none;\n",
              "    fill: var(--fill-color);\n",
              "    height: 32px;\n",
              "    padding: 0;\n",
              "    width: 32px;\n",
              "  }\n",
              "\n",
              "  .colab-df-quickchart:hover {\n",
              "    background-color: var(--hover-bg-color);\n",
              "    box-shadow: 0 1px 2px rgba(60, 64, 67, 0.3), 0 1px 3px 1px rgba(60, 64, 67, 0.15);\n",
              "    fill: var(--button-hover-fill-color);\n",
              "  }\n",
              "\n",
              "  .colab-df-quickchart-complete:disabled,\n",
              "  .colab-df-quickchart-complete:disabled:hover {\n",
              "    background-color: var(--disabled-bg-color);\n",
              "    fill: var(--disabled-fill-color);\n",
              "    box-shadow: none;\n",
              "  }\n",
              "\n",
              "  .colab-df-spinner {\n",
              "    border: 2px solid var(--fill-color);\n",
              "    border-color: transparent;\n",
              "    border-bottom-color: var(--fill-color);\n",
              "    animation:\n",
              "      spin 1s steps(1) infinite;\n",
              "  }\n",
              "\n",
              "  @keyframes spin {\n",
              "    0% {\n",
              "      border-color: transparent;\n",
              "      border-bottom-color: var(--fill-color);\n",
              "      border-left-color: var(--fill-color);\n",
              "    }\n",
              "    20% {\n",
              "      border-color: transparent;\n",
              "      border-left-color: var(--fill-color);\n",
              "      border-top-color: var(--fill-color);\n",
              "    }\n",
              "    30% {\n",
              "      border-color: transparent;\n",
              "      border-left-color: var(--fill-color);\n",
              "      border-top-color: var(--fill-color);\n",
              "      border-right-color: var(--fill-color);\n",
              "    }\n",
              "    40% {\n",
              "      border-color: transparent;\n",
              "      border-right-color: var(--fill-color);\n",
              "      border-top-color: var(--fill-color);\n",
              "    }\n",
              "    60% {\n",
              "      border-color: transparent;\n",
              "      border-right-color: var(--fill-color);\n",
              "    }\n",
              "    80% {\n",
              "      border-color: transparent;\n",
              "      border-right-color: var(--fill-color);\n",
              "      border-bottom-color: var(--fill-color);\n",
              "    }\n",
              "    90% {\n",
              "      border-color: transparent;\n",
              "      border-bottom-color: var(--fill-color);\n",
              "    }\n",
              "  }\n",
              "</style>\n",
              "\n",
              "  <script>\n",
              "    async function quickchart(key) {\n",
              "      const quickchartButtonEl =\n",
              "        document.querySelector('#' + key + ' button');\n",
              "      quickchartButtonEl.disabled = true;  // To prevent multiple clicks.\n",
              "      quickchartButtonEl.classList.add('colab-df-spinner');\n",
              "      try {\n",
              "        const charts = await google.colab.kernel.invokeFunction(\n",
              "            'suggestCharts', [key], {});\n",
              "      } catch (error) {\n",
              "        console.error('Error during call to suggestCharts:', error);\n",
              "      }\n",
              "      quickchartButtonEl.classList.remove('colab-df-spinner');\n",
              "      quickchartButtonEl.classList.add('colab-df-quickchart-complete');\n",
              "    }\n",
              "    (() => {\n",
              "      let quickchartButtonEl =\n",
              "        document.querySelector('#df-61cb51c8-a220-46f9-843d-1b0d28f544f2 button');\n",
              "      quickchartButtonEl.style.display =\n",
              "        google.colab.kernel.accessAllowed ? 'block' : 'none';\n",
              "    })();\n",
              "  </script>\n",
              "</div>\n",
              "\n",
              "    </div>\n",
              "  </div>\n"
            ],
            "application/vnd.google.colaboratory.intrinsic+json": {
              "type": "dataframe",
              "variable_name": "df",
              "summary": "{\n  \"name\": \"df\",\n  \"rows\": 49582,\n  \"fields\": [\n    {\n      \"column\": \"review\",\n      \"properties\": {\n        \"dtype\": \"string\",\n        \"num_unique_values\": 49582,\n        \"samples\": [\n          \"\\\"Soul Plane\\\" is a horrible attempt at comedy that only should appeal people with thick skulls, bloodshot eyes and furry pawns. <br /><br />The plot is not only incoherent but also non-existent, acting is mostly sub sub-par with a gang of highly moronic and dreadful characters thrown in for bad measure, jokes are often spotted miles ahead and almost never even a bit amusing. This movie lacks any structure and is full of racial stereotypes that must have seemed old even in the fifties, the only thing it really has going for it is some pretty ladies, but really, if you want that you can rent something from the \\\"Adult\\\" section. OK?<br /><br />I can hardly see anything here to recommend since you'll probably have a lot a better and productive time chasing rats with a sledgehammer or inventing waterproof teabags or whatever.<br /><br />2/10\",\n          \"Guest from the Future tells a fascinating story of time travel, friendship, battle of good and evil -- all with a small budget, child actors, and few special effects. Something for Spielberg and Lucas to learn from. ;) A sixth-grader Kolya \\\"Nick\\\" Gerasimov finds a time machine in the basement of a decrepit building and travels 100 years into the future. He discovers a near-perfect, utopian society where robots play guitars and write poetry, everyone is kind to each other and people enjoy everything technology has to offer. Alice is the daughter of a prominent scientist who invented a device called Mielophone that allows to read minds of humans and animals. The device can be put to both good and bad use, depending on whose hands it falls into. When two evil space pirates from Saturn who want to rule the universe attempt to steal Mielophone, it falls into the hands of 20th century school boy Nick. With the pirates hot on his tracks, he travels back to his time, followed by the pirates, and Alice. Chaos, confusion and funny situations follow as the luckless pirates try to blend in with the earthlings. Alice enrolls in the same school Nick goes to and demonstrates superhuman abilities in PE class. The catch is, Alice doesn't know what Nick looks like, while the pirates do. Also, the pirates are able to change their appearance and turn literally into anyone. (Hmm, I wonder if this is where James Cameron got the idea for Terminator...) Who gets to Nick -- and Mielophone -- first? Excellent plot, non-stop adventures, and great soundtrack. I wish Hollywood made kid movies like this one...\",\n          \"\\\"National Treasure\\\" (2004) is a thoroughly misguided hodge-podge of plot entanglements that borrow from nearly every cloak and dagger government conspiracy clich\\u00e9 that has ever been written. The film stars Nicholas Cage as Benjamin Franklin Gates (how precious is that, I ask you?); a seemingly normal fellow who, for no other reason than being of a lineage of like-minded misguided fortune hunters, decides to steal a 'national treasure' that has been hidden by the United States founding fathers. After a bit of subtext and background that plays laughably (unintentionally) like Indiana Jones meets The Patriot, the film degenerates into one misguided whimsy after another \\u0096 attempting to create a 'Stanley Goodspeed' regurgitation of Nicholas Cage and launch the whole convoluted mess forward with a series of high octane, but disconnected misadventures.<br /><br />The relevancy and logic to having George Washington and his motley crew of patriots burying a king's ransom someplace on native soil, and then, going through the meticulous plan of leaving clues scattered throughout U.S. currency art work, is something that director Jon Turteltaub never quite gets around to explaining. Couldn't Washington found better usage for such wealth during the start up of the country? Hence, we are left with a mystery built on top of an enigma that is already on shaky ground by the time Ben appoints himself the new custodian of this untold wealth. Ben's intentions are noble \\u0096 if confusing. He's set on protecting the treasure. For who and when?\\u0085your guess is as good as mine.<br /><br />But there are a few problems with Ben's crusade. First up, his friend, Ian Holmes (Sean Bean) decides that he can't wait for Ben to make up his mind about stealing the Declaration of Independence from the National Archives (oh, yeah \\u0096 brilliant idea!). Presumably, the back of that famous document holds the secret answer to the ultimate fortune. So Ian tries to kill Ben. The assassination attempt is, of course, unsuccessful, if overly melodramatic. It also affords Ben the opportunity to pick up, and pick on, the very sultry curator of the archives, Abigail Chase (Diane Kruger). She thinks Ben is clearly a nut \\u0096 at least at the beginning. But true to action/romance form, Abby's resolve melts quicker than you can say, \\\"is that the Hope Diamond?\\\" The film moves into full X-File-ish mode, as the FBI, mistakenly believing that Ben is behind the theft, retaliate in various benign ways that lead to a multi-layering of action sequences reminiscent of Mission Impossible meets The Fugitive. Honestly, don't those guys ever get 'intelligence' information that is correct? In the final analysis, \\\"National Treasure\\\" isn't great film making, so much as it's a patchwork rehash of tired old bits from other movies, woven together from scraps, the likes of which would make IL' Betsy Ross blush.<br /><br />The Buena Vista DVD delivers a far more generous treatment than this film is deserving of. The anamorphic widescreen picture exhibits a very smooth and finely detailed image with very rich colors, natural flesh tones, solid blacks and clean whites. The stylized image is also free of blemishes and digital enhancements. The audio is 5.1 and delivers a nice sonic boom to your side and rear speakers with intensity and realism. Extras include a host of promotional junket material that is rather deep and over the top in its explanation of how and why this film was made. If only, as an audience, we had had more clarification as to why Ben and co. were chasing after an illusive treasure, this might have been one good flick. Extras conclude with the theatrical trailer, audio commentary and deleted scenes. Not for the faint-hearted \\u0096 just the thick-headed.\"\n        ],\n        \"semantic_type\": \"\",\n        \"description\": \"\"\n      }\n    },\n    {\n      \"column\": \"sentiment\",\n      \"properties\": {\n        \"dtype\": \"number\",\n        \"std\": 0,\n        \"min\": 0,\n        \"max\": 1,\n        \"num_unique_values\": 2,\n        \"samples\": [\n          0,\n          1\n        ],\n        \"semantic_type\": \"\",\n        \"description\": \"\"\n      }\n    },\n    {\n      \"column\": \"cleaned_reviews\",\n      \"properties\": {\n        \"dtype\": \"string\",\n        \"num_unique_values\": 49578,\n        \"samples\": [\n          \"since frame number 1 know good guy suit necktie doomed luck sorte nula believes music car radio dubious talk best friend company associate taking parts unknown desert road alberto wished simply left alone take flight abroad next day well someone left guessing film goes long way \\u0096 thatll find short \\u0096 closing scene man hearing music cab airport number lucky people found different ways story dying born others falling harrowing distress time hes really doomed film sort oneman show director fernando fragata left sound recording special effects competent people typically reject portuguese films due sound problems unclear speech recording must go searching topics criticize time car crash isnt spoilers film clever makes great scene apparently done cheap equipment us studios take notice may spare dollar two hiding competent portuguese directors rest done fragata script dialogue camera work editing part dialogue adlibbed must congratulated acting direction casting mostly inexperienced actors large number nonspeaking parts credited people used music video clip making used extensively films promotional trailer cast dozen actors actresses ten relevant persons huge number relationships \\u0096 revealed stepbystep thrilling suspenseful way reminiscent best genre authors alfred hitchcock qv claude chabrol qv come mind catandmouse play director public nature charactersi recommend thriller comedy portuguese language speakers film gets decent translation colloquial dialogue anyone abroad enjoys genres\",\n          \"dentist really good thriller pretty disturbing think agree chances running psycho dentist much bigger running monsters vampires zombies thats exactly movie scary film youll probably think dentist times whether hes capable thingsyou better pray wife doesnt cheat thats story respected dentist la snaps finds wife cheating poolboy must greatest profession world way poolboys always take advantage housewives husband work dentist dr feinstone thing taking revenge cant concentrate patients anymore couple get hurt things arent made easier dentist hes chased annoying taxcontroller curious cop suspicious staff member one point dr feinstone cant take anymore hes wife everyone comes near dentist written directed brian yuzna cowritten stuart gordon take recommendation 2 persons already gave us great horror movies personal favorites mine like reanimator beyond society dentist succeed bring entertaining chilling thriller film came right time actually decade hadnt brought us many great horror films far im saying masterpiece nice change corbin bensen great dentist obsessed hygiene remember mostly comedy drama actor sure handle psychotic character rest cast good work woman plays feinstones wife really attractive also great see ken foree acting actor time favorite movie dawn dead plays cop film yuzna casted beyond 15 years ago thank dont recommend movie everyone weak stomach ill advise skip watch youll enjoy much youll disgustedbut thats extra reason think since really freaked watching film great topic handle genre yuzna great way bad film followed completely unnecessary sequel humble opinion dentist 810\"\n        ],\n        \"semantic_type\": \"\",\n        \"description\": \"\"\n      }\n    },\n    {\n      \"column\": \"Review int\",\n      \"properties\": {\n        \"dtype\": \"object\",\n        \"semantic_type\": \"\",\n        \"description\": \"\"\n      }\n    },\n    {\n      \"column\": \"Review len\",\n      \"properties\": {\n        \"dtype\": \"number\",\n        \"std\": 90,\n        \"min\": 3,\n        \"max\": 1429,\n        \"num_unique_values\": 607,\n        \"samples\": [\n          489,\n          133\n        ],\n        \"semantic_type\": \"\",\n        \"description\": \"\"\n      }\n    }\n  ]\n}"
            }
          },
          "metadata": {},
          "execution_count": 21
        }
      ],
      "source": [
        "# reviews_int에서 각 리뷰의 길이를 계산합니다.\n",
        "review_len = [len(x) for x in reviews_int]\n",
        "\n",
        "# 계산된 리뷰 길이를 데이터프레임의 새 열 'Review len'에 저장합니다.\n",
        "df['Review len'] = review_len\n",
        "\n",
        "# 데이터프레임의 처음 5행을 출력합니다.\n",
        "df.head()"
      ]
    },
    {
      "cell_type": "markdown",
      "metadata": {
        "id": "mm0CdDbzr_6m"
      },
      "source": [
        "그 다음 'Review len' 열의 기술 통계를 출력하고, 히스토그램을 그려 리뷰 길이의 분포를 시각화합니다.  \n",
        "\n",
        "이를 통해 리뷰의 길이가 얼마나 다양한지, 그리고 가장 긴 리뷰나 가장 짧은 리뷰의 길이가 얼마인지 등을 알 수 있습니다."
      ]
    },
    {
      "cell_type": "code",
      "source": [
        "def Padding(reviews_int, seq_len):  #주어진 리뷰 길이와 일치하도록 0을 채운 행렬 생성\n",
        "    features = np.zeros((len(reviews_int), seq_len), dtype=int)\n",
        "\n",
        "    for i, review in enumerate(reviews_int):\n",
        "        if len(review) <= seq_len:\n",
        "            zeroes = list(np.zeros(seq_len - len(review)))\n",
        "            new = zeroes + review\n",
        "        else:\n",
        "            new = review[:seq_len]\n",
        "        features[i, :] = np.array(new)\n",
        "\n",
        "    return features"
      ],
      "metadata": {
        "id": "t-cGz_UruKBj"
      },
      "execution_count": null,
      "outputs": []
    },
    {
      "cell_type": "markdown",
      "metadata": {
        "id": "iC7iFiMRG0jJ"
      },
      "source": [
        "### [TODO] 아래 올바른 메서드를 이용하여 Review len 열의 기술 통계를 확인해주세요.\n",
        "\n",
        "확인이 끝나면 해당 데이터를 바탕으로 히스토그램을 그려주세요.\n",
        "\n",
        "히스토그램은 데이터프레임의 `hist()`메서드를 통해 그릴 수 있습니다."
      ]
    },
    {
      "cell_type": "code",
      "execution_count": null,
      "metadata": {
        "colab": {
          "base_uri": "https://localhost:8080/"
        },
        "id": "5lJNvH3hbEuy",
        "outputId": "a0aae9ba-8615-40b0-fc1b-e7b89acf0ae9"
      },
      "outputs": [
        {
          "output_type": "stream",
          "name": "stdout",
          "text": [
            "[    0     0     0     0     0     0     0     0     0     0     0     0\n",
            "     0     0     0     0     0     0     0     0     0     0     0     0\n",
            "     0     0     0     0     0     0     0     0     3  1830   939    56\n",
            "   398  3226   290   350  3029   107   482   471  7377    19    57  3093\n",
            "  3226  5348 14771    50   475   180   107   550    52  1604    41  7988\n",
            "  5551 11400    41  2361  5802  5461  1334   277   475  3266   245   234\n",
            " 60572   351  3226 11075   238 15692  6626  2407   943 60573  2483  1252\n",
            " 24395   421  4533  2391  1075  6903  2835 12488   300 60574 16798   212\n",
            "  4900  3560   421   236 82180  8124 39645 15060  4965  7571  2318 16799\n",
            " 60575   224  9005  7272 13365  8364 33632    34   127 21052     7    45\n",
            "   168  1183    41   551    91   159   154   437  2841   706    84  1140\n",
            "  4140  2343   976   706  1283   706 82181    58   856    87    19   290\n",
            "    43   103  3093  1449  2073   288    45  1425   173  1332  1124  3226\n",
            "    89  9997   212  1951  1955   475   475  7635  6842  4755 13616  2811\n",
            " 31417  6780 13616   378   495    14   140    13  9655   633   691  6780\n",
            "   544  1075 19749   551   441   812  1850  1075   442    56  3226    98\n",
            "   301  3576  3161 82182    14  1071  3850   389]\n"
          ]
        }
      ],
      "source": [
        "max_len = 200\n",
        "\n",
        "features = Padding(reviews_int, max_len)\n",
        "print(features[0, :])"
      ]
    },
    {
      "cell_type": "markdown",
      "metadata": {
        "id": "gdtu7UvkG0jM"
      },
      "source": [
        "> 예시코드\n",
        "\n",
        "```\n",
        "# 'Review len' 열의 기술 통계를 출력합니다. (평균, 표준편차, 최솟값, 최댓값 등)\n",
        "print(df['Review len'].describe())\n",
        "\n",
        "# 'Review len' 열의 히스토그램을 그립니다. 이를 통해 리뷰 길이의 분포를 시각화할 수 있습니다.\n",
        "df['Review len'].hist()\n",
        "plt.title('Review length distribution', size=15) # 그래프의 제목을 설정합니다.\n",
        "plt.show() # 그래프를 표시합니다.\n",
        "```"
      ]
    },
    {
      "cell_type": "markdown",
      "metadata": {
        "id": "fyLOAe63G0jM"
      },
      "source": [
        "> 예시코드\n",
        "```\n",
        "max_len = 200\n",
        "\n",
        "# Padding 함수를 사용하여 reviews_int의 각 리뷰를 길이 200으로 패딩하거나 잘라냅니다.\n",
        "features = Padding(reviews_int, max_len)\n",
        "\n",
        "# 패딩 또는 자른 후의 첫 번째 리뷰를 출력합니다.\n",
        "print(features[0, :])\n",
        "```"
      ]
    },
    {
      "cell_type": "markdown",
      "metadata": {
        "id": "bw8u2_7i1R08"
      },
      "source": [
        "올바르게 패딩이 된 것을 확인할 수 있습니다."
      ]
    },
    {
      "cell_type": "markdown",
      "metadata": {
        "id": "0A8ZmF2w1U3g"
      },
      "source": [
        "### 2.7 데이터 분할\n",
        "\n",
        "데이터 전처리가 마무리되었습니다.  \n",
        "\n",
        "이제 학습용 데이터와 검증 데이터, 테스트 데이터를 분할하도록 하겠습니다.  \n",
        "\n",
        "데이터셋의 비중을 Train : validation: test = 1 : 1 : 1 으로 나누겠습니다."
      ]
    },
    {
      "cell_type": "code",
      "execution_count": null,
      "metadata": {
        "id": "8RdnYzaCbEuz"
      },
      "outputs": [],
      "source": [
        "X_train, X_remain, y_train, y_remain = train_test_split(features, df['sentiment'].to_numpy(), test_size=0.2, random_state=1)\n",
        "\n",
        "#임시로 분할한 데이터를 다시 절반씩 나누어 검증 세트와 테스트 세트로 만듦\n",
        "X_valid,X_test, y_valid, y_test = train_test_split(X_remain, y_remain, test_size=0.5, random_state=1)"
      ]
    },
    {
      "cell_type": "markdown",
      "metadata": {
        "id": "dBvRYuQ41umr"
      },
      "source": [
        "### 2.8 TensorDataset과 DataLoader\n",
        "\n",
        "`TensorDataset`은 PyTorch의 `torch.utils.data.Dataset` 클래스의 서브 클래스로, 텐서를 감싸는 데이터셋입니다.  \n",
        "\n",
        "이 클래스는 GPU 연산에 최적화된 텐서를 입력으로 받아 데이터셋을 생성하므로, 데이터 처리 과정이 효율적이라는 장점이 있습니다.\n",
        "\n",
        "TensorDataset은 각 텐서의 첫 번째 차원을 따라 반복하여 각 텐서에서 데이터를 가져옵니다. 이는 텐서의 첫 번째 차원이 데이터의 개수를 나타내는 경우 유용합니다.  \n",
        "\n",
        "아래 코드는 앞서 처리한 데이터들을 TensorDataset으로 재구성합니다."
      ]
    },
    {
      "cell_type": "code",
      "execution_count": null,
      "metadata": {
        "id": "hugJDVnebEuz"
      },
      "outputs": [],
      "source": [
        "train_data = TensorDataset(torch.from_numpy(X_train), torch.from_numpy(y_train))\n",
        "test_data = TensorDataset(torch.from_numpy(X_test), torch.from_numpy(y_test))\n",
        "valid_data = TensorDataset(torch.from_numpy(X_valid), torch.from_numpy(y_valid))"
      ]
    },
    {
      "cell_type": "markdown",
      "metadata": {
        "id": "0V6ooZdp3FDI"
      },
      "source": [
        "`DataLoader`는 PyTorch에서 데이터를 로드하는 데 사용되는 중요한 클래스입니다.  \n",
        "\n",
        "DataLoader는 데이터셋과 샘플러를 입력으로 받아, 데이터셋에서 데이터를 가져와 배치로 묶어주는 반복 가능한 객체(iterable)를 생성합니다.  \n",
        "\n",
        "이는 미니배치 학습, 데이터 셔플, 병렬 데이터 로딩 등을 쉽게 수행할 수 있게 해줍니다.\n",
        "\n",
        "아래에선 배치 크기를 설정하며, 위에서 생성한 TensorDataset을 DataLoader로 전환하는 과정을 거칩니다.  \n",
        "\n",
        "학습 중 데이터를 무작위로 섞는다면 균등한 학습이 어느정도 보장되므로 Shuffle 기능을 사용하겠습니다.  \n",
        "\n",
        "또한, 데이터의 배치 크기를 32개로 설정할 시 마지막으로 생성되는 배치는 전체 데이터를 32로 나눈 나머지만큼 구성됩니다.  \n",
        "\n",
        "이 경우 모델이 앞서 처리한 배치들과 다른 수의 데이터를 학습하다 형태가 맞지 않아 오류를 발생시킬 수 있으므로, 마지막 32개를 채울 수 없는 배치를 탈락시키는 것이 옳습니다.  \n",
        "\n",
        "이를 위해 `drop_last`인자를 `True`로 설정하겠습니다."
      ]
    },
    {
      "cell_type": "code",
      "execution_count": null,
      "metadata": {
        "id": "yc3ZfOpd1ouy"
      },
      "outputs": [],
      "source": [
        "batch_size = 32\n",
        "\n",
        "train_loader = DataLoader(train_data, shuffle=True, batch_size=batch_size, drop_last=True)\n",
        "test_loader = DataLoader(test_data, shuffle=True, batch_size=batch_size, drop_last=True)\n",
        "valid_loader = DataLoader(valid_data, shuffle=True, batch_size=batch_size, drop_last=True)"
      ]
    },
    {
      "cell_type": "markdown",
      "metadata": {
        "id": "_F3166dM3rCw"
      },
      "source": [
        "`iter()`메서드를 이용하여 DataLoader의 한 배치를 받고, 이를 확인해보겠습니다."
      ]
    },
    {
      "cell_type": "code",
      "execution_count": null,
      "metadata": {
        "colab": {
          "base_uri": "https://localhost:8080/"
        },
        "id": "xBimMUDubEuz",
        "outputId": "bf7bf07b-1439-4401-c91c-4e1e88eb100c"
      },
      "outputs": [
        {
          "output_type": "stream",
          "name": "stdout",
          "text": [
            "Sample input size:  torch.Size([32, 200])\n",
            "Sample input: \n",
            " tensor([[    0,     0,     0,  ...,    40,    55,   432],\n",
            "        [    0,     0,     0,  ...,  8345,   994,    92],\n",
            "        [    0,     0,     0,  ...,  1461,   988,    26],\n",
            "        ...,\n",
            "        [    0,     0,     0,  ...,  6418,   565,  1165],\n",
            "        [    0,     0,     0,  ...,  4419, 26399,  4158],\n",
            "        [    0,     0,     0,  ...,   668,  5406,  4048]])\n",
            "Sample label: \n",
            " tensor([0, 1, 1, 0, 0, 0, 0, 0, 0, 0, 1, 1, 0, 1, 1, 0, 0, 1, 0, 1, 0, 0, 1, 0,\n",
            "        0, 0, 0, 0, 0, 1, 0, 1])\n"
          ]
        }
      ],
      "source": [
        "dataiter = iter(train_loader)\n",
        "sample_x, sample_y = next(dataiter)\n",
        "\n",
        "print('Sample input size: ', sample_x.size()) # 배치 크기, 시퀀스 길이\n",
        "print('Sample input: \\n', sample_x)\n",
        "print('Sample label: \\n', sample_y)"
      ]
    },
    {
      "cell_type": "markdown",
      "metadata": {
        "id": "4zaiaVD730Zv"
      },
      "source": [
        "정상적으로 데이터가 묶인 것을 확인할 수 있습니다.  \n",
        "\n",
        "앞서 우리가 문장의 길이를 200으로 설정하였고, 한 배치에 32개의 데이터 샘플이 존재하므로 데이터셋 한 배치의 차원은 [32, 200]입니다.  \n",
        "\n",
        "이에 대응되게끔 레이블 데이터도 32개씩 묶여있습니다."
      ]
    },
    {
      "cell_type": "markdown",
      "metadata": {
        "id": "hm96Re1C4E8q"
      },
      "source": [
        "## 3. 모델 선언\n",
        "\n",
        "데이터셋이 준비가 완료되었다면, 이번엔 학습을 위해 모델을 구현하겠습니다.  \n",
        "\n",
        "아래 코드는 감성 분석을 위한 LSTM(Long Short-Term Memory) 모델을 정의하는 클래스입니다.  \n",
        "\n",
        "LSTM은 순환 신경망(RNN)의 한 종류로, RNN의 장기 의존성 문제를 해결하기 위해 설계되었기에 시퀀스 데이터를 처리하는 데 특히 유용합니다.  \n",
        "\n",
        "클래스는 다음과 같은 메서드로 구성되어 있습니다:\n",
        "\n",
        "1. `__init__`: 모델의 계층을 초기화합니다. 이 메서드에서는 임베딩 계층, LSTM 계층, 드롭아웃 계층, 완전 연결 계층, 그리고 시그모이드 활성화 함수를 정의합니다.\n",
        "\n",
        "2. `forward`: 모델의 순방향 패스를 수행합니다. 이 메서드에서는 입력 데이터를 임베딩 계층과 LSTM 계층을 통과시키고, 결과를 드롭아웃과 완전 연결 계층을 통과시킵니다. 마지막으로 시그모이드 활성화 함수를 적용하여 최종 출력을 생성합니다.\n",
        "\n",
        "3. `init_hidden`: LSTM의 초기 숨겨진 상태를 초기화합니다. 이 메서드는 모든 요소가 0인 텐서를 생성하여 LSTM의 초기 숨겨진 상태와 셀 상태를 설정합니다.  \n",
        "\n",
        "클래스를 메서드 단위로 분리하여 뜯어보겠습니다."
      ]
    },
    {
      "cell_type": "markdown",
      "metadata": {
        "id": "-gyNBL9CF5Y-"
      },
      "source": [
        "### 3.1 `__init__`\n",
        "이 메서드는 모델의 계층을 초기화합니다.  \n",
        "\n",
        "각 층은 `torch.nn` API에서 가져와 사용할 수 있습니다.\n",
        "\n",
        "```\n",
        "    def __init__(self, vocab_size, output_size, embedding_dim, hidden_dim, n_layers, drop_prob=0.5):\n",
        "        \"\"\"\n",
        "        모델의 계층을 설정하여 초기화합니다.\n",
        "        \"\"\"\n",
        "        super().__init__()\n",
        "\n",
        "        self.output_size = output_size\n",
        "        self.hidden_dim = hidden_dim\n",
        "        self.n_layers = n_layers\n",
        "\n",
        "        # 임베딩 및 LSTM 계층\n",
        "        self.embedding = nn.Embedding(vocab_size, embedding_dim)\n",
        "        self.lstm = nn.LSTM(embedding_dim, hidden_dim, n_layers, dropout=drop_prob, batch_first=True)\n",
        "\n",
        "        # 드롭아웃 계층\n",
        "        self.dropout = nn.Dropout(0.3)\n",
        "\n",
        "        # 선형 및 시그모이드 계층\n",
        "        self.fc = nn.Linear(hidden_dim, output_size)\n",
        "        self.sigmoid = nn.Sigmoid()\n",
        "```\n",
        "\n",
        "- `nn.Embedding`: 이 계층은 단어를 고차원 공간에서의 벡터로 변환합니다. 임베딩된 벡터는 단어 간의 의미적 관계를 포착할 수 있습니다.\n",
        "- `nn.LSTM`: 이 계층은 LSTM 셀을 구현합니다. LSTM은 시퀀스 데이터를 처리하는데 유용하며, 각 시퀀스 요소에 대한 정보를 \"기억\"하거나 \"잊어버리는\" 능력이 있습니다.\n",
        "- `nn.Dropout`: 이 계층은 과적합을 방지하기 위해 일부 뉴런을 무작위로 \"드롭아웃\"합니다.\n",
        "- `nn.Linear`: 이 계층은 입력과 가중치의 선형 조합을 계산합니다.\n",
        "- `nn.Sigmoid`: 이 계층은 활성화 함수로, 출력을 0과 1 사이로 제한하여 확률로 해석할 수 있게 합니다."
      ]
    },
    {
      "cell_type": "markdown",
      "metadata": {
        "id": "Zs7XfegFGoQN"
      },
      "source": [
        "### 3.2 `forward`\n",
        "여기에서는 모델이 입력을 받아 출력을 생성하는 방법을 정의합니다.  \n",
        "\n",
        "```\n",
        "    def forward(self, x, hidden):\n",
        "        \"\"\"\n",
        "        입력 및 숨겨진 상태에서 모델의 순방향 패스를 수행합니다.\n",
        "        \"\"\"\n",
        "        batch_size = x.size(0)\n",
        "\n",
        "        # 임베딩 및 lstm_out\n",
        "        embeds = self.embedding(x)\n",
        "        lstm_out, hidden = self.lstm(embeds, hidden)\n",
        "\n",
        "        # LSTM 출력을 쌓습니다.\n",
        "        lstm_out = lstm_out.contiguous().view(-1, self.hidden_dim)\n",
        "\n",
        "        # 드롭아웃 및 완전 연결 계층\n",
        "        out = self.dropout(lstm_out)\n",
        "        out = self.fc(out)\n",
        "\n",
        "        # 시그모이드 함수\n",
        "        sig_out = self.sigmoid(out)\n",
        "\n",
        "        # 배치 크기가 먼저 되도록 형상 변경\n",
        "        sig_out = sig_out.view(batch_size, -1)\n",
        "        sig_out = sig_out[:, -1] # 마지막 배치의 레이블을 가져옵니다.\n",
        "\n",
        "        return sig_out, hidden\n",
        "```\n",
        "\n",
        "- 먼저, 입력 텍스트는 임베딩 계층을 통과하여 각 단어가 벡터로 변환됩니다.  \n",
        "\n",
        "- 그 다음, 이 벡터는 LSTM 계층을 통과하고, LSTM의 숨겨진 상태가 업데이트됩니다.  \n",
        "\n",
        "- LSTM의 출력은 드롭아웃 계층을 통과하고, 그 다음 완전 연결 계층을 통과하여 최종 출력을 생성합니다.  \n",
        "\n",
        "- 마지막으로, 시그모이드 활성화 함수를 통과하여 최종 출력이 0과 1 사이의 값으로 제한됩니다."
      ]
    },
    {
      "cell_type": "markdown",
      "metadata": {
        "id": "sA1qr2U_G9pt"
      },
      "source": [
        "### 3.3 `init_hidden`\n",
        "이 메서드는 LSTM의 숨겨진 상태를 초기화합니다.  \n",
        "\n",
        "```\n",
        "    def init_hidden(self, batch_size):\n",
        "        ''' 숨겨진 상태를 초기화합니다. '''\n",
        "        # LSTM의 숨겨진 상태와 셀 상태에 대해 크기가 n_layers x batch_size x hidden_dim인\n",
        "        # 두 개의 새로운 텐서를 생성하고 0으로 초기화합니다.\n",
        "        h0 = torch.zeros((self.n_layers, batch_size, self.hidden_dim)).to(device)\n",
        "        c0 = torch.zeros((self.n_layers, batch_size, self.hidden_dim)).to(device)\n",
        "        hidden = (h0, c0)\n",
        "        return hidden\n",
        "```\n",
        "\n",
        "LSTM은 각 시퀀스 요소에 대한 정보를 \"기억\"하는 능력이 있으며, 이 정보는 숨겨진 상태에 저장됩니다.  \n",
        "\n",
        "이 메서드는 새로운 시퀀스를 처리하기 전에 이 숨겨진 상태를 재설정하는 데 사용됩니다."
      ]
    },
    {
      "cell_type": "markdown",
      "metadata": {
        "id": "oW2TU0YBI_9M"
      },
      "source": [
        "### 3.4 모델 클래스 상속\n",
        "\n",
        "위의 정보들을 종합하여 LSTM 모델을 설계해보겠습니다.  \n",
        "\n",
        "모델은 `nn.Module`을 상속받은 서브클래스입니다."
      ]
    },
    {
      "cell_type": "markdown",
      "metadata": {
        "id": "B_-LWy87G0jP"
      },
      "source": [
        "### [TODO] 위에서 선언한 메서드들을 바탕으로 아해 모델 클래스 코드를 완성해주세요."
      ]
    },
    {
      "cell_type": "code",
      "execution_count": null,
      "metadata": {
        "id": "Rn97bHvjbEuz"
      },
      "outputs": [],
      "source": [
        "class sentimentLSTM(nn.Module):\n",
        "    def __init__(self, vocab_size, output_size, embedding_dim, hidden_dim, n_layers, drop_prob=0.5):\n",
        "        \"\"\"\n",
        "        모델의 계층을 설정하여 초기화합니다.\n",
        "        \"\"\"\n",
        "        super().__init__()\n",
        "        self.output_size = output_size\n",
        "        self.hidden_dim = hidden_dim\n",
        "        self.n_layers = n_layers\n",
        "\n",
        "        # 임베딩 및 LSTM 계층\n",
        "        self.embedding = nn.Embedding(vocab_size, embedding_dim)\n",
        "        self.lstm = nn.LSTM(embedding_dim, hidden_dim, n_layers, dropout=drop_prob, batch_first=True)\n",
        "\n",
        "        # 드롭아웃 계층\n",
        "        self.dropout = nn.Dropout(0.3)\n",
        "\n",
        "        # 선형 및 시그모이드 계층\n",
        "        self.fc = nn.Linear(hidden_dim, output_size)\n",
        "        self.sigmoid = nn.Sigmoid()\n",
        "\n",
        "\n",
        "    def forward(self, x, hidden):\n",
        "        \"\"\"\n",
        "        입력 및 숨겨진 상태에서 모델의 순방향 패스를 수행합니다.\n",
        "        \"\"\"\n",
        "        batch_size = x.size(0)\n",
        "\n",
        "        # 임베딩 및 lstm_out\n",
        "        embeds = self.embedding(x)\n",
        "        lstm_out, hidden = self.lstm(embeds, hidden)\n",
        "\n",
        "        # LSTM 출력을 쌓습니다.\n",
        "        lstm_out = lstm_out.contiguous().view(-1, self.hidden_dim)\n",
        "\n",
        "        # 드롭아웃 및 완전 연결 계층\n",
        "        out = self.dropout(lstm_out)\n",
        "        out = self.fc(out)\n",
        "\n",
        "        # 시그모이드 함수\n",
        "        sig_out = self.sigmoid(out)\n",
        "\n",
        "        # 배치 크기가 먼저 되도록 형상 변경\n",
        "        sig_out = sig_out.view(batch_size, -1)\n",
        "        sig_out = sig_out[:, -1] # 마지막 배치의 레이블을 가져옵니다.\n",
        "\n",
        "        return sig_out, hidden\n",
        "\n",
        "\n",
        "    def init_hidden(self, batch_size):\n",
        "        ''' 숨겨진 상태를 초기화합니다. '''\n",
        "        # LSTM의 숨겨진 상태와 셀 상태에 대해 크기가 n_layers x batch_size x hidden_dim인\n",
        "        # 두 개의 새로운 텐서를 생성하고 0으로 초기화합니다.\n",
        "        h0 = torch.zeros((self.n_layers, batch_size, self.hidden_dim)).to(device)\n",
        "        c0 = torch.zeros((self.n_layers, batch_size, self.hidden_dim)).to(device)\n",
        "        hidden = (h0, c0)\n",
        "        return hidden"
      ]
    },
    {
      "cell_type": "markdown",
      "metadata": {
        "id": "6O9910s-G0jP"
      },
      "source": [
        "> 예시 코드\n",
        "```\n",
        "class sentimentLSTM(nn.Module):\n",
        "    def __init__(self, vocab_size, output_size, embedding_dim, hidden_dim, n_layers, drop_prob=0.5):\n",
        "        \"\"\"\n",
        "        모델의 계층을 설정하여 초기화합니다.\n",
        "        \"\"\"\n",
        "        super().__init__()\n",
        "\n",
        "        self.output_size = output_size\n",
        "        self.hidden_dim = hidden_dim\n",
        "        self.n_layers = n_layers\n",
        "\n",
        "        # 임베딩 및 LSTM 계층\n",
        "        self.embedding = nn.Embedding(vocab_size, embedding_dim)\n",
        "        self.lstm = nn.LSTM(embedding_dim, hidden_dim, n_layers, dropout=drop_prob, batch_first=True)\n",
        "\n",
        "        # 드롭아웃 계층\n",
        "        self.dropout = nn.Dropout(0.3)\n",
        "\n",
        "        # 선형 및 시그모이드 계층\n",
        "        self.fc = nn.Linear(hidden_dim, output_size)\n",
        "        self.sigmoid = nn.Sigmoid()\n",
        "\n",
        "\n",
        "    def forward(self, x, hidden):\n",
        "        \"\"\"\n",
        "        입력 및 숨겨진 상태에서 모델의 순방향 패스를 수행합니다.\n",
        "        \"\"\"\n",
        "        batch_size = x.size(0)\n",
        "\n",
        "        # 임베딩 및 lstm_out\n",
        "        embeds = self.embedding(x)\n",
        "        lstm_out, hidden = self.lstm(embeds, hidden)\n",
        "\n",
        "        # LSTM 출력을 쌓습니다.\n",
        "        lstm_out = lstm_out.contiguous().view(-1, self.hidden_dim)\n",
        "\n",
        "        # 드롭아웃 및 완전 연결 계층\n",
        "        out = self.dropout(lstm_out)\n",
        "        out = self.fc(out)\n",
        "\n",
        "        # 시그모이드 함수\n",
        "        sig_out = self.sigmoid(out)\n",
        "\n",
        "        # 배치 크기가 먼저 되도록 형상 변경\n",
        "        sig_out = sig_out.view(batch_size, -1)\n",
        "        sig_out = sig_out[:, -1] # 마지막 배치의 레이블을 가져옵니다.\n",
        "\n",
        "        return sig_out, hidden\n",
        "\n",
        "\n",
        "    def init_hidden(self, batch_size):\n",
        "        ''' 숨겨진 상태를 초기화합니다. '''\n",
        "        # LSTM의 숨겨진 상태와 셀 상태에 대해 크기가 n_layers x batch_size x hidden_dim인\n",
        "        # 두 개의 새로운 텐서를 생성하고 0으로 초기화합니다.\n",
        "        h0 = torch.zeros((self.n_layers, batch_size, self.hidden_dim)).to(device)\n",
        "        c0 = torch.zeros((self.n_layers, batch_size, self.hidden_dim)).to(device)\n",
        "        hidden = (h0, c0)\n",
        "        return hidden\n",
        "```"
      ]
    },
    {
      "cell_type": "markdown",
      "metadata": {
        "id": "-Gtql6rpRuS5"
      },
      "source": [
        "### 3.5 하이퍼파라미터 설정\n",
        "모델 클래스가 완성되었다면, 모델의 인스턴스를 생성하기 위해 각종 하이퍼파라미터를 설정합니다.  \n",
        "\n",
        "모델의 하이퍼파라미터란, 학습 과정에서 자동으로 학습되는 것이 아니라, 모델을 학습시키기 전에 사람이 직접 설정해야 하는 값들입니다.  \n",
        "\n",
        "아래 하이퍼파라미터들에 대한 간략한 설명입니다.  \n",
        "\n",
        "- `vocab_size`\n",
        "    - 모델이 처리할 수 있는 어휘의 크기를 나타냅니다.\n",
        "\n",
        "    - 이 값은 단어-정수 매핑에 사용된 고유한 단어의 수에 n=1을 더한 값입니다.\n",
        "    \n",
        "    - 여기서 n을 더하는 이유는 일반적으로 특수 토큰(예: 패딩 토큰, 시작 토큰, 종료 토큰 등)을 위해 추가적인 공간을 확보하기 위함입니다.\n",
        "    \n",
        "    - 해당 실습에서 1은 패딩 토큰(0번)을 의미합니다.\n",
        "\n",
        "    - 이 값은 임베딩 계층의 입력 크기를 결정합니다.\n",
        "\n",
        "- `output_size`\n",
        "    - 모델의 출력 크기를 나타냅니다.\n",
        "    \n",
        "    - 이 경우에는 1로 설정되어 있으며, 이는 이진분류에서 긍정(1) 또는 부정(0)을 나타내는 하나의 값(확률)을 출력하기 때문입니다.\n",
        "\n",
        "    - 만일 이 값을 2로 설정한다면 활성화함수를 `softmax`로 바꾸고, 손실함수 또한 `Catgorical CE`로 바꿔야 합니다.\n",
        "\n",
        "- `embedding_dim`\n",
        "    - 임베딩 벡터의 차원을 나타냅니다.\n",
        "    \n",
        "    - 임베딩 벡터는 단어를 고차원 공간에 표현하는 벡터로, 이 차원의 크기는 해당 공간의 차원 수를 결정합니다.\n",
        "    \n",
        "    - 임베딩 차원이 클수록 단어의 의미를 더 잘 표현할 수 있지만, 계산 비용이 증가합니다.\n",
        "\n",
        "- `hidden_dim`\n",
        "    - LSTM 계층의 숨겨진 상태의 차원을 나타냅니다.\n",
        "    \n",
        "    - 숨겨진 차원이 클수록 LSTM은 더 복잡한 패턴을 학습할 수 있지만, 계산 비용이 증가하고 과적합의 위험이 있습니다.\n",
        "\n",
        "- `n_layers`\n",
        "    - 이는 LSTM 계층의 수를 나타냅니다.\n",
        "    \n",
        "    - LSTM 계층을 여러 개 쌓으면 모델이 더 복잡한 패턴을 학습할 수 있지만, 계산 비용이 증가하고 과적합의 위험이 있습니다."
      ]
    },
    {
      "cell_type": "code",
      "execution_count": null,
      "metadata": {
        "id": "iEaC1dg8aNlf"
      },
      "outputs": [],
      "source": [
        "vocab_size = len(vocab_to_int) + 1 # 패딩 토큰을 추가\n",
        "output_size = 1 # 출력의 크기 감정 0아니면 1\n",
        "embedding_dim = 64 # 임베딩 차원\n",
        "hidden_dim = 256 # 숨겨진 차원\n",
        "n_layers = 2 # lstm 계층 수"
      ]
    },
    {
      "cell_type": "markdown",
      "metadata": {
        "id": "pVnAdHljaOwc"
      },
      "source": [
        "하이퍼파라미터 설정이 완료되었습니다.  \n",
        "\n",
        "이제 모델 인스턴스를 생성하고, 이를 GPU로 이동시킨 후 구조를 출력해보겠습니다."
      ]
    },
    {
      "cell_type": "markdown",
      "metadata": {
        "id": "eD3mV9pbG0jQ"
      },
      "source": [
        "### [TODO] 위에서 선언된 하이퍼파라미터를 이용하여 아래 모델 인스턴스를 생성해주세요."
      ]
    },
    {
      "cell_type": "code",
      "execution_count": null,
      "metadata": {
        "id": "kKebOX9KbEu0",
        "colab": {
          "base_uri": "https://localhost:8080/"
        },
        "outputId": "9b9be039-1464-4044-888e-5b44e4bcf971"
      },
      "outputs": [
        {
          "output_type": "stream",
          "name": "stdout",
          "text": [
            "sentimentLSTM(\n",
            "  (embedding): Embedding(222610, 64)\n",
            "  (lstm): LSTM(64, 256, num_layers=2, batch_first=True, dropout=0.5)\n",
            "  (dropout): Dropout(p=0.3, inplace=False)\n",
            "  (fc): Linear(in_features=256, out_features=1, bias=True)\n",
            "  (sigmoid): Sigmoid()\n",
            ")\n"
          ]
        }
      ],
      "source": [
        "model = sentimentLSTM(vocab_size, output_size, embedding_dim, hidden_dim, n_layers)\n",
        "\n",
        "model = model.to(device)\n",
        "print(model)"
      ]
    },
    {
      "cell_type": "markdown",
      "metadata": {
        "id": "j8D6dpU-G0jQ"
      },
      "source": [
        "> 예시 코드\n",
        "```\n",
        "# sentimentLSTM 클래스를 사용하여 모델을 생성합니다.\n",
        "model = sentimentLSTM(vocab_size, output_size, embedding_dim, hidden_dim, n_layers)\n",
        "\n",
        "# 모델을 현재 작업 중인 장치(CPU 또는 GPU)로 이동시킵니다.\n",
        "model = model.to(device)\n",
        "\n",
        "# 모델의 구조를 출력합니다.\n",
        "print(model)\n",
        "```"
      ]
    },
    {
      "cell_type": "markdown",
      "metadata": {
        "id": "QMBCRIsHcK5m"
      },
      "source": [
        "## 4. 모델 훈련\n",
        "모델 인스턴스가 생성되었으므로, 훈련을 시켜보겠습니다.  \n",
        "\n",
        "우선 모델 학습에 필요한 손실함수와 옵티마이저, 학습률을 설정하겠습니다."
      ]
    },
    {
      "cell_type": "code",
      "execution_count": null,
      "metadata": {
        "id": "xbv48GbUPRR7"
      },
      "outputs": [],
      "source": [
        "criterion = nn.BCELoss()\n",
        "\n",
        "lr = 0.001\n",
        "optimizer = torch.optim.Adam(model.parameters(), lr=lr)\n"
      ]
    },
    {
      "cell_type": "markdown",
      "metadata": {
        "id": "lG6o0IWXcb-w"
      },
      "source": [
        "분류 문제의 경우 주로 정확도를 평가지표로 사용합니다.  \n",
        "\n",
        "학습과 검증 중간에 정확도를 출력하기 위해 모델 예측값(`pred`)과 실제 정답(`label`)을 입력받아 정확도를 계산하는 함수를 선언해봅시다."
      ]
    },
    {
      "cell_type": "code",
      "execution_count": null,
      "metadata": {
        "id": "sKC4ENJscbhP"
      },
      "outputs": [],
      "source": [
        "def acc(pred, label):\n",
        "    ''' 정확도를 계산합니다. '''\n",
        "    pred = torch.round(pred.squeeze())\n",
        "    return torch.sum(pred == label.squeeze()).item()"
      ]
    },
    {
      "cell_type": "markdown",
      "metadata": {
        "id": "6nQeoEltcyHB"
      },
      "source": [
        "### 4.1 학습 함수 선언\n",
        "\n",
        "이번엔 모델을 학습하는 함수를 선언해보도록 하겠습니다.  \n",
        "\n",
        "함수의 구조는 다음과 같습니다.\n",
        "\n",
        "**입력:**\n",
        "\n",
        "- `model`: 훈련시킬 PyTorch 모델입니다. 이 경우 LSTM 모델이며, forward 메소드와 init_hidden 메소드를 가지고 있어야 합니다.\n",
        "\n",
        "- `train_loader`: 훈련 데이터를 불러오는 PyTorch DataLoader입니다.\n",
        "\n",
        "- `criterion`: 손실 함수입니다. Binary Cross entropy 함수로 모델의 출력과 실제 레이블 간의 차이를 측정합니다.\n",
        "\n",
        "- `optimizer`: 최적화 알고리즘으로, 모델의 가중치를 업데이트합니다.\n",
        "\n",
        "- `clip`: 기울기 클리핑에 사용되는 임계값입니다. 기울기 폭발(Exploding gradient) 문제를 방지하는 데 도움이 됩니다.\n",
        "\n",
        "- `device`: 모델과 데이터를 실행할 장치입니다.\n",
        "\n",
        "**출력:**\n",
        "\n",
        "- `train_losses`: 각 배치에 대한 손실값들의 리스트입니다.\n",
        "\n",
        "- `train_acc`: 훈련 데이터에 대한 모델의 정확도입니다.\n",
        "\n",
        "**작동 방식:**\n",
        "\n",
        "1. 모델을 훈련 모드로 설정합니다.\n",
        "\n",
        "2. 각 배치에 대해 다음을 수행합니다:\n",
        "    - Hidden state를 초기화합니다.\n",
        "    \n",
        "    - 모델의 그래디언트를 0으로 설정합니다.\n",
        "    \n",
        "    - 모델을 통해 입력을 전달하고 출력을 얻습니다.\n",
        "    \n",
        "    - 손실 함수를 사용하여 손실을 계산합니다.\n",
        "    \n",
        "    - 손실에 대해 역전파를 수행합니다.\n",
        "    \n",
        "    - 기울기 클리핑을 수행하여 기울기 폭발을 방지합니다.\n",
        "    \n",
        "    - 최적화 알고리즘을 사용하여 모델의 가중치를 업데이트합니다.\n",
        "\n",
        "3. 모든 배치에 대한 손실과 정확도를 반환합니다."
      ]
    },
    {
      "cell_type": "code",
      "execution_count": null,
      "metadata": {
        "id": "K4waIOgdPXFG"
      },
      "outputs": [],
      "source": [
        "def train_model(model, train_loader, criterion, optimizer, clip, device):\n",
        "    train_losses= [] *1\n",
        "    train_acc = 0.0\n",
        "    model.train()\n",
        "    #hidden state 초기화\n",
        "    h = model.init_hidden(batch_size)\n",
        "\n",
        "    #Dataloder에서 데이터 배치단위 추출 후 학습\n",
        "    for inputs, labels in train_loader:\n",
        "        inputs, labels = inputs.to(device), labels.to(device) #데이터를 GPU로 이동\n",
        "\n",
        "        h = tuple([each.data for each in h]) #전체 훈련 기록을 통해 역전파 하지않게 새 변수 생성\n",
        "        #each.data gradient정보를 제외하고 데이터 부분만 추출\n",
        "\n",
        "        model.zero_grad() #가중치 초기화\n",
        "        output, h = model(inputs, h) # 순전파\n",
        "\n",
        "        #손실 계산 및 역전파\n",
        "        loss = criterion(output.squeeze(), labels.float())\n",
        "        loss.backward() #손실에 대해 역전파를 수행하여 그래디언트를 계산\n",
        "        train_losses.append(loss.item()) # 계산된 손실을 train_loss 리스트에 추가 *1\n",
        "        #정확도 계산\n",
        "        accuracy = acc(output, labels)\n",
        "        train_acc += accuracy\n",
        "        #모델 기울기 폭발 방지\n",
        "        nn.utils.clip_grad_norm_(model.parameters(), clip)\n",
        "        optimizer.step()\n",
        "\n",
        "    return train_losses, train_acc"
      ]
    },
    {
      "cell_type": "markdown",
      "metadata": {
        "id": "xMskT_pce_6i"
      },
      "source": [
        "### 4.2 검증 함수 선언\n",
        "\n",
        "모델의 검증을 위한 함수입니다.  \n",
        "\n",
        "검증은 한 에포크마다 모델의 학습이 완료된 후 실행됩니다.  \n",
        "\n",
        "전반적인 구조는 위 학습 함수와 유사하지만, 모델을 평가 모드(`.eval()`)로 설정하며 역전파 계산을 하지 않는 다는 점이 다릅니다."
      ]
    },
    {
      "cell_type": "code",
      "execution_count": null,
      "metadata": {
        "id": "uc1gKougQBQW"
      },
      "outputs": [],
      "source": [
        "def valid_model(model, valid_loader, criterion, device):\n",
        "    val_losses = []\n",
        "    val_acc = 0.0\n",
        "    model.eval() # 검증모드를 설정해주는 설정\n",
        "\n",
        "    val_h = model.init_hidden(batch_size)\n",
        "\n",
        "    for inputs, labels in valid_loader:\n",
        "        val_h = tuple([each.data for each in val_h])\n",
        "\n",
        "        inputs, labels = inputs.to(device), labels.to(device)\n",
        "\n",
        "        output, val_h = model(inputs, val_h) #순전파\n",
        "\n",
        "        val_loss = criterion(output.squeeze(), labels.float()) #손실계산\n",
        "        val_losses.append(val_loss.item())\n",
        "\n",
        "        accuracy = acc(output, labels)\n",
        "        val_acc += accuracy\n",
        "\n",
        "    return val_losses, val_acc"
      ]
    },
    {
      "cell_type": "markdown",
      "metadata": {
        "id": "57lKxcpGjPIc"
      },
      "source": [
        "### 4.3 모델 훈련\n",
        "\n",
        "검증 함수 선언이 끝났다면, 위에서 선언한 두 함수를 통해 모델을 훈련시킵니다.  \n",
        "  \n",
        "우선 그래디언트 클리핑에 사용할 값, 에포크 수, 최소 검증 손실을 설정합니다."
      ]
    },
    {
      "cell_type": "code",
      "execution_count": null,
      "metadata": {
        "id": "Quq4mlHTjn09"
      },
      "outputs": [],
      "source": [
        "clip = 5\n",
        "epochs = 5\n",
        "valid_loss_min = np.Inf"
      ]
    },
    {
      "cell_type": "markdown",
      "metadata": {
        "id": "LR2ACJs3jqJ4"
      },
      "source": [
        "모델을 학습시키며 기록된 손실과 정확도를 리스트에 기록하며, 이를 매 에포크마다 출력합니다.  \n",
        "\n",
        "또, 검증 손실값(Validation loss)이 가장 낮은 시점에 모델을 저장하도록 하겠습니다."
      ]
    },
    {
      "cell_type": "code",
      "execution_count": null,
      "metadata": {
        "id": "UThMJVunPokO",
        "colab": {
          "base_uri": "https://localhost:8080/"
        },
        "outputId": "b4bf6c04-2118-475f-97f1-1ccd012ad744"
      },
      "outputs": [
        {
          "output_type": "stream",
          "name": "stdout",
          "text": [
            "Epoch 1\n",
            "train_loss: 0.5341564099499061 val_loss: 0.40347909550001093\n",
            "train_acc: 72.37110802974915 val_acc: 81.64582492940701\n",
            "Validation loss decreased (inf --> 0.403479).  Saving model ...\n",
            "==================================================\n",
            "Epoch 2\n",
            "train_loss: 0.3168741831791988 val_loss: 0.34995512209542384\n",
            "train_acc: 86.67591075255262 val_acc: 84.97377974989915\n",
            "Validation loss decreased (0.403479 --> 0.349955).  Saving model ...\n",
            "==================================================\n",
            "Epoch 3\n",
            "train_loss: 0.21888655868807658 val_loss: 0.3419716698782785\n",
            "train_acc: 91.58452035799823 val_acc: 85.57886244453408\n",
            "Validation loss decreased (0.349955 --> 0.341972).  Saving model ...\n",
            "==================================================\n",
            "Epoch 4\n",
            "train_loss: 0.15252904778555385 val_loss: 0.36746079941558374\n",
            "train_acc: 94.5367452413967 val_acc: 84.99394917305365\n",
            "==================================================\n",
            "Epoch 5\n",
            "train_loss: 0.09505471858083961 val_loss: 0.4131787975693678\n",
            "train_acc: 96.78810034035044 val_acc: 85.69987898346108\n",
            "==================================================\n"
          ]
        }
      ],
      "source": [
        "epoch_tr_loss, epoch_tr_acc = [], []\n",
        "epoch_vl_loss, epoch_vl_acc = [], []\n",
        "\n",
        "for epoch in range(epochs): # 설정한 에포크 수만큼 모델을 훈련하고 검증\n",
        "    train_losses, train_acc = train_model(model, train_loader, criterion, optimizer, clip, device) #모델 훈련\n",
        "    val_losses, val_acc = valid_model(model, valid_loader, criterion, device) #모델 검증\n",
        "    #에포크별 손실 및 정확도 계산\n",
        "    epoch_train_loss = np.mean(train_losses)\n",
        "    epoch_val_loss = np.mean(val_losses)\n",
        "    epoch_train_acc = train_acc/len(train_loader.dataset)\n",
        "    epoch_val_acc = val_acc/len(valid_loader.dataset)\n",
        "    epoch_tr_loss.append(epoch_train_loss)\n",
        "    epoch_vl_loss.append(epoch_val_loss)\n",
        "    epoch_tr_acc.append(epoch_train_acc)\n",
        "    epoch_vl_acc.append(epoch_val_acc)\n",
        "\n",
        "    print(f'Epoch {epoch+1}')\n",
        "    print(f'train_loss: {epoch_train_loss} val_loss: {epoch_val_loss}')\n",
        "    print(f'train_acc: {epoch_train_acc*100} val_acc: {epoch_val_acc*100}')\n",
        "\n",
        "    if epoch_val_loss <= valid_loss_min:\n",
        "        torch.save(model.state_dict(), './save_files/state_dict.pt')\n",
        "        print('Validation loss decreased ({:.6f} --> {:.6f}).  Saving model ...'.format(valid_loss_min, epoch_val_loss))\n",
        "        valid_loss_min = epoch_val_loss\n",
        "    print(25*'==')"
      ]
    },
    {
      "cell_type": "markdown",
      "metadata": {
        "id": "fvfPJigNkYSn"
      },
      "source": [
        "## 5. 모델 평가\n",
        "\n",
        "모델 학습이 마쳤다면, 평가 과정을 통해 학습 데이터셋에 포함되지 않은 정보에 대해서도 올바른 성능을 보이는지 확인해야 합니다.  \n",
        "\n",
        "우선 모델의 평가를 위한 함수를 선언합니다.  \n",
        "\n",
        "함수의 구조는 전반적으로 검증 함수와 유사합니다.  \n",
        "\n",
        "다만 차이점은 모델의 학습 중간에 실행되는 것이 아니라, 학습이 완료된 후에 진행된다는 점입니다."
      ]
    },
    {
      "cell_type": "markdown",
      "metadata": {
        "id": "Cqm0yOCdlSeV"
      },
      "source": [
        "### 5.1 평가 함수 선언"
      ]
    },
    {
      "cell_type": "code",
      "execution_count": null,
      "metadata": {
        "id": "Tli_jrtkP75b"
      },
      "outputs": [],
      "source": [
        "def test_model(model, test_loader, criterion, device):\n",
        "    test_losses = []\n",
        "    num_correct = 0\n",
        "\n",
        "    #은닉상태 초기화\n",
        "    test_h = model.init_hidden(batch_size)\n",
        "\n",
        "    model.eval() # 평가모드\n",
        "\n",
        "    for inputs, labels in test_loader: #테스트 데이터를 순회\n",
        "        test_h = tuple([each.data for each in test_h])\n",
        "\n",
        "        inputs, labels = inputs.to(device), labels.to(device) # 장치로 이동\n",
        "        output, test_h = model(inputs, test_h) #모델 실행\n",
        "\n",
        "        #손실계산\n",
        "        test_loss = criterion(output.squeeze(), labels.float())\n",
        "        test_losses.append(test_loss.item())\n",
        "        #출력 확률을 예측된 클래스로 변환\n",
        "        pred = torch.round(output.squeeze())\n",
        "\n",
        "        # 예측과 실제 레이블 비교\n",
        "        correct_tensor = pred.eq(labels.float().view_as(pred))\n",
        "        correct = np.squeeze(correct_tensor.cpu().numpy())\n",
        "        num_correct += np.sum(correct)\n",
        "\n",
        "    return test_losses, num_correct"
      ]
    },
    {
      "cell_type": "markdown",
      "metadata": {
        "id": "DsHncJDpksy6"
      },
      "source": [
        "평가 함수가 선언되었다면, 모델의 훈련 중 가장 성능이 좋았던 체크포인트를 불러와 이를 바탕으로 테스트를 진행합니다.  \n",
        "\n",
        "우선 모델을 불러온 후, 테스트 함수를 통해 성능을 평가해보겠습니다."
      ]
    },
    {
      "cell_type": "markdown",
      "metadata": {
        "id": "A9il3Na5G0jS"
      },
      "source": [
        "### [TODO] 아래 코드의 빈칸을 완성하여 모델을 불러오고, 모델의 학습 결과를 출력해봅시다."
      ]
    },
    {
      "cell_type": "code",
      "execution_count": null,
      "metadata": {
        "id": "KoA_2Nm6QsXP",
        "colab": {
          "base_uri": "https://localhost:8080/"
        },
        "outputId": "15b31319-f6ac-431b-97e8-f88f4555a965"
      },
      "outputs": [
        {
          "output_type": "stream",
          "name": "stdout",
          "text": [
            "Test loss: 0.346\n",
            "Test accuracy: 0.850\n"
          ]
        }
      ],
      "source": [
        "model.load_state_dict(torch.load('./save_files/state_dict.pt'))\n",
        "\n",
        "test_losses, num_correct = test_model(model, test_loader, criterion, device)\n",
        "\n",
        "print(\"Test loss: {:.3f}\".format(np.mean(test_losses)))\n",
        "\n",
        "test_acc = num_correct/len(test_loader.dataset)\n",
        "print(\"Test accuracy: {:.3f}\".format(test_acc))"
      ]
    },
    {
      "cell_type": "markdown",
      "metadata": {
        "id": "jIzeVDNTG0jS"
      },
      "source": [
        "> 예시코드\n",
        "```\n",
        "# 저장된 모델을 불러옵니다.\n",
        "model.load_state_dict(torch.load('./save_files/state_dict.pt'))\n",
        "\n",
        "# 불러온 모델을 활용하여 테스트를 진행합니다.\n",
        "test_losses, num_correct = test_model(model, test_loader, criterion, device)\n",
        "\n",
        "# 평균 테스트 손실\n",
        "print(\"Test loss: {:.3f}\".format(np.mean(test_losses)))\n",
        "\n",
        "# 전체 테스트 데이터에 대한 정확도\n",
        "test_acc = num_correct/len(test_loader.dataset)\n",
        "print(\"Test accuracy: {:.3f}\".format(test_acc))\n",
        "```"
      ]
    },
    {
      "cell_type": "markdown",
      "metadata": {
        "id": "IydR4mfZleku"
      },
      "source": [
        "테스트 정확도와 손실값이 학습 중간에 진행했던 검정 결과와 크게 다르지 않음을 확인할 수 있습니다.  "
      ]
    },
    {
      "cell_type": "markdown",
      "metadata": {
        "id": "snR5tGaplmj8"
      },
      "source": [
        "### 5.2 Confusion matrix와 Classification report\n",
        "\n",
        "Classification Report는 분류 문제에서 모델의 성능을 요약하여 보여주는 종합 평가지표입니다.  \n",
        "\n",
        "Scikit-learn에서 Classification report를 손쉽게 불러와 사용할 수 있으며, 각 클래스에 대한 정밀도 (Precision), 재현율 (Recall), F1 점수 (F1-Score), 그리고 전체 항목의 정확도 (Accuracy)를 제공합니다.  \n",
        "\n",
        "위 네 가지 평가지표는 모델의 예측과 실제 관계를 바탕으로 한 네 가지 결과(TP, FP, TN, FN)의 조합으로 계산됩니다.  \n",
        "\n",
        "Confusion matrix는 모델의 예측값과 실제 정답을 입력으로 요구하기에, 이들을 모델에서 얻어내 리스트 형태로 저장하겠습니다.\n"
      ]
    },
    {
      "cell_type": "code",
      "execution_count": null,
      "metadata": {
        "id": "_P-f6mV5WdL4",
        "colab": {
          "base_uri": "https://localhost:8080/"
        },
        "outputId": "6775e9fb-0829-4af4-870f-fd32c0e7252c"
      },
      "outputs": [
        {
          "output_type": "stream",
          "name": "stdout",
          "text": [
            "[0.0, 1.0, 1.0, 0.0, 0.0, 1.0, 1.0, 0.0, 1.0, 0.0]\n",
            "[0, 1, 1, 0, 0, 1, 1, 0, 1, 0]\n"
          ]
        }
      ],
      "source": [
        "from sklearn.metrics import confusion_matrix, classification_report\n",
        "\n",
        "predictions = []\n",
        "true_labels = []\n",
        "\n",
        "model.eval()\n",
        "\n",
        "h = model.init_hidden(batch_size)\n",
        "\n",
        "for inputs, labels in test_loader:\n",
        "    inputs, labels = inputs.to(device), labels.to(device)\n",
        "    h = tuple([each.data for each in h])\n",
        "    output, h = model(inputs, h)\n",
        "\n",
        "    pred = torch.round(output.squeeze())\n",
        "\n",
        "    predictions += list(pred.detach().cpu().numpy())\n",
        "    true_labels += list(labels.cpu().numpy())\n",
        "\n",
        "print(predictions[:10])\n",
        "print(true_labels[:10])\n",
        "\n"
      ]
    },
    {
      "cell_type": "markdown",
      "metadata": {
        "id": "tgSKcpB_o8Fi"
      },
      "source": [
        "이번엔 TP, FP, TN, FN를 출력하기 위한 Confusion matrix를 불러와 모델의 결과에 적용해보겠습니다.  \n",
        "\n",
        "Confusion matrix의 결과물 자체는 이진 분류의 경우 (2, 2) 형태의 이중 리스트로 표현되므로, 이를 히트맵을 이용해 시각화시켜보겠습니다."
      ]
    },
    {
      "cell_type": "markdown",
      "metadata": {
        "id": "KmizmeJJG0jT"
      },
      "source": [
        "### [TODO] 아래 코드를 완성시켜 Classification report를 완성하고, 이를 시각화시켜주세요."
      ]
    },
    {
      "cell_type": "code",
      "execution_count": null,
      "metadata": {
        "id": "q44cz7LeWdyh",
        "colab": {
          "base_uri": "https://localhost:8080/",
          "height": 623
        },
        "outputId": "356f13a0-440e-4bec-cc29-2031bb97857c"
      },
      "outputs": [
        {
          "output_type": "display_data",
          "data": {
            "text/plain": [
              "<Figure size 1000x700 with 2 Axes>"
            ],
            "image/png": "[encoded data removed]"
          },
          "metadata": {}
        }
      ],
      "source": [
        "# confusion matrix 생성\n",
        "cm = confusion_matrix(true_labels, predictions)\n",
        "\n",
        "# confusion matrix를 heatmap으로 그리기\n",
        "plt.figure(figsize=(10,7))\n",
        "sns.heatmap(cm, annot=True, fmt='d')\n",
        "plt.xlabel('Predicted')\n",
        "plt.ylabel('Truth')\n",
        "\n",
        "# y축의 위아래를 바꾸기\n",
        "plt.gca().invert_yaxis()\n",
        "\n",
        "plt.show()"
      ]
    },
    {
      "cell_type": "markdown",
      "metadata": {
        "id": "uIBbeln4G0jT"
      },
      "source": [
        "> 예시코드\n",
        "\n",
        "```\n",
        "# confusion matrix 생성\n",
        "cm = confusion_matrix(true_labels, predictions)\n",
        "\n",
        "# confusion matrix를 heatmap으로 그리기\n",
        "plt.figure(figsize=(10,7))\n",
        "sns.heatmap(cm, annot=True, fmt='d')\n",
        "plt.xlabel('Predicted')\n",
        "plt.ylabel('Truth')\n",
        "\n",
        "# y축의 위아래를 바꾸기\n",
        "plt.gca().invert_yaxis()\n",
        "\n",
        "plt.show()\n",
        "```"
      ]
    },
    {
      "cell_type": "markdown",
      "metadata": {
        "id": "_ILg5-ZMsxT8"
      },
      "source": [
        "위에서부터 오른쪽 방향으로  \n",
        "FN, TP  \n",
        "TN, TP  입니다.  \n",
        "\n",
        "TN과 TP가 고루 높고, FP와 FN도 고루 낮으며 어느 한 쪽으로 치우침 없이 모델이 훈련된 것을 확인할 수 있습니다.  \n",
        "\n",
        "이번에는 모델의 결과를 바탕으로 Classification report를 생성해보겠습니다.  "
      ]
    },
    {
      "cell_type": "code",
      "execution_count": null,
      "metadata": {
        "id": "g5WCweyhW53n"
      },
      "outputs": [],
      "source": []
    },
    {
      "cell_type": "markdown",
      "metadata": {
        "id": "HZD7ufwUtks6"
      },
      "source": [
        "위에서 확인한 Confusion matrix와 유사하게, 평가지표 값들이 어느 한 쪽으로 치우쳐져 있지는 않은 것을 확인할 수 있습니다.  \n",
        "\n",
        "즉 이 모델은 클래스 0과 1을 비교적 잘 분류하며, 정밀도와 재현율이 균형을 이루고 있음을 알 수 있습니다.\n",
        "\n",
        "다만 절대적인 정확도가 다소 낮기에, 이는 추가적인 데이터 전처리와 다른 발전된 여러 모델 훈련을 통해 개선할 수 있을 것으로 보입니다.  "
      ]
    }
  ],
  "metadata": {
    "accelerator": "GPU",
    "colab": {
      "gpuType": "T4",
      "provenance": []
    },
    "kernelspec": {
      "display_name": "Python 3",
      "name": "python3"
    },
    "language_info": {
      "codemirror_mode": {
        "name": "ipython",
        "version": 3
      },
      "file_extension": ".py",
      "mimetype": "text/x-python",
      "name": "python",
      "nbconvert_exporter": "python",
      "pygments_lexer": "ipython3",
      "version": "3.8.16"
    },
    "orig_nbformat": 4
  },
  "nbformat": 4,
  "nbformat_minor": 0
}