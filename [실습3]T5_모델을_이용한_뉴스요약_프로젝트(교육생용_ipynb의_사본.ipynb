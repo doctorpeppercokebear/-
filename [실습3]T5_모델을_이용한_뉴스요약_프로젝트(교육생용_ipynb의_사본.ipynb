{
  "cells": [
    {
      "cell_type": "markdown",
      "metadata": {
        "id": "view-in-github",
        "colab_type": "text"
      },
      "source": [
        "<a href=\"https://colab.research.google.com/github/doctorpeppercokebear/Language-model/blob/main/%5B%EC%8B%A4%EC%8A%B53%5DT5_%EB%AA%A8%EB%8D%B8%EC%9D%84_%EC%9D%B4%EC%9A%A9%ED%95%9C_%EB%89%B4%EC%8A%A4%EC%9A%94%EC%95%BD_%ED%94%84%EB%A1%9C%EC%A0%9D%ED%8A%B8(%EA%B5%90%EC%9C%A1%EC%83%9D%EC%9A%A9_ipynb%EC%9D%98_%EC%82%AC%EB%B3%B8.ipynb\" target=\"_parent\"><img src=\"https://colab.research.google.com/assets/colab-badge.svg\" alt=\"Open In Colab\"/></a>"
      ]
    },
    {
      "cell_type": "markdown",
      "metadata": {
        "id": "cm59QWo5gwxl"
      },
      "source": [
        "# [실습 3] T5 모델을 이용한 뉴스 요약 프로젝트"
      ]
    },
    {
      "cell_type": "markdown",
      "metadata": {
        "id": "OUHIbgxsg4Na"
      },
      "source": [
        "## 실습 목표\n",
        "\n",
        "---\n",
        "\n",
        "1. Hugging Face 프레임워크의 기능을 알아보고, 기초적인 사용법을 익힙니다.\n",
        "\n",
        "2. T5 모델을 이용하여 뉴스 내용을 요약해보고, 이를 헤드라인과 비교해보는 실습을 진행합니다.\n",
        "\n",
        "3. Rouge 평가지표를 이용하여 모델의 성능을 확인해봅니다."
      ]
    },
    {
      "cell_type": "markdown",
      "metadata": {
        "id": "oLAa9sYkgWCP"
      },
      "source": [
        "# Hugging Face 프레임워크 기초 실습\n",
        "\n",
        "이번 실습 시간에는 Hugging Face의 다양한 라이브러리와 API를 사용하는 방법을 익혀보겠습니다.  \n",
        "\n",
        "![](https://huggingface.co/datasets/huggingface/brand-assets/resolve/main/hf-logo-with-title.svg)\n",
        "\n"
      ]
    },
    {
      "cell_type": "markdown",
      "metadata": {
        "id": "K71SuQP2YHwB"
      },
      "source": [
        "Hugging Face는 자연어 처리(NLP) 분야에서 가장 인기 있는 딥러닝 모델 및 도구를 제공하는 플랫폼입니다.  \n",
        "\n",
        "주로 `transformers` 라이브러리를 통해 다양한 사전 훈련된 모델을 제공하며, 연구자와 개발자들 사이에서 널리 사용됩니다.\n",
        "\n",
        "저번 시간에 구현해본 BERT 모델이 기억나시나요? 모델을 구현하는 데에 꽤 많은 시간과 노력이 소요되었지만, `transformers`라이브러리를 이용한다면 아래처럼 쉽게 모델을 사용할 수 있습니다."
      ]
    },
    {
      "cell_type": "code",
      "execution_count": 119,
      "metadata": {
        "id": "z6i6yr6mY0jK",
        "colab": {
          "base_uri": "https://localhost:8080/"
        },
        "outputId": "62b0d016-feae-4496-844d-cefa11325843"
      },
      "outputs": [
        {
          "output_type": "stream",
          "name": "stderr",
          "text": [
            "Some weights of BertForSequenceClassification were not initialized from the model checkpoint at bert-base-multilingual-cased and are newly initialized: ['classifier.bias', 'classifier.weight']\n",
            "You should probably TRAIN this model on a down-stream task to be able to use it for predictions and inference.\n"
          ]
        }
      ],
      "source": [
        "# transformers 라이브러리에서 문장 분류용 BERT 모델과 토크나이저 불러오기\n",
        "import torch\n",
        "from transformers import BertTokenizer, BertForSequenceClassification\n",
        "\n",
        "#토크나이저\n",
        "tokenizer = BertTokenizer.from_pretrained('bert-base-multilingual-cased')\n",
        "\n",
        "#모델\n",
        "model = BertForSequenceClassification.from_pretrained('bert-base-multilingual-cased')\n",
        "# 모델 정의"
      ]
    },
    {
      "cell_type": "markdown",
      "metadata": {
        "id": "9B61n53IZDbG"
      },
      "source": [
        "사용하려는 모델에 맞게 토크나이저도 제공하므로, 텍스트에 손쉽게 적용할 수 있습니다."
      ]
    },
    {
      "cell_type": "code",
      "execution_count": 120,
      "metadata": {
        "id": "KS9hjPqtZKYT",
        "colab": {
          "base_uri": "https://localhost:8080/"
        },
        "outputId": "62b2a6a4-312d-4925-833b-6b4478c73eed"
      },
      "outputs": [
        {
          "output_type": "execute_result",
          "data": {
            "text/plain": [
              "{'input_ids': tensor([[   101,   9521, 118741,  35506,  24982,  48549,    117,  99662,  10901,\n",
              "          11513,   9405,  24974,  33188,  48345,    106,    102]]), 'token_type_ids': tensor([[0, 0, 0, 0, 0, 0, 0, 0, 0, 0, 0, 0, 0, 0, 0, 0]]), 'attention_mask': tensor([[1, 1, 1, 1, 1, 1, 1, 1, 1, 1, 1, 1, 1, 1, 1, 1]])}"
            ]
          },
          "metadata": {},
          "execution_count": 120
        }
      ],
      "source": [
        "text = \"안녕하세요, transformers를 사용합니다!\" # '안녕하세요, transformers를 사용합니다! ' 문자를 넣어 줍니다\n",
        "encoded_input = tokenizer(text, return_tensors='pt')    # 토크나이저에 텍스트를 입력하고, 모델을 가동할 프레임워크(pt = Pytorch)를 인자로 제공\n",
        "encoded_input"
      ]
    },
    {
      "cell_type": "markdown",
      "metadata": {
        "id": "wirToyr8ZYjJ"
      },
      "source": [
        "토큰화된 텍스트는 다음과 같이 사전학습된 모델을 이용하여 추론에 사용됩니다."
      ]
    },
    {
      "cell_type": "code",
      "execution_count": 121,
      "metadata": {
        "id": "zm2ZJhcGabak",
        "colab": {
          "base_uri": "https://localhost:8080/"
        },
        "outputId": "b815ecbf-f211-4906-db49-366064d48999"
      },
      "outputs": [
        {
          "output_type": "execute_result",
          "data": {
            "text/plain": [
              "tensor([[-0.1837,  0.1054]])"
            ]
          },
          "metadata": {},
          "execution_count": 121
        }
      ],
      "source": [
        "with torch.no_grad():\n",
        "    output = model(**encoded_input)\n",
        "logits = output.logits\n",
        "\n",
        "logits\n"
      ]
    },
    {
      "cell_type": "markdown",
      "metadata": {
        "id": "U53CfPyPaci_"
      },
      "source": [
        "모델의 출력값은 Softmax 함수를 통해 확률로 표현할 수 있습니다."
      ]
    },
    {
      "cell_type": "code",
      "execution_count": 122,
      "metadata": {
        "id": "qAefq_liapWr",
        "colab": {
          "base_uri": "https://localhost:8080/"
        },
        "outputId": "877963d1-c67e-46e7-e646-53b1455be357"
      },
      "outputs": [
        {
          "output_type": "execute_result",
          "data": {
            "text/plain": [
              "tensor([[0.4282, 0.5718]])"
            ]
          },
          "metadata": {},
          "execution_count": 122
        }
      ],
      "source": [
        "probabilities = torch.softmax(logits, dim=-1)\n",
        "probabilities"
      ]
    },
    {
      "cell_type": "markdown",
      "metadata": {
        "id": "ifnp1hc0aqHH"
      },
      "source": [
        "지금부터 간단한 예제들을 통해 텍스트 전처리, 토크나이저 사용 및 모델 사용법을 알려드리도록 하겠습니다."
      ]
    },
    {
      "cell_type": "markdown",
      "metadata": {
        "id": "0_MtMKgIPRKA"
      },
      "source": [
        "## 1. 토크나이저\n",
        "\n",
        "토크나이저를 사용하는 주요 이유는 자연어 처리 작업에서 텍스트 데이터를 모델이 이해할 수 있는 형식으로 변환하기 위함입니다."
      ]
    },
    {
      "cell_type": "markdown",
      "metadata": {
        "id": "fXVooSD-iWO_"
      },
      "source": [
        "### 1.1 공백 기반 토크나이저\n",
        "\n",
        "가장 기본적인 형태의 토크나이저는 공백을 기반으로 단어를 나누어 토큰을 생성합니다. Python의 문자열 함수 중 `split()`을 통해 아래와 같이 진행합니다."
      ]
    },
    {
      "cell_type": "code",
      "execution_count": 123,
      "metadata": {
        "id": "L6fvoyjJiTh_",
        "colab": {
          "base_uri": "https://localhost:8080/"
        },
        "outputId": "e380b6bc-1ac1-4ab9-a4d0-13e87b247fc2"
      },
      "outputs": [
        {
          "output_type": "execute_result",
          "data": {
            "text/plain": [
              "['안녕하세요,', 'transformers를', '사용합니다!']"
            ]
          },
          "metadata": {},
          "execution_count": 123
        }
      ],
      "source": [
        "tokenized_text = text.split()\n",
        "tokenized_text"
      ]
    },
    {
      "cell_type": "markdown",
      "metadata": {
        "id": "JHiNUNcijV9B"
      },
      "source": [
        "그러나 공백 단위로 단어를 나누게 되면 완벽하게 나뉘지 않을 뿐더러, 한국어 등 교착어에서는 더욱이나 성능이 떨어지게 됩니다.  \n",
        "\n",
        "고로 대부분의 대규모 언어모델에서는 하위 단어 토큰화(Subword Tokenization) 등 단어의 의미를 더 잘게 나눠 해석할 수 있는 토크나이저를 선호합니다.  \n",
        "\n",
        "모든 모델마다 저마다 최적의 효율을 내는 토크나이저가 따로 있으며, `transformers`라이브러리에서는 사전학습된 토크나이저를 손쉽게 불러올 수 있도록 여러 기능을 지원합니다."
      ]
    },
    {
      "cell_type": "markdown",
      "metadata": {
        "id": "_nybgv06j_0u"
      },
      "source": [
        "### 1.2 토크나이저 불러오기\n",
        "\n",
        "BERT 모델에 사용되는 토크나이저를 불러와보겠습니다.\n",
        "\n",
        "`from_pretrained()`메서드를 사용한다면, 사전학습된 토크나이저를 불러올 수 있습니다."
      ]
    },
    {
      "cell_type": "code",
      "execution_count": 124,
      "metadata": {
        "id": "VVr44TBdiWCD"
      },
      "outputs": [],
      "source": [
        "from transformers import BertTokenizer\n",
        "\n",
        "tokenizer = BertTokenizer.from_pretrained('bert-base-cased')"
      ]
    },
    {
      "cell_type": "markdown",
      "metadata": {
        "id": "Qvaa291CkPXs"
      },
      "source": [
        "토크나이저에 텍스트를 입력하여 결과를 한 번 보도록 하겠습니다."
      ]
    },
    {
      "cell_type": "code",
      "execution_count": 125,
      "metadata": {
        "id": "j7brFBEliYwU",
        "colab": {
          "base_uri": "https://localhost:8080/"
        },
        "outputId": "dbb96295-b072-4884-e5f4-72eb79c469ed"
      },
      "outputs": [
        {
          "output_type": "execute_result",
          "data": {
            "text/plain": [
              "{'input_ids': [101, 7786, 3776, 1144, 8011, 2200, 1103, 1768, 1104, 2379, 1846, 6165, 119, 102], 'token_type_ids': [0, 0, 0, 0, 0, 0, 0, 0, 0, 0, 0, 0, 0, 0], 'attention_mask': [1, 1, 1, 1, 1, 1, 1, 1, 1, 1, 1, 1, 1, 1]}"
            ]
          },
          "metadata": {},
          "execution_count": 125
        }
      ],
      "source": [
        "tokenizer(\"Deep learning has revolutionized the field of natural language processing.\")\n"
      ]
    },
    {
      "cell_type": "markdown",
      "metadata": {
        "id": "5zdCLx36kUOe"
      },
      "source": [
        "이뿐만 아니라, 특정 모델을 불러올 경우 그에 맞는 토크나이저를 자동으로 불러오는 기능도 AutoTokenizer을 통해 구현할 수 있습니다."
      ]
    },
    {
      "cell_type": "code",
      "execution_count": 126,
      "metadata": {
        "id": "8i5KQet4iaCK"
      },
      "outputs": [],
      "source": [
        "from transformers import AutoTokenizer\n",
        "\n",
        "tokenizer = AutoTokenizer.from_pretrained('bert-base-cased')"
      ]
    },
    {
      "cell_type": "markdown",
      "metadata": {
        "id": "lY3-dAqJkb5l"
      },
      "source": [
        "위의 BERT 토크나이저와 결과를 비교해볼까요?\n",
        "\n",
        "### [TODO] 토크나이저에 문장을 넣고 위의 결과와 비교해보세요."
      ]
    },
    {
      "cell_type": "code",
      "execution_count": 127,
      "metadata": {
        "id": "iNBit3LSibHv",
        "colab": {
          "base_uri": "https://localhost:8080/"
        },
        "outputId": "ad869c31-3060-4397-fcae-555b3a8bd72f"
      },
      "outputs": [
        {
          "output_type": "execute_result",
          "data": {
            "text/plain": [
              "{'input_ids': [101, 7786, 3776, 1144, 8011, 2200, 1103, 1768, 1104, 2379, 1846, 6165, 119, 102], 'token_type_ids': [0, 0, 0, 0, 0, 0, 0, 0, 0, 0, 0, 0, 0, 0], 'attention_mask': [1, 1, 1, 1, 1, 1, 1, 1, 1, 1, 1, 1, 1, 1]}"
            ]
          },
          "metadata": {},
          "execution_count": 127
        }
      ],
      "source": [
        "tokenizer(\"Deep learning has revolutionized the field of natural language processing.\")\n"
      ]
    },
    {
      "cell_type": "markdown",
      "metadata": {
        "id": "YnVzUQuI-hof"
      },
      "source": [
        ">예시코드\n",
        "```\n",
        "tokenizer(\"Deep learning has revolutionized the field of natural language processing.\")\n",
        "```"
      ]
    },
    {
      "cell_type": "markdown",
      "metadata": {
        "id": "eIccEivjkjHt"
      },
      "source": [
        "두 토크나이저가 모두 같은 결과를 반환하고 있습니다.  \n",
        "\n",
        "BERT의 토크나이저는 딕셔너리 형태로 세 가지 항목을 반환합니다.\n",
        "\n",
        "- `input_ids`는 문장의 각 토큰에 해당하는 인덱스입니다.\n",
        "- `attention_mask`는 토큰이 Attention을 받아야 하는지 여부를 나타냅니다.\n",
        "- `token_type_ids`는 두 개 이상의 시퀀스가 있을 때 토큰이 어떤 시퀀스에 속하는지를 식별합니다.\n",
        "\n"
      ]
    },
    {
      "cell_type": "markdown",
      "metadata": {
        "id": "L-XjRA4NqYYQ"
      },
      "source": [
        "토크나이저는 배치 단위로 문장을 받을 수도 있습니다."
      ]
    },
    {
      "cell_type": "code",
      "execution_count": 128,
      "metadata": {
        "id": "bv2Z3kLvqcqV",
        "colab": {
          "base_uri": "https://localhost:8080/"
        },
        "outputId": "b7a3aa89-d879-4949-f216-7c8d8f17e480"
      },
      "outputs": [
        {
          "output_type": "execute_result",
          "data": {
            "text/plain": [
              "{'input_ids': [[101, 1706, 1129, 117, 1137, 1136, 1106, 1129, 131, 1115, 1110, 1103, 2304, 119, 102, 0], [101, 1247, 1110, 1720, 1719, 1363, 1137, 2213, 117, 1133, 2422, 2228, 1122, 1177, 119, 102], [101, 1188, 1807, 1155, 131, 1106, 4240, 1162, 1319, 2191, 1129, 2276, 119, 102, 0, 0]], 'token_type_ids': [[0, 0, 0, 0, 0, 0, 0, 0, 0, 0, 0, 0, 0, 0, 0, 0], [0, 0, 0, 0, 0, 0, 0, 0, 0, 0, 0, 0, 0, 0, 0, 0], [0, 0, 0, 0, 0, 0, 0, 0, 0, 0, 0, 0, 0, 0, 0, 0]], 'attention_mask': [[1, 1, 1, 1, 1, 1, 1, 1, 1, 1, 1, 1, 1, 1, 1, 0], [1, 1, 1, 1, 1, 1, 1, 1, 1, 1, 1, 1, 1, 1, 1, 1], [1, 1, 1, 1, 1, 1, 1, 1, 1, 1, 1, 1, 1, 1, 0, 0]]}"
            ]
          },
          "metadata": {},
          "execution_count": 128
        }
      ],
      "source": [
        "batch_sentences = [\n",
        "    \"To be, or not to be: that is the question.\",\n",
        "    \"There is nothing either good or bad, but thinking makes it so.\",\n",
        "    \"This above all: to thine own self be true.\",\n",
        "]\n",
        "\n",
        "encoded_inputs = tokenizer(batch_sentences, padding=True)\n",
        "encoded_inputs"
      ]
    },
    {
      "cell_type": "markdown",
      "metadata": {
        "id": "AZdPVeZhndel"
      },
      "source": [
        "토크나이저를 저장하는 방법은 아래와 같이 간단하게 진행할 수 있습니다.  \n",
        "\n",
        "단 주의할 점은, 아래 경로에 파일의 이름을 적는 것이 아니라, 경로만 적어야 한다는 것입니다. 그 결과로 생성된 경로 안에\n",
        "```\n",
        "('./tokenizer/tokenizer_config.json',\n",
        " './tokenizer/special_tokens_map.json',\n",
        " './tokenizer/vocab.txt',\n",
        " './tokenizer/added_tokens.json',\n",
        " './tokenizer/tokenizer.json')\n",
        "\n",
        " ```\n",
        " 와 같은 파일이 생성된 것을 확인할 수 있습니다."
      ]
    },
    {
      "cell_type": "code",
      "execution_count": 129,
      "metadata": {
        "id": "73PYxrzVidhQ",
        "colab": {
          "base_uri": "https://localhost:8080/"
        },
        "outputId": "46bd5198-a707-44e1-f322-3b915c86eb59"
      },
      "outputs": [
        {
          "output_type": "execute_result",
          "data": {
            "text/plain": [
              "('./tokenizer/tokenizer_config.json',\n",
              " './tokenizer/special_tokens_map.json',\n",
              " './tokenizer/vocab.txt',\n",
              " './tokenizer/added_tokens.json',\n",
              " './tokenizer/tokenizer.json')"
            ]
          },
          "metadata": {},
          "execution_count": 129
        }
      ],
      "source": [
        "tokenizer.save_pretrained('./tokenizer')"
      ]
    },
    {
      "cell_type": "markdown",
      "metadata": {
        "id": "Nvcnx8pglCS9"
      },
      "source": [
        "### 1.3 인코딩과 디코딩\n",
        "토크나이저를 이용하여 위와 다른 방법으로 인코딩을 진행해보겠습니다.  \n",
        "\n",
        "우선 토크나이저의 `tokenize()`메서드를 통해 텍스트를 분할할 수 있습니다.\n",
        "\n",
        "`add_special_tokens=True`로 입력할 경우, 모델에 맞는 특별한 토큰이 추가됩니다.\n",
        "\n",
        "BERT 모델의 경우 [CLS] 토큰을 통해 분류 작업을, [SEP] 토큰을 활용하여 복수의 문장을 구분하는 작업을 주 태스크와 동시에 진행합니다. 그러므로 BERT 토크나이저를 사용할 때, 해당 모델이 요구하는 특수 토큰을 함께 추가해주는 것이죠.  \n",
        "\n",
        "만약 BERT가 아닌 다른 모델이라면, 그에 맞는 특별 토큰이 존재할 경우 자동적으로 추가해줍니다."
      ]
    },
    {
      "cell_type": "code",
      "execution_count": 130,
      "metadata": {
        "id": "xiguShjyieek",
        "colab": {
          "base_uri": "https://localhost:8080/"
        },
        "outputId": "2762aaf7-3781-44fd-a8d0-8662913cd519"
      },
      "outputs": [
        {
          "output_type": "execute_result",
          "data": {
            "text/plain": [
              "['[CLS]',\n",
              " 'To',\n",
              " 'be',\n",
              " ',',\n",
              " 'or',\n",
              " 'not',\n",
              " 'to',\n",
              " 'be',\n",
              " ':',\n",
              " 'that',\n",
              " 'is',\n",
              " 'the',\n",
              " 'question',\n",
              " '.',\n",
              " '[SEP]']"
            ]
          },
          "metadata": {},
          "execution_count": 130
        }
      ],
      "source": [
        "sentence = \"To be, or not to be: that is the question.\"\n",
        "tokens = tokenizer.tokenize(sentence,add_special_tokens=True)\n",
        "tokens"
      ]
    },
    {
      "cell_type": "markdown",
      "metadata": {
        "id": "JiJkSiYolSQH"
      },
      "source": [
        "`convert_tokens_to_ids()`메서드는 분리된 단어들을 인덱스에 매칭시켜줍니다."
      ]
    },
    {
      "cell_type": "code",
      "execution_count": 131,
      "metadata": {
        "id": "ppmulrmzifMj",
        "colab": {
          "base_uri": "https://localhost:8080/"
        },
        "outputId": "178ffe4f-1664-4cc2-c350-ee155a6a7348"
      },
      "outputs": [
        {
          "output_type": "execute_result",
          "data": {
            "text/plain": [
              "[101,\n",
              " 1706,\n",
              " 1129,\n",
              " 117,\n",
              " 1137,\n",
              " 1136,\n",
              " 1106,\n",
              " 1129,\n",
              " 131,\n",
              " 1115,\n",
              " 1110,\n",
              " 1103,\n",
              " 2304,\n",
              " 119,\n",
              " 102]"
            ]
          },
          "metadata": {},
          "execution_count": 131
        }
      ],
      "source": [
        "ids = tokenizer.convert_tokens_to_ids(tokens)\n",
        "ids"
      ]
    },
    {
      "cell_type": "markdown",
      "metadata": {
        "id": "kBQawWTfltgy"
      },
      "source": [
        "만일 모델 학습이 종료되었다면, 출력 결과는 숫자 형태입니다. `decode`메서드를 통해 토큰을 원본 단어로 복원할 수 있습니다."
      ]
    },
    {
      "cell_type": "code",
      "execution_count": 132,
      "metadata": {
        "id": "4NoTcXfbif21",
        "colab": {
          "base_uri": "https://localhost:8080/",
          "height": 35
        },
        "outputId": "a0d09aae-c515-4209-c531-826e15de2ad1"
      },
      "outputs": [
        {
          "output_type": "execute_result",
          "data": {
            "text/plain": [
              "'[CLS] To be, or not to be : that is the question. [SEP]'"
            ],
            "application/vnd.google.colaboratory.intrinsic+json": {
              "type": "string"
            }
          },
          "metadata": {},
          "execution_count": 132
        }
      ],
      "source": [
        "decoded = tokenizer.decode(ids)\n",
        "decoded"
      ]
    },
    {
      "cell_type": "markdown",
      "metadata": {
        "id": "saeK8JeOa1Xa"
      },
      "source": [
        "## 2. 텍스트 전처리"
      ]
    },
    {
      "cell_type": "markdown",
      "metadata": {
        "id": "2T2bJUCDqRDH"
      },
      "source": [
        "### 2.1 패딩\n",
        "\n",
        "문장의 길이가 동일하지 않을 경우, 언어 모델의 입력으로 사용할 수 없습니다.  \n",
        "\n",
        "이러한 경우를 방지하기 위하여 패딩을 토크나이저에 적용할 수 있습니다.\n",
        "\n",
        "아래와 같이 `padding=True`인자를 넣어주게 되면 자동적으로 배치 내 가장 긴 문장을 기준으로 패딩이 적용됩니다."
      ]
    },
    {
      "cell_type": "markdown",
      "metadata": {
        "id": "h6s9oTlT-hog"
      },
      "source": [
        "### [TODO] 예시 문장에 패딩을 첨가하여 토큰화해봅시다."
      ]
    },
    {
      "cell_type": "code",
      "execution_count": 133,
      "metadata": {
        "id": "t9TLJnp2rJtU",
        "colab": {
          "base_uri": "https://localhost:8080/"
        },
        "outputId": "582bc410-e089-4199-dba7-98232b27729f"
      },
      "outputs": [
        {
          "output_type": "stream",
          "name": "stdout",
          "text": [
            "{'input_ids': [[101, 1706, 1129, 117, 1137, 1136, 1106, 1129, 131, 1115, 1110, 1103, 2304, 119, 102, 0], [101, 1247, 1110, 1720, 1719, 1363, 1137, 2213, 117, 1133, 2422, 2228, 1122, 1177, 119, 102], [101, 1188, 1807, 1155, 131, 1106, 4240, 1162, 1319, 2191, 1129, 2276, 119, 102, 0, 0]], 'token_type_ids': [[0, 0, 0, 0, 0, 0, 0, 0, 0, 0, 0, 0, 0, 0, 0, 0], [0, 0, 0, 0, 0, 0, 0, 0, 0, 0, 0, 0, 0, 0, 0, 0], [0, 0, 0, 0, 0, 0, 0, 0, 0, 0, 0, 0, 0, 0, 0, 0]], 'attention_mask': [[1, 1, 1, 1, 1, 1, 1, 1, 1, 1, 1, 1, 1, 1, 1, 0], [1, 1, 1, 1, 1, 1, 1, 1, 1, 1, 1, 1, 1, 1, 1, 1], [1, 1, 1, 1, 1, 1, 1, 1, 1, 1, 1, 1, 1, 1, 0, 0]]}\n"
          ]
        }
      ],
      "source": [
        "batch_sentences = [\n",
        "    \"To be, or not to be: that is the question.\",\n",
        "    \"There is nothing either good or bad, but thinking makes it so.\",\n",
        "    \"This above all: to thine own self be true.\",\n",
        "]\n",
        "encoded_inputs = tokenizer(batch_sentences, padding=True)\n",
        "print(encoded_inputs)"
      ]
    },
    {
      "cell_type": "markdown",
      "metadata": {
        "id": "55JmedsW-hoj"
      },
      "source": [
        "> 예시코드\n",
        "```\n",
        "batch_sentences = [\n",
        "    \"To be, or not to be: that is the question.\",\n",
        "    \"There is nothing either good or bad, but thinking makes it so.\",\n",
        "    \"This above all: to thine own self be true.\",\n",
        "]\n",
        "encoded_inputs = tokenizer(batch_sentences, padding=True)\n",
        "print(encoded_inputs)\n",
        "```"
      ]
    },
    {
      "cell_type": "markdown",
      "metadata": {
        "id": "30n6-WgHrJ_C"
      },
      "source": [
        "### 2.2 길이 제한(Truncation)\n",
        "짧은 문장은 패딩을 통해 긴 문장과 길이를 맞춰줄 수 있지만, 문장의 길이가 너무 길 경우 데이터에 패딩이 지나치게 많이 포함되어 연산에 영향을 줄 수 있습니다.  \n",
        "\n",
        "이 경우 `truncation=True`인자를 이용하면, 길이 제한을 통해 길이가 긴 문자열들의 일부분을 절삭할 수 있습니다.\n",
        "\n",
        "최대 길이는 모델에서 허용한 하이퍼파라미터를 따릅니다."
      ]
    },
    {
      "cell_type": "markdown",
      "metadata": {
        "id": "5JaGbxkQ-hoj"
      },
      "source": [
        "### [TODO] 예시 문장에 패딩과 길이제한을 첨가하여 토큰화해봅시다."
      ]
    },
    {
      "cell_type": "code",
      "execution_count": 134,
      "metadata": {
        "id": "7JOAuTJmrtXg",
        "colab": {
          "base_uri": "https://localhost:8080/"
        },
        "outputId": "65daa137-9cca-44b4-e090-4dfce43dd3b5"
      },
      "outputs": [
        {
          "output_type": "stream",
          "name": "stdout",
          "text": [
            "{'input_ids': [[101, 1706, 1129, 117, 1137, 1136, 1106, 1129, 131, 1115, 1110, 1103, 2304, 119, 102, 0], [101, 1247, 1110, 1720, 1719, 1363, 1137, 2213, 117, 1133, 2422, 2228, 1122, 1177, 119, 102], [101, 1188, 1807, 1155, 131, 1106, 4240, 1162, 1319, 2191, 1129, 2276, 119, 102, 0, 0]], 'token_type_ids': [[0, 0, 0, 0, 0, 0, 0, 0, 0, 0, 0, 0, 0, 0, 0, 0], [0, 0, 0, 0, 0, 0, 0, 0, 0, 0, 0, 0, 0, 0, 0, 0], [0, 0, 0, 0, 0, 0, 0, 0, 0, 0, 0, 0, 0, 0, 0, 0]], 'attention_mask': [[1, 1, 1, 1, 1, 1, 1, 1, 1, 1, 1, 1, 1, 1, 1, 0], [1, 1, 1, 1, 1, 1, 1, 1, 1, 1, 1, 1, 1, 1, 1, 1], [1, 1, 1, 1, 1, 1, 1, 1, 1, 1, 1, 1, 1, 1, 0, 0]]}\n"
          ]
        }
      ],
      "source": [
        "batch_sentences = [\n",
        "    \"To be, or not to be: that is the question.\",\n",
        "    \"There is nothing either good or bad, but thinking makes it so.\",\n",
        "    \"This above all: to thine own self be true.\",\n",
        "]\n",
        "encoded_input = tokenizer(batch_sentences, padding=True, truncation=True)\n",
        "print(encoded_input)"
      ]
    },
    {
      "cell_type": "markdown",
      "metadata": {
        "id": "THwWbbKY-hoj"
      },
      "source": [
        "> 예시코드\n",
        "```\n",
        "batch_sentences = [\n",
        "    \"To be, or not to be: that is the question.\",\n",
        "    \"There is nothing either good or bad, but thinking makes it so.\",\n",
        "    \"This above all: to thine own self be true.\",\n",
        "]\n",
        "encoded_input = tokenizer(batch_sentences, padding=True, truncation=True)\n",
        "print(encoded_input)\n",
        "```"
      ]
    },
    {
      "cell_type": "markdown",
      "metadata": {
        "id": "QjyR44gyry_K"
      },
      "source": [
        "### 2.3 텐서 변환\n",
        "\n",
        "`transformers`의 모델 중 일부분은 Pytorch 환경에서 구현되었고, 또 다른 일부는 Tensorflow에서 만들어졌습니다.\n",
        "\n",
        "이 두 환경은 서로 텐서의 형태를 공유하지 않으므로, 토큰화된 문장을 Pytorch(`pt`) 텐서나 Tensorflow(`tf`) 텐서로 변환할 수 있습니다.\n",
        "\n",
        "`return_tensors` 인자를 다음과 같이 조작할 수 있습니다."
      ]
    },
    {
      "cell_type": "markdown",
      "metadata": {
        "id": "pQbGrrMX-hoj"
      },
      "source": [
        "### [TODO] 예시 문장에 패딩, 길이제한과 텐서 변환을 첨가하여 토큰화해봅시다."
      ]
    },
    {
      "cell_type": "code",
      "execution_count": 135,
      "metadata": {
        "id": "_FmOCpDJsXDP",
        "colab": {
          "base_uri": "https://localhost:8080/"
        },
        "outputId": "da7eaec1-5078-4f96-ed70-18bb76fad16d"
      },
      "outputs": [
        {
          "output_type": "stream",
          "name": "stdout",
          "text": [
            "{'input_ids': tensor([[ 101, 1706, 1129,  117, 1137, 1136, 1106, 1129,  131, 1115, 1110, 1103,\n",
            "         2304,  119,  102,    0],\n",
            "        [ 101, 1247, 1110, 1720, 1719, 1363, 1137, 2213,  117, 1133, 2422, 2228,\n",
            "         1122, 1177,  119,  102],\n",
            "        [ 101, 1188, 1807, 1155,  131, 1106, 4240, 1162, 1319, 2191, 1129, 2276,\n",
            "          119,  102,    0,    0]]), 'token_type_ids': tensor([[0, 0, 0, 0, 0, 0, 0, 0, 0, 0, 0, 0, 0, 0, 0, 0],\n",
            "        [0, 0, 0, 0, 0, 0, 0, 0, 0, 0, 0, 0, 0, 0, 0, 0],\n",
            "        [0, 0, 0, 0, 0, 0, 0, 0, 0, 0, 0, 0, 0, 0, 0, 0]]), 'attention_mask': tensor([[1, 1, 1, 1, 1, 1, 1, 1, 1, 1, 1, 1, 1, 1, 1, 0],\n",
            "        [1, 1, 1, 1, 1, 1, 1, 1, 1, 1, 1, 1, 1, 1, 1, 1],\n",
            "        [1, 1, 1, 1, 1, 1, 1, 1, 1, 1, 1, 1, 1, 1, 0, 0]])}\n"
          ]
        }
      ],
      "source": [
        "\n",
        "batch_sentences = [\n",
        "    \"To be, or not to be: that is the question.\",\n",
        "    \"There is nothing either good or bad, but thinking makes it so.\",\n",
        "    \"This above all: to thine own self be true.\",\n",
        "]\n",
        "\n",
        "encoded_input = tokenizer(batch_sentences, padding=True, truncation=True, return_tensors=\"pt\")\n",
        "print(encoded_input)"
      ]
    },
    {
      "cell_type": "markdown",
      "metadata": {
        "id": "W0A9qU8h-hoj"
      },
      "source": [
        "> 예시코드\n",
        "```\n",
        "batch_sentences = [\n",
        "    \"To be, or not to be: that is the question.\",\n",
        "    \"There is nothing either good or bad, but thinking makes it so.\",\n",
        "    \"This above all: to thine own self be true.\",\n",
        "]\n",
        "encoded_input = tokenizer(batch_sentences, padding=True, truncation=True, return_tensors=\"pt\")\n",
        "print(encoded_input)\n",
        "```"
      ]
    },
    {
      "cell_type": "markdown",
      "metadata": {
        "id": "leHTRNqwPNGW"
      },
      "source": [
        "## 3. 모델\n",
        "\n",
        "모델을 불러오는 과정도 토크나이저를 사용하는 방법과 크게 다르지 않습니다.  \n",
        "\n",
        "우선 이미 사전학습된 BERT 모델을 불러와보겠습니다.\n"
      ]
    },
    {
      "cell_type": "code",
      "execution_count": 136,
      "metadata": {
        "id": "XqPdUGDHsmxM"
      },
      "outputs": [],
      "source": [
        "from transformers import BertModel\n",
        "\n",
        "model = BertModel.from_pretrained(\"bert-base-uncased\")"
      ]
    },
    {
      "cell_type": "markdown",
      "metadata": {
        "id": "nbihzLcnsrNf"
      },
      "source": [
        "### 3.1 커스텀 모델 생성\n",
        "\n",
        "그러나 경우에 따라 사전학습되지 않은 초기화된 모델을 사용하여 처음부터 훈련시켜야 할 수도 있습니다.\n",
        "\n",
        "`transformers`에 있는 모델은 `configuration`객체를 통해 초기화할 수 있습니다."
      ]
    },
    {
      "cell_type": "code",
      "execution_count": 137,
      "metadata": {
        "id": "quJ7Hu_etB0N",
        "colab": {
          "base_uri": "https://localhost:8080/"
        },
        "outputId": "76ab2297-4ac8-4eb3-ff9f-c2ca445b5b1f"
      },
      "outputs": [
        {
          "output_type": "stream",
          "name": "stdout",
          "text": [
            "BertConfig {\n",
            "  \"attention_probs_dropout_prob\": 0.1,\n",
            "  \"classifier_dropout\": null,\n",
            "  \"hidden_act\": \"gelu\",\n",
            "  \"hidden_dropout_prob\": 0.1,\n",
            "  \"hidden_size\": 768,\n",
            "  \"initializer_range\": 0.02,\n",
            "  \"intermediate_size\": 3072,\n",
            "  \"layer_norm_eps\": 1e-12,\n",
            "  \"max_position_embeddings\": 512,\n",
            "  \"model_type\": \"bert\",\n",
            "  \"num_attention_heads\": 12,\n",
            "  \"num_hidden_layers\": 12,\n",
            "  \"pad_token_id\": 0,\n",
            "  \"position_embedding_type\": \"absolute\",\n",
            "  \"transformers_version\": \"4.38.2\",\n",
            "  \"type_vocab_size\": 2,\n",
            "  \"use_cache\": true,\n",
            "  \"vocab_size\": 30522\n",
            "}\n",
            "\n"
          ]
        }
      ],
      "source": [
        "from transformers import BertConfig, BertModel\n",
        "\n",
        "config = BertConfig()\n",
        "print(config)"
      ]
    },
    {
      "cell_type": "markdown",
      "metadata": {
        "id": "P_b_Sc-3tHcf"
      },
      "source": [
        "config는 다음과 같은 딕셔너리 형태로 구성되어 있습니다."
      ]
    },
    {
      "cell_type": "code",
      "execution_count": 138,
      "metadata": {
        "id": "FAcJllCetGJh"
      },
      "outputs": [],
      "source": [
        "model = BertModel(config)"
      ]
    },
    {
      "cell_type": "markdown",
      "metadata": {
        "id": "7EtjdO4ePS-e"
      },
      "source": [
        "아래 모델의 인자로 `config`를 입력할 경우 모델이 초기화됩니다."
      ]
    },
    {
      "cell_type": "code",
      "execution_count": 139,
      "metadata": {
        "id": "aJNdpVbqtef6"
      },
      "outputs": [],
      "source": [
        "from transformers import BertConfig, BertModel\n",
        "\n",
        "# config(설정)을 만듭니다.\n",
        "config = BertConfig()"
      ]
    },
    {
      "cell_type": "markdown",
      "metadata": {
        "id": "b1vTPT2utnnu"
      },
      "source": [
        "### 3.2 모델 저장\n",
        "\n",
        "모델 저장기능은 토크나이저 저장과 동일합니다. 인자 내에 문자열로 디렉토리를 입력하면 해당 위치에 모델 파일이 생성됩니다."
      ]
    },
    {
      "cell_type": "code",
      "execution_count": 140,
      "metadata": {
        "id": "2YlK855PtvwO"
      },
      "outputs": [],
      "source": [
        "model.save_pretrained(\"bert-base-uncased\")"
      ]
    },
    {
      "cell_type": "markdown",
      "metadata": {
        "id": "KWzbXAsHtw1S"
      },
      "source": [
        "이렇게 간단하게 `transformers`라이브러리 사용법을 익혀보았습니다.  \n",
        "\n",
        "이제 이를 바탕으로 뉴스 요약 프로젝트를 진행해보도록 하겠습니다."
      ]
    },
    {
      "cell_type": "markdown",
      "metadata": {
        "id": "h2ilhjSE-hok"
      },
      "source": [
        "---"
      ]
    },
    {
      "cell_type": "markdown",
      "metadata": {
        "id": "dFqaza7MgElT"
      },
      "source": [
        "# T5 모델을 이용한 뉴스 요약 프로젝트\n",
        "\n",
        "요약 생성 메커니즘에는 2가지 유형이 있습니다:\n",
        "\n",
        "추출적 요약 (Extractive Summary)\n",
        "\n",
        "- 정의:  \n",
        "원문에서 가장 중요하다고 판단되는 문장이나 구절을 직접 추출하여 요약을 만드는 방식입니다.\n",
        "\n",
        "- 특징:\n",
        "    - 원문에서 직접적으로 문장을 가져오기 때문에, 요약의 문장들은 원문에 모두 존재합니다.\n",
        "\n",
        "    - 원문의 문맥과 구조를 그대로 유지하기 때문에, 원문의 의미 전달에는 효과적일 수 있습니다.\n",
        "\n",
        "    - 그러나, 요약의 길이나 구조를 조절하기 어려울 수 있습니다.\n",
        "\n",
        "추상적 요약 (Abstractive Summary)\n",
        "\n",
        "- 정의:  \n",
        "원문의 내용을 이해하고, 그 의미를 기반으로 새로운 문장을 생성하여 요약을 만드는 방식입니다.\n",
        "\n",
        "- 특징:\n",
        "\n",
        "    - 원문에 없는 새로운 문장이나 표현을 사용하여 요약을 생성할 수 있습니다.\n",
        "\n",
        "    - 원문의 주요 내용을 더 간결하고 자연스럽게 전달할 수 있습니다.\n",
        "\n",
        "    - 딥러닝 기반의 모델, 특히 시퀀스 투 시퀀스(Seq2Seq) 모델을 활용하여 추상적 요약을 구현하는 경우가 많습니다.\n",
        "\n",
        "    - 원문의 의미를 왜곡할 위험이 있을 수 있으므로, 정확한 요약을 위한 학습이 중요합니다.\n",
        "\n",
        "이번 실습에서는 **문장 생성**을 통한 **추상적 요약** 태스크를 진행해보겠습니다.\n"
      ]
    },
    {
      "cell_type": "markdown",
      "metadata": {
        "id": "URZVuEamf92N"
      },
      "source": [
        "## 1. 모듈 불러오기 및 환경 설정"
      ]
    },
    {
      "cell_type": "markdown",
      "metadata": {
        "id": "txOL9ZCii4jg"
      },
      "source": [
        "### 1.1 모듈 불러오기\n",
        "\n",
        "딥러닝 모델을 구현하고 학습하기 위한 필수 라이브러리들을 불러오겠습니다."
      ]
    },
    {
      "cell_type": "code",
      "execution_count": 141,
      "metadata": {
        "id": "3mtoA9PoQl4Y"
      },
      "outputs": [],
      "source": [
        "# 기본 라이브러리 불러오기\n",
        "import numpy as np\n",
        "import pandas as pd\n",
        "from tqdm import tqdm   # 반복문의 진행 상태를 표시하는 라이브러리\n",
        "\n",
        "# 파이토치 관련 라이브러리 불러오기\n",
        "import torch\n",
        "import torch.nn.functional as F # 파이토치 함수: 다양한 활성화 함수 및 유틸리티 제공\n",
        "from torch.utils.data import Dataset, DataLoader, RandomSampler, SequentialSampler  # 데이터 관련 유틸리티\n",
        "\n",
        "# huggingface/transformers에서 T5 모듈 불러오기\n",
        "from transformers import T5Tokenizer, T5ForConditionalGeneration    # T5 토크나이저와 조건부 생성 모델"
      ]
    },
    {
      "cell_type": "markdown",
      "metadata": {
        "id": "Ea1EDJs8f7Cd"
      },
      "source": [
        "이 코드를 통해 필요한 모든 라이브러리와 모듈을 불러왔으므로, 이제 딥러닝 모델의 구성 및 학습을 시작할 준비가 되었습니다.\n",
        "\n",
        "이어서 딥러닝 모델 학습 시 사용할 하드웨어를 설정하도록 하겠습니다."
      ]
    },
    {
      "cell_type": "markdown",
      "metadata": {
        "id": "8Kh4sDaKi80J"
      },
      "source": [
        "### 1.2 하드웨어 설정"
      ]
    },
    {
      "cell_type": "code",
      "execution_count": 142,
      "metadata": {
        "colab": {
          "base_uri": "https://localhost:8080/",
          "height": 35
        },
        "id": "jK6ywKcDQ419",
        "outputId": "6d5b9f55-938d-4a44-f2eb-39956d8a5f50"
      },
      "outputs": [
        {
          "output_type": "execute_result",
          "data": {
            "text/plain": [
              "'cuda'"
            ],
            "application/vnd.google.colaboratory.intrinsic+json": {
              "type": "string"
            }
          },
          "metadata": {},
          "execution_count": 142
        }
      ],
      "source": [
        "# GPU 사용 설정\n",
        "from torch import cuda\n",
        "\n",
        "device = 'cuda' if cuda.is_available() else 'cpu'   # cuda(GPU)가 사용 가능하면 'cuda'를, 아니면 'cpu'를 device 변수에 할당\n",
        "device"
      ]
    },
    {
      "cell_type": "markdown",
      "metadata": {
        "id": "nv6MFA8aiGvQ"
      },
      "source": [
        "딥러닝 모델의 연산이 GPU에서 수행될 수 있게 되면 학습 속도가 크게 향상됩니다. 만약 GPU가 없거나 사용할 수 없는 경우, CPU에서 연산이 수행됩니다.  "
      ]
    },
    {
      "cell_type": "markdown",
      "metadata": {
        "id": "fcR6BVbdizhr"
      },
      "source": [
        "### 1.3 하이퍼 파라미터 설정\n",
        "\n",
        "이번엔 데이터 전처리와 모델 구성에 앞서 하이퍼 파라미터들을 설정하겠습니다."
      ]
    },
    {
      "cell_type": "code",
      "execution_count": 143,
      "metadata": {
        "id": "v8BDfhoVTV0c"
      },
      "outputs": [],
      "source": [
        "TRAIN_BATCH_SIZE = 2 # 학습 데이터 배치 크기\n",
        "VALID_BATCH_SIZE = 2 # 검증 데이터 배치 크기\n",
        "TRAIN_EPOCHS = 3 # 학습 횟수\n",
        "VAL_EPOCHS = 1 # 검증 횟수\n",
        "LEARNING_RATE = 1e-4\n",
        "\n",
        "MAX_LEN = 512 # 입력 텍스트의 최대 길이\n",
        "SUMMARY_LEN = 128 # 요약 텍스트의 최대 길이"
      ]
    },
    {
      "cell_type": "markdown",
      "metadata": {
        "id": "Rj2Y44e5idfy"
      },
      "source": [
        "- `TRAIN_BATCH_SIZE`와 `VALID_BATCH_SIZE`: 학습 및 검증 데이터의 배치 크기를 설정합니다. 배치 크기는 한 번에 처리되는 데이터의 양을 의미하며, GPU 메모리 용량에 따라 조절될 수 있습니다.\n",
        "\n",
        "- `TRAIN_EPOCHS`와 `VAL_EPOCHS`: 전체 데이터셋에 대해 학습 및 검증을 수행할 횟수를 설정합니다. 에포크가 많을수록 모델은 데이터를 더 많이 볼 수 있지만, 과적합의 위험이 있습니다.\n",
        "\n",
        "- `LEARNING_RATE`: 모델의 가중치를 업데이트할 때 사용되는 학습률을 설정합니다. 너무 큰 학습률은 학습이 불안정해질 수 있고, 너무 작은 학습률은 학습 속도가 느려질 수 있습니다.\n",
        "\n",
        "- `MAX_LEN`와 `SUMMARY_LEN`: 입력 텍스트와 요약 텍스트의 최대 길이를 설정합니다. 텍스트 데이터를 처리할 때, 너무 긴 텍스트는 잘라내거나, 너무 짧은 텍스트는 패딩을 추가하여 이 길이에 맞춰 처리합니다."
      ]
    },
    {
      "cell_type": "markdown",
      "metadata": {
        "id": "bR3KTsKliwMJ"
      },
      "source": [
        "### 1.4 시드 설정"
      ]
    },
    {
      "cell_type": "code",
      "execution_count": 144,
      "metadata": {
        "id": "bX5WEb-MWUE-"
      },
      "outputs": [],
      "source": [
        "# 재현성을 위한 설정\n",
        "SEED = 42               # 난수 시드 값 설정 (기본값: 42)\n",
        "\n",
        "torch.manual_seed(SEED) # 파이토치의 난수 시드 값 설정\n",
        "np.random.seed(SEED)    # 넘파이의 난수 시드 값 설정"
      ]
    },
    {
      "cell_type": "markdown",
      "metadata": {
        "id": "qseNgBAzjHXE"
      },
      "source": [
        "이 코드는 딥러닝 실험의 재현성을 보장하기 위해 난수 생성에 사용되는 시드 값을 설정하는 부분입니다.\n",
        "\n",
        "- `SEED = 42`: 난수 생성을 위한 시드 값을 42로 설정합니다. 이 값은 실험의 재현성을 보장하기 위해 사용되며, 동일한 시드 값으로 여러 번 실험을 실행하면 동일한 결과를 얻을 수 있습니다.\n",
        "\n",
        "- `torch.manual_seed(SEED)`: 파이토치에서 난수를 생성할 때 사용되는 시드 값을 설정합니다. 이를 통해 파이토치 내부에서 발생하는 모든 무작위 연산의 결과가 동일하게 유지됩니다.\n",
        "\n",
        "- `np.random.seed(SEED)`: 넘파이에서 난수를 생성할 때 사용되는 시드 값을 설정합니다. 이를 통해 넘파이 연산에서 발생하는 무작위성이 일정하게 유지됩니다.\n",
        "\n",
        "이러한 설정은 모델 초기화, 데이터 셔플링, 드롭아웃 등의 무작위 연산에서 동일한 결과를 얻기 위해 중요합니다. 실험의 재현성은 연구 결과의 신뢰성을 높이는 데 중요한 요소입니다."
      ]
    },
    {
      "cell_type": "markdown",
      "metadata": {
        "id": "dt-7ElFqjVfr"
      },
      "source": [
        "## 2. 데이터 불러오기 및 전처리\n",
        "\n",
        "이번 시간에는 텍스트 요약(Text summarization)을 위해 뉴스 데이터를 이용하겠습니다.   \n",
        "\n",
        "데이터셋의 출처는 [캐글](https://www.kaggle.com/datasets/sunnysai12345/news-summary?select=news_summary_more.csv)로, Inshorts에서 요약된 뉴스로 구성되어 있습니다. 스크랩된 기사의 출처는 Hindu, Indian times, Guardian이며 수집 기간은 2017년 2월부터 8월까지입니다.  \n",
        "\n",
        "총 4514행의 샘플로 구성되어 있으며, 각 샘플에 대하여 6가지 정보가 열 단위로 저장되어 있습니다.  \n",
        "\n",
        "- author : 기사의 저자\n",
        "- date : 기사가 발행된 날짜\n",
        "- headline : 발행된 기사의 헤드라인\n",
        "- read_more : 온라인으로 기사를 따라가기 위한 URL\n",
        "- text : 기사의 요약문\n",
        "- ctext : 전체 기사\n",
        "\n",
        "우리는 `ctext`의 내용을 요약하여 `text`와 같은 형태로 출력하는 모델을 만들어 보겠습니다."
      ]
    },
    {
      "cell_type": "markdown",
      "metadata": {
        "id": "0zFqxJjxoZ85"
      },
      "source": [
        "### 2.1 데이터 불러오기\n",
        "\n",
        "아래 경로에서 데이터를 불러옵니다."
      ]
    },
    {
      "cell_type": "code",
      "source": [
        "from google.colab import drive\n",
        "drive.mount('/content/drive')"
      ],
      "metadata": {
        "colab": {
          "base_uri": "https://localhost:8080/"
        },
        "id": "ZNjiWnaMVAjk",
        "outputId": "82dd163d-1a6d-4b4a-8568-ab1762f742c1"
      },
      "execution_count": 145,
      "outputs": [
        {
          "output_type": "stream",
          "name": "stdout",
          "text": [
            "Drive already mounted at /content/drive; to attempt to forcibly remount, call drive.mount(\"/content/drive\", force_remount=True).\n"
          ]
        }
      ]
    },
    {
      "cell_type": "code",
      "execution_count": 146,
      "metadata": {
        "id": "9fWhOgg6RDLf"
      },
      "outputs": [],
      "source": [
        "data_path = '/content/news_summary.csv'"
      ]
    },
    {
      "cell_type": "markdown",
      "metadata": {
        "id": "M36MT0_Qoesi"
      },
      "source": [
        "데이터를 Pandas dataframe으로 저장합니다. 일부 문자가 `latin-1` 인코딩으로 저장되어 있으므로 해당 인자를 입력해줍니다.\n",
        "\n"
      ]
    },
    {
      "cell_type": "code",
      "execution_count": 149,
      "metadata": {
        "colab": {
          "base_uri": "https://localhost:8080/",
          "height": 293
        },
        "id": "1vI5rY9ORIVF",
        "outputId": "0a432ec5-725b-40e4-9cea-04a175c7dabe"
      },
      "outputs": [
        {
          "output_type": "execute_result",
          "data": {
            "text/plain": [
              "               author                  date  \\\n",
              "0        Chhavi Tyagi  03 Aug 2017,Thursday   \n",
              "1         Daisy Mowke  03 Aug 2017,Thursday   \n",
              "2      Arshiya Chopra  03 Aug 2017,Thursday   \n",
              "3       Sumedha Sehra  03 Aug 2017,Thursday   \n",
              "4  Aarushi Maheshwari  03 Aug 2017,Thursday   \n",
              "\n",
              "                                           headlines  \\\n",
              "0  Daman & Diu revokes mandatory Rakshabandhan in...   \n",
              "1  Malaika slams user who trolled her for 'divorc...   \n",
              "2  'Virgin' now corrected to 'Unmarried' in IGIMS...   \n",
              "3  Aaj aapne pakad liya: LeT man Dujana before be...   \n",
              "4  Hotel staff to get training to spot signs of s...   \n",
              "\n",
              "                                           read_more  \\\n",
              "0  http://www.hindustantimes.com/india-news/raksh...   \n",
              "1  http://www.hindustantimes.com/bollywood/malaik...   \n",
              "2  http://www.hindustantimes.com/patna/bihar-igim...   \n",
              "3  http://indiatoday.intoday.in/story/abu-dujana-...   \n",
              "4  http://indiatoday.intoday.in/story/sex-traffic...   \n",
              "\n",
              "                                                text  \\\n",
              "0  The Administration of Union Territory Daman an...   \n",
              "1  Malaika Arora slammed an Instagram user who tr...   \n",
              "2  The Indira Gandhi Institute of Medical Science...   \n",
              "3  Lashkar-e-Taiba's Kashmir commander Abu Dujana...   \n",
              "4  Hotels in Maharashtra will train their staff t...   \n",
              "\n",
              "                                               ctext  \n",
              "0  The Daman and Diu administration on Wednesday ...  \n",
              "1  From her special numbers to TV?appearances, Bo...  \n",
              "2  The Indira Gandhi Institute of Medical Science...  \n",
              "3  Lashkar-e-Taiba's Kashmir commander Abu Dujana...  \n",
              "4  Hotels in Mumbai and other Indian cities are t...  "
            ],
            "text/html": [
              "\n",
              "  <div id=\"df-a25dd804-aecb-47fd-ae60-b049d361a996\" class=\"colab-df-container\">\n",
              "    <div>\n",
              "<style scoped>\n",
              "    .dataframe tbody tr th:only-of-type {\n",
              "        vertical-align: middle;\n",
              "    }\n",
              "\n",
              "    .dataframe tbody tr th {\n",
              "        vertical-align: top;\n",
              "    }\n",
              "\n",
              "    .dataframe thead th {\n",
              "        text-align: right;\n",
              "    }\n",
              "</style>\n",
              "<table border=\"1\" class=\"dataframe\">\n",
              "  <thead>\n",
              "    <tr style=\"text-align: right;\">\n",
              "      <th></th>\n",
              "      <th>author</th>\n",
              "      <th>date</th>\n",
              "      <th>headlines</th>\n",
              "      <th>read_more</th>\n",
              "      <th>text</th>\n",
              "      <th>ctext</th>\n",
              "    </tr>\n",
              "  </thead>\n",
              "  <tbody>\n",
              "    <tr>\n",
              "      <th>0</th>\n",
              "      <td>Chhavi Tyagi</td>\n",
              "      <td>03 Aug 2017,Thursday</td>\n",
              "      <td>Daman &amp; Diu revokes mandatory Rakshabandhan in...</td>\n",
              "      <td>http://www.hindustantimes.com/india-news/raksh...</td>\n",
              "      <td>The Administration of Union Territory Daman an...</td>\n",
              "      <td>The Daman and Diu administration on Wednesday ...</td>\n",
              "    </tr>\n",
              "    <tr>\n",
              "      <th>1</th>\n",
              "      <td>Daisy Mowke</td>\n",
              "      <td>03 Aug 2017,Thursday</td>\n",
              "      <td>Malaika slams user who trolled her for 'divorc...</td>\n",
              "      <td>http://www.hindustantimes.com/bollywood/malaik...</td>\n",
              "      <td>Malaika Arora slammed an Instagram user who tr...</td>\n",
              "      <td>From her special numbers to TV?appearances, Bo...</td>\n",
              "    </tr>\n",
              "    <tr>\n",
              "      <th>2</th>\n",
              "      <td>Arshiya Chopra</td>\n",
              "      <td>03 Aug 2017,Thursday</td>\n",
              "      <td>'Virgin' now corrected to 'Unmarried' in IGIMS...</td>\n",
              "      <td>http://www.hindustantimes.com/patna/bihar-igim...</td>\n",
              "      <td>The Indira Gandhi Institute of Medical Science...</td>\n",
              "      <td>The Indira Gandhi Institute of Medical Science...</td>\n",
              "    </tr>\n",
              "    <tr>\n",
              "      <th>3</th>\n",
              "      <td>Sumedha Sehra</td>\n",
              "      <td>03 Aug 2017,Thursday</td>\n",
              "      <td>Aaj aapne pakad liya: LeT man Dujana before be...</td>\n",
              "      <td>http://indiatoday.intoday.in/story/abu-dujana-...</td>\n",
              "      <td>Lashkar-e-Taiba's Kashmir commander Abu Dujana...</td>\n",
              "      <td>Lashkar-e-Taiba's Kashmir commander Abu Dujana...</td>\n",
              "    </tr>\n",
              "    <tr>\n",
              "      <th>4</th>\n",
              "      <td>Aarushi Maheshwari</td>\n",
              "      <td>03 Aug 2017,Thursday</td>\n",
              "      <td>Hotel staff to get training to spot signs of s...</td>\n",
              "      <td>http://indiatoday.intoday.in/story/sex-traffic...</td>\n",
              "      <td>Hotels in Maharashtra will train their staff t...</td>\n",
              "      <td>Hotels in Mumbai and other Indian cities are t...</td>\n",
              "    </tr>\n",
              "  </tbody>\n",
              "</table>\n",
              "</div>\n",
              "    <div class=\"colab-df-buttons\">\n",
              "\n",
              "  <div class=\"colab-df-container\">\n",
              "    <button class=\"colab-df-convert\" onclick=\"convertToInteractive('df-a25dd804-aecb-47fd-ae60-b049d361a996')\"\n",
              "            title=\"Convert this dataframe to an interactive table.\"\n",
              "            style=\"display:none;\">\n",
              "\n",
              "  <svg xmlns=\"http://www.w3.org/2000/svg\" height=\"24px\" viewBox=\"0 -960 960 960\">\n",
              "    <path d=\"M120-120v-720h720v720H120Zm60-500h600v-160H180v160Zm220 220h160v-160H400v160Zm0 220h160v-160H400v160ZM180-400h160v-160H180v160Zm440 0h160v-160H620v160ZM180-180h160v-160H180v160Zm440 0h160v-160H620v160Z\"/>\n",
              "  </svg>\n",
              "    </button>\n",
              "\n",
              "  <style>\n",
              "    .colab-df-container {\n",
              "      display:flex;\n",
              "      gap: 12px;\n",
              "    }\n",
              "\n",
              "    .colab-df-convert {\n",
              "      background-color: #E8F0FE;\n",
              "      border: none;\n",
              "      border-radius: 50%;\n",
              "      cursor: pointer;\n",
              "      display: none;\n",
              "      fill: #1967D2;\n",
              "      height: 32px;\n",
              "      padding: 0 0 0 0;\n",
              "      width: 32px;\n",
              "    }\n",
              "\n",
              "    .colab-df-convert:hover {\n",
              "      background-color: #E2EBFA;\n",
              "      box-shadow: 0px 1px 2px rgba(60, 64, 67, 0.3), 0px 1px 3px 1px rgba(60, 64, 67, 0.15);\n",
              "      fill: #174EA6;\n",
              "    }\n",
              "\n",
              "    .colab-df-buttons div {\n",
              "      margin-bottom: 4px;\n",
              "    }\n",
              "\n",
              "    [theme=dark] .colab-df-convert {\n",
              "      background-color: #3B4455;\n",
              "      fill: #D2E3FC;\n",
              "    }\n",
              "\n",
              "    [theme=dark] .colab-df-convert:hover {\n",
              "      background-color: #434B5C;\n",
              "      box-shadow: 0px 1px 3px 1px rgba(0, 0, 0, 0.15);\n",
              "      filter: drop-shadow(0px 1px 2px rgba(0, 0, 0, 0.3));\n",
              "      fill: #FFFFFF;\n",
              "    }\n",
              "  </style>\n",
              "\n",
              "    <script>\n",
              "      const buttonEl =\n",
              "        document.querySelector('#df-a25dd804-aecb-47fd-ae60-b049d361a996 button.colab-df-convert');\n",
              "      buttonEl.style.display =\n",
              "        google.colab.kernel.accessAllowed ? 'block' : 'none';\n",
              "\n",
              "      async function convertToInteractive(key) {\n",
              "        const element = document.querySelector('#df-a25dd804-aecb-47fd-ae60-b049d361a996');\n",
              "        const dataTable =\n",
              "          await google.colab.kernel.invokeFunction('convertToInteractive',\n",
              "                                                    [key], {});\n",
              "        if (!dataTable) return;\n",
              "\n",
              "        const docLinkHtml = 'Like what you see? Visit the ' +\n",
              "          '<a target=\"_blank\" href=https://colab.research.google.com/notebooks/data_table.ipynb>data table notebook</a>'\n",
              "          + ' to learn more about interactive tables.';\n",
              "        element.innerHTML = '';\n",
              "        dataTable['output_type'] = 'display_data';\n",
              "        await google.colab.output.renderOutput(dataTable, element);\n",
              "        const docLink = document.createElement('div');\n",
              "        docLink.innerHTML = docLinkHtml;\n",
              "        element.appendChild(docLink);\n",
              "      }\n",
              "    </script>\n",
              "  </div>\n",
              "\n",
              "\n",
              "<div id=\"df-18d03acd-d4bb-4b63-aa39-9407dc35589a\">\n",
              "  <button class=\"colab-df-quickchart\" onclick=\"quickchart('df-18d03acd-d4bb-4b63-aa39-9407dc35589a')\"\n",
              "            title=\"Suggest charts\"\n",
              "            style=\"display:none;\">\n",
              "\n",
              "<svg xmlns=\"http://www.w3.org/2000/svg\" height=\"24px\"viewBox=\"0 0 24 24\"\n",
              "     width=\"24px\">\n",
              "    <g>\n",
              "        <path d=\"M19 3H5c-1.1 0-2 .9-2 2v14c0 1.1.9 2 2 2h14c1.1 0 2-.9 2-2V5c0-1.1-.9-2-2-2zM9 17H7v-7h2v7zm4 0h-2V7h2v10zm4 0h-2v-4h2v4z\"/>\n",
              "    </g>\n",
              "</svg>\n",
              "  </button>\n",
              "\n",
              "<style>\n",
              "  .colab-df-quickchart {\n",
              "      --bg-color: #E8F0FE;\n",
              "      --fill-color: #1967D2;\n",
              "      --hover-bg-color: #E2EBFA;\n",
              "      --hover-fill-color: #174EA6;\n",
              "      --disabled-fill-color: #AAA;\n",
              "      --disabled-bg-color: #DDD;\n",
              "  }\n",
              "\n",
              "  [theme=dark] .colab-df-quickchart {\n",
              "      --bg-color: #3B4455;\n",
              "      --fill-color: #D2E3FC;\n",
              "      --hover-bg-color: #434B5C;\n",
              "      --hover-fill-color: #FFFFFF;\n",
              "      --disabled-bg-color: #3B4455;\n",
              "      --disabled-fill-color: #666;\n",
              "  }\n",
              "\n",
              "  .colab-df-quickchart {\n",
              "    background-color: var(--bg-color);\n",
              "    border: none;\n",
              "    border-radius: 50%;\n",
              "    cursor: pointer;\n",
              "    display: none;\n",
              "    fill: var(--fill-color);\n",
              "    height: 32px;\n",
              "    padding: 0;\n",
              "    width: 32px;\n",
              "  }\n",
              "\n",
              "  .colab-df-quickchart:hover {\n",
              "    background-color: var(--hover-bg-color);\n",
              "    box-shadow: 0 1px 2px rgba(60, 64, 67, 0.3), 0 1px 3px 1px rgba(60, 64, 67, 0.15);\n",
              "    fill: var(--button-hover-fill-color);\n",
              "  }\n",
              "\n",
              "  .colab-df-quickchart-complete:disabled,\n",
              "  .colab-df-quickchart-complete:disabled:hover {\n",
              "    background-color: var(--disabled-bg-color);\n",
              "    fill: var(--disabled-fill-color);\n",
              "    box-shadow: none;\n",
              "  }\n",
              "\n",
              "  .colab-df-spinner {\n",
              "    border: 2px solid var(--fill-color);\n",
              "    border-color: transparent;\n",
              "    border-bottom-color: var(--fill-color);\n",
              "    animation:\n",
              "      spin 1s steps(1) infinite;\n",
              "  }\n",
              "\n",
              "  @keyframes spin {\n",
              "    0% {\n",
              "      border-color: transparent;\n",
              "      border-bottom-color: var(--fill-color);\n",
              "      border-left-color: var(--fill-color);\n",
              "    }\n",
              "    20% {\n",
              "      border-color: transparent;\n",
              "      border-left-color: var(--fill-color);\n",
              "      border-top-color: var(--fill-color);\n",
              "    }\n",
              "    30% {\n",
              "      border-color: transparent;\n",
              "      border-left-color: var(--fill-color);\n",
              "      border-top-color: var(--fill-color);\n",
              "      border-right-color: var(--fill-color);\n",
              "    }\n",
              "    40% {\n",
              "      border-color: transparent;\n",
              "      border-right-color: var(--fill-color);\n",
              "      border-top-color: var(--fill-color);\n",
              "    }\n",
              "    60% {\n",
              "      border-color: transparent;\n",
              "      border-right-color: var(--fill-color);\n",
              "    }\n",
              "    80% {\n",
              "      border-color: transparent;\n",
              "      border-right-color: var(--fill-color);\n",
              "      border-bottom-color: var(--fill-color);\n",
              "    }\n",
              "    90% {\n",
              "      border-color: transparent;\n",
              "      border-bottom-color: var(--fill-color);\n",
              "    }\n",
              "  }\n",
              "</style>\n",
              "\n",
              "  <script>\n",
              "    async function quickchart(key) {\n",
              "      const quickchartButtonEl =\n",
              "        document.querySelector('#' + key + ' button');\n",
              "      quickchartButtonEl.disabled = true;  // To prevent multiple clicks.\n",
              "      quickchartButtonEl.classList.add('colab-df-spinner');\n",
              "      try {\n",
              "        const charts = await google.colab.kernel.invokeFunction(\n",
              "            'suggestCharts', [key], {});\n",
              "      } catch (error) {\n",
              "        console.error('Error during call to suggestCharts:', error);\n",
              "      }\n",
              "      quickchartButtonEl.classList.remove('colab-df-spinner');\n",
              "      quickchartButtonEl.classList.add('colab-df-quickchart-complete');\n",
              "    }\n",
              "    (() => {\n",
              "      let quickchartButtonEl =\n",
              "        document.querySelector('#df-18d03acd-d4bb-4b63-aa39-9407dc35589a button');\n",
              "      quickchartButtonEl.style.display =\n",
              "        google.colab.kernel.accessAllowed ? 'block' : 'none';\n",
              "    })();\n",
              "  </script>\n",
              "</div>\n",
              "\n",
              "    </div>\n",
              "  </div>\n"
            ],
            "application/vnd.google.colaboratory.intrinsic+json": {
              "type": "dataframe",
              "variable_name": "raw_new",
              "summary": "{\n  \"name\": \"raw_new\",\n  \"rows\": 4514,\n  \"fields\": [\n    {\n      \"column\": \"author\",\n      \"properties\": {\n        \"dtype\": \"category\",\n        \"num_unique_values\": 45,\n        \"samples\": [\n          \"Animesh Choudhary\",\n          \"Swarnim Bagre\",\n          \"Rini Sinha\"\n        ],\n        \"semantic_type\": \"\",\n        \"description\": \"\"\n      }\n    },\n    {\n      \"column\": \"date\",\n      \"properties\": {\n        \"dtype\": \"object\",\n        \"num_unique_values\": 240,\n        \"samples\": [\n          \"16 Feb 2017,Thursday\",\n          \"28 Jul 2017,Friday\",\n          \"09 Dec 2016,Friday\"\n        ],\n        \"semantic_type\": \"\",\n        \"description\": \"\"\n      }\n    },\n    {\n      \"column\": \"headlines\",\n      \"properties\": {\n        \"dtype\": \"string\",\n        \"num_unique_values\": 4514,\n        \"samples\": [\n          \"South Delhi restaurants to allow public to use toilets at ?5\",\n          \"China bans Bieber from performing over bad behaviour\",\n          \"Pakistan accuses India of targeting CPEC\"\n        ],\n        \"semantic_type\": \"\",\n        \"description\": \"\"\n      }\n    },\n    {\n      \"column\": \"read_more\",\n      \"properties\": {\n        \"dtype\": \"string\",\n        \"num_unique_values\": 4461,\n        \"samples\": [\n          \"http://www.hindustantimes.com/india-news/rjd-leader-close-to-shahabuddin-shot-dead-in-bihar-s-siwan/story-nNJ50rMCX9KqxdBsfUv5VM.html?utm_source=inshorts&utm_medium=referral&utm_campaign=fullarticle \",\n          \"https://www.theguardian.com/business/2017/jul/17/primark-recalls-mens-flip-flops-after-carcinogenic-chemical-discovery?utm_source=inshorts&utm_medium=referral&utm_campaign=fullarticle \",\n          \"http://indiatoday.intoday.in/story/yogi-adityanath-inspired-menu-vegetarian-lucknow-hotel-ssj-international-charbagh-lifefd/1/925947.html \"\n        ],\n        \"semantic_type\": \"\",\n        \"description\": \"\"\n      }\n    },\n    {\n      \"column\": \"text\",\n      \"properties\": {\n        \"dtype\": \"string\",\n        \"num_unique_values\": 4514,\n        \"samples\": [\n          \"All restaurants, including five-star hotels, in South Delhi have been directed by a Delhi civic body to make their toilets available to general public, who are not customers, at a fee of ?5 starting April 1. \\\"The move will be particularly beneficial for women who face problems due to lack of toilets in marketplaces,\\\" the South Delhi Municipal Corporation said.\",\n          \"The Chinese government has banned singer Justin Bieber from performing in the country as he has \\\"engaged in a series of bad behaviours, both in his social life and during a previous performance in China\\\". Bieber will perform in Asia later this year, with concerts scheduled in countries like Indonesia, Japan and Singapore, as part of his Purpose World Tour.\",\n          \"Pakistan on Saturday accused India of targeting the China-Pakistan Economic Corridor (CPEC) project through subversive activities. Pakistan further said that it is aware of \\\"enemy designs\\\" and is taking effective counter measures. Notably, India which has repeatedly dismissed all such allegations has raised sovereignty concerns over the project as it passes through Pakistan-occupied Kashmir.\"\n        ],\n        \"semantic_type\": \"\",\n        \"description\": \"\"\n      }\n    },\n    {\n      \"column\": \"ctext\",\n      \"properties\": {\n        \"dtype\": \"string\",\n        \"num_unique_values\": 4341,\n        \"samples\": [\n          \"If you are a Samsung Galaxy Note fan, you were waiting to hear these words -- Note 7 will be sold in India. Despite all the bad whether it went through before being laid to the grave, Note 7 might come back from the dead; it has to if the company is to minimize losses and environmental penalties incurred in disposal of close to 3 million devices.Update: Samsung has denied that it has any plans to sell refurbished Galaxy Note 7 units in India. \\\"The report on Samsung planning to sell refurbished Galaxy Note 7 smartphone in India is incorrect,\\\" said a Samsung India spokesperson, without offering any other details.\\u00a0 Korean website Hankyung  reports the Galaxy Note 7 is due for a resurrection in select places -- Vietnam, India and probably South Korea. Samsung Electronics will finalise the designs by May this year and will go on sale in June (expected). Several changes will be made to the phone.Also Read:  Galaxy Note 7 exploded due to battery, confirms Samsung Samsung initially announced a recall of some 2.5 million Note 7 phones in September and identified the cause of the fire as a manufacturing process problem at one of its suppliers, but new Note 7s with what Samsung said were safe batteries from a different supplier continued to catch fire.But it was only after a complete recall and \\\"in-depth\\\" analysis of the cause did it make out that it was not the battery material, but the way the battery was shaped to fit in the chassis that caused the short circuit.Now, Samsung will be redesigning both the battery and the chassis. The battery is said to be of a lower capacity -- about 3000mAh, and if Samsung is redesigning the chassis, it might not support a dual curved screen. But it will be called refurbished and the price expected should be considerably cheaper.\",\n          \"The public works department (PWD) has cleared the proposal for the construction of a flyover over the erstwhile NH-58 near Raj Nagar Extension (RNE). After NH-58 was denotified as a highway last year, it was assigned as ?other district road? to the PWD as per a state government notification in June.Due to massive inflow of traffic on the Ghaziabad-Meerut Road (erstwhile NH-58), officials of the Ghaziabad Development Authority (GDA) had proposed the construction of a flyover and also altered the design, by making it a split-type flyover, as the regional rapid transit system (RRTS) corridor passes through the median of the road.?We have given clearance for the project to the GDA. They will have to prepare a service lane in the area and also have to take care of the piped gas line that passes through the area. They will make use of additional land in the vicinity and also remove encroachments. We also reviewed their traffic plan and have given them the permission after a thorough study,? said Manish Verma, executive engineer, PWD.?We also checked the RRTS alignment and had also asked them to take permission from the agency concerned. The clearance was given on a review of the traffic regulation plan and provision for the RRTS alignment. We are also planning to make the road a state highway and will send a proposal to the government. This is because the volume of traffic has remained the same despite the road being denotified as a highway,? he said.The proposed flyover, spanning 538 metres, is pegged at Rs50 crore and its design was changed from combined six-lane to three-lane (each side) split-type one. The middle portion between the two lanes will be used for the RRTS, which will come up on an elevated section, like the metro train system.The authority had proposed the flyover to decongest the city roads as a heavy volume of traffic is witnessed at the intersection.?The design for the flyover has been approved by the RRTS agency. The flyover design report is waiting to be vetted by IIT, Roorkee. The UP state bridge corporation is the construction agency. Once the design is vetted, the flyover construction can be started. We have received clearances from PWD for the project,? said Chakresh Jain, executive engineer, GDA.The authority has also proposed a flyover in Vasundhara, over the Link Road. Officials said that the proposed design is not in conflict with the RRTS alignment and pegged the cost at Rs50 crore.\",\n          \"New Delhi, Jun 30 (PTI) As India transits to a new era with rollout of GST, the government is leaving no stone unturned for a smooth switchover and has asked tax offices to convert into GST Seva-Kendras to provide all assistance to tax payers. While the rollout day of July 1 will be known as GST Day, all the offices of the Central Board of Excise and Customs (CBEC) have been instructed to be open on Saturday as a trade facilitation measure. This was to enable the availability of officers and staff for the benefit of trade and industry, an order issued by CBEC Special Secretary and Member S Ramesh said. \\\"Henceforth, all field offices from the Chief Commissioners office to the Range should serve as GST Seva- Kendras for effective trade facilitation,\\\" it said. Apart from giving guidance to GST assessees, GST Seva Kendras should render assistance to taxpayers in migration, registration as well as filing of returns. A guidance manual for such GST Seva Kendras too has been circulated to all offices in a bid to standardise quality taxpayer services. The order instructed such manuals to be prepared for each zone operating at different levels. \\\"This work may be done in a time-bound manner so as to be completed in next 2-3 days,\\\" Ramesh wrote. CBEC also asked for strengthening of the GST Seva-Kendras to enable them discharge their functions effectively and promptly. In the run-up to the GST rollout, CBEC had organised outreach programmes and training sessions for the new regime. \"\n        ],\n        \"semantic_type\": \"\",\n        \"description\": \"\"\n      }\n    }\n  ]\n}"
            }
          },
          "metadata": {},
          "execution_count": 149
        }
      ],
      "source": [
        "raw_news = pd.read_csv(data_path, encoding='latin-1')\n",
        "raw_new.head()"
      ]
    },
    {
      "cell_type": "markdown",
      "metadata": {
        "id": "P59mkHyypLf4"
      },
      "source": [
        "상당히 많은 정보가 존재하지만, 우리에겐 기사의 원문과 요약된 텍스트 두 가지만 필요합니다.  \n",
        "\n",
        "해당 정보만 따로 추출하여 `df` 데이터프레임에 할당해봅시다.\n",
        "\n"
      ]
    },
    {
      "cell_type": "markdown",
      "metadata": {
        "id": "yhL7_4Pl-hom"
      },
      "source": [
        "### [TODO] 데이터프레임에서 요약된`text`와 `ctext`열만 선택하여 슬라이싱합니다."
      ]
    },
    {
      "cell_type": "code",
      "execution_count": 150,
      "metadata": {
        "id": "d6BKJ1dupxpt"
      },
      "outputs": [],
      "source": [
        "# 'text'와 'ctext' 열만 선택하여 새로운 데이터프레임 생성\n",
        "df = raw_news[['text','ctext']]"
      ]
    },
    {
      "cell_type": "markdown",
      "metadata": {
        "id": "svo7SNpc-hom"
      },
      "source": [
        "> 예시코드\n",
        "```\n",
        "# 'text'와 'ctext' 열만 선택하여 새로운 데이터프레임 생성\n",
        "df = raw_news[['text','ctext']]\n",
        "```"
      ]
    },
    {
      "cell_type": "markdown",
      "metadata": {
        "id": "UfhMBqdnpy1T"
      },
      "source": [
        "### 2.2 요약용 텍스트 태깅\n",
        "\n",
        "텍스트를 분할했다면, 요약할 대상 문장의 앞에 `'summarize: '`태그를 달아주어야 합니다.\n",
        "\n",
        "이번 실습에 사용할 `T5(Text-to-Text Transfer Transformer)` 모델은 텍스트를 입력받아 텍스트를 출력하는 구조로 설계되었습니다. 이 모델의 특징 중 하나는 다양한 자연어 처리 작업을 \"텍스트 변환\" 문제로 간주하고, 특정 작업을 수행하기 위한 명령어를 입력 텍스트의 일부로 제공하는 것입니다.  \n",
        "\n",
        "예를 들어, 문장 분류 작업을 수행하려면 `\"classify: {문장}\"`과 같은 형식으로 입력을 제공하고, 번역 작업을 수행하려면 `\"translate English to French: {문장}\"`과 같은 형식으로 입력을 제공합니다.  \n",
        "\n",
        "이러한 방식을 사용하는 이유는 T5 모델 뿐만 아니라 대부분의 대형 언어모델을 하나의 일관된 구조로 다양한 작업에 적용할 수 있게 하기 위함입니다. 모델은 입력 텍스트에 포함된 명령어를 통해 어떤 작업을 수행해야 하는지 판단하게 됩니다.  \n",
        "\n",
        "따라서 `\"summarize: \"` 문자열을 추가하는 것은 T5 모델에게 텍스트 요약 작업을 수행하도록 지시하는 것과 같습니다. 이와 같은 형식으로 입력을 제공하면, 모델은 주어진 원문을 요약한 결과를 출력하게 됩니다."
      ]
    },
    {
      "cell_type": "markdown",
      "metadata": {
        "id": "gdp3-35w-hom"
      },
      "source": [
        "### [TODO] 데이터프레임의 `ctext`열 중 모든 데이터에 대해 태그를 달고. 데이터프레임의 `raw_news` 컬럼에 내용을 추가해주세요.\n",
        "\n",
        "예로, 텍스트가 `\"To be, or not to be: that is the question.\"`일 경우, 이를\n",
        "\n",
        "`\"summarize: To be, or not to be: that is the question.\"`형태로 바뀌어야 합니다."
      ]
    },
    {
      "cell_type": "code",
      "execution_count": 151,
      "metadata": {
        "colab": {
          "base_uri": "https://localhost:8080/"
        },
        "id": "66cT2fpgToL1",
        "outputId": "97a601f2-49b9-412d-b361-d264720bf6b2"
      },
      "outputs": [
        {
          "output_type": "stream",
          "name": "stdout",
          "text": [
            "                                                text  \\\n",
            "0  The Administration of Union Territory Daman an...   \n",
            "1  Malaika Arora slammed an Instagram user who tr...   \n",
            "2  The Indira Gandhi Institute of Medical Science...   \n",
            "3  Lashkar-e-Taiba's Kashmir commander Abu Dujana...   \n",
            "4  Hotels in Maharashtra will train their staff t...   \n",
            "\n",
            "                                               ctext  \\\n",
            "0  The Daman and Diu administration on Wednesday ...   \n",
            "1  From her special numbers to TV?appearances, Bo...   \n",
            "2  The Indira Gandhi Institute of Medical Science...   \n",
            "3  Lashkar-e-Taiba's Kashmir commander Abu Dujana...   \n",
            "4  Hotels in Mumbai and other Indian cities are t...   \n",
            "\n",
            "                                            raw_news  \n",
            "0  summarize: The Daman and Diu administration on...  \n",
            "1  summarize: From her special numbers to TV?appe...  \n",
            "2  summarize: The Indira Gandhi Institute of Medi...  \n",
            "3  summarize: Lashkar-e-Taiba's Kashmir commander...  \n",
            "4  summarize: Hotels in Mumbai and other Indian c...  \n"
          ]
        },
        {
          "output_type": "stream",
          "name": "stderr",
          "text": [
            "<ipython-input-151-a99c2192fb2f>:2: SettingWithCopyWarning: \n",
            "A value is trying to be set on a copy of a slice from a DataFrame.\n",
            "Try using .loc[row_indexer,col_indexer] = value instead\n",
            "\n",
            "See the caveats in the documentation: https://pandas.pydata.org/pandas-docs/stable/user_guide/indexing.html#returning-a-view-versus-a-copy\n",
            "  df['raw_news'] = 'summarize: ' + df['ctext']\n"
          ]
        }
      ],
      "source": [
        "\n",
        "# 'ctext' 열 앞에 'summarize: ' 문자열 추가\n",
        "df['raw_news'] = 'summarize: ' + df['ctext']\n",
        "\n",
        "# 데이터프레임의 처음 5줄 출력\n",
        "print(df.head())"
      ]
    },
    {
      "cell_type": "markdown",
      "metadata": {
        "id": "mKpwzMX7-hom"
      },
      "source": [
        ">예시코드\n",
        "```\n",
        "# 'ctext' 열 앞에 'summarize: ' 문자열 추가\n",
        "df['raw_news'] = 'summarize: ' + df['ctext']\n",
        "\n",
        "# 데이터프레임의 처음 5줄 출력\n",
        "print(df.head())\n",
        "```"
      ]
    },
    {
      "cell_type": "markdown",
      "metadata": {
        "id": "kt4c1df6qp_E"
      },
      "source": [
        "### 2.3 데이터 분할\n",
        "\n",
        "`df` 데이터프레임에서 데이터를 나누어 학습용 데이터와 테스트용 데이터로 분할해봅시다.  \n",
        "\n",
        "전체 데이터의 80%를 학습용으로 사용하도록 하겠습니다. 그러나 학습의 균일함을 위해 데이터프레임의 행들을 섞어 무작위로 분배하도록 하겠습니다."
      ]
    },
    {
      "cell_type": "code",
      "execution_count": 152,
      "metadata": {
        "id": "Bh59TGEYTzDv"
      },
      "outputs": [],
      "source": [
        "# 학습 데이터의 크기 설정 (전체 데이터의 80%)\n",
        "train_size = 0.8\n",
        "\n",
        "# 전체 데이터에서 학습 데이터를 무작위로 선택\n",
        "train_data = df.sample(frac=train_size,\n",
        "                          random_state=SEED).reset_index(drop=True)"
      ]
    },
    {
      "cell_type": "markdown",
      "metadata": {
        "id": "XoMwyT27rG3S"
      },
      "source": [
        "`df.sample(frac=train_size, random_state=SEED)`: `sample` 함수는 데이터프레임에서 무작위로 행을 선택하는 함수입니다. `frac` 인자는 선택할 행의 비율을 나타내며, 여기서는 `train_size`로 설정하여 80%의 행을 선택하도록 합니다. `random_state` 인자는 무작위 선택의 재현성을 보장하기 위해 사용되며, 이전에 설정한 SEED 값을 사용합니다.\n",
        "\n",
        "`.reset_index(drop=True)`: 선택된 행의 인덱스를 재설정합니다. `drop=True`는 기존 인덱스를 새로운 열로 추가하지 않고 삭제하도록 합니다.\n",
        "\n",
        "완료가 되었다면 일부분을 보도록 하겠습니다."
      ]
    },
    {
      "cell_type": "code",
      "execution_count": 153,
      "metadata": {
        "colab": {
          "base_uri": "https://localhost:8080/",
          "height": 206
        },
        "id": "GVxYrMsuVX1w",
        "outputId": "459754c4-56ae-4ad9-d726-b09302d76af4"
      },
      "outputs": [
        {
          "output_type": "execute_result",
          "data": {
            "text/plain": [
              "                                                text  \\\n",
              "0  All restaurants, including five-star hotels, i...   \n",
              "1  The Chinese government has banned singer Justi...   \n",
              "2  Pakistan on Saturday accused India of targetin...   \n",
              "3  A 40-year-old woman in Hyderabad was burnt ali...   \n",
              "4  The Delhi Police has arrested a man working as...   \n",
              "\n",
              "                                               ctext  \\\n",
              "0  Come April and you won?t have to go looking fo...   \n",
              "1  ?I just need one more shot, second chances,? J...   \n",
              "2  Pakistan?s top military officer on Saturday ac...   \n",
              "3  In a tragic incident, a woman was burnt alive ...   \n",
              "4  A man who allegedly threatened to blow up Red ...   \n",
              "\n",
              "                                            raw_news  \n",
              "0  summarize: Come April and you won?t have to go...  \n",
              "1  summarize: ?I just need one more shot, second ...  \n",
              "2  summarize: Pakistan?s top military officer on ...  \n",
              "3  summarize: In a tragic incident, a woman was b...  \n",
              "4  summarize: A man who allegedly threatened to b...  "
            ],
            "text/html": [
              "\n",
              "  <div id=\"df-bad3608c-a47a-40b3-a8c0-53fd0565837b\" class=\"colab-df-container\">\n",
              "    <div>\n",
              "<style scoped>\n",
              "    .dataframe tbody tr th:only-of-type {\n",
              "        vertical-align: middle;\n",
              "    }\n",
              "\n",
              "    .dataframe tbody tr th {\n",
              "        vertical-align: top;\n",
              "    }\n",
              "\n",
              "    .dataframe thead th {\n",
              "        text-align: right;\n",
              "    }\n",
              "</style>\n",
              "<table border=\"1\" class=\"dataframe\">\n",
              "  <thead>\n",
              "    <tr style=\"text-align: right;\">\n",
              "      <th></th>\n",
              "      <th>text</th>\n",
              "      <th>ctext</th>\n",
              "      <th>raw_news</th>\n",
              "    </tr>\n",
              "  </thead>\n",
              "  <tbody>\n",
              "    <tr>\n",
              "      <th>0</th>\n",
              "      <td>All restaurants, including five-star hotels, i...</td>\n",
              "      <td>Come April and you won?t have to go looking fo...</td>\n",
              "      <td>summarize: Come April and you won?t have to go...</td>\n",
              "    </tr>\n",
              "    <tr>\n",
              "      <th>1</th>\n",
              "      <td>The Chinese government has banned singer Justi...</td>\n",
              "      <td>?I just need one more shot, second chances,? J...</td>\n",
              "      <td>summarize: ?I just need one more shot, second ...</td>\n",
              "    </tr>\n",
              "    <tr>\n",
              "      <th>2</th>\n",
              "      <td>Pakistan on Saturday accused India of targetin...</td>\n",
              "      <td>Pakistan?s top military officer on Saturday ac...</td>\n",
              "      <td>summarize: Pakistan?s top military officer on ...</td>\n",
              "    </tr>\n",
              "    <tr>\n",
              "      <th>3</th>\n",
              "      <td>A 40-year-old woman in Hyderabad was burnt ali...</td>\n",
              "      <td>In a tragic incident, a woman was burnt alive ...</td>\n",
              "      <td>summarize: In a tragic incident, a woman was b...</td>\n",
              "    </tr>\n",
              "    <tr>\n",
              "      <th>4</th>\n",
              "      <td>The Delhi Police has arrested a man working as...</td>\n",
              "      <td>A man who allegedly threatened to blow up Red ...</td>\n",
              "      <td>summarize: A man who allegedly threatened to b...</td>\n",
              "    </tr>\n",
              "  </tbody>\n",
              "</table>\n",
              "</div>\n",
              "    <div class=\"colab-df-buttons\">\n",
              "\n",
              "  <div class=\"colab-df-container\">\n",
              "    <button class=\"colab-df-convert\" onclick=\"convertToInteractive('df-bad3608c-a47a-40b3-a8c0-53fd0565837b')\"\n",
              "            title=\"Convert this dataframe to an interactive table.\"\n",
              "            style=\"display:none;\">\n",
              "\n",
              "  <svg xmlns=\"http://www.w3.org/2000/svg\" height=\"24px\" viewBox=\"0 -960 960 960\">\n",
              "    <path d=\"M120-120v-720h720v720H120Zm60-500h600v-160H180v160Zm220 220h160v-160H400v160Zm0 220h160v-160H400v160ZM180-400h160v-160H180v160Zm440 0h160v-160H620v160ZM180-180h160v-160H180v160Zm440 0h160v-160H620v160Z\"/>\n",
              "  </svg>\n",
              "    </button>\n",
              "\n",
              "  <style>\n",
              "    .colab-df-container {\n",
              "      display:flex;\n",
              "      gap: 12px;\n",
              "    }\n",
              "\n",
              "    .colab-df-convert {\n",
              "      background-color: #E8F0FE;\n",
              "      border: none;\n",
              "      border-radius: 50%;\n",
              "      cursor: pointer;\n",
              "      display: none;\n",
              "      fill: #1967D2;\n",
              "      height: 32px;\n",
              "      padding: 0 0 0 0;\n",
              "      width: 32px;\n",
              "    }\n",
              "\n",
              "    .colab-df-convert:hover {\n",
              "      background-color: #E2EBFA;\n",
              "      box-shadow: 0px 1px 2px rgba(60, 64, 67, 0.3), 0px 1px 3px 1px rgba(60, 64, 67, 0.15);\n",
              "      fill: #174EA6;\n",
              "    }\n",
              "\n",
              "    .colab-df-buttons div {\n",
              "      margin-bottom: 4px;\n",
              "    }\n",
              "\n",
              "    [theme=dark] .colab-df-convert {\n",
              "      background-color: #3B4455;\n",
              "      fill: #D2E3FC;\n",
              "    }\n",
              "\n",
              "    [theme=dark] .colab-df-convert:hover {\n",
              "      background-color: #434B5C;\n",
              "      box-shadow: 0px 1px 3px 1px rgba(0, 0, 0, 0.15);\n",
              "      filter: drop-shadow(0px 1px 2px rgba(0, 0, 0, 0.3));\n",
              "      fill: #FFFFFF;\n",
              "    }\n",
              "  </style>\n",
              "\n",
              "    <script>\n",
              "      const buttonEl =\n",
              "        document.querySelector('#df-bad3608c-a47a-40b3-a8c0-53fd0565837b button.colab-df-convert');\n",
              "      buttonEl.style.display =\n",
              "        google.colab.kernel.accessAllowed ? 'block' : 'none';\n",
              "\n",
              "      async function convertToInteractive(key) {\n",
              "        const element = document.querySelector('#df-bad3608c-a47a-40b3-a8c0-53fd0565837b');\n",
              "        const dataTable =\n",
              "          await google.colab.kernel.invokeFunction('convertToInteractive',\n",
              "                                                    [key], {});\n",
              "        if (!dataTable) return;\n",
              "\n",
              "        const docLinkHtml = 'Like what you see? Visit the ' +\n",
              "          '<a target=\"_blank\" href=https://colab.research.google.com/notebooks/data_table.ipynb>data table notebook</a>'\n",
              "          + ' to learn more about interactive tables.';\n",
              "        element.innerHTML = '';\n",
              "        dataTable['output_type'] = 'display_data';\n",
              "        await google.colab.output.renderOutput(dataTable, element);\n",
              "        const docLink = document.createElement('div');\n",
              "        docLink.innerHTML = docLinkHtml;\n",
              "        element.appendChild(docLink);\n",
              "      }\n",
              "    </script>\n",
              "  </div>\n",
              "\n",
              "\n",
              "<div id=\"df-c25785eb-06c4-4b71-bd18-a9f6815182af\">\n",
              "  <button class=\"colab-df-quickchart\" onclick=\"quickchart('df-c25785eb-06c4-4b71-bd18-a9f6815182af')\"\n",
              "            title=\"Suggest charts\"\n",
              "            style=\"display:none;\">\n",
              "\n",
              "<svg xmlns=\"http://www.w3.org/2000/svg\" height=\"24px\"viewBox=\"0 0 24 24\"\n",
              "     width=\"24px\">\n",
              "    <g>\n",
              "        <path d=\"M19 3H5c-1.1 0-2 .9-2 2v14c0 1.1.9 2 2 2h14c1.1 0 2-.9 2-2V5c0-1.1-.9-2-2-2zM9 17H7v-7h2v7zm4 0h-2V7h2v10zm4 0h-2v-4h2v4z\"/>\n",
              "    </g>\n",
              "</svg>\n",
              "  </button>\n",
              "\n",
              "<style>\n",
              "  .colab-df-quickchart {\n",
              "      --bg-color: #E8F0FE;\n",
              "      --fill-color: #1967D2;\n",
              "      --hover-bg-color: #E2EBFA;\n",
              "      --hover-fill-color: #174EA6;\n",
              "      --disabled-fill-color: #AAA;\n",
              "      --disabled-bg-color: #DDD;\n",
              "  }\n",
              "\n",
              "  [theme=dark] .colab-df-quickchart {\n",
              "      --bg-color: #3B4455;\n",
              "      --fill-color: #D2E3FC;\n",
              "      --hover-bg-color: #434B5C;\n",
              "      --hover-fill-color: #FFFFFF;\n",
              "      --disabled-bg-color: #3B4455;\n",
              "      --disabled-fill-color: #666;\n",
              "  }\n",
              "\n",
              "  .colab-df-quickchart {\n",
              "    background-color: var(--bg-color);\n",
              "    border: none;\n",
              "    border-radius: 50%;\n",
              "    cursor: pointer;\n",
              "    display: none;\n",
              "    fill: var(--fill-color);\n",
              "    height: 32px;\n",
              "    padding: 0;\n",
              "    width: 32px;\n",
              "  }\n",
              "\n",
              "  .colab-df-quickchart:hover {\n",
              "    background-color: var(--hover-bg-color);\n",
              "    box-shadow: 0 1px 2px rgba(60, 64, 67, 0.3), 0 1px 3px 1px rgba(60, 64, 67, 0.15);\n",
              "    fill: var(--button-hover-fill-color);\n",
              "  }\n",
              "\n",
              "  .colab-df-quickchart-complete:disabled,\n",
              "  .colab-df-quickchart-complete:disabled:hover {\n",
              "    background-color: var(--disabled-bg-color);\n",
              "    fill: var(--disabled-fill-color);\n",
              "    box-shadow: none;\n",
              "  }\n",
              "\n",
              "  .colab-df-spinner {\n",
              "    border: 2px solid var(--fill-color);\n",
              "    border-color: transparent;\n",
              "    border-bottom-color: var(--fill-color);\n",
              "    animation:\n",
              "      spin 1s steps(1) infinite;\n",
              "  }\n",
              "\n",
              "  @keyframes spin {\n",
              "    0% {\n",
              "      border-color: transparent;\n",
              "      border-bottom-color: var(--fill-color);\n",
              "      border-left-color: var(--fill-color);\n",
              "    }\n",
              "    20% {\n",
              "      border-color: transparent;\n",
              "      border-left-color: var(--fill-color);\n",
              "      border-top-color: var(--fill-color);\n",
              "    }\n",
              "    30% {\n",
              "      border-color: transparent;\n",
              "      border-left-color: var(--fill-color);\n",
              "      border-top-color: var(--fill-color);\n",
              "      border-right-color: var(--fill-color);\n",
              "    }\n",
              "    40% {\n",
              "      border-color: transparent;\n",
              "      border-right-color: var(--fill-color);\n",
              "      border-top-color: var(--fill-color);\n",
              "    }\n",
              "    60% {\n",
              "      border-color: transparent;\n",
              "      border-right-color: var(--fill-color);\n",
              "    }\n",
              "    80% {\n",
              "      border-color: transparent;\n",
              "      border-right-color: var(--fill-color);\n",
              "      border-bottom-color: var(--fill-color);\n",
              "    }\n",
              "    90% {\n",
              "      border-color: transparent;\n",
              "      border-bottom-color: var(--fill-color);\n",
              "    }\n",
              "  }\n",
              "</style>\n",
              "\n",
              "  <script>\n",
              "    async function quickchart(key) {\n",
              "      const quickchartButtonEl =\n",
              "        document.querySelector('#' + key + ' button');\n",
              "      quickchartButtonEl.disabled = true;  // To prevent multiple clicks.\n",
              "      quickchartButtonEl.classList.add('colab-df-spinner');\n",
              "      try {\n",
              "        const charts = await google.colab.kernel.invokeFunction(\n",
              "            'suggestCharts', [key], {});\n",
              "      } catch (error) {\n",
              "        console.error('Error during call to suggestCharts:', error);\n",
              "      }\n",
              "      quickchartButtonEl.classList.remove('colab-df-spinner');\n",
              "      quickchartButtonEl.classList.add('colab-df-quickchart-complete');\n",
              "    }\n",
              "    (() => {\n",
              "      let quickchartButtonEl =\n",
              "        document.querySelector('#df-c25785eb-06c4-4b71-bd18-a9f6815182af button');\n",
              "      quickchartButtonEl.style.display =\n",
              "        google.colab.kernel.accessAllowed ? 'block' : 'none';\n",
              "    })();\n",
              "  </script>\n",
              "</div>\n",
              "\n",
              "    </div>\n",
              "  </div>\n"
            ],
            "application/vnd.google.colaboratory.intrinsic+json": {
              "type": "dataframe",
              "variable_name": "train_data",
              "summary": "{\n  \"name\": \"train_data\",\n  \"rows\": 3611,\n  \"fields\": [\n    {\n      \"column\": \"text\",\n      \"properties\": {\n        \"dtype\": \"string\",\n        \"num_unique_values\": 3611,\n        \"samples\": [\n          \"An Andhra Pradesh farmer complained to Andhra Pragathi Grameena Bank that nearly ?2 crore were deposited in his account without his knowledge. His bank account showed unknown transactions, including a transfer of over ?34 lakh by Lanco Amarkantak Power, which is owned by a former Congress MP, reports said. Following this, the bank launched an inquiry into the suspicious transactions.\",\n          \"Former Pakistan captain and current chief selector Inzamam-ul-Haq has said Pakistani batsmen cannot hold their nerves for \\\"even two sessions\\\" in a match, which is \\\"unfortunate\\\". \\\"Even when they were in strong position, our batsmen could not show aggression...If that is the standard of our consistency, it is not good enough at the international level,\\\" said Inzamam.\",\n          \"The Samajwadi Party has called UP CM Yogi Adityanath's government an \\\"inquiry committee\\\" after the CBI started investigating nearly half a dozen projects launched by former CM Akhilesh Yadav. \\\"It's engaging in politics of vendetta, and more so to smokescreen its failures in delivering on the pre-poll promises,\\\" chief SP spokesperson Rajendra Chowdhury said.\"\n        ],\n        \"semantic_type\": \"\",\n        \"description\": \"\"\n      }\n    },\n    {\n      \"column\": \"ctext\",\n      \"properties\": {\n        \"dtype\": \"string\",\n        \"num_unique_values\": 3486,\n        \"samples\": [\n          \"The Bharatiya Janata Party is poised for a third consecutive term in Delhi municipal corporations with a brute majority, an exit poll conducted by India Today-Axis My India has predicted. The survey places the Aam Aadmi Party, which rules Delhi assembly, and the Congress trailing behind with a huge margin.Of the total 272 wards in the national Capital, the BJP is expected to win 202-220 seats while AAP and Congress 23-35 and 19-31 respectively, according to the poll survey. The voting percentage reflected in the polls give 43 per cent share to the saffron outfit while the AAP and Congress are almost equally placed at 24 and 23 per cent in the MCDs.The BJP lead is evenly spread in all three wards. The North MCD, which has 104 wards, is expected to give the BJP 78-84 seats, with AAP and Congress getting 8-12 each. Similarly, the 104-seat North MCD gives the BJP 79-85 seats. The AAP is placed somewhere between 9 and13 wards while the Congress at 7-11.The smaller East MCD, which has 64 wards, is expected to give the BJP 45-51 seats while the Congress 4-8 and the AAP 6-10.'POLL RESULTS ACCORDING TO OUR EXPECTATIONS'\\\"Exit poll results are according to our expectations,\\\" state BJP president Manoj Tiwari told Mail Today. Attributing the positive survey results to Prime Minister Narendra Modi, Tiwari said, \\\"PM Modi has won hearts of people from sections of society. The BJP has taken all its decisions for welfare of India while the AAP has looted citizens of Delhi.\\\"Tiwari said exit polls results prove while the Congress has lost ground across the nation, there is simmering discontent and anger among Delhi electorate against CM Kejriwal.The survey results also indicate that the BJP has made new inroads in the national Capital, with the last-minute change in state leadership with an extra emphasis on poorvanchali voters having paid off rich dividends. The exit poll has predicted that 45 per cent of the poorvanchali vote went in favour of BJP.This section of voters was a key target of the party when they handed over the reins of city unit to Manoj Tiwari in November last year.The recent by-election results in Rajouri Garden assembly segment too proved this when the BJP's poll percentage in the constituency increased from 38 per cent in 2015 to 52 per cent in 2017. The seat saw a sharp decline of nearly 34 per cent in the vote share of incumbent AAP from 47 per cent in 2015 to 13.1 in 2017. In previous several elections, the party's vote share had remained between 30 and 35 per cent in the national Capital.While AAP leaders were quick to point out anomalies in electronic voting machines, they were at pains to explain how an exit poll survey, which is gauged out of speaking to a voter exiting the election booth, can be linked with faulty EVMs.Congress leaders advised patience till April 26 when the counting occurs. \\\"These (polls) violate moral code of conduct. The results will come on 26. Let us wait till then,\\\" Congress leader Shakeel Ahmed said. The exit polls also indicate that the BJP has succeeded in making a dent in SC/ST and OBC votes in the national Capital. Apart from 54 per cent upper cast votes, the BJP is also expected to get 41 per cent of the SC/ST votes and 29 per cent OBC voters that are also considered the traditional vote bank of the Congress and the AAP.In 2012, the BJP bagged nearly 22 per cent of votes collectively in the three municipal corporations. In north MCD, the party polled 22.2 per cent, in South MCD 17.65 per cent and East 35 per cent.ALSO READ | MCD election 2017: Voting concludes, 53.58 per cent overall turnout\",\n          \"After swallowing 57 heroin-filled capsules worth Rs2 crore, this Afghan national fell unconscious at Delhi?s Indira Gandhi International Airport and fought death for 27 days. The police waited patiently for his health to get better to arrest him. Ghulam Rabani, 43, had come to India on medical visa but did not go to any hospital. Initially, police had thought that he was smuggling out drugs. But investigations revealed that he had brought it from Afghanistan and since he was unable to sell them here, he was on his way back to Herat. During medical examination, it was revealed that he had drugs capsules lodged in his abdomen.Read more: Tibetan refugee held at Delhi airport for trying to help Nepali man travel on his ticket, ID?On November 3, Rabani was going to Afghanistan by Kam Air when he was offloaded by the airline as he was not well. The condition of the passenger was such that it raised suspicion. He had arrived in India on a medical visa in October 2016, but had not visited any hospital for treatment. He was sent to AIIMS Hospital and the doctors were consulted. During treatment, it was established that the passenger had swallowed a large number of capsules. He was operated upon by the doctors who took out 57 big capsules from his stomach and rectum,? DCP (airport) Sanjay Bhatia said.After his arrest, police is now scanning other Afghan nationals who come to India for medical treatment.Read more: Cheeky gold smuggler caught at Delhi airportThe capsules ingested by him were made of polythene. The total weight of the contraband was 525 grams. ?But it was just a tip of iceberg as we were waiting for him to get fit. Upon interrogation, he disclosed the name of one more person, who was involved with him. He had brought this heroin from Afghanistan and part delivery of the drug was given to a local man. A person called Qadir Ahmad, who was arrested in December, arranged for his stay in Bhogal. He got a SIM card on forged documents,? Bhatia added.Read more: Cargo boy arrested for stealing $400 from a passenger?s bag at Delhi airportThe police is still looking for others involved in the racket. \",\n          \"A Somerset cheesemaker has offered a \\u00a3500 reward after two of its finest vintage cheddars were stolen during a prestigious show. The judges at the Yeovil show had crowned the two hefty blocks of cheese champion and reserve champion and the specimens were being left in a marquee overnight so that they could be admired by members of the public next day. Thieves took the blocks, weighing 20kg each and with a retail value of around \\u00a3800, and the winners? certificates from the tent during overnight on Saturday. The cheesemakers at Wyke Farms in Bruton, Somerset, were devastated that two of the best blocks they had ever produced have vanished. Rich Clothier, a third generation cheesemaker and the managing director of Wyke Farms, said he believed the thieves had targeted the prize-winning cheddars and may have been stealing to order. He said it was possible the cheeses were already abroad. ?They left all the other cheeses and just took ours,? he said. ?It?s disappointing. To win the champion and reserve was really nice for us. It took around a year-and-a-half to make those cheeses. They are among the best we have ever produced.? Clothier said that while the retail value was put at \\u00a3800 it is possible that they could be worth much more if the right wealthy cheese-loving customers were found. Wyke Farms sells to 160 countries with the US and France big fans. He said: ?These cheeses could be considered masterpieces; it?s a bit like having a valuable painting stolen. Clothier said he was proud of the cheeses? ?rounded flavour? with tones of ?dairy, sweet and nuttiness?. ?They were complex, like a fine bottle of wine.? Clothier said it was possible the theft had been carefully planned. ?You can?t just put one of those in a bag. It?s like carrying a bag of sand away.? The cheesemaker is offering a \\u00a3500 reward for information that leads to the recovery of the cheese or the arrest of the thief or thieves. Cheese thefts are not unknown to the family, however. In 1789 one of Clothier?s ancestors had a wheel of cheese stolen from his cart in Kilver Street, Shepton Mallet. This cheese, then worth seven shillings, was found in the possession of a woman who claimed it ?fell off the back of the cart?.\"\n        ],\n        \"semantic_type\": \"\",\n        \"description\": \"\"\n      }\n    },\n    {\n      \"column\": \"raw_news\",\n      \"properties\": {\n        \"dtype\": \"string\",\n        \"num_unique_values\": 3486,\n        \"samples\": [\n          \"summarize: The Bharatiya Janata Party is poised for a third consecutive term in Delhi municipal corporations with a brute majority, an exit poll conducted by India Today-Axis My India has predicted. The survey places the Aam Aadmi Party, which rules Delhi assembly, and the Congress trailing behind with a huge margin.Of the total 272 wards in the national Capital, the BJP is expected to win 202-220 seats while AAP and Congress 23-35 and 19-31 respectively, according to the poll survey. The voting percentage reflected in the polls give 43 per cent share to the saffron outfit while the AAP and Congress are almost equally placed at 24 and 23 per cent in the MCDs.The BJP lead is evenly spread in all three wards. The North MCD, which has 104 wards, is expected to give the BJP 78-84 seats, with AAP and Congress getting 8-12 each. Similarly, the 104-seat North MCD gives the BJP 79-85 seats. The AAP is placed somewhere between 9 and13 wards while the Congress at 7-11.The smaller East MCD, which has 64 wards, is expected to give the BJP 45-51 seats while the Congress 4-8 and the AAP 6-10.'POLL RESULTS ACCORDING TO OUR EXPECTATIONS'\\\"Exit poll results are according to our expectations,\\\" state BJP president Manoj Tiwari told Mail Today. Attributing the positive survey results to Prime Minister Narendra Modi, Tiwari said, \\\"PM Modi has won hearts of people from sections of society. The BJP has taken all its decisions for welfare of India while the AAP has looted citizens of Delhi.\\\"Tiwari said exit polls results prove while the Congress has lost ground across the nation, there is simmering discontent and anger among Delhi electorate against CM Kejriwal.The survey results also indicate that the BJP has made new inroads in the national Capital, with the last-minute change in state leadership with an extra emphasis on poorvanchali voters having paid off rich dividends. The exit poll has predicted that 45 per cent of the poorvanchali vote went in favour of BJP.This section of voters was a key target of the party when they handed over the reins of city unit to Manoj Tiwari in November last year.The recent by-election results in Rajouri Garden assembly segment too proved this when the BJP's poll percentage in the constituency increased from 38 per cent in 2015 to 52 per cent in 2017. The seat saw a sharp decline of nearly 34 per cent in the vote share of incumbent AAP from 47 per cent in 2015 to 13.1 in 2017. In previous several elections, the party's vote share had remained between 30 and 35 per cent in the national Capital.While AAP leaders were quick to point out anomalies in electronic voting machines, they were at pains to explain how an exit poll survey, which is gauged out of speaking to a voter exiting the election booth, can be linked with faulty EVMs.Congress leaders advised patience till April 26 when the counting occurs. \\\"These (polls) violate moral code of conduct. The results will come on 26. Let us wait till then,\\\" Congress leader Shakeel Ahmed said. The exit polls also indicate that the BJP has succeeded in making a dent in SC/ST and OBC votes in the national Capital. Apart from 54 per cent upper cast votes, the BJP is also expected to get 41 per cent of the SC/ST votes and 29 per cent OBC voters that are also considered the traditional vote bank of the Congress and the AAP.In 2012, the BJP bagged nearly 22 per cent of votes collectively in the three municipal corporations. In north MCD, the party polled 22.2 per cent, in South MCD 17.65 per cent and East 35 per cent.ALSO READ | MCD election 2017: Voting concludes, 53.58 per cent overall turnout\",\n          \"summarize: After swallowing 57 heroin-filled capsules worth Rs2 crore, this Afghan national fell unconscious at Delhi?s Indira Gandhi International Airport and fought death for 27 days. The police waited patiently for his health to get better to arrest him. Ghulam Rabani, 43, had come to India on medical visa but did not go to any hospital. Initially, police had thought that he was smuggling out drugs. But investigations revealed that he had brought it from Afghanistan and since he was unable to sell them here, he was on his way back to Herat. During medical examination, it was revealed that he had drugs capsules lodged in his abdomen.Read more: Tibetan refugee held at Delhi airport for trying to help Nepali man travel on his ticket, ID?On November 3, Rabani was going to Afghanistan by Kam Air when he was offloaded by the airline as he was not well. The condition of the passenger was such that it raised suspicion. He had arrived in India on a medical visa in October 2016, but had not visited any hospital for treatment. He was sent to AIIMS Hospital and the doctors were consulted. During treatment, it was established that the passenger had swallowed a large number of capsules. He was operated upon by the doctors who took out 57 big capsules from his stomach and rectum,? DCP (airport) Sanjay Bhatia said.After his arrest, police is now scanning other Afghan nationals who come to India for medical treatment.Read more: Cheeky gold smuggler caught at Delhi airportThe capsules ingested by him were made of polythene. The total weight of the contraband was 525 grams. ?But it was just a tip of iceberg as we were waiting for him to get fit. Upon interrogation, he disclosed the name of one more person, who was involved with him. He had brought this heroin from Afghanistan and part delivery of the drug was given to a local man. A person called Qadir Ahmad, who was arrested in December, arranged for his stay in Bhogal. He got a SIM card on forged documents,? Bhatia added.Read more: Cargo boy arrested for stealing $400 from a passenger?s bag at Delhi airportThe police is still looking for others involved in the racket. \",\n          \"summarize: A Somerset cheesemaker has offered a \\u00a3500 reward after two of its finest vintage cheddars were stolen during a prestigious show. The judges at the Yeovil show had crowned the two hefty blocks of cheese champion and reserve champion and the specimens were being left in a marquee overnight so that they could be admired by members of the public next day. Thieves took the blocks, weighing 20kg each and with a retail value of around \\u00a3800, and the winners? certificates from the tent during overnight on Saturday. The cheesemakers at Wyke Farms in Bruton, Somerset, were devastated that two of the best blocks they had ever produced have vanished. Rich Clothier, a third generation cheesemaker and the managing director of Wyke Farms, said he believed the thieves had targeted the prize-winning cheddars and may have been stealing to order. He said it was possible the cheeses were already abroad. ?They left all the other cheeses and just took ours,? he said. ?It?s disappointing. To win the champion and reserve was really nice for us. It took around a year-and-a-half to make those cheeses. They are among the best we have ever produced.? Clothier said that while the retail value was put at \\u00a3800 it is possible that they could be worth much more if the right wealthy cheese-loving customers were found. Wyke Farms sells to 160 countries with the US and France big fans. He said: ?These cheeses could be considered masterpieces; it?s a bit like having a valuable painting stolen. Clothier said he was proud of the cheeses? ?rounded flavour? with tones of ?dairy, sweet and nuttiness?. ?They were complex, like a fine bottle of wine.? Clothier said it was possible the theft had been carefully planned. ?You can?t just put one of those in a bag. It?s like carrying a bag of sand away.? The cheesemaker is offering a \\u00a3500 reward for information that leads to the recovery of the cheese or the arrest of the thief or thieves. Cheese thefts are not unknown to the family, however. In 1789 one of Clothier?s ancestors had a wheel of cheese stolen from his cart in Kilver Street, Shepton Mallet. This cheese, then worth seven shillings, was found in the possession of a woman who claimed it ?fell off the back of the cart?.\"\n        ],\n        \"semantic_type\": \"\",\n        \"description\": \"\"\n      }\n    }\n  ]\n}"
            }
          },
          "metadata": {},
          "execution_count": 153
        }
      ],
      "source": [
        "train_data.head()"
      ]
    },
    {
      "cell_type": "markdown",
      "metadata": {
        "id": "T19YJQYZsbA8"
      },
      "source": [
        "데이터가 잘 섞여 분배되었습니다. 마찬가지 방법으로 테스트용 데이터셋도 나눠보겠습니다."
      ]
    },
    {
      "cell_type": "markdown",
      "metadata": {
        "id": "9HxAqJDp-hon"
      },
      "source": [
        "### [TODO] `val_data` 변수에 나머지 데이터를 할당해주세요."
      ]
    },
    {
      "cell_type": "code",
      "execution_count": 154,
      "metadata": {
        "id": "VhQUCz8sWkOi"
      },
      "outputs": [],
      "source": [
        "# 학습 데이터셋에 포함되지 않은 나머지 데이터를 검증 데이터셋으로 설정\n",
        "val_data = df.drop(train_data.index).reset_index(drop=True)"
      ]
    },
    {
      "cell_type": "markdown",
      "metadata": {
        "id": "-qp0Lhby-hon"
      },
      "source": [
        ">예시코드\n",
        "```\n",
        "# 학습 데이터셋에 포함되지 않은 나머지 데이터를 검증 데이터셋으로 설정\n",
        "val_data = df.drop(train_data.index).reset_index(drop=True)\n",
        "```"
      ]
    },
    {
      "cell_type": "markdown",
      "metadata": {
        "id": "dl7CAFdFsyIQ"
      },
      "source": [
        "`df.drop(train_dataset.index)`: `drop` 함수는 데이터프레임에서 특정 행을 제거하는 함수입니다. 여기서는 `train_dataset.index`를 사용하여 학습 데이터셋에 이미 포함된 행들을 전체 데이터셋(`df`)에서 제거합니다.\n",
        "\n",
        "`.reset_index(drop=True)`: 제거된 행의 인덱스를 재설정합니다. `drop=True`는 기존 인덱스를 새로운 열로 추가하지 않고 삭제하도록 합니다."
      ]
    },
    {
      "cell_type": "code",
      "execution_count": 155,
      "metadata": {
        "colab": {
          "base_uri": "https://localhost:8080/",
          "height": 206
        },
        "id": "n86Je87ZWr4X",
        "outputId": "b379caa1-1437-4251-83da-d7a4acc63fe4"
      },
      "outputs": [
        {
          "output_type": "execute_result",
          "data": {
            "text/plain": [
              "                                                text  \\\n",
              "0  PM Narendra Modi on Thursday launched Ude Desh...   \n",
              "1  BJP chief Amit Shah on Wednesday slammed Delhi...   \n",
              "2  Sujal Kahar, a 12-year-old football enthusiast...   \n",
              "3  Eight member nations voted against BCCI's prop...   \n",
              "4  Former AAP leader Mayank Gandhi urged Delhi CM...   \n",
              "\n",
              "                                               ctext  \\\n",
              "0  After much wait, the first UDAN flight took of...   \n",
              "1  On a day when the Bharatiya Janata Party swept...   \n",
              "2                                                NaN   \n",
              "3  In a massive blow to its influence in the Inte...   \n",
              "4  Former Aam Aadmi Party leader and a close aide...   \n",
              "\n",
              "                                            raw_news  \n",
              "0  summarize: After much wait, the first UDAN fli...  \n",
              "1  summarize: On a day when the Bharatiya Janata ...  \n",
              "2                                                NaN  \n",
              "3  summarize: In a massive blow to its influence ...  \n",
              "4  summarize: Former Aam Aadmi Party leader and a...  "
            ],
            "text/html": [
              "\n",
              "  <div id=\"df-e9e6574b-2497-4bd6-b709-af6de99c7232\" class=\"colab-df-container\">\n",
              "    <div>\n",
              "<style scoped>\n",
              "    .dataframe tbody tr th:only-of-type {\n",
              "        vertical-align: middle;\n",
              "    }\n",
              "\n",
              "    .dataframe tbody tr th {\n",
              "        vertical-align: top;\n",
              "    }\n",
              "\n",
              "    .dataframe thead th {\n",
              "        text-align: right;\n",
              "    }\n",
              "</style>\n",
              "<table border=\"1\" class=\"dataframe\">\n",
              "  <thead>\n",
              "    <tr style=\"text-align: right;\">\n",
              "      <th></th>\n",
              "      <th>text</th>\n",
              "      <th>ctext</th>\n",
              "      <th>raw_news</th>\n",
              "    </tr>\n",
              "  </thead>\n",
              "  <tbody>\n",
              "    <tr>\n",
              "      <th>0</th>\n",
              "      <td>PM Narendra Modi on Thursday launched Ude Desh...</td>\n",
              "      <td>After much wait, the first UDAN flight took of...</td>\n",
              "      <td>summarize: After much wait, the first UDAN fli...</td>\n",
              "    </tr>\n",
              "    <tr>\n",
              "      <th>1</th>\n",
              "      <td>BJP chief Amit Shah on Wednesday slammed Delhi...</td>\n",
              "      <td>On a day when the Bharatiya Janata Party swept...</td>\n",
              "      <td>summarize: On a day when the Bharatiya Janata ...</td>\n",
              "    </tr>\n",
              "    <tr>\n",
              "      <th>2</th>\n",
              "      <td>Sujal Kahar, a 12-year-old football enthusiast...</td>\n",
              "      <td>NaN</td>\n",
              "      <td>NaN</td>\n",
              "    </tr>\n",
              "    <tr>\n",
              "      <th>3</th>\n",
              "      <td>Eight member nations voted against BCCI's prop...</td>\n",
              "      <td>In a massive blow to its influence in the Inte...</td>\n",
              "      <td>summarize: In a massive blow to its influence ...</td>\n",
              "    </tr>\n",
              "    <tr>\n",
              "      <th>4</th>\n",
              "      <td>Former AAP leader Mayank Gandhi urged Delhi CM...</td>\n",
              "      <td>Former Aam Aadmi Party leader and a close aide...</td>\n",
              "      <td>summarize: Former Aam Aadmi Party leader and a...</td>\n",
              "    </tr>\n",
              "  </tbody>\n",
              "</table>\n",
              "</div>\n",
              "    <div class=\"colab-df-buttons\">\n",
              "\n",
              "  <div class=\"colab-df-container\">\n",
              "    <button class=\"colab-df-convert\" onclick=\"convertToInteractive('df-e9e6574b-2497-4bd6-b709-af6de99c7232')\"\n",
              "            title=\"Convert this dataframe to an interactive table.\"\n",
              "            style=\"display:none;\">\n",
              "\n",
              "  <svg xmlns=\"http://www.w3.org/2000/svg\" height=\"24px\" viewBox=\"0 -960 960 960\">\n",
              "    <path d=\"M120-120v-720h720v720H120Zm60-500h600v-160H180v160Zm220 220h160v-160H400v160Zm0 220h160v-160H400v160ZM180-400h160v-160H180v160Zm440 0h160v-160H620v160ZM180-180h160v-160H180v160Zm440 0h160v-160H620v160Z\"/>\n",
              "  </svg>\n",
              "    </button>\n",
              "\n",
              "  <style>\n",
              "    .colab-df-container {\n",
              "      display:flex;\n",
              "      gap: 12px;\n",
              "    }\n",
              "\n",
              "    .colab-df-convert {\n",
              "      background-color: #E8F0FE;\n",
              "      border: none;\n",
              "      border-radius: 50%;\n",
              "      cursor: pointer;\n",
              "      display: none;\n",
              "      fill: #1967D2;\n",
              "      height: 32px;\n",
              "      padding: 0 0 0 0;\n",
              "      width: 32px;\n",
              "    }\n",
              "\n",
              "    .colab-df-convert:hover {\n",
              "      background-color: #E2EBFA;\n",
              "      box-shadow: 0px 1px 2px rgba(60, 64, 67, 0.3), 0px 1px 3px 1px rgba(60, 64, 67, 0.15);\n",
              "      fill: #174EA6;\n",
              "    }\n",
              "\n",
              "    .colab-df-buttons div {\n",
              "      margin-bottom: 4px;\n",
              "    }\n",
              "\n",
              "    [theme=dark] .colab-df-convert {\n",
              "      background-color: #3B4455;\n",
              "      fill: #D2E3FC;\n",
              "    }\n",
              "\n",
              "    [theme=dark] .colab-df-convert:hover {\n",
              "      background-color: #434B5C;\n",
              "      box-shadow: 0px 1px 3px 1px rgba(0, 0, 0, 0.15);\n",
              "      filter: drop-shadow(0px 1px 2px rgba(0, 0, 0, 0.3));\n",
              "      fill: #FFFFFF;\n",
              "    }\n",
              "  </style>\n",
              "\n",
              "    <script>\n",
              "      const buttonEl =\n",
              "        document.querySelector('#df-e9e6574b-2497-4bd6-b709-af6de99c7232 button.colab-df-convert');\n",
              "      buttonEl.style.display =\n",
              "        google.colab.kernel.accessAllowed ? 'block' : 'none';\n",
              "\n",
              "      async function convertToInteractive(key) {\n",
              "        const element = document.querySelector('#df-e9e6574b-2497-4bd6-b709-af6de99c7232');\n",
              "        const dataTable =\n",
              "          await google.colab.kernel.invokeFunction('convertToInteractive',\n",
              "                                                    [key], {});\n",
              "        if (!dataTable) return;\n",
              "\n",
              "        const docLinkHtml = 'Like what you see? Visit the ' +\n",
              "          '<a target=\"_blank\" href=https://colab.research.google.com/notebooks/data_table.ipynb>data table notebook</a>'\n",
              "          + ' to learn more about interactive tables.';\n",
              "        element.innerHTML = '';\n",
              "        dataTable['output_type'] = 'display_data';\n",
              "        await google.colab.output.renderOutput(dataTable, element);\n",
              "        const docLink = document.createElement('div');\n",
              "        docLink.innerHTML = docLinkHtml;\n",
              "        element.appendChild(docLink);\n",
              "      }\n",
              "    </script>\n",
              "  </div>\n",
              "\n",
              "\n",
              "<div id=\"df-c5f98921-3512-4bdf-91da-0529c500b083\">\n",
              "  <button class=\"colab-df-quickchart\" onclick=\"quickchart('df-c5f98921-3512-4bdf-91da-0529c500b083')\"\n",
              "            title=\"Suggest charts\"\n",
              "            style=\"display:none;\">\n",
              "\n",
              "<svg xmlns=\"http://www.w3.org/2000/svg\" height=\"24px\"viewBox=\"0 0 24 24\"\n",
              "     width=\"24px\">\n",
              "    <g>\n",
              "        <path d=\"M19 3H5c-1.1 0-2 .9-2 2v14c0 1.1.9 2 2 2h14c1.1 0 2-.9 2-2V5c0-1.1-.9-2-2-2zM9 17H7v-7h2v7zm4 0h-2V7h2v10zm4 0h-2v-4h2v4z\"/>\n",
              "    </g>\n",
              "</svg>\n",
              "  </button>\n",
              "\n",
              "<style>\n",
              "  .colab-df-quickchart {\n",
              "      --bg-color: #E8F0FE;\n",
              "      --fill-color: #1967D2;\n",
              "      --hover-bg-color: #E2EBFA;\n",
              "      --hover-fill-color: #174EA6;\n",
              "      --disabled-fill-color: #AAA;\n",
              "      --disabled-bg-color: #DDD;\n",
              "  }\n",
              "\n",
              "  [theme=dark] .colab-df-quickchart {\n",
              "      --bg-color: #3B4455;\n",
              "      --fill-color: #D2E3FC;\n",
              "      --hover-bg-color: #434B5C;\n",
              "      --hover-fill-color: #FFFFFF;\n",
              "      --disabled-bg-color: #3B4455;\n",
              "      --disabled-fill-color: #666;\n",
              "  }\n",
              "\n",
              "  .colab-df-quickchart {\n",
              "    background-color: var(--bg-color);\n",
              "    border: none;\n",
              "    border-radius: 50%;\n",
              "    cursor: pointer;\n",
              "    display: none;\n",
              "    fill: var(--fill-color);\n",
              "    height: 32px;\n",
              "    padding: 0;\n",
              "    width: 32px;\n",
              "  }\n",
              "\n",
              "  .colab-df-quickchart:hover {\n",
              "    background-color: var(--hover-bg-color);\n",
              "    box-shadow: 0 1px 2px rgba(60, 64, 67, 0.3), 0 1px 3px 1px rgba(60, 64, 67, 0.15);\n",
              "    fill: var(--button-hover-fill-color);\n",
              "  }\n",
              "\n",
              "  .colab-df-quickchart-complete:disabled,\n",
              "  .colab-df-quickchart-complete:disabled:hover {\n",
              "    background-color: var(--disabled-bg-color);\n",
              "    fill: var(--disabled-fill-color);\n",
              "    box-shadow: none;\n",
              "  }\n",
              "\n",
              "  .colab-df-spinner {\n",
              "    border: 2px solid var(--fill-color);\n",
              "    border-color: transparent;\n",
              "    border-bottom-color: var(--fill-color);\n",
              "    animation:\n",
              "      spin 1s steps(1) infinite;\n",
              "  }\n",
              "\n",
              "  @keyframes spin {\n",
              "    0% {\n",
              "      border-color: transparent;\n",
              "      border-bottom-color: var(--fill-color);\n",
              "      border-left-color: var(--fill-color);\n",
              "    }\n",
              "    20% {\n",
              "      border-color: transparent;\n",
              "      border-left-color: var(--fill-color);\n",
              "      border-top-color: var(--fill-color);\n",
              "    }\n",
              "    30% {\n",
              "      border-color: transparent;\n",
              "      border-left-color: var(--fill-color);\n",
              "      border-top-color: var(--fill-color);\n",
              "      border-right-color: var(--fill-color);\n",
              "    }\n",
              "    40% {\n",
              "      border-color: transparent;\n",
              "      border-right-color: var(--fill-color);\n",
              "      border-top-color: var(--fill-color);\n",
              "    }\n",
              "    60% {\n",
              "      border-color: transparent;\n",
              "      border-right-color: var(--fill-color);\n",
              "    }\n",
              "    80% {\n",
              "      border-color: transparent;\n",
              "      border-right-color: var(--fill-color);\n",
              "      border-bottom-color: var(--fill-color);\n",
              "    }\n",
              "    90% {\n",
              "      border-color: transparent;\n",
              "      border-bottom-color: var(--fill-color);\n",
              "    }\n",
              "  }\n",
              "</style>\n",
              "\n",
              "  <script>\n",
              "    async function quickchart(key) {\n",
              "      const quickchartButtonEl =\n",
              "        document.querySelector('#' + key + ' button');\n",
              "      quickchartButtonEl.disabled = true;  // To prevent multiple clicks.\n",
              "      quickchartButtonEl.classList.add('colab-df-spinner');\n",
              "      try {\n",
              "        const charts = await google.colab.kernel.invokeFunction(\n",
              "            'suggestCharts', [key], {});\n",
              "      } catch (error) {\n",
              "        console.error('Error during call to suggestCharts:', error);\n",
              "      }\n",
              "      quickchartButtonEl.classList.remove('colab-df-spinner');\n",
              "      quickchartButtonEl.classList.add('colab-df-quickchart-complete');\n",
              "    }\n",
              "    (() => {\n",
              "      let quickchartButtonEl =\n",
              "        document.querySelector('#df-c5f98921-3512-4bdf-91da-0529c500b083 button');\n",
              "      quickchartButtonEl.style.display =\n",
              "        google.colab.kernel.accessAllowed ? 'block' : 'none';\n",
              "    })();\n",
              "  </script>\n",
              "</div>\n",
              "\n",
              "    </div>\n",
              "  </div>\n"
            ],
            "application/vnd.google.colaboratory.intrinsic+json": {
              "type": "dataframe",
              "variable_name": "val_data",
              "summary": "{\n  \"name\": \"val_data\",\n  \"rows\": 903,\n  \"fields\": [\n    {\n      \"column\": \"text\",\n      \"properties\": {\n        \"dtype\": \"string\",\n        \"num_unique_values\": 903,\n        \"samples\": [\n          \"Ahead of the Delhi civic polls, Chief Minister Arvind Kejriwal said, \\\"If you (citizens) vote for the BJP and if your child falls prey to dengue or chikungunya, then you will be responsible, because you voted for a party that spreads mosquitoes.\\\" He further said, \\\"BJP is in MCD for the last 10 years but still it cannot clean Delhi.\\\"\",\n          \"Addressing the 30th edition of his monthly radio address 'Mann Ki Baat', Prime Minister Narendra Modi on Sunday asserted that depression needed expression and not suppression. \\\"We are fortunate to have been raised in joint families, it ends any chance of...depression,\\\" he said. PM Modi also said it is good to share your feelings with others if feeling depressed.\",\n          \"The Election Commission on Wednesday introduced an \\\"open challenge\\\" for people to hack electronic voting machines, starting May first week. This comes after opposition parties urged the poll panel to revert to the paper ballot system while alleging that EVMs were tampered with in elections. The challenge will be open for around 10 days and will have various levels.\"\n        ],\n        \"semantic_type\": \"\",\n        \"description\": \"\"\n      }\n    },\n    {\n      \"column\": \"ctext\",\n      \"properties\": {\n        \"dtype\": \"string\",\n        \"num_unique_values\": 855,\n        \"samples\": [\n          \"Former Australia captain Michael Clarke on Friday said spin twins Ravichandran Ashwin and Ravindra Jadeja will be India's key weapons in the Champions Trophy next month in England.WATCH: India have the firepower to defend Champions Trophy title, Michael Clarke tells India TodaySpeaking exclusively to India Today, Clarke said India definitely have the firepower to defend the Champions Trophy title which they won in 2013.\\\"Ravindra Jadeja and Ravichandran Ashwin are going to be two huge weapons for India in England depending on the weather conditions there. If they are getting good summer, the wickets will be dry and I think spin will play a part. Even if it swings there, I think India have got quality fast bowlers whom they can utilise,\\\" Clarke told India Today. (Shikhar Dhawan-Rohit Sharma ideal opening pair for India in Champions Trophy: VVS Laxman to India Today)Clarke also said that the Indian Premier League is a good opportunity for the players to prepare for the Champions Trophy, which begins on June 1.\\\"I feel India have the firepower to defend the Champions Trophy title. I feel the Indian Premier League as the preparation leading to the Champions Trophy is fantastic for the all the players involved. There's absolutely no doubt that India will be well prepared. They have got good enough players,\\\" he said.Clarke said opener KL Rahul's absence will be a big loss but added that India have the players to replace him.\",\n          \"Indian television actor Parth Samthaan, who became a household name, thanks to the success of his show Kaisi Yeh Yaariyan, is in deep trouble.A complaint of molestation has been lodged against the actor by a 20-year-old model. Bangar Nagar police station has registered the FIR under section 354 A of the Indian Penal Code. The FIR was filed last month, as the incident had apparently occurred on February 20.\",\n          \"At a railway station in Patna, Bihar, hundreds of passengers aboard a local train were left to their own devices for as long as two hours after the train driver abandoned the train midway, for a cold shower to beat the heat.A probe has been ordered after the incident which took place at Buxar railway station on Monday.A passenger train coming from Patna was on its way to Moghulsarai station in Uttar Pradesh when the driver left it at Buxur station at 10.55 am and vanished into thin air, according to a Gulf News report.The train received the green signal but when it failed to move, furious passengers got off the train and protested angrily.FYI || Humanity derailed: Unhelpful people ignore woman stuck between closing train doors ||The panel controller had to make an announcement using the panel address system and asked the driver to return immediately and get the train moving to let other tains move forward as well.But the driver was nowhere to be found since he did not turn up even after the announcement. A search for the train driver was launched by the authorities.Soon it was found out that driver MK Singh left to take a refreshing bath in the sweltering heat in the region where mercury soars over 40 degree Celsius.FYI || MBBS student helps a woman give birth on moving train, uses WhatsApp to seek advice from doctors ||When the search failed, the protest failed, and the announcement fell on deaf ears, eventually the train driver returned around 1.20 pm.The train was soon moved, finally, but the frustrated and angry passengers took his case in his cabin.\"\n        ],\n        \"semantic_type\": \"\",\n        \"description\": \"\"\n      }\n    },\n    {\n      \"column\": \"raw_news\",\n      \"properties\": {\n        \"dtype\": \"string\",\n        \"num_unique_values\": 855,\n        \"samples\": [\n          \"summarize: Former Australia captain Michael Clarke on Friday said spin twins Ravichandran Ashwin and Ravindra Jadeja will be India's key weapons in the Champions Trophy next month in England.WATCH: India have the firepower to defend Champions Trophy title, Michael Clarke tells India TodaySpeaking exclusively to India Today, Clarke said India definitely have the firepower to defend the Champions Trophy title which they won in 2013.\\\"Ravindra Jadeja and Ravichandran Ashwin are going to be two huge weapons for India in England depending on the weather conditions there. If they are getting good summer, the wickets will be dry and I think spin will play a part. Even if it swings there, I think India have got quality fast bowlers whom they can utilise,\\\" Clarke told India Today. (Shikhar Dhawan-Rohit Sharma ideal opening pair for India in Champions Trophy: VVS Laxman to India Today)Clarke also said that the Indian Premier League is a good opportunity for the players to prepare for the Champions Trophy, which begins on June 1.\\\"I feel India have the firepower to defend the Champions Trophy title. I feel the Indian Premier League as the preparation leading to the Champions Trophy is fantastic for the all the players involved. There's absolutely no doubt that India will be well prepared. They have got good enough players,\\\" he said.Clarke said opener KL Rahul's absence will be a big loss but added that India have the players to replace him.\",\n          \"summarize: Indian television actor Parth Samthaan, who became a household name, thanks to the success of his show Kaisi Yeh Yaariyan, is in deep trouble.A complaint of molestation has been lodged against the actor by a 20-year-old model. Bangar Nagar police station has registered the FIR under section 354 A of the Indian Penal Code. The FIR was filed last month, as the incident had apparently occurred on February 20.\",\n          \"summarize: At a railway station in Patna, Bihar, hundreds of passengers aboard a local train were left to their own devices for as long as two hours after the train driver abandoned the train midway, for a cold shower to beat the heat.A probe has been ordered after the incident which took place at Buxar railway station on Monday.A passenger train coming from Patna was on its way to Moghulsarai station in Uttar Pradesh when the driver left it at Buxur station at 10.55 am and vanished into thin air, according to a Gulf News report.The train received the green signal but when it failed to move, furious passengers got off the train and protested angrily.FYI || Humanity derailed: Unhelpful people ignore woman stuck between closing train doors ||The panel controller had to make an announcement using the panel address system and asked the driver to return immediately and get the train moving to let other tains move forward as well.But the driver was nowhere to be found since he did not turn up even after the announcement. A search for the train driver was launched by the authorities.Soon it was found out that driver MK Singh left to take a refreshing bath in the sweltering heat in the region where mercury soars over 40 degree Celsius.FYI || MBBS student helps a woman give birth on moving train, uses WhatsApp to seek advice from doctors ||When the search failed, the protest failed, and the announcement fell on deaf ears, eventually the train driver returned around 1.20 pm.The train was soon moved, finally, but the frustrated and angry passengers took his case in his cabin.\"\n        ],\n        \"semantic_type\": \"\",\n        \"description\": \"\"\n      }\n    }\n  ]\n}"
            }
          },
          "metadata": {},
          "execution_count": 155
        }
      ],
      "source": [
        "\n",
        "val_data.head()"
      ]
    },
    {
      "cell_type": "markdown",
      "metadata": {
        "id": "H5qu0ohnsm4V"
      },
      "source": [
        "전체 데이터셋과 분할된 데이터셋들의 형태를 확인해볼까요?"
      ]
    },
    {
      "cell_type": "code",
      "execution_count": 156,
      "metadata": {
        "colab": {
          "base_uri": "https://localhost:8080/"
        },
        "id": "b4VYyEKCbwnP",
        "outputId": "c2071e28-3063-46c9-abb7-38bb04fe4e92"
      },
      "outputs": [
        {
          "output_type": "stream",
          "name": "stdout",
          "text": [
            "FULL Dataset: (4514, 3)\n",
            "TRAIN Dataset: (3611, 3)\n",
            "TEST Dataset: (903, 3)\n"
          ]
        }
      ],
      "source": [
        "print(\"FULL Dataset: {}\".format(df.shape))\n",
        "print(\"TRAIN Dataset: {}\".format(train_data.shape))\n",
        "print(\"TEST Dataset: {}\".format(val_data.shape))"
      ]
    },
    {
      "cell_type": "markdown",
      "metadata": {
        "id": "tJgOlRo1s7rZ"
      },
      "source": [
        "### 2.4 토큰화\n",
        "\n",
        "이제 준비된 데이터를 바탕으로 토큰화를 진행해보겠습니다. 앞서 설명한 토큰화 방식과 마찬가지로, T5 모델에 대한 토크나이저를 불러오겠습니다.  "
      ]
    },
    {
      "cell_type": "code",
      "execution_count": 157,
      "metadata": {
        "colab": {
          "base_uri": "https://localhost:8080/"
        },
        "id": "vrwMlxm_T6W2",
        "outputId": "3fb37e8e-76bd-4dd5-ab76-c3d1470edbcf"
      },
      "outputs": [
        {
          "output_type": "stream",
          "name": "stderr",
          "text": [
            "Special tokens have been added in the vocabulary, make sure the associated word embeddings are fine-tuned or trained.\n"
          ]
        }
      ],
      "source": [
        "# T5 토크나이저를 \"t5-base\" 모델을 기반으로 불러오기\n",
        "tokenizer = T5Tokenizer.from_pretrained(\"t5-base\")"
      ]
    },
    {
      "cell_type": "markdown",
      "metadata": {
        "id": "jmEfyYWZts0-"
      },
      "source": [
        " `T5Tokenizer`는 T5 모델의 텍스트를 토큰화하기 위한 토크나이저입니다. `from_pretrained` 메서드를 사용하여 사전 학습된 `\"t5-base\"` 모델에 대한 토크나이저를 불러옵니다.  \n",
        "\n",
        "`\"t5-base\"`는 T5 모델의 기본 버전을 나타냅니다."
      ]
    },
    {
      "cell_type": "markdown",
      "metadata": {
        "id": "IJ3U25e-t7Y6"
      },
      "source": [
        "### 2.5 데이터셋 클래스 선언\n",
        "\n",
        "데이터셋 클래스를 선언하도록 하겠습니다.  \n",
        "\n",
        "아래 데이터셋은 PyTorch의 Dataset 클래스를 상속받아 정의하며, 이를 통해 데이터 로딩 및 전처리를 효율적으로 수행할 수 있습니다.\n",
        "\n",
        "또한 `DataLoader`와 함께 사용하면 배치 단위로 데이터를 불러와 모델 학습에 사용할 수 있습니다.  \n",
        "\n",
        "`CustomDataset` 클래스는 T5 모델과 텍스트 요약 작업의 특성을 반영하여 설계되었습니다. 이를 바탕으로, 일반적인 데이터셋과는 다르게 `CustomDataset`이 가져야 하는 특이한 기능들은 다음과 같습니다.\n",
        "\n",
        "1. 토큰화 및 패딩:\n",
        "\n",
        "T5 모델은 특정한 토크나이저를 사용하여 텍스트를 토큰화합니다. `CustomDataset` 클래스는 이 토크나이저를 사용하여 원문과 요약문을 토큰화합니다.\n",
        "\n",
        "또한, 모델에 입력되는 텍스트의 길이는 일정해야 하므로, 주어진 최대 길이에 따라 텍스트를 잘라내거나 패딩을 추가하는 작업이 필요합니다.\n",
        "\n",
        "2. 반환 형식:\n",
        "\n",
        "T5 모델 학습을 위해서는 원문(`source_ids`, `source_mask`)과 요약문(`target_ids`)에 해당하는 토큰 ID와 attention mask가 필요합니다.\n",
        "\n",
        "CustomDataset 클래스는 `__getitem__` 메서드에서 이 정보를 딕셔너리 형태로 반환합니다. 이 딕셔너리는 모델 학습 시 바로 사용될 수 있도록 구성되어 있습니다.\n",
        "\n",
        "3. 텍스트 정규화:\n",
        "\n",
        "텍스트 데이터에는 불필요한 공백이나 특수 문자 등이 포함될 수 있습니다. 이 클래스에서는 각 텍스트를 공백을 기준으로 분할한 후 다시 합쳐서 불필요한 공백을 제거하는 작업을 수행합니다."
      ]
    },
    {
      "cell_type": "code",
      "execution_count": 158,
      "metadata": {
        "id": "hw9oud3BQ598"
      },
      "outputs": [],
      "source": [
        "# 사용자 정의 데이터셋 클래스\n",
        "class CustomDataset(Dataset):\n",
        "\n",
        "    def __init__(self, dataframe, tokenizer, source_len, summ_len,\n",
        "                 source_col, highlight_col):\n",
        "        # 초기화 메서드\n",
        "        self.tokenizer = tokenizer  # 토크나이저 설정\n",
        "        self.data = dataframe  # 데이터프레임 설정\n",
        "        self.source_len = source_len  # 원문의 최대 길이 설정\n",
        "        self.summ_len = summ_len  # 요약문의 최대 길이 설정\n",
        "        self.highlight = self.data[highlight_col]  # 요약문 데이터 설정\n",
        "        self.source = self.data[source_col]  # 원문 데이터 설정\n",
        "\n",
        "    def __len__(self):\n",
        "        # 데이터셋의 길이 반환\n",
        "        return len(self.highlight)\n",
        "\n",
        "    def __getitem__(self, index):\n",
        "        # 주어진 인덱스에 해당하는 데이터 반환\n",
        "        source_text = str(self.source[index])  # 원문 텍스트 추출\n",
        "        source_text = ' '.join(source_text.split())  # 불필요한 공백 제거\n",
        "\n",
        "        highlight_text = str(self.highlight[index])  # 요약문 텍스트 추출\n",
        "        highlight_text = ' '.join(highlight_text.split())  # 불필요한 공백 제거\n",
        "\n",
        "        # 원문 텍스트를 토큰화\n",
        "        source_encoded = self.tokenizer.batch_encode_plus(\n",
        "            [source_text],\n",
        "            max_length=self.source_len,\n",
        "            truncation=True,\n",
        "            padding='max_length',\n",
        "            return_tensors='pt'\n",
        "        )\n",
        "        # 요약문 텍스트를 토큰화\n",
        "        target_encoded = self.tokenizer.batch_encode_plus(\n",
        "            [highlight_text],\n",
        "            max_length=self.summ_len,\n",
        "            truncation=True,\n",
        "            padding='max_length',\n",
        "            return_tensors='pt'\n",
        "        )\n",
        "\n",
        "        # 토큰화된 결과에서 필요한 정보 추출\n",
        "        source_ids = source_encoded['input_ids'].squeeze()  # squeeze 메서드는 텐서에서 크기가 1인 차원을 제거\n",
        "        source_mask = source_encoded['attention_mask'].squeeze()\n",
        "        target_ids = target_encoded['input_ids'].squeeze()\n",
        "        target_mask = target_encoded['attention_mask'].squeeze()\n",
        "\n",
        "        # 결과 반환\n",
        "        return {\n",
        "            'source_ids': source_ids.to(dtype=torch.long),\n",
        "            'source_mask': source_mask.to(dtype=torch.long),\n",
        "            'target_ids': target_ids.to(dtype=torch.long),\n",
        "            'target_ids_y': target_ids.to(dtype=torch.long)\n",
        "        }"
      ]
    },
    {
      "cell_type": "markdown",
      "metadata": {
        "id": "rfWyDoa7wVo7"
      },
      "source": [
        "위 클래스를 뜯어 살펴보겠습니다.\n",
        "\n",
        "1. 초기화 (`__init__`):\n",
        "\n",
        "    - 입력으로 주어진 데이터프레임, 토크나이저, 원문과 요약문의 최대 길이, 그리고 원문과 요약문의 열 이름을 기반으로 클래스를 초기화합니다.\n",
        "\n",
        "    - 원문(source)과 요약문(highlight) 데이터를 멤버 변수로 저장합니다.\n",
        "\n",
        "2. 데이터셋의 길이 반환 (`__len__`):\n",
        "\n",
        "    - 데이터셋에 포함된 샘플의 총 개수를 반환합니다.\n",
        "\n",
        "3. 인덱스에 해당하는 데이터 반환 (`__getitem__`):\n",
        "\n",
        "    - 주어진 인덱스에 해당하는 원문과 요약문을 추출합니다.\n",
        "\n",
        "    - 추출된 원문과 요약문을 토크나이저를 사용하여 토큰화합니다. 이때, 주어진 최대 길이에 맞게 텍스트를 잘라내거나 패딩을 추가합니다.\n",
        "\n",
        "    - 토큰화된 결과에서 필요한 정보 (예: input_ids, attention_mask 등)를 추출합니다.\n",
        "\n",
        "    - 추출된 정보를 딕셔너리 형태로 반환합니다. 이 딕셔너리는 모델 학습 시 입력 데이터로 사용됩니다."
      ]
    },
    {
      "cell_type": "markdown",
      "metadata": {
        "id": "ZtRmGIeX2jrL"
      },
      "source": [
        "데이터셋 클래스가 선언되었으므로, 이를 바탕으로 학습용 데이터셋을 만들어보겠습니다."
      ]
    },
    {
      "cell_type": "markdown",
      "metadata": {
        "id": "WtfeVjBE-hoo"
      },
      "source": [
        "### [TODO] 학습용 데이터셋 인스턴스를 생성해주세요."
      ]
    },
    {
      "cell_type": "code",
      "execution_count": 159,
      "metadata": {
        "id": "L8AIdXx1SqlR"
      },
      "outputs": [],
      "source": [
        "training_set = CustomDataset(dataframe=train_data,\n",
        "                        tokenizer=tokenizer,\n",
        "                        source_len=MAX_LEN,\n",
        "                        summ_len=SUMMARY_LEN,\n",
        "                        source_col='text',\n",
        "                        highlight_col='ctext',\n",
        "                        )"
      ]
    },
    {
      "cell_type": "markdown",
      "metadata": {
        "id": "jy3My2hS-hoo"
      },
      "source": [
        ">예시코드\n",
        "```\n",
        "training_set = CustomDataset(dataframe=train_data,\n",
        "                        tokenizer=tokenizer,\n",
        "                        source_len=MAX_LEN,\n",
        "                        summ_len=SUMMARY_LEN,\n",
        "                        source_col='text',\n",
        "                        highlight_col='ctext',\n",
        "                        )\n",
        "```"
      ]
    },
    {
      "cell_type": "markdown",
      "metadata": {
        "id": "jkc-7gRi5rxU"
      },
      "source": [
        "`tokenizer=tokenizer`: T5 모델의 토크나이저를 사용하여 텍스트를 토큰화합니다.\n",
        "\n",
        "`source_len=MAX_LEN`: 원문의 최대 길이를 `MAX_LEN`으로 설정합니다. 이 길이를 초과하는 원문은 잘리게 되며, 이 길이보다 짧은 원문은 패딩됩니다.\n",
        "\n",
        "`summ_len=SUMMARY_LEN`: 요약문의 최대 길이를 `SUMMARY_LEN`으로 설정합니다. 이 길이를 초과하는 요약문은 잘리게 되며, 이 길이보다 짧은 요약문은 패딩됩니다.\n",
        "\n",
        "`source_col='text'`: 원문 데이터가 포함된 열의 이름을 `'text'`로 설정합니다.\n",
        "\n",
        "`highlight_col='ctext'`: 요약문 데이터가 포함된 열의 이름을 `'ctext'`로 설정합니다."
      ]
    },
    {
      "cell_type": "markdown",
      "metadata": {
        "id": "VvfPv-k057we"
      },
      "source": [
        "CustomDataset 클래스의 `__getitem__`메서드를 호출하여 인덱스 1에 해당하는 샘플을 가져옵니다. 이 메서드는 주어진 인덱스에 해당하는 원문과 요약문을 토큰화하고, 필요한 정보를 딕셔너리 형태로 반환합니다.  \n",
        "\n",
        "한 번 내부를 살펴볼까요?"
      ]
    },
    {
      "cell_type": "markdown",
      "metadata": {
        "id": "aYxLctDk-hoo"
      },
      "source": [
        "### [TODO] 데이터셋 클래스의 1번 인덱스에 해당하는 데이터를 불러와주세요."
      ]
    },
    {
      "cell_type": "code",
      "execution_count": 160,
      "metadata": {
        "colab": {
          "base_uri": "https://localhost:8080/"
        },
        "id": "Y7AX6zrpW1xm",
        "outputId": "865a1088-e59b-4739-cf2c-1092eb0cb2fd"
      },
      "outputs": [
        {
          "output_type": "execute_result",
          "data": {
            "text/plain": [
              "{'source_ids': tensor([   37,  2830,   789,    65, 18168,  7634, 12446,  2106,    15,  1152,\n",
              "            45,  5505,    16,     8,   684,    38,     3,    88,    65,    96,\n",
              "         16408,    26,    16,     3,     9,   939,    13,  1282,  7916,     7,\n",
              "             6,   321,    16,   112,   569,   280,    11,   383,     3,     9,\n",
              "          1767,   821,    16,  1473,  1280,  2106,    15,  1152,    56,  1912,\n",
              "            16,  3826,   865,    48,   215,     6,    28, 14635,  5018,    16,\n",
              "          1440,   114,  9995,     6,  3411,    11,  6243,     6,    38,   294,\n",
              "            13,   112,  7333,  2748,    15,  1150,  3351,     5,     1,     0,\n",
              "             0,     0,     0,     0,     0,     0,     0,     0,     0,     0,\n",
              "             0,     0,     0,     0,     0,     0,     0,     0,     0,     0,\n",
              "             0,     0,     0,     0,     0,     0,     0,     0,     0,     0,\n",
              "             0,     0,     0,     0,     0,     0,     0,     0,     0,     0,\n",
              "             0,     0,     0,     0,     0,     0,     0,     0,     0,     0,\n",
              "             0,     0,     0,     0,     0,     0,     0,     0,     0,     0,\n",
              "             0,     0,     0,     0,     0,     0,     0,     0,     0,     0,\n",
              "             0,     0,     0,     0,     0,     0,     0,     0,     0,     0,\n",
              "             0,     0,     0,     0,     0,     0,     0,     0,     0,     0,\n",
              "             0,     0,     0,     0,     0,     0,     0,     0,     0,     0,\n",
              "             0,     0,     0,     0,     0,     0,     0,     0,     0,     0,\n",
              "             0,     0,     0,     0,     0,     0,     0,     0,     0,     0,\n",
              "             0,     0,     0,     0,     0,     0,     0,     0,     0,     0,\n",
              "             0,     0,     0,     0,     0,     0,     0,     0,     0,     0,\n",
              "             0,     0,     0,     0,     0,     0,     0,     0,     0,     0,\n",
              "             0,     0,     0,     0,     0,     0,     0,     0,     0,     0,\n",
              "             0,     0,     0,     0,     0,     0,     0,     0,     0,     0,\n",
              "             0,     0,     0,     0,     0,     0,     0,     0,     0,     0,\n",
              "             0,     0,     0,     0,     0,     0,     0,     0,     0,     0,\n",
              "             0,     0,     0,     0,     0,     0,     0,     0,     0,     0,\n",
              "             0,     0,     0,     0,     0,     0,     0,     0,     0,     0,\n",
              "             0,     0,     0,     0,     0,     0,     0,     0,     0,     0,\n",
              "             0,     0,     0,     0,     0,     0,     0,     0,     0,     0,\n",
              "             0,     0,     0,     0,     0,     0,     0,     0,     0,     0,\n",
              "             0,     0,     0,     0,     0,     0,     0,     0,     0,     0,\n",
              "             0,     0,     0,     0,     0,     0,     0,     0,     0,     0,\n",
              "             0,     0,     0,     0,     0,     0,     0,     0,     0,     0,\n",
              "             0,     0,     0,     0,     0,     0,     0,     0,     0,     0,\n",
              "             0,     0,     0,     0,     0,     0,     0,     0,     0,     0,\n",
              "             0,     0,     0,     0,     0,     0,     0,     0,     0,     0,\n",
              "             0,     0,     0,     0,     0,     0,     0,     0,     0,     0,\n",
              "             0,     0,     0,     0,     0,     0,     0,     0,     0,     0,\n",
              "             0,     0,     0,     0,     0,     0,     0,     0,     0,     0,\n",
              "             0,     0,     0,     0,     0,     0,     0,     0,     0,     0,\n",
              "             0,     0,     0,     0,     0,     0,     0,     0,     0,     0,\n",
              "             0,     0,     0,     0,     0,     0,     0,     0,     0,     0,\n",
              "             0,     0,     0,     0,     0,     0,     0,     0,     0,     0,\n",
              "             0,     0,     0,     0,     0,     0,     0,     0,     0,     0,\n",
              "             0,     0,     0,     0,     0,     0,     0,     0,     0,     0,\n",
              "             0,     0,     0,     0,     0,     0,     0,     0,     0,     0,\n",
              "             0,     0,     0,     0,     0,     0,     0,     0,     0,     0,\n",
              "             0,     0,     0,     0,     0,     0,     0,     0,     0,     0,\n",
              "             0,     0,     0,     0,     0,     0,     0,     0,     0,     0,\n",
              "             0,     0]),\n",
              " 'source_mask': tensor([1, 1, 1, 1, 1, 1, 1, 1, 1, 1, 1, 1, 1, 1, 1, 1, 1, 1, 1, 1, 1, 1, 1, 1,\n",
              "         1, 1, 1, 1, 1, 1, 1, 1, 1, 1, 1, 1, 1, 1, 1, 1, 1, 1, 1, 1, 1, 1, 1, 1,\n",
              "         1, 1, 1, 1, 1, 1, 1, 1, 1, 1, 1, 1, 1, 1, 1, 1, 1, 1, 1, 1, 1, 1, 1, 1,\n",
              "         1, 1, 1, 1, 1, 1, 1, 0, 0, 0, 0, 0, 0, 0, 0, 0, 0, 0, 0, 0, 0, 0, 0, 0,\n",
              "         0, 0, 0, 0, 0, 0, 0, 0, 0, 0, 0, 0, 0, 0, 0, 0, 0, 0, 0, 0, 0, 0, 0, 0,\n",
              "         0, 0, 0, 0, 0, 0, 0, 0, 0, 0, 0, 0, 0, 0, 0, 0, 0, 0, 0, 0, 0, 0, 0, 0,\n",
              "         0, 0, 0, 0, 0, 0, 0, 0, 0, 0, 0, 0, 0, 0, 0, 0, 0, 0, 0, 0, 0, 0, 0, 0,\n",
              "         0, 0, 0, 0, 0, 0, 0, 0, 0, 0, 0, 0, 0, 0, 0, 0, 0, 0, 0, 0, 0, 0, 0, 0,\n",
              "         0, 0, 0, 0, 0, 0, 0, 0, 0, 0, 0, 0, 0, 0, 0, 0, 0, 0, 0, 0, 0, 0, 0, 0,\n",
              "         0, 0, 0, 0, 0, 0, 0, 0, 0, 0, 0, 0, 0, 0, 0, 0, 0, 0, 0, 0, 0, 0, 0, 0,\n",
              "         0, 0, 0, 0, 0, 0, 0, 0, 0, 0, 0, 0, 0, 0, 0, 0, 0, 0, 0, 0, 0, 0, 0, 0,\n",
              "         0, 0, 0, 0, 0, 0, 0, 0, 0, 0, 0, 0, 0, 0, 0, 0, 0, 0, 0, 0, 0, 0, 0, 0,\n",
              "         0, 0, 0, 0, 0, 0, 0, 0, 0, 0, 0, 0, 0, 0, 0, 0, 0, 0, 0, 0, 0, 0, 0, 0,\n",
              "         0, 0, 0, 0, 0, 0, 0, 0, 0, 0, 0, 0, 0, 0, 0, 0, 0, 0, 0, 0, 0, 0, 0, 0,\n",
              "         0, 0, 0, 0, 0, 0, 0, 0, 0, 0, 0, 0, 0, 0, 0, 0, 0, 0, 0, 0, 0, 0, 0, 0,\n",
              "         0, 0, 0, 0, 0, 0, 0, 0, 0, 0, 0, 0, 0, 0, 0, 0, 0, 0, 0, 0, 0, 0, 0, 0,\n",
              "         0, 0, 0, 0, 0, 0, 0, 0, 0, 0, 0, 0, 0, 0, 0, 0, 0, 0, 0, 0, 0, 0, 0, 0,\n",
              "         0, 0, 0, 0, 0, 0, 0, 0, 0, 0, 0, 0, 0, 0, 0, 0, 0, 0, 0, 0, 0, 0, 0, 0,\n",
              "         0, 0, 0, 0, 0, 0, 0, 0, 0, 0, 0, 0, 0, 0, 0, 0, 0, 0, 0, 0, 0, 0, 0, 0,\n",
              "         0, 0, 0, 0, 0, 0, 0, 0, 0, 0, 0, 0, 0, 0, 0, 0, 0, 0, 0, 0, 0, 0, 0, 0,\n",
              "         0, 0, 0, 0, 0, 0, 0, 0, 0, 0, 0, 0, 0, 0, 0, 0, 0, 0, 0, 0, 0, 0, 0, 0,\n",
              "         0, 0, 0, 0, 0, 0, 0, 0]),\n",
              " 'target_ids': tensor([    3,    58,   196,   131,   174,    80,    72,  2538,     6,   511,\n",
              "          6209,     6,    58, 12446,  2106,    15,  1152, 10159,     7,    30,\n",
              "           112,  1251,  2306,     5,   933,   709,     6,    34,  1330,     6,\n",
              "            28,  2830,  5779,   113,    43,  2162,     8,  4151,  2783, 21979,\n",
              "            56,    59,    36,  2225,    12,  1912,    16,     8,  2449,    58,\n",
              "             7,  5750,   250,    13,   112,    30,    11,   326, 10705,    46,\n",
              "          7636,     5,  2106,    15,  1152,    56,  8757,   139,  3826,   865,\n",
              "            48,   215,    38,   294,    13,   112,  7333,  2748,    15,  1150,\n",
              "          3351,    28,  1267,  5018,    16,  9995,     6,  3411,     6,     8,\n",
              "         12729,     6,  6243,    11,  7764,  7807,     5,   299,   493,  8980,\n",
              "           277,    16, 25531,  1473,   320,   356,    12,    36, 10978,     5,\n",
              "            86,     3,     9,  2493,  1694,    30,   165,   475,    48,   471,\n",
              "             6, 14465,    58,     7,  1543, 12014,  5243,     1]),\n",
              " 'target_ids_y': tensor([    3,    58,   196,   131,   174,    80,    72,  2538,     6,   511,\n",
              "          6209,     6,    58, 12446,  2106,    15,  1152, 10159,     7,    30,\n",
              "           112,  1251,  2306,     5,   933,   709,     6,    34,  1330,     6,\n",
              "            28,  2830,  5779,   113,    43,  2162,     8,  4151,  2783, 21979,\n",
              "            56,    59,    36,  2225,    12,  1912,    16,     8,  2449,    58,\n",
              "             7,  5750,   250,    13,   112,    30,    11,   326, 10705,    46,\n",
              "          7636,     5,  2106,    15,  1152,    56,  8757,   139,  3826,   865,\n",
              "            48,   215,    38,   294,    13,   112,  7333,  2748,    15,  1150,\n",
              "          3351,    28,  1267,  5018,    16,  9995,     6,  3411,     6,     8,\n",
              "         12729,     6,  6243,    11,  7764,  7807,     5,   299,   493,  8980,\n",
              "           277,    16, 25531,  1473,   320,   356,    12,    36, 10978,     5,\n",
              "            86,     3,     9,  2493,  1694,    30,   165,   475,    48,   471,\n",
              "             6, 14465,    58,     7,  1543, 12014,  5243,     1])}"
            ]
          },
          "metadata": {},
          "execution_count": 160
        }
      ],
      "source": [
        "sample = training_set.__getitem__(1)\n",
        "sample"
      ]
    },
    {
      "cell_type": "markdown",
      "metadata": {
        "id": "MQMM-RBp-hoo"
      },
      "source": [
        "> 예시코드\n",
        "```\n",
        "sample = training_set.__getitem__(1)\n",
        "sample\n",
        "```"
      ]
    },
    {
      "cell_type": "markdown",
      "metadata": {
        "id": "3UCC7EYQ6Hym"
      },
      "source": [
        "각 키와 값에 대한 설명은 다음과 같습니다:\n",
        "\n",
        "- `source_ids`: 원문(`text`)의 토큰화된 결과입니다. 이는 T5 모델에 입력으로 제공될 원문의 토큰 ID들을 나타냅니다. 값 중 0은 패딩 토큰을 나타냅니다.\n",
        "\n",
        "- `source_mask`: 원문의 attention mask입니다. 이는 모델이 원문의 어떤 부분에 주의를 기울여야 하는지를 나타냅니다. 1은 해당 위치의 토큰이 실제 데이터를 나타내며, 0은 패딩 토큰을 나타냅니다.\n",
        "\n",
        "- `target_ids`: 요약문(`ctext`)의 토큰화된 결과입니다. 이는 T5 모델의 출력과 비교될 대상입니다. 값 중 0은 패딩 토큰을 나타냅니다.\n",
        "\n",
        "- `target_ids_y`: 요약문의 토큰화된 결과입니다. 이는 학습 시 정답 라벨로 사용됩니다. `target_ids`와 동일한 값을 가집니다."
      ]
    },
    {
      "cell_type": "markdown",
      "metadata": {
        "id": "FP-J8p2M6Ot_"
      },
      "source": [
        "CustomDataset 클래스의 `__getitem__`메서드를 호출하면, 데이터셋 전체 길이를 확인할 수 있습니다."
      ]
    },
    {
      "cell_type": "code",
      "execution_count": 161,
      "metadata": {
        "colab": {
          "base_uri": "https://localhost:8080/"
        },
        "id": "35UyvL4AZxSS",
        "outputId": "5f826ba7-74e9-4aad-c616-5c27c5f5fb57"
      },
      "outputs": [
        {
          "output_type": "execute_result",
          "data": {
            "text/plain": [
              "3611"
            ]
          },
          "metadata": {},
          "execution_count": 161
        }
      ],
      "source": [
        "training_set.__len__()\n"
      ]
    },
    {
      "cell_type": "markdown",
      "metadata": {
        "id": "BER8XC7c6Ueb"
      },
      "source": [
        "### [TODO] 테스트 데이터셋 인스턴스를 생성해주세요."
      ]
    },
    {
      "cell_type": "code",
      "execution_count": 162,
      "metadata": {
        "id": "GjpO1tIjWgYn"
      },
      "outputs": [],
      "source": [
        "val_set = CustomDataset(dataframe=val_data,\n",
        "                        tokenizer=tokenizer,\n",
        "                        source_len=MAX_LEN,\n",
        "                        summ_len=SUMMARY_LEN,\n",
        "                        source_col='text',\n",
        "                        highlight_col='ctext',\n",
        "                        )"
      ]
    },
    {
      "cell_type": "markdown",
      "metadata": {
        "id": "yD0vqFUG-hoo"
      },
      "source": [
        "> 예시코드\n",
        "```\n",
        "val_set = CustomDataset(dataframe=val_data,\n",
        "                        tokenizer=tokenizer,\n",
        "                        source_len=MAX_LEN,\n",
        "                        summ_len=SUMMARY_LEN,\n",
        "                        source_col='text',\n",
        "                        highlight_col='ctext',\n",
        "                        )\n",
        "```"
      ]
    },
    {
      "cell_type": "code",
      "execution_count": 163,
      "metadata": {
        "colab": {
          "base_uri": "https://localhost:8080/"
        },
        "id": "TMtIX4vYWh-L",
        "outputId": "56f1cbd0-e57f-4eee-c0c7-11a4827c019e"
      },
      "outputs": [
        {
          "output_type": "execute_result",
          "data": {
            "text/plain": [
              "903"
            ]
          },
          "metadata": {},
          "execution_count": 163
        }
      ],
      "source": [
        "val_set.__len__()"
      ]
    },
    {
      "cell_type": "markdown",
      "metadata": {
        "id": "Bs41unMF6Y9i"
      },
      "source": [
        "### 2.6 Dataloader\n",
        "\n",
        "Pytorch DataLoader는 데이터셋과 샘플러를 입력으로 받아, 데이터셋에서 데이터를 가져와 배치로 묶어주는 반복 가능한 객체(iterable)를 생성합니다.  \n",
        "\n",
        "이는 미니배치 학습, 데이터 셔플, 병렬 데이터 로딩 등을 쉽게 수행할 수 있게 해줍니다.\n",
        "\n",
        "DataLoader을 생성하기에 앞서 파라미터를 설정해주겠습니다.  \n",
        "\n",
        "파라미터에는 배치 크기, 셔플 여부, 사용할 프로세스 수를 기입해줍시다."
      ]
    },
    {
      "cell_type": "code",
      "execution_count": 164,
      "metadata": {
        "id": "Z54o-AtJbSlL"
      },
      "outputs": [],
      "source": [
        "# 학습 및 검증 데이터 로더를 생성하기 위한 매개변수 설정\n",
        "train_params = {\n",
        "    'batch_size': TRAIN_BATCH_SIZE,  # 학습 데이터의 배치 크기 설정\n",
        "    'shuffle': True,                 # 학습 데이터를 섞어서 학습의 안정성 향상\n",
        "    'num_workers': 0                # 데이터 로딩에 사용할 프로세스 수 (0은 메인 프로세스에서 로드)\n",
        "}\n",
        "\n",
        "val_params = {\n",
        "    'batch_size': VALID_BATCH_SIZE,  # 검증 데이터의 배치 크기 설정\n",
        "    'shuffle': False,                # 검증 데이터는 순서에 영향을 받지 않으므로 섞지 않음\n",
        "    'num_workers': 0                # 데이터 로딩에 사용할 프로세스 수 (0은 메인 프로세스에서 로드)\n",
        "}"
      ]
    },
    {
      "cell_type": "markdown",
      "metadata": {
        "id": "MsYlFtub79dZ"
      },
      "source": [
        "`batch_size`: 한 번에 처리할 데이터의 양을 설정합니다. 배치 크기는 GPU 메모리와 관련이 있으며, 너무 크게 설정하면 메모리 오류가 발생할 수 있습니다.\n",
        "\n",
        "`shuffle`: 학습 데이터의 경우, 각 에폭마다 데이터를 섞어서 모델이 데이터의 순서에 익숙해지지 않게 합니다. 이를 통해 모델의 일반화 성능을 향상시킬 수 있습니다. 반면, 테스트 데이터는 모델의 성능을 평가하는 데만 사용되므로 데이터를 섞을 필요가 없습니다.\n",
        "\n",
        "`num_workers`: 데이터 로딩 속도를 높이기 위해 여러 프로세스를 사용할 수 있습니다. 여기서는 단순화를 위해 메인 프로세스에서만 데이터를 로드하도록 설정되었습니다."
      ]
    },
    {
      "cell_type": "markdown",
      "metadata": {
        "id": "P4u7oOYP8Q02"
      },
      "source": [
        "딕셔너리 언패킹을 통해 위에서 선언한 파라미터 변수를 데이터로더 생성에 적용합니다."
      ]
    },
    {
      "cell_type": "markdown",
      "metadata": {
        "id": "TAuWZkPs-hop"
      },
      "source": [
        "### [TODO] 데이터로더를 생성해주세요.\n",
        "\n",
        "위에서 선언한 딕셔너리를 이용하여 데이터로더를 생성해주세요."
      ]
    },
    {
      "cell_type": "code",
      "execution_count": 165,
      "metadata": {
        "id": "oUqD0TYlb2eL"
      },
      "outputs": [],
      "source": [
        "# 학습 및 검증을 위한 데이터 로더 생성\n",
        "training_loader = DataLoader(training_set, **train_params)  # 학습 데이터셋을 위한 데이터 로더\n",
        "val_loader = DataLoader(val_set, **val_params)              # 테스트 데이터셋을 위한 데이터 로더"
      ]
    },
    {
      "cell_type": "code",
      "source": [
        "def example(a, b, c):\n",
        "    print(a, b, c)"
      ],
      "metadata": {
        "id": "yDF3Lp0oljbA"
      },
      "execution_count": 166,
      "outputs": []
    },
    {
      "cell_type": "code",
      "source": [
        "arg = {'a':1 , 'b':2, 'c':3}\n",
        "\n",
        "example(**arg)"
      ],
      "metadata": {
        "colab": {
          "base_uri": "https://localhost:8080/"
        },
        "id": "faZUdDbCljKY",
        "outputId": "a4cf6fd0-5c7a-468d-aa84-5dbeacdcfe01"
      },
      "execution_count": 167,
      "outputs": [
        {
          "output_type": "stream",
          "name": "stdout",
          "text": [
            "1 2 3\n"
          ]
        }
      ]
    },
    {
      "cell_type": "markdown",
      "metadata": {
        "id": "Vk2_779F-hop"
      },
      "source": [
        "> 예시코드\n",
        "```\n",
        "# 학습 및 검증을 위한 데이터 로더 생성\n",
        "training_loader = DataLoader(training_set, **train_params)  # 학습 데이터셋을 위한 데이터 로더\n",
        "val_loader = DataLoader(val_set, **val_params)              # 테스트 데이터셋을 위한 데이터 로더\n",
        "```"
      ]
    },
    {
      "cell_type": "markdown",
      "metadata": {
        "id": "4VQbi8X_8pOS"
      },
      "source": [
        "훌륭합니다. 이제 데이터 준비를 마쳤으니, 모델을 불러와 학습시키기만 하면 됩니다."
      ]
    },
    {
      "cell_type": "markdown",
      "metadata": {
        "id": "KlzdvqVj8Cq1"
      },
      "source": [
        "## 3. 모델 인스턴스 생성 및 학습"
      ]
    },
    {
      "cell_type": "markdown",
      "metadata": {
        "id": "y2he5nKa8u10"
      },
      "source": [
        "이번 실습에 사용할 모델은 [T5](https://arxiv.org/abs/1910.10683)입니다.  \n",
        "\n",
        "![T5](https://miro.medium.com/max/4006/1*D0J1gNQf8vrrUpKeyD8wPA.png)\n",
        "\n",
        "T5(Text-to-Text Transfer Transformer)는 Google Research에서 개발된 트랜스포머 기반의 모델로, 모든 자연어 처리 작업을 \"텍스트를 텍스트로 변환하는 작업\"으로 간주합니다.  \n",
        "\n",
        "이 독특한 접근 방식은 다양한 NLP 작업을 동일한 모델 아키텍처와 훈련 방법으로 처리할 수 있게 해주고 이는 사용되는 문장 앞에 독특한 태그를 붙이는 방식으로 진행됩니다.\n",
        "\n",
        "예를 들어 번역 작업에서는 \"translate English to Korean: Hello\"와 같은 입력을 받아 \"안녕하세요\"라는 출력을 생성합니다.\n",
        "\n",
        "Hugging Face에서 배포되는 다른 LLM과 마찬가지로, 큰 텍스트 데이터셋에서 미리 훈련된 후 특정 작업에 미세 조정되어 다양한 크기(small, base, large, 3B, 11B 등)로 제공됩니다.\n",
        "\n",
        "우리는 이 모델이 제공하는 다양한 기능 중 요약기능(\"summarize: \")을 통해 위에서 처리한 뉴스 데이터를 요약해보도록 하겠습니다.\n",
        "\n",
        "우선 Hugging Face Transformers 라이브러리에서 T5 모델을 불러오도록 하겠습니다."
      ]
    },
    {
      "cell_type": "markdown",
      "metadata": {
        "id": "lTidr3pKBJWo"
      },
      "source": [
        "### 3.1 모델 불러오기"
      ]
    },
    {
      "cell_type": "code",
      "execution_count": 168,
      "metadata": {
        "id": "N7Clhg4jb6A-"
      },
      "outputs": [],
      "source": [
        "# T5-base 모델을 정의하고 요약 생성을 위한 언어 모델 계층을 추가합니다.\n",
        "# 이후, 이 모델은 하드웨어(GPU/TPU)를 사용하기 위해 해당 장치로 전송됩니다.\n",
        "model = T5ForConditionalGeneration.from_pretrained(\"t5-base\")  # T5-base 모델을 불러옵니다.\n",
        "model = model.to(device)  # 모델을 GPU나 TPU로 전송합니다."
      ]
    },
    {
      "cell_type": "markdown",
      "metadata": {
        "id": "4sInyaZK_ysU"
      },
      "source": [
        "- `T5ForConditionalGeneration`: T5 모델의 변형으로, 조건부 생성 작업(예: 텍스트 요약)을 수행하기 위해 설계되었습니다. 이 모델은 주어진 입력 텍스트에 대한 요약을 생성하는 데 사용됩니다.\n",
        "\n",
        "- `.from_pretrained(\"t5-base\")`: 사전 학습된 't5-base' 모델을 불러옵니다. 't5-base'는 T5 모델의 중간 크기 버전으로, 광범위한 텍스트 데이터에서 사전 학습되었습니다.\n",
        "\n",
        "- `.to(device)`: 모델을 현재 사용 가능한 하드웨어 장치(GPU 또는 CPU)로 전송합니다."
      ]
    },
    {
      "cell_type": "markdown",
      "metadata": {
        "id": "qzoX3f_7A57D"
      },
      "source": [
        "### 3.2 Optimizer\n",
        "모델에 사용할 옵티마이저를 불러오고, 이에 적용할 학습률을 설정합니다.\n",
        "\n",
        "`params=model.parameters()`인자는 모델의 모든 파라미터(가중치 및 편향)를 옵티마이저에 전달하여 학습 중에 업데이트될 수 있도록 합니다."
      ]
    },
    {
      "cell_type": "code",
      "execution_count": 169,
      "metadata": {
        "id": "Nv7f3Mlsd-jj"
      },
      "outputs": [],
      "source": [
        "# 네트워크의 가중치를 조정하기 위해 학습 세션에서 사용될 옵티마이저를 정의합니다.\n",
        "optimizer = torch.optim.Adam(params=model.parameters(), lr=LEARNING_RATE)  # Adam 옵티마이저를 사용하며, 학습률은 LEARNING_RATE로 설정합니다."
      ]
    },
    {
      "cell_type": "markdown",
      "metadata": {
        "id": "KyIx6_VOBOzt"
      },
      "source": [
        "### 3.3 학습 함수 선언\n",
        "\n",
        "학습에 필요한 함수를 선언합니다.  \n",
        "\n",
        "모델을 학습모드로 설정하여 `순전파`, `손실계산`, `역전파`, `가중치 업데이트` 총 네 가지 과정을 for 문을 통해 반복적으로 진행합니다."
      ]
    },
    {
      "cell_type": "code",
      "execution_count": 170,
      "metadata": {
        "id": "3Ul6NTCAemHh"
      },
      "outputs": [],
      "source": [
        "def train(epoch, tokenizer, model, device, loader, optimizer):\n",
        "    # 모델을 학습 모드로 설정합니다.\n",
        "    model.train()\n",
        "\n",
        "    # 데이터 로더에서 배치 단위로 데이터를 가져와 학습을 진행합니다.\n",
        "    for _, data in tqdm(enumerate(loader, 0)):\n",
        "        # 타겟 데이터를 GPU로 이동시키고, 입력 및 레이블로 사용될 데이터를 준비합니다.\n",
        "        y = data['target_ids'].to(device, dtype=torch.long)\n",
        "        y_ids = y[:, :-1].contiguous()\n",
        "        lm_labels = y[:, 1:].clone().detach()\n",
        "        lm_labels[y[:, 1:] == tokenizer.pad_token_id] = -100\n",
        "        ids = data['source_ids'].to(device, dtype=torch.long)\n",
        "        mask = data['source_mask'].to(device, dtype=torch.long)\n",
        "\n",
        "        # 모델에 데이터를 전달하여 출력을 얻습니다.\n",
        "        outputs = model(input_ids=ids, attention_mask=mask, decoder_input_ids=y_ids, labels=lm_labels)\n",
        "        loss = outputs.loss\n",
        "\n",
        "        # 500번째 스텝마다 학습 손실을 출력합니다.\n",
        "        if _ % 500 == 0:\n",
        "            print(f'Epoch: {epoch}, Loss:  {loss.item()}')\n",
        "\n",
        "        # 옵티마이저의 기울기를 초기화하고, 손실을 기반으로 역전파를 수행한 후, 가중치를 업데이트합니다.\n",
        "        optimizer.zero_grad()\n",
        "        loss.backward()\n",
        "        optimizer.step()"
      ]
    },
    {
      "cell_type": "markdown",
      "metadata": {
        "id": "h5XBwQm5BiRF"
      },
      "source": [
        "- 모델 학습 모드 설정: `model.train()`을 사용하여 모델을 학습 모드로 설정합니다. 이렇게 하면 모델 내의 드롭아웃과 같은 특정 레이어가 학습 중에만 활성화됩니다.\n",
        "\n",
        "- 데이터 로딩: loader를 통해 학습 데이터를 배치 단위로 가져옵니다.\n",
        "\n",
        "- 데이터 전처리: 타겟 데이터(`y`)를 GPU로 이동시키고, 입력(`ids, mask`) 및 레이블(`lm_labels`)로 사용될 데이터를 준비합니다. `lm_labels`는 손실 계산에 사용되며, 패딩 토큰 위치에 -100 값을 가집니다.\n",
        "\n",
        "    - PyTorch의 크로스 엔트로피 손실 함수는 -100 값을 가진 레이블을 자동으로 무시하도록 설계되어 있습니다.\n",
        "\n",
        "    - 패딩 토큰들은 시퀀스의 길이를 동일하게 맞추기 위해 사용되지만, 실제 데이터가 아니므로 손실 계산에서 무시되어야 합니다.\n",
        "\n",
        "- 모델 전달: 입력 데이터를 모델에 전달하여 출력을 얻습니다. 이 때, 손실도 함께 반환됩니다.\n",
        "\n",
        "- 손실 출력: 500번째 스텝마다 현재의 손실을 출력하여 학습 진행 상황을 모니터링합니다.\n",
        "\n",
        "- 역전파 및 가중치 업데이트: 손실을 기반으로 역전파를 수행하고, 옵티마이저를 사용하여 모델의 가중치를 업데이트합니다."
      ]
    },
    {
      "cell_type": "markdown",
      "metadata": {
        "id": "Kp9PyOq5B6xA"
      },
      "source": [
        "### 3.4 평가 함수 선언\n",
        "\n",
        "이번엔 평가에 사용할 함수를 선언하겠습니다.  \n",
        "\n",
        "학습 함수와 유사하지만, `순전파`와 `손실계산`까지만 진행된다는 점이 다릅니다."
      ]
    },
    {
      "cell_type": "code",
      "execution_count": 171,
      "metadata": {
        "id": "5mm49ArZeqv7"
      },
      "outputs": [],
      "source": [
        "def validate(epoch, tokenizer, model, device, loader):\n",
        "    # 모델을 평가 모드로 설정. 이렇게 하면 학습 중에만 활성화되는 특정 레이어들 (예: Dropout)이 비활성화됩니다.\n",
        "    model.eval()\n",
        "\n",
        "    # 예측된 요약과 실제 요약을 저장하기 위한 리스트를 초기화합니다.\n",
        "    predictions = []\n",
        "    actuals = []\n",
        "\n",
        "    # 모델의 파라미터가 업데이트되지 않도록 gradient 계산을 중지합니다.\n",
        "    # 이는 검증 중에는 모델을 업데이트하지 않기 때문입니다.\n",
        "    with torch.no_grad():\n",
        "        # 검증 데이터셋의 각 배치에 대해 반복합니다.\n",
        "        for _, data in tqdm(enumerate(loader, 0)):\n",
        "            # 현재 배치의 데이터를 GPU로 전송합니다.\n",
        "            y = data['target_ids'].to(device, dtype = torch.long)\n",
        "            ids = data['source_ids'].to(device, dtype = torch.long)\n",
        "            mask = data['source_mask'].to(device, dtype = torch.long)\n",
        "\n",
        "            # 주어진 입력에 대한 요약을 생성합니다.\n",
        "            generated_ids = model.generate(\n",
        "                input_ids = ids,\n",
        "                attention_mask = mask,\n",
        "                max_length=150,\n",
        "                num_beams=2,\n",
        "                repetition_penalty=2.5,\n",
        "                length_penalty=1.0,\n",
        "                early_stopping=True\n",
        "                )\n",
        "\n",
        "            # 토큰 ID를 실제 텍스트로 변환합니다.\n",
        "            preds = [tokenizer.decode(g, skip_special_tokens=True, clean_up_tokenization_spaces=True) for g in generated_ids]\n",
        "            target = [tokenizer.decode(t, skip_special_tokens=True, clean_up_tokenization_spaces=True)for t in y]\n",
        "\n",
        "            # 예측과 실제 값을 저장합니다.\n",
        "            predictions.extend(preds)\n",
        "            actuals.extend(target)\n",
        "    return predictions, actuals"
      ]
    },
    {
      "cell_type": "markdown",
      "metadata": {
        "id": "XII6BYWjEr6F"
      },
      "source": [
        "- 모델 평가 모드 설정: `model.eval()`을 사용하여 모델을 평가 모드로 설정합니다. 이렇게 하면 모델 내의 드롭아웃과 같은 특정 레이어가 비활성화됩니다.\n",
        "\n",
        "- 데이터 로딩: loader를 통해 검증 데이터를 배치 단위로 가져옵니다.\n",
        "\n",
        "- 데이터 전처리: 타겟 데이터(`y`)와 입력 데이터(`ids, mask`)를 GPU로 이동시킵니다.\n",
        "\n",
        "- 모델 전달 및 요약 생성: 입력 데이터(`ids, mask`)를 모델에 전달하여 요약을 생성합니다. 이 때, `model.generate` 메서드를 사용하여 주어진 입력에 대한 요약을 생성합니다. 여기에는 빔 서치, 반복 패널티, 길이 패널티 등의 다양한 설정이 포함됩니다.\n",
        "\n",
        "    - 빔 서치와 두 페널티에 관한 설명은 아래에 자세히 이어서 설명하겠습니다.\n",
        "\n",
        "- 토큰 ID를 텍스트로 변환: 생성된 요약의 토큰 ID와 실제 요약의 토큰 ID를 실제 텍스트로 변환합니다. 이 때, `tokenizer.decode` 메서드를 사용하여 토큰 ID를 텍스트로 변환합니다.\n",
        "\n",
        "- 진행 상황 모니터링: 100번째 스텝마다 현재 진행 상황을 출력하여 검증 진행 상황을 모니터링합니다.\n",
        "\n",
        "- 결과 반환: 모든 배치에 대한 예측이 완료되면 생성된 요약과 실제 요약을 반환합니다. 이를 통해 후에 성능 지표를 계산할 수 있습니다."
      ]
    },
    {
      "cell_type": "markdown",
      "metadata": {
        "id": "ZToINA7NFVbX"
      },
      "source": [
        "### 3.5 Beam Search\n",
        "\n",
        "빔 서치는 텍스트 생성 작업에서 가장 가능성 있는 시퀀스를 찾기 위한 알고리즘입니다.  \n",
        "\n",
        "그리디 탐색(Greedy Search)은 각 단계에서 가장 확률이 높은 토큰만을 선택하는 반면, 빔 서치는 여러 후보 시퀀스를 동시에 고려하면서 생성 작업을 진행합니다.\n",
        "\n",
        "![Beam search](https://velog.velcdn.com/images%2Fdldydldy75%2Fpost%2F714a88b6-a16a-4477-989b-f5a0782090db%2Fimage.png)\n",
        "\n",
        "빔 서치의 핵심 개념은 '빔 너비(beam width)'입니다. 빔 너비는 알고리즘이 각 단계에서 고려하는 후보 시퀀스의 수를 나타냅니다.  \n",
        "\n",
        "빔 너비가 1이면 그리디 탐색과 동일하게 작동하며, 빔 너비가 높아질수록 더 많은 후보 시퀀스를 고려하게 됩니다. 그러나 빔 너비가 너무 크면 계산 복잡도가 증가하게 됩니다.\n",
        "\n",
        "빔 서치는 여러 후보 시퀀스 중에서 최적의 시퀀스를 선택하는 데 유용하지만, 몇 가지 문제점도 있습니다.\n",
        "\n",
        "이러한 문제를 해결하기 위해 반복 페널티와 길이 페널티가 도입되었습니다.\n",
        "\n",
        "- 반복 페널티 (Repetition Penalty):\n",
        "\n",
        "    - 텍스트 생성 중에 동일한 단어나 구절이 반복적으로 나타나는 것을 방지하기 위한 페널티입니다.\n",
        "\n",
        "    - 반복 페널티 값이 1보다 큰 경우, 모델이 이전에 생성한 토큰을 다시 생성하는 것에 페널티를 부여합니다. 이로 인해 생성된 텍스트에서 반복적인 내용이 줄어듭니다.\n",
        "\n",
        "    - 반복 페널티 값을 조절함으로써 생성 텍스트의 반복성을 조절할 수 있습니다.\n",
        "\n",
        "- 길이 페널티 (Length Penalty):\n",
        "\n",
        "    - 빔 서치에서는 여러 후보 시퀀스 중에서 가장 확률이 높은 시퀀스를 선택합니다.\n",
        "    \n",
        "    - 그러나 짧은 시퀀스는 자연스럽게 높은 확률을 가질 수 있기 때문에, 길이 페널티를 도입하여 긴 시퀀스의 확률이 과도하게 감소되는 것을 방지합니다.\n",
        "\n",
        "    - 길이 페널티 값이 1인 경우, 페널티가 적용되지 않습니다.\n",
        "    \n",
        "    - 값이 1보다 크면 긴 시퀀스에 대한 확률이 상대적으로 증가하게 됩니다.\n",
        "\n",
        "    - 이 페널티는 생성된 텍스트의 길이를 조절하는 데 도움을 줍니다."
      ]
    },
    {
      "cell_type": "markdown",
      "metadata": {
        "id": "rAwfofE2I-pF"
      },
      "source": [
        "### 3.6 학습\n",
        "\n",
        "두 함수가 완성되었으므로, 반복문과 이들을 이용하여 학습을 진행하도록 하겠습니다.\n",
        "\n",
        "매 에포크마다 학습과 검증을 수행하고, 모델의 예측값과 정답을 데이터프레임이 저장하도록 하겠습니다.  \n",
        "\n",
        "학습을 완료하는 데에는 T4 GPU(VRAM 16G) 기준 1시간 20분 가량 소요됩니다. 그 동안 커피 한 잔의 여유를 즐기며 앞서 배웠던 내용을 살펴볼까요?  \n",
        "\n",
        "T5 모델에 대해 더 알아보셔도 좋고, Beam search에 대한 내용을 다시 한 번 확인해보셔도 좋습니다."
      ]
    },
    {
      "cell_type": "markdown",
      "metadata": {
        "id": "iAkFUKVC-hoq"
      },
      "source": [
        "### [TODO] 위에서 선언한 학습 함수와 검증 함수를 이용하여 모델을 훈련시킵니다.\n",
        "\n",
        "`for`루프를 통해 매 에포크마다 학습과정과 검증과정을 수행하도록 코드를 완성시켜주세요."
      ]
    },
    {
      "cell_type": "code",
      "execution_count": 172,
      "metadata": {
        "colab": {
          "base_uri": "https://localhost:8080/"
        },
        "id": "ZoQJeuLKeBAT",
        "outputId": "1b9173b0-5256-4eab-c334-d8d511aa729e"
      },
      "outputs": [
        {
          "output_type": "stream",
          "name": "stderr",
          "text": [
            "1it [00:00,  2.84it/s]"
          ]
        },
        {
          "output_type": "stream",
          "name": "stdout",
          "text": [
            "Epoch: 0, Loss:  9.165640830993652\n"
          ]
        },
        {
          "output_type": "stream",
          "name": "stderr",
          "text": [
            "501it [03:12,  2.56it/s]"
          ]
        },
        {
          "output_type": "stream",
          "name": "stdout",
          "text": [
            "Epoch: 0, Loss:  3.169124126434326\n"
          ]
        },
        {
          "output_type": "stream",
          "name": "stderr",
          "text": [
            "1001it [06:25,  2.58it/s]"
          ]
        },
        {
          "output_type": "stream",
          "name": "stdout",
          "text": [
            "Epoch: 0, Loss:  2.9523775577545166\n"
          ]
        },
        {
          "output_type": "stream",
          "name": "stderr",
          "text": [
            "1501it [09:37,  2.61it/s]"
          ]
        },
        {
          "output_type": "stream",
          "name": "stdout",
          "text": [
            "Epoch: 0, Loss:  2.4001574516296387\n"
          ]
        },
        {
          "output_type": "stream",
          "name": "stderr",
          "text": [
            "1806it [11:35,  2.60it/s]\n",
            "1it [00:00,  3.14it/s]"
          ]
        },
        {
          "output_type": "stream",
          "name": "stdout",
          "text": [
            "Epoch: 1, Loss:  3.3475844860076904\n"
          ]
        },
        {
          "output_type": "stream",
          "name": "stderr",
          "text": [
            "501it [03:12,  2.60it/s]"
          ]
        },
        {
          "output_type": "stream",
          "name": "stdout",
          "text": [
            "Epoch: 1, Loss:  2.6735587120056152\n"
          ]
        },
        {
          "output_type": "stream",
          "name": "stderr",
          "text": [
            "1001it [06:25,  2.59it/s]"
          ]
        },
        {
          "output_type": "stream",
          "name": "stdout",
          "text": [
            "Epoch: 1, Loss:  1.985451579093933\n"
          ]
        },
        {
          "output_type": "stream",
          "name": "stderr",
          "text": [
            "1501it [09:38,  2.59it/s]"
          ]
        },
        {
          "output_type": "stream",
          "name": "stdout",
          "text": [
            "Epoch: 1, Loss:  1.2240420579910278\n"
          ]
        },
        {
          "output_type": "stream",
          "name": "stderr",
          "text": [
            "1806it [11:36,  2.59it/s]\n",
            "1it [00:00,  3.15it/s]"
          ]
        },
        {
          "output_type": "stream",
          "name": "stdout",
          "text": [
            "Epoch: 2, Loss:  2.203321933746338\n"
          ]
        },
        {
          "output_type": "stream",
          "name": "stderr",
          "text": [
            "501it [03:13,  2.59it/s]"
          ]
        },
        {
          "output_type": "stream",
          "name": "stdout",
          "text": [
            "Epoch: 2, Loss:  2.8055715560913086\n"
          ]
        },
        {
          "output_type": "stream",
          "name": "stderr",
          "text": [
            "1001it [06:25,  2.59it/s]"
          ]
        },
        {
          "output_type": "stream",
          "name": "stdout",
          "text": [
            "Epoch: 2, Loss:  2.868098258972168\n"
          ]
        },
        {
          "output_type": "stream",
          "name": "stderr",
          "text": [
            "1501it [09:38,  2.58it/s]"
          ]
        },
        {
          "output_type": "stream",
          "name": "stdout",
          "text": [
            "Epoch: 2, Loss:  2.4851698875427246\n"
          ]
        },
        {
          "output_type": "stream",
          "name": "stderr",
          "text": [
            "1806it [11:36,  2.59it/s]\n",
            "452it [19:50,  2.63s/it]"
          ]
        },
        {
          "output_type": "stream",
          "name": "stdout",
          "text": [
            "Output Files generated for review\n"
          ]
        },
        {
          "output_type": "stream",
          "name": "stderr",
          "text": [
            "\n"
          ]
        }
      ],
      "source": [
        "# TRAIN_EPOCHS 동안 모델을 학습시키는 루프\n",
        "for epoch in range(TRAIN_EPOCHS):\n",
        "    train(epoch, tokenizer, model, device, training_loader, optimizer)  # 각 에포크마다 train 함수를 호출하여 모델을 학습\n",
        "\n",
        "# VAL_EPOCHS 동안 모델을 검증하고 결과를 predictions.csv 파일로 저장하는 루프\n",
        "for epoch in range(VAL_EPOCHS):\n",
        "    predictions, actuals = validate(epoch, tokenizer, model, device, val_loader)    # 각 에포크마다 validate 함수를 호출하여 검증 데이터셋에 대한 모델의 성능을 평가\n",
        "    final_df = pd.DataFrame({'Generated Text':predictions,'Actual Text':actuals})   # 생성된 예측과 실제 값을 포함하는 데이터프레임(final_df)을 생성\n",
        "    final_df.to_csv('predictions.csv')                                              # predictions.csv 파일로 저장\n",
        "    print('Output Files generated for review')                                      # 파일이 생성되었음을 알리는 메시지를 출력"
      ]
    },
    {
      "cell_type": "markdown",
      "metadata": {
        "id": "pkEnXk2j-hoq"
      },
      "source": [
        "> 예시코드\n",
        "```\n",
        "# TRAIN_EPOCHS 동안 모델을 학습시키는 루프\n",
        "for epoch in range(TRAIN_EPOCHS):\n",
        "    train(epoch, tokenizer, model, device, training_loader, optimizer)  # 각 에포크마다 train 함수를 호출하여 모델을 학습\n",
        "\n",
        "# VAL_EPOCHS 동안 모델을 검증하고 결과를 predictions.csv 파일로 저장하는 루프\n",
        "for epoch in range(VAL_EPOCHS):\n",
        "    predictions, actuals = validate(epoch, tokenizer, model, device, val_loader)    # 각 에포크마다 validate 함수를 호출하여 검증 데이터셋에 대한 모델의 성능을 평가\n",
        "    final_df = pd.DataFrame({'Generated Text':predictions,'Actual Text':actuals})   # 생성된 예측과 실제 값을 포함하는 데이터프레임(final_df)을 생성\n",
        "    final_df.to_csv('predictions.csv')                                              # predictions.csv 파일로 저장\n",
        "    print('Output Files generated for review')                                      # 파일이 생성되었음을 알리는 메시지를 출력\n",
        "```"
      ]
    },
    {
      "cell_type": "markdown",
      "metadata": {
        "id": "V7L71mTlQ_1E"
      },
      "source": [
        "학습이 완료되었다면, 모델을 저장합니다."
      ]
    },
    {
      "cell_type": "code",
      "execution_count": 172,
      "metadata": {
        "id": "ypSbA-vPQtvA"
      },
      "outputs": [],
      "source": [
        "model.save_pretrained(\"T5_news\")"
      ]
    },
    {
      "cell_type": "markdown",
      "metadata": {
        "id": "xTaN6C9IJ4p8"
      },
      "source": [
        "## 4. Rouge 스코어를 통한 평가\n",
        "\n",
        "학습이 완료되었다면, 결과물을 불러와봅시다.  \n",
        "\n",
        "`predictions.csv`를 불러와 데이터프레임으로 저장해주세요."
      ]
    },
    {
      "cell_type": "code",
      "execution_count": 173,
      "metadata": {
        "id": "28tL7J7mUAya",
        "colab": {
          "base_uri": "https://localhost:8080/",
          "height": 520
        },
        "outputId": "c06be983-013f-4d09-918c-5b7636882134"
      },
      "outputs": [
        {
          "output_type": "execute_result",
          "data": {
            "text/plain": [
              "                                       Generated Text  \\\n",
              "0   Prime Minister Narendra Modi today flagged off...   \n",
              "1   Amit Shah today slammed Delhi Chief Minister A...   \n",
              "2   Sujal Kahar, a 12-year-old football enthusiast...   \n",
              "3   voted against BCCI's proposal of retaining ICC...   \n",
              "4   Mayank Gandhi has urged Delhi Chief Minister A...   \n",
              "5   at least three people were killed and several ...   \n",
              "6   Manjit Kaur, a Sub-Inspector in the Punjab Pol...   \n",
              "7   Ambani has been made a member of the Internati...   \n",
              "8   Simon, expected to become the world's biggest ...   \n",
              "9   won 181 out of the total 270 wards of the civi...   \n",
              "10  n this is the 1st time I have come across this...   \n",
              "11  an Air India flight was grounded after a cater...   \n",
              "12  accidental damage caused to the Yamuna floods'...   \n",
              "13  over three weeks after Pehlu Khan (55) was lyn...   \n",
              "14  Nephew of jailed AIADMK general secretary VK S...   \n",
              "\n",
              "                                          Actual Text  \n",
              "0   After much wait, the first UDAN flight took of...  \n",
              "1   On a day when the Bharatiya Janata Party swept...  \n",
              "2                                                 NaN  \n",
              "3   In a massive blow to its influence in the Inte...  \n",
              "4   Former Aam Aadmi Party leader and a close aide...  \n",
              "5   Three people were killed and several injured a...  \n",
              "6   India's criminalisation of homosexuality did n...  \n",
              "7                                                 NaN  \n",
              "8   London, Apr 26 (PTI) A giant rabbit, destined ...  \n",
              "9   Delhiites have voted for the Bharatiya Janata ...  \n",
              "10  In an alleged case of racism, Baahubali produc...  \n",
              "11  In a freak incident, which delayed the Air Ind...  \n",
              "12  A scientific report prepared by Art of Living ...  \n",
              "13  Almost a month after the murder and lynching o...  \n",
              "14  AIADMK Amma leader TTV Dinakaran, who is accus...  "
            ],
            "text/html": [
              "\n",
              "  <div id=\"df-722ae12f-361c-459b-8c9f-653f2328080c\" class=\"colab-df-container\">\n",
              "    <div>\n",
              "<style scoped>\n",
              "    .dataframe tbody tr th:only-of-type {\n",
              "        vertical-align: middle;\n",
              "    }\n",
              "\n",
              "    .dataframe tbody tr th {\n",
              "        vertical-align: top;\n",
              "    }\n",
              "\n",
              "    .dataframe thead th {\n",
              "        text-align: right;\n",
              "    }\n",
              "</style>\n",
              "<table border=\"1\" class=\"dataframe\">\n",
              "  <thead>\n",
              "    <tr style=\"text-align: right;\">\n",
              "      <th></th>\n",
              "      <th>Generated Text</th>\n",
              "      <th>Actual Text</th>\n",
              "    </tr>\n",
              "  </thead>\n",
              "  <tbody>\n",
              "    <tr>\n",
              "      <th>0</th>\n",
              "      <td>Prime Minister Narendra Modi today flagged off...</td>\n",
              "      <td>After much wait, the first UDAN flight took of...</td>\n",
              "    </tr>\n",
              "    <tr>\n",
              "      <th>1</th>\n",
              "      <td>Amit Shah today slammed Delhi Chief Minister A...</td>\n",
              "      <td>On a day when the Bharatiya Janata Party swept...</td>\n",
              "    </tr>\n",
              "    <tr>\n",
              "      <th>2</th>\n",
              "      <td>Sujal Kahar, a 12-year-old football enthusiast...</td>\n",
              "      <td>NaN</td>\n",
              "    </tr>\n",
              "    <tr>\n",
              "      <th>3</th>\n",
              "      <td>voted against BCCI's proposal of retaining ICC...</td>\n",
              "      <td>In a massive blow to its influence in the Inte...</td>\n",
              "    </tr>\n",
              "    <tr>\n",
              "      <th>4</th>\n",
              "      <td>Mayank Gandhi has urged Delhi Chief Minister A...</td>\n",
              "      <td>Former Aam Aadmi Party leader and a close aide...</td>\n",
              "    </tr>\n",
              "    <tr>\n",
              "      <th>5</th>\n",
              "      <td>at least three people were killed and several ...</td>\n",
              "      <td>Three people were killed and several injured a...</td>\n",
              "    </tr>\n",
              "    <tr>\n",
              "      <th>6</th>\n",
              "      <td>Manjit Kaur, a Sub-Inspector in the Punjab Pol...</td>\n",
              "      <td>India's criminalisation of homosexuality did n...</td>\n",
              "    </tr>\n",
              "    <tr>\n",
              "      <th>7</th>\n",
              "      <td>Ambani has been made a member of the Internati...</td>\n",
              "      <td>NaN</td>\n",
              "    </tr>\n",
              "    <tr>\n",
              "      <th>8</th>\n",
              "      <td>Simon, expected to become the world's biggest ...</td>\n",
              "      <td>London, Apr 26 (PTI) A giant rabbit, destined ...</td>\n",
              "    </tr>\n",
              "    <tr>\n",
              "      <th>9</th>\n",
              "      <td>won 181 out of the total 270 wards of the civi...</td>\n",
              "      <td>Delhiites have voted for the Bharatiya Janata ...</td>\n",
              "    </tr>\n",
              "    <tr>\n",
              "      <th>10</th>\n",
              "      <td>n this is the 1st time I have come across this...</td>\n",
              "      <td>In an alleged case of racism, Baahubali produc...</td>\n",
              "    </tr>\n",
              "    <tr>\n",
              "      <th>11</th>\n",
              "      <td>an Air India flight was grounded after a cater...</td>\n",
              "      <td>In a freak incident, which delayed the Air Ind...</td>\n",
              "    </tr>\n",
              "    <tr>\n",
              "      <th>12</th>\n",
              "      <td>accidental damage caused to the Yamuna floods'...</td>\n",
              "      <td>A scientific report prepared by Art of Living ...</td>\n",
              "    </tr>\n",
              "    <tr>\n",
              "      <th>13</th>\n",
              "      <td>over three weeks after Pehlu Khan (55) was lyn...</td>\n",
              "      <td>Almost a month after the murder and lynching o...</td>\n",
              "    </tr>\n",
              "    <tr>\n",
              "      <th>14</th>\n",
              "      <td>Nephew of jailed AIADMK general secretary VK S...</td>\n",
              "      <td>AIADMK Amma leader TTV Dinakaran, who is accus...</td>\n",
              "    </tr>\n",
              "  </tbody>\n",
              "</table>\n",
              "</div>\n",
              "    <div class=\"colab-df-buttons\">\n",
              "\n",
              "  <div class=\"colab-df-container\">\n",
              "    <button class=\"colab-df-convert\" onclick=\"convertToInteractive('df-722ae12f-361c-459b-8c9f-653f2328080c')\"\n",
              "            title=\"Convert this dataframe to an interactive table.\"\n",
              "            style=\"display:none;\">\n",
              "\n",
              "  <svg xmlns=\"http://www.w3.org/2000/svg\" height=\"24px\" viewBox=\"0 -960 960 960\">\n",
              "    <path d=\"M120-120v-720h720v720H120Zm60-500h600v-160H180v160Zm220 220h160v-160H400v160Zm0 220h160v-160H400v160ZM180-400h160v-160H180v160Zm440 0h160v-160H620v160ZM180-180h160v-160H180v160Zm440 0h160v-160H620v160Z\"/>\n",
              "  </svg>\n",
              "    </button>\n",
              "\n",
              "  <style>\n",
              "    .colab-df-container {\n",
              "      display:flex;\n",
              "      gap: 12px;\n",
              "    }\n",
              "\n",
              "    .colab-df-convert {\n",
              "      background-color: #E8F0FE;\n",
              "      border: none;\n",
              "      border-radius: 50%;\n",
              "      cursor: pointer;\n",
              "      display: none;\n",
              "      fill: #1967D2;\n",
              "      height: 32px;\n",
              "      padding: 0 0 0 0;\n",
              "      width: 32px;\n",
              "    }\n",
              "\n",
              "    .colab-df-convert:hover {\n",
              "      background-color: #E2EBFA;\n",
              "      box-shadow: 0px 1px 2px rgba(60, 64, 67, 0.3), 0px 1px 3px 1px rgba(60, 64, 67, 0.15);\n",
              "      fill: #174EA6;\n",
              "    }\n",
              "\n",
              "    .colab-df-buttons div {\n",
              "      margin-bottom: 4px;\n",
              "    }\n",
              "\n",
              "    [theme=dark] .colab-df-convert {\n",
              "      background-color: #3B4455;\n",
              "      fill: #D2E3FC;\n",
              "    }\n",
              "\n",
              "    [theme=dark] .colab-df-convert:hover {\n",
              "      background-color: #434B5C;\n",
              "      box-shadow: 0px 1px 3px 1px rgba(0, 0, 0, 0.15);\n",
              "      filter: drop-shadow(0px 1px 2px rgba(0, 0, 0, 0.3));\n",
              "      fill: #FFFFFF;\n",
              "    }\n",
              "  </style>\n",
              "\n",
              "    <script>\n",
              "      const buttonEl =\n",
              "        document.querySelector('#df-722ae12f-361c-459b-8c9f-653f2328080c button.colab-df-convert');\n",
              "      buttonEl.style.display =\n",
              "        google.colab.kernel.accessAllowed ? 'block' : 'none';\n",
              "\n",
              "      async function convertToInteractive(key) {\n",
              "        const element = document.querySelector('#df-722ae12f-361c-459b-8c9f-653f2328080c');\n",
              "        const dataTable =\n",
              "          await google.colab.kernel.invokeFunction('convertToInteractive',\n",
              "                                                    [key], {});\n",
              "        if (!dataTable) return;\n",
              "\n",
              "        const docLinkHtml = 'Like what you see? Visit the ' +\n",
              "          '<a target=\"_blank\" href=https://colab.research.google.com/notebooks/data_table.ipynb>data table notebook</a>'\n",
              "          + ' to learn more about interactive tables.';\n",
              "        element.innerHTML = '';\n",
              "        dataTable['output_type'] = 'display_data';\n",
              "        await google.colab.output.renderOutput(dataTable, element);\n",
              "        const docLink = document.createElement('div');\n",
              "        docLink.innerHTML = docLinkHtml;\n",
              "        element.appendChild(docLink);\n",
              "      }\n",
              "    </script>\n",
              "  </div>\n",
              "\n",
              "\n",
              "<div id=\"df-38b72835-3f5a-422a-a47d-84a8fa65381b\">\n",
              "  <button class=\"colab-df-quickchart\" onclick=\"quickchart('df-38b72835-3f5a-422a-a47d-84a8fa65381b')\"\n",
              "            title=\"Suggest charts\"\n",
              "            style=\"display:none;\">\n",
              "\n",
              "<svg xmlns=\"http://www.w3.org/2000/svg\" height=\"24px\"viewBox=\"0 0 24 24\"\n",
              "     width=\"24px\">\n",
              "    <g>\n",
              "        <path d=\"M19 3H5c-1.1 0-2 .9-2 2v14c0 1.1.9 2 2 2h14c1.1 0 2-.9 2-2V5c0-1.1-.9-2-2-2zM9 17H7v-7h2v7zm4 0h-2V7h2v10zm4 0h-2v-4h2v4z\"/>\n",
              "    </g>\n",
              "</svg>\n",
              "  </button>\n",
              "\n",
              "<style>\n",
              "  .colab-df-quickchart {\n",
              "      --bg-color: #E8F0FE;\n",
              "      --fill-color: #1967D2;\n",
              "      --hover-bg-color: #E2EBFA;\n",
              "      --hover-fill-color: #174EA6;\n",
              "      --disabled-fill-color: #AAA;\n",
              "      --disabled-bg-color: #DDD;\n",
              "  }\n",
              "\n",
              "  [theme=dark] .colab-df-quickchart {\n",
              "      --bg-color: #3B4455;\n",
              "      --fill-color: #D2E3FC;\n",
              "      --hover-bg-color: #434B5C;\n",
              "      --hover-fill-color: #FFFFFF;\n",
              "      --disabled-bg-color: #3B4455;\n",
              "      --disabled-fill-color: #666;\n",
              "  }\n",
              "\n",
              "  .colab-df-quickchart {\n",
              "    background-color: var(--bg-color);\n",
              "    border: none;\n",
              "    border-radius: 50%;\n",
              "    cursor: pointer;\n",
              "    display: none;\n",
              "    fill: var(--fill-color);\n",
              "    height: 32px;\n",
              "    padding: 0;\n",
              "    width: 32px;\n",
              "  }\n",
              "\n",
              "  .colab-df-quickchart:hover {\n",
              "    background-color: var(--hover-bg-color);\n",
              "    box-shadow: 0 1px 2px rgba(60, 64, 67, 0.3), 0 1px 3px 1px rgba(60, 64, 67, 0.15);\n",
              "    fill: var(--button-hover-fill-color);\n",
              "  }\n",
              "\n",
              "  .colab-df-quickchart-complete:disabled,\n",
              "  .colab-df-quickchart-complete:disabled:hover {\n",
              "    background-color: var(--disabled-bg-color);\n",
              "    fill: var(--disabled-fill-color);\n",
              "    box-shadow: none;\n",
              "  }\n",
              "\n",
              "  .colab-df-spinner {\n",
              "    border: 2px solid var(--fill-color);\n",
              "    border-color: transparent;\n",
              "    border-bottom-color: var(--fill-color);\n",
              "    animation:\n",
              "      spin 1s steps(1) infinite;\n",
              "  }\n",
              "\n",
              "  @keyframes spin {\n",
              "    0% {\n",
              "      border-color: transparent;\n",
              "      border-bottom-color: var(--fill-color);\n",
              "      border-left-color: var(--fill-color);\n",
              "    }\n",
              "    20% {\n",
              "      border-color: transparent;\n",
              "      border-left-color: var(--fill-color);\n",
              "      border-top-color: var(--fill-color);\n",
              "    }\n",
              "    30% {\n",
              "      border-color: transparent;\n",
              "      border-left-color: var(--fill-color);\n",
              "      border-top-color: var(--fill-color);\n",
              "      border-right-color: var(--fill-color);\n",
              "    }\n",
              "    40% {\n",
              "      border-color: transparent;\n",
              "      border-right-color: var(--fill-color);\n",
              "      border-top-color: var(--fill-color);\n",
              "    }\n",
              "    60% {\n",
              "      border-color: transparent;\n",
              "      border-right-color: var(--fill-color);\n",
              "    }\n",
              "    80% {\n",
              "      border-color: transparent;\n",
              "      border-right-color: var(--fill-color);\n",
              "      border-bottom-color: var(--fill-color);\n",
              "    }\n",
              "    90% {\n",
              "      border-color: transparent;\n",
              "      border-bottom-color: var(--fill-color);\n",
              "    }\n",
              "  }\n",
              "</style>\n",
              "\n",
              "  <script>\n",
              "    async function quickchart(key) {\n",
              "      const quickchartButtonEl =\n",
              "        document.querySelector('#' + key + ' button');\n",
              "      quickchartButtonEl.disabled = true;  // To prevent multiple clicks.\n",
              "      quickchartButtonEl.classList.add('colab-df-spinner');\n",
              "      try {\n",
              "        const charts = await google.colab.kernel.invokeFunction(\n",
              "            'suggestCharts', [key], {});\n",
              "      } catch (error) {\n",
              "        console.error('Error during call to suggestCharts:', error);\n",
              "      }\n",
              "      quickchartButtonEl.classList.remove('colab-df-spinner');\n",
              "      quickchartButtonEl.classList.add('colab-df-quickchart-complete');\n",
              "    }\n",
              "    (() => {\n",
              "      let quickchartButtonEl =\n",
              "        document.querySelector('#df-38b72835-3f5a-422a-a47d-84a8fa65381b button');\n",
              "      quickchartButtonEl.style.display =\n",
              "        google.colab.kernel.accessAllowed ? 'block' : 'none';\n",
              "    })();\n",
              "  </script>\n",
              "</div>\n",
              "\n",
              "    </div>\n",
              "  </div>\n"
            ],
            "application/vnd.google.colaboratory.intrinsic+json": {
              "type": "dataframe",
              "variable_name": "pred",
              "summary": "{\n  \"name\": \"pred\",\n  \"rows\": 903,\n  \"fields\": [\n    {\n      \"column\": \"Generated Text\",\n      \"properties\": {\n        \"dtype\": \"string\",\n        \"num_unique_values\": 903,\n        \"samples\": [\n          \"or chikungunya, then you will be responsible, because you voted for a party that spreads mosquitoes in the city.The Chief Minister said: \\\"BJP is in MCD for the last 10 years but still it cannot clean Delhi. If you (citizens) vote for the BJP and your child falls prey to dengue or chikungunya, then you will be responsible, because you voted for a party that spreads mosquitoes. You voted for\",\n          \"Narendra Modi on Sunday said depression needed expression and not suppression. \\\"We are fortunate to have been raised in joint families, it ends any chance of...depression,\\\" Prime Minister Narendra Modi said at the 30th edition of his monthly radio address 'Mann Ki Baat'. The prime minister also shared his feelings with others if feeling depressed. \\\"It is good to share your feelings with others if feeling depressed,\\\" he said.\",\n          \"The Election Commission on Wednesday introduced an \\\"open challenge\\\" for people to hack electronic voting machines, starting May first week.The challenge will be open for around 10 days and will have various levels. Opposition parties urged the poll panel to revert to the paper ballot system while alleging that EVMs were tampered with in elections.Also Read: Electronic Voting Machines (EVMs) are being used by voters to get their votes counted.\"\n        ],\n        \"semantic_type\": \"\",\n        \"description\": \"\"\n      }\n    },\n    {\n      \"column\": \"Actual Text\",\n      \"properties\": {\n        \"dtype\": \"string\",\n        \"num_unique_values\": 855,\n        \"samples\": [\n          \"Former Australia captain Michael Clarke on Friday said spin twins Ravichandran Ashwin and Ravindra Jadeja will be India's key weapons in the Champions Trophy next month in England.WATCH: India have the firepower to defend Champions Trophy title, Michael Clarke tells India TodaySpeaking exclusively to India Today, Clarke said India definitely have the firepower to defend the Champions Trophy title which they won in 2013.\\\"Ravindra Jadeja and Ravichandran Ashwin are going to be two huge weapons for India in England depending on the weather conditions there. If they are getting\",\n          \"Indian television actor Parth Samthaan, who became a household name, thanks to the success of his show Kaisi Yeh Yaariyan, is in deep trouble.A complaint of molestation has been lodged against the actor by a 20-year-old model. Bangar Nagar police station has registered the FIR under section 354 A of the Indian Penal Code. The FIR was filed last month, as the incident had apparently occurred on February 20.\",\n          \"At a railway station in Patna, Bihar, hundreds of passengers aboard a local train were left to their own devices for as long as two hours after the train driver abandoned the train midway, for a cold shower to beat the heat.A probe has been ordered after the incident which took place at Buxar railway station on Monday.A passenger train coming from Patna was on its way to Moghulsarai station in Uttar Pradesh when the driver left it at Buxur station at 10.55 am and vanished into thin air, according to a Gulf News report.The\"\n        ],\n        \"semantic_type\": \"\",\n        \"description\": \"\"\n      }\n    }\n  ]\n}"
            }
          },
          "metadata": {},
          "execution_count": 173
        }
      ],
      "source": [
        "pred = pd.read_csv(\"./predictions.csv\", index_col=0)\n",
        "pred.head(15)"
      ]
    },
    {
      "cell_type": "markdown",
      "metadata": {
        "id": "P1M-Zc9ZKlQu"
      },
      "source": [
        "### 4.1 결과 비교\n",
        "\n",
        "반복문을 통해 데이터프레임의 상위 15개 샘플에 대한 예측값과 실제 결과를 비교해봅시다."
      ]
    },
    {
      "cell_type": "code",
      "execution_count": 174,
      "metadata": {
        "id": "FtGpVWYaY1B9",
        "colab": {
          "base_uri": "https://localhost:8080/"
        },
        "outputId": "21f880db-3d9d-45e6-c813-e5be272e9011"
      },
      "outputs": [
        {
          "output_type": "stream",
          "name": "stdout",
          "text": [
            "Generated: Prime Minister Narendra Modi today flagged off the inaugural flight from Shimla to Delhi under the Ude Desh ka Aam Nagrik (UDAN) scheme for regional flight connectivity. The first flight will take off from Shimla at around 9.30 am on Thursday, with 50 per cent plane seats capped at Rs 2,500 for a one-hour journey of 500 kilometres.The pilot will be flying out from Shimla to Delhi in an effort to connect small towns by air with a fare cap of 50 per cent plane seats.\n",
            "Actual: After much wait, the first UDAN flight took off from Shimla today after being flagged off by Prime Minister Narendra Modi.The flight will be operated by Alliance Air, the regional arm of Air India. PM Narendra Modi handed over boarding passes to some of passengers travelling via the first UDAN flight at the Shimla airport.Tomorrow PM @narendramodi will flag off the first UDAN flight under the Regional Connectivity Scheme, on Shimla-Delhi sector.Air India yesterday opened bookings for the first launch flight from Shimla\n",
            "\n",
            "\n",
            "Generated: Amit Shah today slammed Delhi Chief Minister Arvind Kejriwal after the AAP blamed EVMs for their loss in the MCD polls. \"Let Kejriwal first tell the public how he won in Delhi in 2015 with these same EVMs,\" Shah said. \"UPA one and two had also won elections with the same EVMs,\" Shah told reporters here.\n",
            "Actual: On a day when the Bharatiya Janata Party swept the municipal elections in the capital, party chief Amit Shah slammed Delhi Chief Minister Arvind Kejriwal over allegations of faulty electronic voting machines (EVMs).\"Let Kejriwal first tell the public how he won in Delhi in 2015 with these same EVMs when the BJP was at the centre in 2015,\" Shah told media persons in Kolkata.\"UPA one and two had also won elections with the same EVMs. If EVM machines are faulty then how\n",
            "\n",
            "\n",
            "Generated: Sujal Kahar, a 12-year-old football enthusiast and goalkeeper from Mumbai, has been shortlisted to represent India at the global Football For Friendship (F4F) social programme in Russia. The event will be held in Russia's St Petersburg in July this year and will be held in Russia's St Petersburg in July.The team will join the F4F programme for the first time and will participate alongside over 60 other countries.\n",
            "Actual: nan\n",
            "\n",
            "\n",
            "Generated: voted against BCCI's proposal of retaining ICC's old revenue model at the Board meeting in Dubai on Wednesday. The Sri Lankan board was the only member which supported BCCI's stance on governance, while it joined others in opposing the new revenue model.The eight member nations voted against the proposed revenue model and said that they will lose Rs 1,000 crore if the new revenue model is implemented.\n",
            "Actual: In a massive blow to its influence in the International Cricket Council, the BCCI was on Wednesday decimated at the global body's Board Meeting where the majority voted for a change in governance and revenue structures.On the first day of the ICC Board Meeting in Dubai, both the change in governance structure as well as the revamped revenue model were put to a floor test. (BCCI isolated at International Cricket Council: Sources to India Today)BCCI lost the vote on 'governance and constitutional changes' by a 1-9 margin while the revenue model, which was the\n",
            "\n",
            "\n",
            "Generated: Mayank Gandhi has urged Delhi Chief Minister Arvind Kejriwal to forget his ambitions of becoming prime minister and focus on governing the national capital instead. The former AAP leader, who is also a member of the National Assembly, wrote an open letter to Kejriwal in which he said that he had taken complete power by becoming convener as well as CM of Delhi. \"How much more power do you want before you start delivering alternative politics? He asked Kejriwal not to become PM but to focus on\n",
            "Actual: Former Aam Aadmi Party leader and a close aide of party?s national convener Arvind Kejriwal, Mayank Gandhi has slammed the Delhi CM in an open letter on Wednesday as the BJP looked set to complete hat-trick of its rule in the three MCDs.The results of the MCD elections were announced on Wednesday with the AAP facing a rout. The letter, which Gandhi had posted on his blog and tweeted from his handle, addresses Kejriwal? the Hero and the Politician. Gandhi described the\n",
            "\n",
            "\n",
            "Generated: at least three people were killed and several injured after a jetty collapsed due to high tide in West Bengal?s Hooghly district on Wednesday. The incident took place at around 3pm when the river was flowing towards the bank of the river, according to reports. At least 30 people were missing from the water, while some survived by swimming towards the bank of the river. A total compensation of Rs 2 lakh is being offered to the families of the deceased.The death toll has been confirmed as Rs 2 lakh each.Also read:\n",
            "Actual: Three people were killed and several injured after a jetty wrecked in Hooghly district of West Bengal on Wednesday. Sources said that while several people survived by swimming towards the bank of the river, three of them died and many others were injured. Those who could not swim lost their lives in the high tide. Three dead bodies were recovered and 20 others have been hospitalized.Questions are being raised on why the jetty and boat services were not alerted about the high tide during certain hours of the day.West Bengal Chief Minister Mamata Banerjee announced\n",
            "\n",
            "\n",
            "Generated: Manjit Kaur, a Sub-Inspector in the Punjab Police, recently married her same-sex partner, according to reports. The marriage was solemnised according to Hindu rituals in Jalandhar and the cop wore a red turban and her bride wore a lehenga.The wedding took place in the presence of their families and colleagues, sources said. According to sources, the wedding was solemnised according to Hindu rituals in Jalandhar and the cop wore a red turban and her bride\n",
            "Actual: India's criminalisation of homosexuality did not stop a Punjab police sub-inspector from marrying a woman and that too with full Punjabi style. Manjit Kaur, a sub-inspector in the Punjab Police, tied a knot with a woman and it wasn't a hush-hush affair. Jalandhar's Pucca Bagh witnessed a big fat same-sex wedding.While the cop wore a red turban, her bride rode a chariot. The marriage was solemnised according to\n",
            "\n",
            "\n",
            "Generated: Ambani has been made a member of the International Olympic Committee's Olympic Channel Commission, which handles IOC's digital platform.Nita Ambani became the first Indian woman member of the IOC after being elected at the 129th IOC Session in Rio de Janeiro last year. She was elected as the first Indian woman member of the IOC?s Olympic Education Commission. In August last year, Nita became the first Indian woman member of the IOC. She also became the first Indian woman member of the\n",
            "Actual: nan\n",
            "\n",
            "\n",
            "Generated: Simon, expected to become the world's biggest rabbit, died in the cargo section of a United Airlines flight from London to Chicago.The incident was reported by the breeder of Simon, who is now known as \"Simon\". The 3-foot-long rabbit was expected to become the world?s biggest rabbit and was expected to become the world?s biggest rabbit. He had been sent all around the world and nothing like this happened before,\" his breeder said.An airline spokesperson said that it is reviewing the incident.\n",
            "Actual: London, Apr 26 (PTI) A giant rabbit, destined to be the worlds biggest bunny, died mysteriously on a United Airlines flight to the US, the latest in a slew of public relations nightmares faced by the beleaguered American airline recently. Three-foot Simon died in the cargo section of a Boeing 767 after flying out of Heathrow to a new celebrity owner in the US, The Sun reported. Simon was expected to outgrow his father Darius, whose length of 4ft 4 inches made him the worlds biggest bunny\n",
            "\n",
            "\n",
            "Generated: won 181 out of the total 270 wards of the civic body, while the Aam Aadmi Party (AAP) ended up gaining victory in 30 wards. The remaining 11 wards were won by others, including independent candidates.The Bharatiya Janata Party (BJP) managed to win 181 out of the total 270 wards of the civic body. While the Aam Aadmi Party (AAP) finished second with 48 wards, the Congress ended up gaining victory in\n",
            "Actual: Delhiites have voted for the Bharatiya Janata Party (BJP) in MCD elections 2017 while rejecting both the Aam Aadmi Party and Congress. Infact, the BJP, riding high on its success in Uttar Pradesh Assembly election, pushed both the main opposition to second and third spots respectively by a huge margin. As per the trends/results available for 270 seats, the BJP won 183, Congress 36 and the AAP 41. Others took 10 wards of the three civic bodies. MCD ELECTIONS 2017: FULL COVER\n",
            "\n",
            "\n",
            "Generated: n this is the 1st time I have come across this kind of attitude.\"Airline staff...were very rude n harassed our team unnecessarily! Bad attitude n service!\"Shobu Yarlagadda tweeted on Wednesday. \"I fly @emirates regularly n this is 1st time I have come across this kind of attitude,\" he said.The film, which stars Rajamouli, Prabhas and Rajamouli, was recently promoting the movie in Dubai.\n",
            "Actual: In an alleged case of racism, Baahubali producer Shobu Yarlagadda has accused that he and his team were harassed by Emirates staffers at Dubai airport.Flying to Hyd on @emirates EK526. Airline staff at gate B4 were very rude n harassed our team unnecessarily! Bad attitude n service!Shobu took to his Twitter page to share the details..@emirates I think one of the @emirates staff was being racist.. I fly @emirates regularly\n",
            "\n",
            "\n",
            "Generated: an Air India flight was grounded after a catering van hit the door of an aircraft at Delhi Airport on Sunday morning, according to reports. The incident took place at around 10 am when a catering van hit the door of the aircraft, which was delayed by an hour.The driver of the van was arrested and the airport driving permit of the driver was seized.Air India officials said the loss will run into lakhs.\n",
            "Actual: In a freak incident, which delayed the Air India flight by an hour, a catering van hit the door of an ATR aircraft at Delhi?s Indira Gandhi International Airport (IGIA) on Sunday morning. Air India officials are assessing the damage and said that the loss will run into lakhs and the aircraft will also remain grounded till it is repaired.?The catering vehicle was returning after loading the food in the aircraft. While returning, it accidentally hit the back door on right side just 20 minutes before the departure. The driver was taken for medical checkup but he was not drunk. His airport\n",
            "\n",
            "\n",
            "Generated: accidental damage caused to the Yamuna floods' ecology by Art of Living?s cultural event in 2016 has been restored by nature, a scientific report by the organisation has claimed.The NGT had said it would take at least 10 years and Rs 42 crore to fix the damage caused by the cultural event. However, the NGT did not elaborate on the exact extent of the damage caused by the event. The scientists have found that any accidental damage caused to the Yamuna floods? ecology has been restored by nature, a scientific report says.\n",
            "Actual: A scientific report prepared by Art of Living claimed that any?accidental damage? to the ecology of the Yamuna floodplains caused by the Art of Living?s cultural event in 2016 has already been restored by nature.This contradicts the earlier findings by the National Green Tribunal-appointed seven-member expert committee, which claimed that it would take at least 10 years and Rs42 crore to fix the physical and biological damages caused to the river?s floodplains by the event.?If at all any such accidental damage would have taken place during the event, in all probability they have already been reversed\n",
            "\n",
            "\n",
            "Generated: over three weeks after Pehlu Khan (55) was lynched by cow vigilantes in Rajasthan?s Alwar, chief minister Vasundhara Raje today said such incidents won?t be tolerated and the culprits won?t be spared.?Investigation is on and some people have been arrested,? Raje said in a written letter demanding justice in the case. The letter was signed by 23 ex-bureaucrats who had written a letter to Raje demanding justice in the case. \"The\n",
            "Actual: Almost a month after the murder and lynching of 55-year-old Pehlu Khan, Rajasthan Chief Minister Vasundhara Raje has broken her prolonged silence on the heinous act.Raje said that police has arrested some people and that her government will not tolerate these of kind of incidents in Rajasthan.Raje's response comes a day after about 23 former IAS officer's wrote an open letter to her condemning the incident and demanding justice for Pehlu Khan.\"We are very disturbed by the lynching and murder of Pehlu\n",
            "\n",
            "\n",
            "Generated: Nephew of jailed AIADMK general secretary VK Sasikala and party leader TTV Dinakaran was arrested by the Delhi Police on Tuesday midnight on charges of bribing an Election Commission official to get party's 'two leaves' symbol. The arrest came after Dinakaran was questioned for close to six hours on Tuesday. He was also taken into custody along with his friend Mallikarjuna, who has also been taken into custody.Dinakaran is accused of bribing the election commission officials\n",
            "Actual: AIADMK Amma leader TTV Dinakaran, who is accused of bribing an Election Commission official to get the AIADMK's frozen'two leaves' symbol for his faction of the party, has been arrested by Delhi Police's Crime Branch. His longtime friend Mallikarjuna has also been taken into custody.On Tuesday, Dinakaran was questioned for a fourth consecutive day by Delhi Police. He reached the Crime Branch Inter State Cell office in Chanakyapuri at 5 PM. He was arrested after being questioned for close to six hours\n",
            "\n",
            "\n"
          ]
        }
      ],
      "source": [
        "# pred 데이터프레임의 상위 15개 행에 대해 반복\n",
        "for index, row in pred.head(15).iterrows():\n",
        "    # 'Generated Text' 열의 값을 가져옴\n",
        "    generated_text = row['Generated Text']\n",
        "    # 'Actual Text' 열의 값을 가져옴\n",
        "    actual_text = row['Actual Text']\n",
        "    # 생성된 텍스트를 출력\n",
        "    print(f\"Generated: {generated_text}\")\n",
        "    # 실제 텍스트를 출력\n",
        "    print(f\"Actual: {actual_text}\")\n",
        "    # 두 텍스트 사이에 구분을 위한 빈 줄 출력\n",
        "    print(\"\\n\")"
      ]
    },
    {
      "cell_type": "markdown",
      "metadata": {
        "id": "1V2dIvScLGuW"
      },
      "source": [
        "다소 차이가 있지만, 비슷한 단어들이 예측 결과와 레이블에서 동시에 발견됩니다.  \n",
        "\n",
        "특정 문장의 경우 레이블이 없음에도 잘 생성된 것을 볼 수 있습니다.\n",
        "\n",
        "다만 아쉬운 점은, 이렇게 육안으로 비교할 경우 정량적인 결과 분석이 어렵습니다. 이러한 경우를 위해 Rouge 스코어로 평가를 해보겠습니다."
      ]
    },
    {
      "cell_type": "markdown",
      "metadata": {
        "id": "mzk_6EbWKyDh"
      },
      "source": [
        "### 4.2 Rouge score\n",
        "\n",
        "Rouge(R-ecall O-riented U-nderstudy G for E-valuation)는 자동 요약의 성능을 평가하기 위한 메트릭 중 하나입니다. Rouge는 여러 버전이 있으며, 각 버전은 다른 방식으로 요약의 품질을 평가합니다.\n",
        "\n",
        "- ROUGE-N: N-gram 기반의 정밀도와 재현율을 계산합니다. 예를 들어,\n",
        "ROUGE-1은 unigram, ROUGE-2는 bigram에 기반한 스코어를 제공합니다.\n",
        "\n",
        "- ROUGE-L: 가장 긴 공통 부분 문자열(Longest Common Subsequence, LCS)을 기반으로 합니다. LCS는 두 문자열 사이에서 순서를 변경하지 않고 얻을 수 있는 가장 긴 공통 부분 문자열을 찾는 것을 의미합니다.\n",
        "\n",
        "- ROUGE-S: skip-bigram을 기반으로 합니다. Skip-bigram은 문장 내에서 몇 개의 단어를 건너뛰더라도 순서가 유지되는 단어 쌍을 의미합니다.\n",
        "\n",
        "Rouge 스코어는 주로 정밀도(Precision), 재현율(Recall), F1 스코어로 제공됩니다.\n",
        "\n",
        "- 정밀도는 생성된 요약 내에서 실제 요약과 일치하는 단어나 구의 비율을 나타내며,\n",
        "\n",
        "- 재현율은 실제 요약 내에서 생성된 요약과 일치하는 단어나 구의 비율을 나타냅니다.\n",
        "\n",
        "- F1 스코어는 정밀도와 재현율의 조화 평균입니다."
      ]
    },
    {
      "cell_type": "markdown",
      "metadata": {
        "id": "hCbuxowwMN5u"
      },
      "source": [
        "### 4.3 결측 문장 확인 및 제거\n",
        "\n",
        "해당 평가지표를 적용하기 위해 결측치를 확인해보겠습니다."
      ]
    },
    {
      "cell_type": "code",
      "execution_count": 175,
      "metadata": {
        "id": "ehR-NA6Zcgz6",
        "colab": {
          "base_uri": "https://localhost:8080/"
        },
        "outputId": "aa094a68-9ba7-415f-de30-e7565de7e754"
      },
      "outputs": [
        {
          "output_type": "execute_result",
          "data": {
            "text/plain": [
              "Generated Text     0\n",
              "Actual Text       29\n",
              "dtype: int64"
            ]
          },
          "metadata": {},
          "execution_count": 175
        }
      ],
      "source": [
        "pred.isnull().sum()"
      ]
    },
    {
      "cell_type": "markdown",
      "metadata": {
        "id": "_gDFszzvMWx5"
      },
      "source": [
        "29개의 샘플에 대해 레이블 데이터가 없다고 확인되네요.  \n",
        "\n",
        "해당 샘플을 제거해줍시다."
      ]
    },
    {
      "cell_type": "code",
      "execution_count": 176,
      "metadata": {
        "id": "3dN4VJFXMIj4",
        "colab": {
          "base_uri": "https://localhost:8080/"
        },
        "outputId": "bf15690a-7bdb-470f-d130-2cd866b694ac"
      },
      "outputs": [
        {
          "output_type": "stream",
          "name": "stdout",
          "text": [
            "(874, 2)\n"
          ]
        }
      ],
      "source": [
        "\n",
        "# 결측치 제거\n",
        "pred = pred.dropna()\n",
        "\n",
        "# 결측치 제거 후 데이터프레임의 크기 확인\n",
        "print(pred.shape)"
      ]
    },
    {
      "cell_type": "markdown",
      "metadata": {
        "id": "gI1GggAAMh5E"
      },
      "source": [
        "### 4.4 Rouge 스코어 측정\n",
        "\n",
        "결과 데이터프레임에 대해 Rouge 스코어를 측정해보도록 하겠습니다.\n",
        "\n",
        "각 열의 값을 리스트로 변환 후 스코어를 계산하고, 결과를 출력해보도록 하겠습니다."
      ]
    },
    {
      "cell_type": "markdown",
      "metadata": {
        "id": "9bPINv8k-hos"
      },
      "source": [
        "### [TODO] Rouge 스코어를 계산해주세요.\n",
        "\n",
        "아래 코드의 빈 칸을 채워넣어 실제 문장과 예측 문장 사이의 점수를 측정하도록 하겠습니다."
      ]
    },
    {
      "cell_type": "code",
      "source": [
        "!pip install rouge"
      ],
      "metadata": {
        "id": "T0JYgg1f_k2c"
      },
      "execution_count": null,
      "outputs": []
    },
    {
      "cell_type": "code",
      "execution_count": 180,
      "metadata": {
        "id": "fDZloacrcGya",
        "colab": {
          "base_uri": "https://localhost:8080/"
        },
        "outputId": "c2170d2a-c40a-4ca2-dbad-20726629001a"
      },
      "outputs": [
        {
          "output_type": "stream",
          "name": "stdout",
          "text": [
            "{'rouge-1': {'r': 0.3904249467137479, 'p': 0.4731858628713054, 'f': 0.4237142298643948}, 'rouge-2': {'r': 0.19202417052444207, 'p': 0.24001091122462578, 'f': 0.21077908727218383}, 'rouge-l': {'r': 0.3578593687471312, 'p': 0.43391685954036263, 'f': 0.38844903298320455}}\n"
          ]
        }
      ],
      "source": [
        "from rouge import Rouge  # Rouge 평가 도구를 가져옴\n",
        "\n",
        "# 'Generated Text' 열의 값을 문자열 리스트로 변환하여 predictions에 저장\n",
        "predictions = [str(text) for text in pred['Generated Text'].tolist()]\n",
        "# 'Actual Text' 열의 값을 문자열 리스트로 변환하여 actuals에 저장\n",
        "actuals = [str(text) for text in pred['Actual Text'].tolist()]\n",
        "\n",
        "rouge = Rouge()  # Rouge 객체 생성\n",
        "# 생성된 요약과 실제 요약 사이의 Rouge 스코어 계산\n",
        "scores = rouge.get_scores(predictions, actuals, avg=True)\n",
        "\n",
        "print(scores)  # Rouge 스코어 출력"
      ]
    },
    {
      "cell_type": "markdown",
      "metadata": {
        "id": "TzAOuU3d-hos"
      },
      "source": [
        "> 예시코드\n",
        "```\n",
        "from rouge import Rouge  # Rouge 평가 도구를 가져옴\n",
        "\n",
        "# 'Generated Text' 열의 값을 문자열 리스트로 변환하여 predictions에 저장\n",
        "predictions = [str(text) for text in pred['Generated Text'].tolist()]\n",
        "# 'Actual Text' 열의 값을 문자열 리스트로 변환하여 actuals에 저장\n",
        "actuals = [str(text) for text in pred['Actual Text'].tolist()]\n",
        "\n",
        "rouge = Rouge()  # Rouge 객체 생성\n",
        "# 생성된 요약과 실제 요약 사이의 Rouge 스코어 계산\n",
        "scores = rouge.get_scores(predictions, actuals, avg=True)\n",
        "\n",
        "print(scores)  # Rouge 스코어 출력\n",
        "```"
      ]
    },
    {
      "cell_type": "markdown",
      "metadata": {
        "id": "XrYTPWpmc3dB"
      },
      "source": [
        "각 지표는 다음과 같은 의미를 가집니다:\n",
        "\n",
        "- rouge-1: unigram (단일 단어)의 일치도를 나타냅니다.\n",
        "\n",
        "- rouge-2: bigram (두 단어의 조합)의 일치도를 나타냅니다.\n",
        "\n",
        "- rouge-l: 가장 긴 공통 부분 문자열의 일치도를 나타냅니다.\n",
        "각 지표에는 세 가지 값이 있습니다:\n",
        "\n",
        "- r (recall): 실제 요약에서 얼마나 많은 단어/구문이 생성된 요약에 포함되었는지 나타냅니다.\n",
        "\n",
        "- p (precision): 생성된 요약에서 실제 요약과 일치하는 단어/구문의 비율을 나타냅니다.\n",
        "\n",
        "- f (f-score): recall과 precision의 조화 평균입니다. 두 지표의 균형을 나타내는 값으로, 높을수록 좋습니다.\n",
        "\n",
        "다만, 지표가 딕셔너리로 제공되기에 가시성이 떨어집니다.  \n",
        "\n",
        "아래 코드를 통해 딕셔너리의 키와 값을 뽑아내어 정제된 형태로 출력해보겠습니다.  "
      ]
    },
    {
      "cell_type": "code",
      "execution_count": 181,
      "metadata": {
        "id": "lFz3phmKcH2I",
        "colab": {
          "base_uri": "https://localhost:8080/"
        },
        "outputId": "47a8c810-53d1-4d38-ec81-c7cda601ef37"
      },
      "outputs": [
        {
          "output_type": "stream",
          "name": "stdout",
          "text": [
            "rouge-1:\n",
            "Recall: 39.04%\n",
            "Precision: 47.32%\n",
            "F-score: 42.37%\n",
            "\n",
            "rouge-2:\n",
            "Recall: 19.20%\n",
            "Precision: 24.00%\n",
            "F-score: 21.08%\n",
            "\n",
            "rouge-l:\n",
            "Recall: 35.79%\n",
            "Precision: 43.39%\n",
            "F-score: 38.84%\n",
            "\n"
          ]
        }
      ],
      "source": [
        "for key, value in scores.items():\n",
        "    print(f\"{key}:\\nRecall: {value['r']*100:.2f}%\\nPrecision: {value['p']*100:.2f}%\\nF-score: {value['f']*100:.2f}%\\n\")"
      ]
    },
    {
      "cell_type": "markdown",
      "metadata": {
        "id": "cVYQxHrsNAno"
      },
      "source": [
        "이렇게 T5 모델을 통해 결과를 측정해보았습니다. 요약에는 T5 이외에도 [Bart](https://huggingface.co/facebook/bart-base), [Pegasus](https://huggingface.co/google/pegasus-large) 등이 자주 사용됩니다.  이러한 모델을 사용하여 요약을 진행해보고, 결과를 비교해보는 것은 어떨까요?\n",
        "\n",
        "또, [Hugging Face Datasets](https://huggingface.co/datasets?task_categories=task_categories:summarization&sort=trending)에는 수많은 요약용 데이터가 준비되어있습니다. 이를 이용하여 여러분들의 실력을 키워보시는 것도 추천드립니다.\n",
        "\n",
        "이번 실습도 수고많으셨습니다!"
      ]
    },
    {
      "cell_type": "code",
      "source": [],
      "metadata": {
        "id": "KrBXKk8Dwgpx"
      },
      "execution_count": 181,
      "outputs": []
    }
  ],
  "metadata": {
    "accelerator": "GPU",
    "colab": {
      "gpuType": "T4",
      "provenance": [],
      "include_colab_link": true
    },
    "kernelspec": {
      "display_name": "Python 3",
      "name": "python3"
    },
    "language_info": {
      "name": "python"
    }
  },
  "nbformat": 4,
  "nbformat_minor": 0
}